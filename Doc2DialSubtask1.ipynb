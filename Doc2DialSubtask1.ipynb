{
 "cells": [
  {
   "cell_type": "markdown",
   "metadata": {
    "collapsed": true,
    "pycharm": {
     "name": "#%% md\n"
    }
   },
   "source": [
    "# Load Dataset\n",
    "\n",
    "https://huggingface.co/datasets/doc2dial#data-fields\n"
   ]
  },
  {
   "cell_type": "code",
   "execution_count": 1,
   "outputs": [
    {
     "name": "stderr",
     "output_type": "stream",
     "text": [
      "Reusing dataset doc2dial (./data_cache/doc2dial/dialogue_domain/1.0.1/c15afdf53780a8d6ebea7aec05384432195b356f879aa53a4ee39b740d520642)\n",
      "Reusing dataset doc2dial (./data_cache/doc2dial/document_domain/1.0.1/c15afdf53780a8d6ebea7aec05384432195b356f879aa53a4ee39b740d520642)\n"
     ]
    }
   ],
   "source": [
    "from datasets import load_dataset\n",
    "\n",
    "split = \"train\"\n",
    "cache_dir = \"./data_cache\"\n",
    "\n",
    "#User's turn: utterance= question, reference=grounding document span_id, can be empty, \"precondition\"/\"solution\" are the\n",
    "#actual grounding spans\n",
    "#Gold label for grounding\n",
    "dialogue_dataset = load_dataset(\n",
    "    \"doc2dial\",\n",
    "    name=\"dialogue_domain\",  # this is the name of the dataset for the second subtask, dialog generation\n",
    "    split=split,\n",
    "    ignore_verifications=True,\n",
    "    cache_dir=cache_dir,\n",
    ")\n",
    "\n",
    "document_dataset = load_dataset(\n",
    "    \"doc2dial\",\n",
    "    name=\"document_domain\",\n",
    "    split=split,\n",
    "    ignore_verifications=True,\n",
    "    cache_dir=cache_dir,\n",
    ")"
   ],
   "metadata": {
    "collapsed": false,
    "pycharm": {
     "name": "#%%\n"
    }
   }
  },
  {
   "cell_type": "markdown",
   "source": [
    "### Investigate what the the data looks like\n",
    "\n",
    "Have a first look a the data, how much and what kind of data is there\n",
    "\n",
    "Questions:\n",
    "1. How many domains and how frequent are those?\n",
    "2. How many user utterances don't have a span id, have a \"precondition\"/\"solution\"?\n",
    "3. How often is each span from the documents data used in the dialogue data?"
   ],
   "metadata": {
    "collapsed": false,
    "pycharm": {
     "name": "#%% md\n"
    }
   }
  },
  {
   "cell_type": "code",
   "execution_count": 2,
   "outputs": [],
   "source": [
    "#using pd's DF\n",
    "import pandas as pd\n",
    "dialogue_full_df = pd.DataFrame(data=dialogue_dataset)\n",
    "document_full_df = pd.DataFrame(data=document_dataset)\n",
    "\n",
    "#column names\n",
    "domain_col = 'domain'\n",
    "doc_id_col = 'doc_id'\n",
    "spans_col = 'spans'\n",
    "id_sp_col = 'id_sp'\n",
    "text_sp_col = 'text_sp'"
   ],
   "metadata": {
    "collapsed": false,
    "pycharm": {
     "name": "#%%\n"
    }
   }
  },
  {
   "cell_type": "markdown",
   "source": [
    "Info and Describe for Dialogue and a few manual counts"
   ],
   "metadata": {
    "collapsed": false,
    "pycharm": {
     "name": "#%% md\n"
    }
   }
  },
  {
   "cell_type": "code",
   "execution_count": 81,
   "outputs": [
    {
     "data": {
      "text/plain": "                               dial_id  \\\n0     9f44c1539efe6f7e79b02eb1b413aa43   \n1     88ecf840ea87f8c53faff15d4f0bb214   \n2     3c079944cf36c05b45f668669cc3301b   \n3     9fa8c68e2f211edad9fb65eb5897d600   \n4     423bd6a66d14c22f8be69add96679255   \n...                                ...   \n3469  38ff454964b59d69c1fb9e1848c1afe9   \n3470  4c03dc84fa163070675bdb92970d65d1   \n3471  f709b7ec749abc04bf305dcf8b88e916   \n3472  fd4b8614da5cf99f37ae135c18b10881   \n3473  1bd63c7902f89f095942937e9cf68bbd   \n\n                                                doc_id      domain  \\\n0         Top 5 DMV Mistakes and How to Avoid Them#3_0         dmv   \n1         Top 5 DMV Mistakes and How to Avoid Them#3_0         dmv   \n2         Top 5 DMV Mistakes and How to Avoid Them#3_0         dmv   \n3         Top 5 DMV Mistakes and How to Avoid Them#3_0         dmv   \n4         Top 5 DMV Mistakes and How to Avoid Them#3_0         dmv   \n...                                                ...         ...   \n3469  Student Loan Repayment | Federal Student Aid#1_0  studentaid   \n3470  Student Loan Repayment | Federal Student Aid#1_0  studentaid   \n3471  Student Loan Repayment | Federal Student Aid#1_0  studentaid   \n3472  Student Loan Repayment | Federal Student Aid#1_0  studentaid   \n3473  Student Loan Repayment | Federal Student Aid#1_0  studentaid   \n\n                                                  turns  \n0     [{'turn_id': 1, 'role': 'user', 'da': 'query_c...  \n1     [{'turn_id': 1, 'role': 'user', 'da': 'query_c...  \n2     [{'turn_id': 1, 'role': 'user', 'da': 'query_c...  \n3     [{'turn_id': 1, 'role': 'user', 'da': 'query_c...  \n4     [{'turn_id': 1, 'role': 'user', 'da': 'query_c...  \n...                                                 ...  \n3469  [{'turn_id': 1, 'role': 'user', 'da': 'query_c...  \n3470  [{'turn_id': 1, 'role': 'user', 'da': 'query_c...  \n3471  [{'turn_id': 1, 'role': 'user', 'da': 'query_c...  \n3472  [{'turn_id': 1, 'role': 'user', 'da': 'query_c...  \n3473  [{'turn_id': 1, 'role': 'user', 'da': 'query_c...  \n\n[3474 rows x 4 columns]",
      "text/html": "<div>\n<style scoped>\n    .dataframe tbody tr th:only-of-type {\n        vertical-align: middle;\n    }\n\n    .dataframe tbody tr th {\n        vertical-align: top;\n    }\n\n    .dataframe thead th {\n        text-align: right;\n    }\n</style>\n<table border=\"1\" class=\"dataframe\">\n  <thead>\n    <tr style=\"text-align: right;\">\n      <th></th>\n      <th>dial_id</th>\n      <th>doc_id</th>\n      <th>domain</th>\n      <th>turns</th>\n    </tr>\n  </thead>\n  <tbody>\n    <tr>\n      <th>0</th>\n      <td>9f44c1539efe6f7e79b02eb1b413aa43</td>\n      <td>Top 5 DMV Mistakes and How to Avoid Them#3_0</td>\n      <td>dmv</td>\n      <td>[{'turn_id': 1, 'role': 'user', 'da': 'query_c...</td>\n    </tr>\n    <tr>\n      <th>1</th>\n      <td>88ecf840ea87f8c53faff15d4f0bb214</td>\n      <td>Top 5 DMV Mistakes and How to Avoid Them#3_0</td>\n      <td>dmv</td>\n      <td>[{'turn_id': 1, 'role': 'user', 'da': 'query_c...</td>\n    </tr>\n    <tr>\n      <th>2</th>\n      <td>3c079944cf36c05b45f668669cc3301b</td>\n      <td>Top 5 DMV Mistakes and How to Avoid Them#3_0</td>\n      <td>dmv</td>\n      <td>[{'turn_id': 1, 'role': 'user', 'da': 'query_c...</td>\n    </tr>\n    <tr>\n      <th>3</th>\n      <td>9fa8c68e2f211edad9fb65eb5897d600</td>\n      <td>Top 5 DMV Mistakes and How to Avoid Them#3_0</td>\n      <td>dmv</td>\n      <td>[{'turn_id': 1, 'role': 'user', 'da': 'query_c...</td>\n    </tr>\n    <tr>\n      <th>4</th>\n      <td>423bd6a66d14c22f8be69add96679255</td>\n      <td>Top 5 DMV Mistakes and How to Avoid Them#3_0</td>\n      <td>dmv</td>\n      <td>[{'turn_id': 1, 'role': 'user', 'da': 'query_c...</td>\n    </tr>\n    <tr>\n      <th>...</th>\n      <td>...</td>\n      <td>...</td>\n      <td>...</td>\n      <td>...</td>\n    </tr>\n    <tr>\n      <th>3469</th>\n      <td>38ff454964b59d69c1fb9e1848c1afe9</td>\n      <td>Student Loan Repayment | Federal Student Aid#1_0</td>\n      <td>studentaid</td>\n      <td>[{'turn_id': 1, 'role': 'user', 'da': 'query_c...</td>\n    </tr>\n    <tr>\n      <th>3470</th>\n      <td>4c03dc84fa163070675bdb92970d65d1</td>\n      <td>Student Loan Repayment | Federal Student Aid#1_0</td>\n      <td>studentaid</td>\n      <td>[{'turn_id': 1, 'role': 'user', 'da': 'query_c...</td>\n    </tr>\n    <tr>\n      <th>3471</th>\n      <td>f709b7ec749abc04bf305dcf8b88e916</td>\n      <td>Student Loan Repayment | Federal Student Aid#1_0</td>\n      <td>studentaid</td>\n      <td>[{'turn_id': 1, 'role': 'user', 'da': 'query_c...</td>\n    </tr>\n    <tr>\n      <th>3472</th>\n      <td>fd4b8614da5cf99f37ae135c18b10881</td>\n      <td>Student Loan Repayment | Federal Student Aid#1_0</td>\n      <td>studentaid</td>\n      <td>[{'turn_id': 1, 'role': 'user', 'da': 'query_c...</td>\n    </tr>\n    <tr>\n      <th>3473</th>\n      <td>1bd63c7902f89f095942937e9cf68bbd</td>\n      <td>Student Loan Repayment | Federal Student Aid#1_0</td>\n      <td>studentaid</td>\n      <td>[{'turn_id': 1, 'role': 'user', 'da': 'query_c...</td>\n    </tr>\n  </tbody>\n</table>\n<p>3474 rows × 4 columns</p>\n</div>"
     },
     "execution_count": 81,
     "metadata": {},
     "output_type": "execute_result"
    }
   ],
   "source": [
    "dialogue_full_df"
   ],
   "metadata": {
    "collapsed": false,
    "pycharm": {
     "name": "#%%\n"
    }
   }
  },
  {
   "cell_type": "code",
   "execution_count": 3,
   "outputs": [
    {
     "name": "stdout",
     "output_type": "stream",
     "text": [
      "<class 'pandas.core.frame.DataFrame'>\n",
      "RangeIndex: 3474 entries, 0 to 3473\n",
      "Data columns (total 4 columns):\n",
      " #   Column   Non-Null Count  Dtype \n",
      "---  ------   --------------  ----- \n",
      " 0   dial_id  3474 non-null   object\n",
      " 1   doc_id   3474 non-null   object\n",
      " 2   domain   3474 non-null   object\n",
      " 3   turns    3474 non-null   object\n",
      "dtypes: object(4)\n",
      "memory usage: 108.7+ KB\n"
     ]
    }
   ],
   "source": [
    "dialogue_full_df.info()"
   ],
   "metadata": {
    "collapsed": false,
    "pycharm": {
     "name": "#%%\n"
    }
   }
  },
  {
   "cell_type": "code",
   "execution_count": 4,
   "outputs": [
    {
     "data": {
      "text/plain": "                                 dial_id  \\\ncount                               3474   \nunique                              3474   \ntop     9f44c1539efe6f7e79b02eb1b413aa43   \nfreq                                   1   \n\n                                         doc_id domain  \\\ncount                                      3474   3474   \nunique                                      415      4   \ntop     Apply for Retirement Benefits | SSA#1_0    dmv   \nfreq                                         16    998   \n\n                                                    turns  \ncount                                                3474  \nunique                                               3474  \ntop     [{'turn_id': 1, 'role': 'user', 'da': 'query_c...  \nfreq                                                    1  ",
      "text/html": "<div>\n<style scoped>\n    .dataframe tbody tr th:only-of-type {\n        vertical-align: middle;\n    }\n\n    .dataframe tbody tr th {\n        vertical-align: top;\n    }\n\n    .dataframe thead th {\n        text-align: right;\n    }\n</style>\n<table border=\"1\" class=\"dataframe\">\n  <thead>\n    <tr style=\"text-align: right;\">\n      <th></th>\n      <th>dial_id</th>\n      <th>doc_id</th>\n      <th>domain</th>\n      <th>turns</th>\n    </tr>\n  </thead>\n  <tbody>\n    <tr>\n      <th>count</th>\n      <td>3474</td>\n      <td>3474</td>\n      <td>3474</td>\n      <td>3474</td>\n    </tr>\n    <tr>\n      <th>unique</th>\n      <td>3474</td>\n      <td>415</td>\n      <td>4</td>\n      <td>3474</td>\n    </tr>\n    <tr>\n      <th>top</th>\n      <td>9f44c1539efe6f7e79b02eb1b413aa43</td>\n      <td>Apply for Retirement Benefits | SSA#1_0</td>\n      <td>dmv</td>\n      <td>[{'turn_id': 1, 'role': 'user', 'da': 'query_c...</td>\n    </tr>\n    <tr>\n      <th>freq</th>\n      <td>1</td>\n      <td>16</td>\n      <td>998</td>\n      <td>1</td>\n    </tr>\n  </tbody>\n</table>\n</div>"
     },
     "execution_count": 4,
     "metadata": {},
     "output_type": "execute_result"
    }
   ],
   "source": [
    "dialogue_full_df.describe(include=object)"
   ],
   "metadata": {
    "collapsed": false,
    "pycharm": {
     "name": "#%%\n"
    }
   }
  },
  {
   "cell_type": "code",
   "execution_count": 5,
   "outputs": [
    {
     "data": {
      "text/plain": "dmv           998\nva            967\nssa           831\nstudentaid    678\nName: domain, dtype: int64"
     },
     "execution_count": 5,
     "metadata": {},
     "output_type": "execute_result"
    }
   ],
   "source": [
    "\n",
    "dialogue_full_df[domain_col].value_counts()"
   ],
   "metadata": {
    "collapsed": false,
    "pycharm": {
     "name": "#%%\n"
    }
   }
  },
  {
   "cell_type": "code",
   "execution_count": 6,
   "outputs": [
    {
     "data": {
      "text/plain": "Apply for Retirement Benefits | SSA#1_0                                                                       16\nLearn About Retirement Benefits | SSA#1_0                                                                     16\nBenefits Planner | Social Security Administration#1_0                                                         16\nDisability Benefits | Social Security Administration#1_0                                                      16\nSupplemental Security Income (SSI) Benefits | Social Security Administration#1_0                              16\n                                                                                                              ..\nLearn what documents you will need to get a Social Security Card | Social Security Administration#13_0_1       1\nLearn what documents you will need to get a Social Security Card | Social Security Administration#12_0_1_2     1\nLearn what documents you will need to get a Social Security Card | Social Security Administration#6_0_1_2      1\nLearn what documents you will need to get a Social Security Card | Social Security Administration#10_0_1       1\nLearn what documents you will need to get a Social Security Card | Social Security Administration#4_0_1        1\nName: doc_id, Length: 415, dtype: int64"
     },
     "execution_count": 6,
     "metadata": {},
     "output_type": "execute_result"
    }
   ],
   "source": [
    "dialogue_full_df[doc_id_col].value_counts()"
   ],
   "metadata": {
    "collapsed": false,
    "pycharm": {
     "name": "#%%\n"
    }
   }
  },
  {
   "cell_type": "markdown",
   "source": [
    "Insights:\n",
    "- there are four different domains, all seem to be approx equally used with 'dmv' being the most frequent\n",
    "- there are 415 different documents, quite a few used only once, most frequent use is 16 for a few documents"
   ],
   "metadata": {
    "collapsed": false,
    "pycharm": {
     "name": "#%% md\n"
    }
   }
  },
  {
   "cell_type": "markdown",
   "source": [
    "Look into how turn: here just the first turn"
   ],
   "metadata": {
    "collapsed": false,
    "pycharm": {
     "name": "#%% md\n"
    }
   }
  },
  {
   "cell_type": "code",
   "execution_count": 41,
   "outputs": [
    {
     "data": {
      "text/plain": "   turn_id   role                da  \\\n0        1   user   query_condition   \n1        2  agent  respond_solution   \n2        3   user    query_solution   \n3        4  agent  respond_solution   \n4        5   user   query_condition   \n5        6  agent  respond_solution   \n6        7   user    query_solution   \n7        8  agent  respond_solution   \n8        9   user   query_condition   \n9       10  agent  respond_solution   \n\n                                          references  \\\n0          [{'sp_id': '4', 'label': 'precondition'}]   \n1  [{'sp_id': '6', 'label': 'solution'}, {'sp_id'...   \n2             [{'sp_id': '56', 'label': 'solution'}]   \n3             [{'sp_id': '56', 'label': 'solution'}]   \n4         [{'sp_id': '48', 'label': 'precondition'}]   \n5  [{'sp_id': '49', 'label': 'solution'}, {'sp_id...   \n6  [{'sp_id': '6', 'label': 'solution'}, {'sp_id'...   \n7  [{'sp_id': '6', 'label': 'solution'}, {'sp_id'...   \n8         [{'sp_id': '40', 'label': 'precondition'}]   \n9  [{'sp_id': '41', 'label': 'solution'}, {'sp_id...   \n\n                                           utterance  \n0  Hello, I forgot o update my address, can you h...  \n1  hi, you have to report any change of address t...  \n2               Can I do my DMV transactions online?  \n3  Yes, you can sign up for MyDMV for all the onl...  \n4  Thanks, and in case I forget to bring all of t...  \n5  This happens often with our customers so that'...  \n6  Ok, and can you tell me again where should I r...  \n7  Sure. Any change of address must be reported t...  \n8  Can you tell me more about Traffic points and ...  \n9  Traffic points is the system used by DMV to tr...  ",
      "text/html": "<div>\n<style scoped>\n    .dataframe tbody tr th:only-of-type {\n        vertical-align: middle;\n    }\n\n    .dataframe tbody tr th {\n        vertical-align: top;\n    }\n\n    .dataframe thead th {\n        text-align: right;\n    }\n</style>\n<table border=\"1\" class=\"dataframe\">\n  <thead>\n    <tr style=\"text-align: right;\">\n      <th></th>\n      <th>turn_id</th>\n      <th>role</th>\n      <th>da</th>\n      <th>references</th>\n      <th>utterance</th>\n    </tr>\n  </thead>\n  <tbody>\n    <tr>\n      <th>0</th>\n      <td>1</td>\n      <td>user</td>\n      <td>query_condition</td>\n      <td>[{'sp_id': '4', 'label': 'precondition'}]</td>\n      <td>Hello, I forgot o update my address, can you h...</td>\n    </tr>\n    <tr>\n      <th>1</th>\n      <td>2</td>\n      <td>agent</td>\n      <td>respond_solution</td>\n      <td>[{'sp_id': '6', 'label': 'solution'}, {'sp_id'...</td>\n      <td>hi, you have to report any change of address t...</td>\n    </tr>\n    <tr>\n      <th>2</th>\n      <td>3</td>\n      <td>user</td>\n      <td>query_solution</td>\n      <td>[{'sp_id': '56', 'label': 'solution'}]</td>\n      <td>Can I do my DMV transactions online?</td>\n    </tr>\n    <tr>\n      <th>3</th>\n      <td>4</td>\n      <td>agent</td>\n      <td>respond_solution</td>\n      <td>[{'sp_id': '56', 'label': 'solution'}]</td>\n      <td>Yes, you can sign up for MyDMV for all the onl...</td>\n    </tr>\n    <tr>\n      <th>4</th>\n      <td>5</td>\n      <td>user</td>\n      <td>query_condition</td>\n      <td>[{'sp_id': '48', 'label': 'precondition'}]</td>\n      <td>Thanks, and in case I forget to bring all of t...</td>\n    </tr>\n    <tr>\n      <th>5</th>\n      <td>6</td>\n      <td>agent</td>\n      <td>respond_solution</td>\n      <td>[{'sp_id': '49', 'label': 'solution'}, {'sp_id...</td>\n      <td>This happens often with our customers so that'...</td>\n    </tr>\n    <tr>\n      <th>6</th>\n      <td>7</td>\n      <td>user</td>\n      <td>query_solution</td>\n      <td>[{'sp_id': '6', 'label': 'solution'}, {'sp_id'...</td>\n      <td>Ok, and can you tell me again where should I r...</td>\n    </tr>\n    <tr>\n      <th>7</th>\n      <td>8</td>\n      <td>agent</td>\n      <td>respond_solution</td>\n      <td>[{'sp_id': '6', 'label': 'solution'}, {'sp_id'...</td>\n      <td>Sure. Any change of address must be reported t...</td>\n    </tr>\n    <tr>\n      <th>8</th>\n      <td>9</td>\n      <td>user</td>\n      <td>query_condition</td>\n      <td>[{'sp_id': '40', 'label': 'precondition'}]</td>\n      <td>Can you tell me more about Traffic points and ...</td>\n    </tr>\n    <tr>\n      <th>9</th>\n      <td>10</td>\n      <td>agent</td>\n      <td>respond_solution</td>\n      <td>[{'sp_id': '41', 'label': 'solution'}, {'sp_id...</td>\n      <td>Traffic points is the system used by DMV to tr...</td>\n    </tr>\n  </tbody>\n</table>\n</div>"
     },
     "execution_count": 41,
     "metadata": {},
     "output_type": "execute_result"
    }
   ],
   "source": [
    "dialogue_full_df['turns']\n",
    "first_turn = dialogue_full_df['turns'][0]\n",
    "normalised_first_turn = pd.json_normalize(first_turn)"
   ],
   "metadata": {
    "collapsed": false,
    "pycharm": {
     "name": "#%%\n"
    }
   }
  },
  {
   "cell_type": "markdown",
   "source": [
    "Looking into reference columns in turns"
   ],
   "metadata": {
    "collapsed": false,
    "pycharm": {
     "name": "#%% md\n"
    }
   }
  },
  {
   "cell_type": "code",
   "execution_count": 48,
   "outputs": [
    {
     "data": {
      "text/plain": "  sp_id         label\n0     4  precondition",
      "text/html": "<div>\n<style scoped>\n    .dataframe tbody tr th:only-of-type {\n        vertical-align: middle;\n    }\n\n    .dataframe tbody tr th {\n        vertical-align: top;\n    }\n\n    .dataframe thead th {\n        text-align: right;\n    }\n</style>\n<table border=\"1\" class=\"dataframe\">\n  <thead>\n    <tr style=\"text-align: right;\">\n      <th></th>\n      <th>sp_id</th>\n      <th>label</th>\n    </tr>\n  </thead>\n  <tbody>\n    <tr>\n      <th>0</th>\n      <td>4</td>\n      <td>precondition</td>\n    </tr>\n  </tbody>\n</table>\n</div>"
     },
     "execution_count": 48,
     "metadata": {},
     "output_type": "execute_result"
    }
   ],
   "source": [
    "normalised_first_turn[['references']]\n",
    "first_references = normalised_first_turn['references'][0]\n",
    "pd.json_normalize(first_references)"
   ],
   "metadata": {
    "collapsed": false,
    "pycharm": {
     "name": "#%%\n"
    }
   }
  },
  {
   "cell_type": "markdown",
   "source": [
    "Info and Describe for document"
   ],
   "metadata": {
    "collapsed": false
   }
  },
  {
   "cell_type": "code",
   "execution_count": 166,
   "outputs": [
    {
     "data": {
      "text/plain": "         domain                                             doc_id  \\\n0           ssa  Benefits Planner: Survivors | Planning For You...   \n1           ssa  Benefits Planner: Survivors | Planning For You...   \n2           ssa  Benefits Planner: Disability | How You Apply |...   \n3           ssa  Benefits Planner: Disability | How You Apply |...   \n4           ssa  Learn what documents you will need to get a So...   \n..          ...                                                ...   \n483  studentaid  Finding and Applying for Scholarships | Federa...   \n484  studentaid  Loan Repayment Checklist | Federal Student Aid...   \n485  studentaid  Total and Permanent Disability Discharge | Fed...   \n486  studentaid         Avoiding Default | Federal Student Aid#1_0   \n487  studentaid   Student Loan Repayment | Federal Student Aid#1_0   \n\n                                                 title  \\\n0    Benefits Planner: Survivors | Planning For You...   \n1    Benefits Planner: Survivors | Planning For You...   \n2    Benefits Planner: Disability | How You Apply |...   \n3    Benefits Planner: Disability | How You Apply |...   \n4    Learn what documents you will need to get a So...   \n..                                                 ...   \n483  Finding and Applying for Scholarships | Federa...   \n484   Loan Repayment Checklist | Federal Student Aid#1   \n485  Total and Permanent Disability Discharge | Fed...   \n486           Avoiding Default | Federal Student Aid#1   \n487     Student Loan Repayment | Federal Student Aid#1   \n\n                                              doc_text  \\\n0    \\n\\nBenefits Planner: Survivors | Planning For...   \n1    As you plan for the future , you'll want to th...   \n2    \\n\\nBenefits Planner: Disability | How You App...   \n3    You should apply for disability benefits as so...   \n4    \\n\\nCorrected Card for a Foreign Born U.S. Cit...   \n..                                                 ...   \n483  \\n\\nFind and apply for as many scholarships as...   \n484  \\n\\nAre you a federal student loan borrower? A...   \n485  \\n\\nIf you re totally and permanently disabled...   \n486  \\n\\nThere are steps you can take to repay your...   \n487  \\n\\nStudent Loan Repayment \\nBefore repayment ...   \n\n                                                 spans  \\\n0    [{'id_sp': '1', 'tag': 'h2', 'start_sp': 0, 'e...   \n1    [{'id_sp': '1', 'tag': 'u', 'start_sp': 0, 'en...   \n2    [{'id_sp': '1', 'tag': 'h2', 'start_sp': 0, 'e...   \n3    [{'id_sp': '1', 'tag': 'u', 'start_sp': 0, 'en...   \n4    [{'id_sp': '1', 'tag': 'h3', 'start_sp': 0, 'e...   \n..                                                 ...   \n483  [{'id_sp': '1', 'tag': 'h1', 'start_sp': 0, 'e...   \n484  [{'id_sp': '1', 'tag': 'h1', 'start_sp': 0, 'e...   \n485  [{'id_sp': '1', 'tag': 'h1', 'start_sp': 0, 'e...   \n486  [{'id_sp': '1', 'tag': 'h1', 'start_sp': 0, 'e...   \n487  [{'id_sp': '1', 'tag': 'h1', 'start_sp': 0, 'e...   \n\n                                           doc_html_ts  \\\n0    <main><section><div><h2 sent_id=\"1\" text_id=\"1...   \n1    <article><section><div tag_id=\"1\"><u sent_id=\"...   \n2    <main><section><div><h2 sent_id=\"1\" text_id=\"1...   \n3    <article><section><div tag_id=\"1\"><u sent_id=\"...   \n4    <article><h3 sent_id=\"1\" text_id=\"1\">Corrected...   \n..                                                 ...   \n483  <section><div><div><div><div><div><div><div><d...   \n484  <section><div><div><div><div><div><div><div><d...   \n485  <section><div><div><div><div><div><div><div><d...   \n486  <section><div><div><div><div><div><div><div><d...   \n487  <section><div><div><div><div><div><div><div><d...   \n\n                                          doc_html_raw  \n0    <main class=\"content\" id=\"content\" role=\"main\"...  \n1    <article>\\n<section>\\n<p>As you plan for the f...  \n2    <main class=\"content\" id=\"content\" role=\"main\"...  \n3    <article>\\n<section>\\n<p>You should apply for ...  \n4    <article>\\n<h3>Corrected Card for a Foreign Bo...  \n..                                                 ...  \n483  <section class=\"section section-content\" id=\"s...  \n484  <section class=\"section section-content\" id=\"s...  \n485  <section class=\"section section-content\" id=\"s...  \n486  <section class=\"section section-content\" id=\"s...  \n487  <section class=\"section section-content\" id=\"s...  \n\n[488 rows x 7 columns]",
      "text/html": "<div>\n<style scoped>\n    .dataframe tbody tr th:only-of-type {\n        vertical-align: middle;\n    }\n\n    .dataframe tbody tr th {\n        vertical-align: top;\n    }\n\n    .dataframe thead th {\n        text-align: right;\n    }\n</style>\n<table border=\"1\" class=\"dataframe\">\n  <thead>\n    <tr style=\"text-align: right;\">\n      <th></th>\n      <th>domain</th>\n      <th>doc_id</th>\n      <th>title</th>\n      <th>doc_text</th>\n      <th>spans</th>\n      <th>doc_html_ts</th>\n      <th>doc_html_raw</th>\n    </tr>\n  </thead>\n  <tbody>\n    <tr>\n      <th>0</th>\n      <td>ssa</td>\n      <td>Benefits Planner: Survivors | Planning For You...</td>\n      <td>Benefits Planner: Survivors | Planning For You...</td>\n      <td>\\n\\nBenefits Planner: Survivors | Planning For...</td>\n      <td>[{'id_sp': '1', 'tag': 'h2', 'start_sp': 0, 'e...</td>\n      <td>&lt;main&gt;&lt;section&gt;&lt;div&gt;&lt;h2 sent_id=\"1\" text_id=\"1...</td>\n      <td>&lt;main class=\"content\" id=\"content\" role=\"main\"...</td>\n    </tr>\n    <tr>\n      <th>1</th>\n      <td>ssa</td>\n      <td>Benefits Planner: Survivors | Planning For You...</td>\n      <td>Benefits Planner: Survivors | Planning For You...</td>\n      <td>As you plan for the future , you'll want to th...</td>\n      <td>[{'id_sp': '1', 'tag': 'u', 'start_sp': 0, 'en...</td>\n      <td>&lt;article&gt;&lt;section&gt;&lt;div tag_id=\"1\"&gt;&lt;u sent_id=\"...</td>\n      <td>&lt;article&gt;\\n&lt;section&gt;\\n&lt;p&gt;As you plan for the f...</td>\n    </tr>\n    <tr>\n      <th>2</th>\n      <td>ssa</td>\n      <td>Benefits Planner: Disability | How You Apply |...</td>\n      <td>Benefits Planner: Disability | How You Apply |...</td>\n      <td>\\n\\nBenefits Planner: Disability | How You App...</td>\n      <td>[{'id_sp': '1', 'tag': 'h2', 'start_sp': 0, 'e...</td>\n      <td>&lt;main&gt;&lt;section&gt;&lt;div&gt;&lt;h2 sent_id=\"1\" text_id=\"1...</td>\n      <td>&lt;main class=\"content\" id=\"content\" role=\"main\"...</td>\n    </tr>\n    <tr>\n      <th>3</th>\n      <td>ssa</td>\n      <td>Benefits Planner: Disability | How You Apply |...</td>\n      <td>Benefits Planner: Disability | How You Apply |...</td>\n      <td>You should apply for disability benefits as so...</td>\n      <td>[{'id_sp': '1', 'tag': 'u', 'start_sp': 0, 'en...</td>\n      <td>&lt;article&gt;&lt;section&gt;&lt;div tag_id=\"1\"&gt;&lt;u sent_id=\"...</td>\n      <td>&lt;article&gt;\\n&lt;section&gt;\\n&lt;p&gt;You should apply for ...</td>\n    </tr>\n    <tr>\n      <th>4</th>\n      <td>ssa</td>\n      <td>Learn what documents you will need to get a So...</td>\n      <td>Learn what documents you will need to get a So...</td>\n      <td>\\n\\nCorrected Card for a Foreign Born U.S. Cit...</td>\n      <td>[{'id_sp': '1', 'tag': 'h3', 'start_sp': 0, 'e...</td>\n      <td>&lt;article&gt;&lt;h3 sent_id=\"1\" text_id=\"1\"&gt;Corrected...</td>\n      <td>&lt;article&gt;\\n&lt;h3&gt;Corrected Card for a Foreign Bo...</td>\n    </tr>\n    <tr>\n      <th>...</th>\n      <td>...</td>\n      <td>...</td>\n      <td>...</td>\n      <td>...</td>\n      <td>...</td>\n      <td>...</td>\n      <td>...</td>\n    </tr>\n    <tr>\n      <th>483</th>\n      <td>studentaid</td>\n      <td>Finding and Applying for Scholarships | Federa...</td>\n      <td>Finding and Applying for Scholarships | Federa...</td>\n      <td>\\n\\nFind and apply for as many scholarships as...</td>\n      <td>[{'id_sp': '1', 'tag': 'h1', 'start_sp': 0, 'e...</td>\n      <td>&lt;section&gt;&lt;div&gt;&lt;div&gt;&lt;div&gt;&lt;div&gt;&lt;div&gt;&lt;div&gt;&lt;div&gt;&lt;d...</td>\n      <td>&lt;section class=\"section section-content\" id=\"s...</td>\n    </tr>\n    <tr>\n      <th>484</th>\n      <td>studentaid</td>\n      <td>Loan Repayment Checklist | Federal Student Aid...</td>\n      <td>Loan Repayment Checklist | Federal Student Aid#1</td>\n      <td>\\n\\nAre you a federal student loan borrower? A...</td>\n      <td>[{'id_sp': '1', 'tag': 'h1', 'start_sp': 0, 'e...</td>\n      <td>&lt;section&gt;&lt;div&gt;&lt;div&gt;&lt;div&gt;&lt;div&gt;&lt;div&gt;&lt;div&gt;&lt;div&gt;&lt;d...</td>\n      <td>&lt;section class=\"section section-content\" id=\"s...</td>\n    </tr>\n    <tr>\n      <th>485</th>\n      <td>studentaid</td>\n      <td>Total and Permanent Disability Discharge | Fed...</td>\n      <td>Total and Permanent Disability Discharge | Fed...</td>\n      <td>\\n\\nIf you re totally and permanently disabled...</td>\n      <td>[{'id_sp': '1', 'tag': 'h1', 'start_sp': 0, 'e...</td>\n      <td>&lt;section&gt;&lt;div&gt;&lt;div&gt;&lt;div&gt;&lt;div&gt;&lt;div&gt;&lt;div&gt;&lt;div&gt;&lt;d...</td>\n      <td>&lt;section class=\"section section-content\" id=\"s...</td>\n    </tr>\n    <tr>\n      <th>486</th>\n      <td>studentaid</td>\n      <td>Avoiding Default | Federal Student Aid#1_0</td>\n      <td>Avoiding Default | Federal Student Aid#1</td>\n      <td>\\n\\nThere are steps you can take to repay your...</td>\n      <td>[{'id_sp': '1', 'tag': 'h1', 'start_sp': 0, 'e...</td>\n      <td>&lt;section&gt;&lt;div&gt;&lt;div&gt;&lt;div&gt;&lt;div&gt;&lt;div&gt;&lt;div&gt;&lt;div&gt;&lt;d...</td>\n      <td>&lt;section class=\"section section-content\" id=\"s...</td>\n    </tr>\n    <tr>\n      <th>487</th>\n      <td>studentaid</td>\n      <td>Student Loan Repayment | Federal Student Aid#1_0</td>\n      <td>Student Loan Repayment | Federal Student Aid#1</td>\n      <td>\\n\\nStudent Loan Repayment \\nBefore repayment ...</td>\n      <td>[{'id_sp': '1', 'tag': 'h1', 'start_sp': 0, 'e...</td>\n      <td>&lt;section&gt;&lt;div&gt;&lt;div&gt;&lt;div&gt;&lt;div&gt;&lt;div&gt;&lt;div&gt;&lt;div&gt;&lt;d...</td>\n      <td>&lt;section class=\"section section-content\" id=\"s...</td>\n    </tr>\n  </tbody>\n</table>\n<p>488 rows × 7 columns</p>\n</div>"
     },
     "execution_count": 166,
     "metadata": {},
     "output_type": "execute_result"
    }
   ],
   "source": [
    "document_full_df"
   ],
   "metadata": {
    "collapsed": false,
    "pycharm": {
     "name": "#%%\n"
    }
   }
  },
  {
   "cell_type": "code",
   "execution_count": 7,
   "outputs": [
    {
     "name": "stdout",
     "output_type": "stream",
     "text": [
      "<class 'pandas.core.frame.DataFrame'>\n",
      "RangeIndex: 488 entries, 0 to 487\n",
      "Data columns (total 7 columns):\n",
      " #   Column        Non-Null Count  Dtype \n",
      "---  ------        --------------  ----- \n",
      " 0   domain        488 non-null    object\n",
      " 1   doc_id        488 non-null    object\n",
      " 2   title         488 non-null    object\n",
      " 3   doc_text      488 non-null    object\n",
      " 4   spans         488 non-null    object\n",
      " 5   doc_html_ts   488 non-null    object\n",
      " 6   doc_html_raw  488 non-null    object\n",
      "dtypes: object(7)\n",
      "memory usage: 26.8+ KB\n"
     ]
    }
   ],
   "source": [
    "document_full_df.info()"
   ],
   "metadata": {
    "collapsed": false,
    "pycharm": {
     "name": "#%%\n"
    }
   }
  },
  {
   "cell_type": "code",
   "execution_count": 8,
   "outputs": [
    {
     "data": {
      "text/plain": "       domain                                             doc_id  \\\ncount     488                                                488   \nunique      4                                                488   \ntop       dmv  Benefits Planner: Survivors | Planning For You...   \nfreq      149                                                  1   \n\n                                                    title  \\\ncount                                                 488   \nunique                                                475   \ntop     Learn what documents you will need to get a So...   \nfreq                                                    4   \n\n                                                 doc_text  \\\ncount                                                 488   \nunique                                                475   \ntop     \\n\\nCorrected Card for a Noncitizen Child \\nIf...   \nfreq                                                    4   \n\n                                                    spans  \\\ncount                                                 488   \nunique                                                475   \ntop     [{'id_sp': '1', 'tag': 'h3', 'start_sp': 0, 'e...   \nfreq                                                    4   \n\n                                              doc_html_ts  \\\ncount                                                 488   \nunique                                                476   \ntop     <article><h3 sent_id=\"1\" text_id=\"1\">Corrected...   \nfreq                                                    4   \n\n                                             doc_html_raw  \ncount                                                 488  \nunique                                                476  \ntop     <article>\\n<h3>Corrected Card for a Noncitizen...  \nfreq                                                    4  ",
      "text/html": "<div>\n<style scoped>\n    .dataframe tbody tr th:only-of-type {\n        vertical-align: middle;\n    }\n\n    .dataframe tbody tr th {\n        vertical-align: top;\n    }\n\n    .dataframe thead th {\n        text-align: right;\n    }\n</style>\n<table border=\"1\" class=\"dataframe\">\n  <thead>\n    <tr style=\"text-align: right;\">\n      <th></th>\n      <th>domain</th>\n      <th>doc_id</th>\n      <th>title</th>\n      <th>doc_text</th>\n      <th>spans</th>\n      <th>doc_html_ts</th>\n      <th>doc_html_raw</th>\n    </tr>\n  </thead>\n  <tbody>\n    <tr>\n      <th>count</th>\n      <td>488</td>\n      <td>488</td>\n      <td>488</td>\n      <td>488</td>\n      <td>488</td>\n      <td>488</td>\n      <td>488</td>\n    </tr>\n    <tr>\n      <th>unique</th>\n      <td>4</td>\n      <td>488</td>\n      <td>475</td>\n      <td>475</td>\n      <td>475</td>\n      <td>476</td>\n      <td>476</td>\n    </tr>\n    <tr>\n      <th>top</th>\n      <td>dmv</td>\n      <td>Benefits Planner: Survivors | Planning For You...</td>\n      <td>Learn what documents you will need to get a So...</td>\n      <td>\\n\\nCorrected Card for a Noncitizen Child \\nIf...</td>\n      <td>[{'id_sp': '1', 'tag': 'h3', 'start_sp': 0, 'e...</td>\n      <td>&lt;article&gt;&lt;h3 sent_id=\"1\" text_id=\"1\"&gt;Corrected...</td>\n      <td>&lt;article&gt;\\n&lt;h3&gt;Corrected Card for a Noncitizen...</td>\n    </tr>\n    <tr>\n      <th>freq</th>\n      <td>149</td>\n      <td>1</td>\n      <td>4</td>\n      <td>4</td>\n      <td>4</td>\n      <td>4</td>\n      <td>4</td>\n    </tr>\n  </tbody>\n</table>\n</div>"
     },
     "execution_count": 8,
     "metadata": {},
     "output_type": "execute_result"
    }
   ],
   "source": [
    "document_full_df.describe(include=object)"
   ],
   "metadata": {
    "collapsed": false,
    "pycharm": {
     "name": "#%%\n"
    }
   }
  },
  {
   "cell_type": "code",
   "source": [
    "document_full_df[domain_col].value_counts()"
   ],
   "metadata": {
    "collapsed": false,
    "pycharm": {
     "name": "#%%\n"
    }
   },
   "execution_count": null,
   "outputs": []
  },
  {
   "cell_type": "code",
   "source": [
    "document_full_df[\"title\"].value_counts()"
   ],
   "metadata": {
    "collapsed": false,
    "pycharm": {
     "name": "#%%\n"
    }
   },
   "execution_count": null,
   "outputs": []
  },
  {
   "cell_type": "markdown",
   "source": [
    "Surprisingly not all document titles and spans are unique. Only 475 are, 13 are duplicated?\n"
   ],
   "metadata": {
    "collapsed": false,
    "pycharm": {
     "name": "#%% md\n"
    }
   }
  },
  {
   "cell_type": "markdown",
   "source": [
    "Look into the spans json a bit more"
   ],
   "metadata": {
    "collapsed": false,
    "pycharm": {
     "name": "#%% md\n"
    }
   }
  },
  {
   "cell_type": "code",
   "source": [
    "\n",
    "document_full_df[spans_col]\n",
    "# spans are a json array for each document. Each item in the json array is a span with id_sp being the id of the span"
   ],
   "metadata": {
    "collapsed": false,
    "pycharm": {
     "name": "#%%\n"
    }
   },
   "execution_count": null,
   "outputs": []
  },
  {
   "cell_type": "code",
   "source": [
    "#looking into one span\n",
    "one_doc_span = document_full_df[spans_col][0]\n",
    "# reading a frame into pandas\n",
    "one_doc_span_df  = pd.DataFrame(one_doc_span)\n",
    "one_doc_span_df"
   ],
   "metadata": {
    "collapsed": false,
    "pycharm": {
     "name": "#%%\n"
    }
   },
   "execution_count": null,
   "outputs": []
  },
  {
   "cell_type": "code",
   "source": [
    "one_doc_span_df.describe(include=object)"
   ],
   "metadata": {
    "collapsed": false,
    "pycharm": {
     "name": "#%%\n"
    }
   },
   "execution_count": null,
   "outputs": []
  },
  {
   "cell_type": "code",
   "source": [
    "one_doc_span_df.describe(include=object)"
   ],
   "metadata": {
    "collapsed": false,
    "pycharm": {
     "name": "#%%\n"
    }
   },
   "execution_count": null,
   "outputs": []
  },
  {
   "cell_type": "markdown",
   "source": [
    "Each span is unique, in this docment there are 99 spans, the interesting columns are id_sp and text_sp"
   ],
   "metadata": {
    "collapsed": false,
    "pycharm": {
     "name": "#%% md\n"
    }
   }
  },
  {
   "cell_type": "code",
   "execution_count": 20,
   "outputs": [
    {
     "data": {
      "text/plain": "         domain                                             doc_id  \\\n0           ssa  Benefits Planner: Survivors | Planning For You...   \n1           ssa  Benefits Planner: Survivors | Planning For You...   \n2           ssa  Benefits Planner: Disability | How You Apply |...   \n3           ssa  Benefits Planner: Disability | How You Apply |...   \n4           ssa  Learn what documents you will need to get a So...   \n..          ...                                                ...   \n483  studentaid  Finding and Applying for Scholarships | Federa...   \n484  studentaid  Loan Repayment Checklist | Federal Student Aid...   \n485  studentaid  Total and Permanent Disability Discharge | Fed...   \n486  studentaid         Avoiding Default | Federal Student Aid#1_0   \n487  studentaid   Student Loan Repayment | Federal Student Aid#1_0   \n\n                                                 spans  \n0    [{'id_sp': '1', 'tag': 'h2', 'start_sp': 0, 'e...  \n1    [{'id_sp': '1', 'tag': 'u', 'start_sp': 0, 'en...  \n2    [{'id_sp': '1', 'tag': 'h2', 'start_sp': 0, 'e...  \n3    [{'id_sp': '1', 'tag': 'u', 'start_sp': 0, 'en...  \n4    [{'id_sp': '1', 'tag': 'h3', 'start_sp': 0, 'e...  \n..                                                 ...  \n483  [{'id_sp': '1', 'tag': 'h1', 'start_sp': 0, 'e...  \n484  [{'id_sp': '1', 'tag': 'h1', 'start_sp': 0, 'e...  \n485  [{'id_sp': '1', 'tag': 'h1', 'start_sp': 0, 'e...  \n486  [{'id_sp': '1', 'tag': 'h1', 'start_sp': 0, 'e...  \n487  [{'id_sp': '1', 'tag': 'h1', 'start_sp': 0, 'e...  \n\n[488 rows x 3 columns]",
      "text/html": "<div>\n<style scoped>\n    .dataframe tbody tr th:only-of-type {\n        vertical-align: middle;\n    }\n\n    .dataframe tbody tr th {\n        vertical-align: top;\n    }\n\n    .dataframe thead th {\n        text-align: right;\n    }\n</style>\n<table border=\"1\" class=\"dataframe\">\n  <thead>\n    <tr style=\"text-align: right;\">\n      <th></th>\n      <th>domain</th>\n      <th>doc_id</th>\n      <th>spans</th>\n    </tr>\n  </thead>\n  <tbody>\n    <tr>\n      <th>0</th>\n      <td>ssa</td>\n      <td>Benefits Planner: Survivors | Planning For You...</td>\n      <td>[{'id_sp': '1', 'tag': 'h2', 'start_sp': 0, 'e...</td>\n    </tr>\n    <tr>\n      <th>1</th>\n      <td>ssa</td>\n      <td>Benefits Planner: Survivors | Planning For You...</td>\n      <td>[{'id_sp': '1', 'tag': 'u', 'start_sp': 0, 'en...</td>\n    </tr>\n    <tr>\n      <th>2</th>\n      <td>ssa</td>\n      <td>Benefits Planner: Disability | How You Apply |...</td>\n      <td>[{'id_sp': '1', 'tag': 'h2', 'start_sp': 0, 'e...</td>\n    </tr>\n    <tr>\n      <th>3</th>\n      <td>ssa</td>\n      <td>Benefits Planner: Disability | How You Apply |...</td>\n      <td>[{'id_sp': '1', 'tag': 'u', 'start_sp': 0, 'en...</td>\n    </tr>\n    <tr>\n      <th>4</th>\n      <td>ssa</td>\n      <td>Learn what documents you will need to get a So...</td>\n      <td>[{'id_sp': '1', 'tag': 'h3', 'start_sp': 0, 'e...</td>\n    </tr>\n    <tr>\n      <th>...</th>\n      <td>...</td>\n      <td>...</td>\n      <td>...</td>\n    </tr>\n    <tr>\n      <th>483</th>\n      <td>studentaid</td>\n      <td>Finding and Applying for Scholarships | Federa...</td>\n      <td>[{'id_sp': '1', 'tag': 'h1', 'start_sp': 0, 'e...</td>\n    </tr>\n    <tr>\n      <th>484</th>\n      <td>studentaid</td>\n      <td>Loan Repayment Checklist | Federal Student Aid...</td>\n      <td>[{'id_sp': '1', 'tag': 'h1', 'start_sp': 0, 'e...</td>\n    </tr>\n    <tr>\n      <th>485</th>\n      <td>studentaid</td>\n      <td>Total and Permanent Disability Discharge | Fed...</td>\n      <td>[{'id_sp': '1', 'tag': 'h1', 'start_sp': 0, 'e...</td>\n    </tr>\n    <tr>\n      <th>486</th>\n      <td>studentaid</td>\n      <td>Avoiding Default | Federal Student Aid#1_0</td>\n      <td>[{'id_sp': '1', 'tag': 'h1', 'start_sp': 0, 'e...</td>\n    </tr>\n    <tr>\n      <th>487</th>\n      <td>studentaid</td>\n      <td>Student Loan Repayment | Federal Student Aid#1_0</td>\n      <td>[{'id_sp': '1', 'tag': 'h1', 'start_sp': 0, 'e...</td>\n    </tr>\n  </tbody>\n</table>\n<p>488 rows × 3 columns</p>\n</div>"
     },
     "execution_count": 20,
     "metadata": {},
     "output_type": "execute_result"
    }
   ],
   "source": [
    "# want to flatten these spans so we have their json keys as columns\n",
    "# new dataset with domain, doc_id and from json id_sp, text_sp\n",
    "# not sure if we should keep this all in one big df or a dv per doc_id?\n",
    "# first try  to flatten it for one document\n",
    "document_important_cols_df = document_full_df[[domain_col, doc_id_col, spans_col]]\n",
    "document_important_cols_df"
   ],
   "metadata": {
    "collapsed": false,
    "pycharm": {
     "name": "#%%\n"
    }
   }
  },
  {
   "cell_type": "code",
   "execution_count": 167,
   "outputs": [
    {
     "ename": "KeyError",
     "evalue": "250",
     "output_type": "error",
     "traceback": [
      "\u001B[0;31m---------------------------------------------------------------------------\u001B[0m",
      "\u001B[0;31mKeyError\u001B[0m                                  Traceback (most recent call last)",
      "\u001B[0;32m/usr/local/anaconda3/envs/nlp-2021/lib/python3.9/site-packages/pandas/core/indexes/base.py\u001B[0m in \u001B[0;36mget_loc\u001B[0;34m(self, key, method, tolerance)\u001B[0m\n\u001B[1;32m   3360\u001B[0m             \u001B[0;32mtry\u001B[0m\u001B[0;34m:\u001B[0m\u001B[0;34m\u001B[0m\u001B[0;34m\u001B[0m\u001B[0m\n\u001B[0;32m-> 3361\u001B[0;31m                 \u001B[0;32mreturn\u001B[0m \u001B[0mself\u001B[0m\u001B[0;34m.\u001B[0m\u001B[0m_engine\u001B[0m\u001B[0;34m.\u001B[0m\u001B[0mget_loc\u001B[0m\u001B[0;34m(\u001B[0m\u001B[0mcasted_key\u001B[0m\u001B[0;34m)\u001B[0m\u001B[0;34m\u001B[0m\u001B[0;34m\u001B[0m\u001B[0m\n\u001B[0m\u001B[1;32m   3362\u001B[0m             \u001B[0;32mexcept\u001B[0m \u001B[0mKeyError\u001B[0m \u001B[0;32mas\u001B[0m \u001B[0merr\u001B[0m\u001B[0;34m:\u001B[0m\u001B[0;34m\u001B[0m\u001B[0;34m\u001B[0m\u001B[0m\n",
      "\u001B[0;32m/usr/local/anaconda3/envs/nlp-2021/lib/python3.9/site-packages/pandas/_libs/index.pyx\u001B[0m in \u001B[0;36mpandas._libs.index.IndexEngine.get_loc\u001B[0;34m()\u001B[0m\n",
      "\u001B[0;32m/usr/local/anaconda3/envs/nlp-2021/lib/python3.9/site-packages/pandas/_libs/index.pyx\u001B[0m in \u001B[0;36mpandas._libs.index.IndexEngine.get_loc\u001B[0;34m()\u001B[0m\n",
      "\u001B[0;32mpandas/_libs/hashtable_class_helper.pxi\u001B[0m in \u001B[0;36mpandas._libs.hashtable.PyObjectHashTable.get_item\u001B[0;34m()\u001B[0m\n",
      "\u001B[0;32mpandas/_libs/hashtable_class_helper.pxi\u001B[0m in \u001B[0;36mpandas._libs.hashtable.PyObjectHashTable.get_item\u001B[0;34m()\u001B[0m\n",
      "\u001B[0;31mKeyError\u001B[0m: 250",
      "\nThe above exception was the direct cause of the following exception:\n",
      "\u001B[0;31mKeyError\u001B[0m                                  Traceback (most recent call last)",
      "\u001B[0;32m/var/folders/tb/kxdncxw16gx7p6y4hsgc0y540000gn/T/ipykernel_13873/1214790948.py\u001B[0m in \u001B[0;36m<module>\u001B[0;34m\u001B[0m\n\u001B[1;32m     16\u001B[0m \u001B[0;31m# pd.json_normalize(document_important_cols_df.spans)\u001B[0m\u001B[0;34m\u001B[0m\u001B[0;34m\u001B[0m\u001B[0m\n\u001B[1;32m     17\u001B[0m \u001B[0;34m\u001B[0m\u001B[0m\n\u001B[0;32m---> 18\u001B[0;31m \u001B[0mdocument_full_df\u001B[0m\u001B[0;34m[\u001B[0m\u001B[0;36m250\u001B[0m\u001B[0;34m]\u001B[0m\u001B[0;34m\u001B[0m\u001B[0;34m\u001B[0m\u001B[0m\n\u001B[0m\u001B[1;32m     19\u001B[0m \u001B[0;34m\u001B[0m\u001B[0m\n",
      "\u001B[0;32m/usr/local/anaconda3/envs/nlp-2021/lib/python3.9/site-packages/pandas/core/frame.py\u001B[0m in \u001B[0;36m__getitem__\u001B[0;34m(self, key)\u001B[0m\n\u001B[1;32m   3456\u001B[0m             \u001B[0;32mif\u001B[0m \u001B[0mself\u001B[0m\u001B[0;34m.\u001B[0m\u001B[0mcolumns\u001B[0m\u001B[0;34m.\u001B[0m\u001B[0mnlevels\u001B[0m \u001B[0;34m>\u001B[0m \u001B[0;36m1\u001B[0m\u001B[0;34m:\u001B[0m\u001B[0;34m\u001B[0m\u001B[0;34m\u001B[0m\u001B[0m\n\u001B[1;32m   3457\u001B[0m                 \u001B[0;32mreturn\u001B[0m \u001B[0mself\u001B[0m\u001B[0;34m.\u001B[0m\u001B[0m_getitem_multilevel\u001B[0m\u001B[0;34m(\u001B[0m\u001B[0mkey\u001B[0m\u001B[0;34m)\u001B[0m\u001B[0;34m\u001B[0m\u001B[0;34m\u001B[0m\u001B[0m\n\u001B[0;32m-> 3458\u001B[0;31m             \u001B[0mindexer\u001B[0m \u001B[0;34m=\u001B[0m \u001B[0mself\u001B[0m\u001B[0;34m.\u001B[0m\u001B[0mcolumns\u001B[0m\u001B[0;34m.\u001B[0m\u001B[0mget_loc\u001B[0m\u001B[0;34m(\u001B[0m\u001B[0mkey\u001B[0m\u001B[0;34m)\u001B[0m\u001B[0;34m\u001B[0m\u001B[0;34m\u001B[0m\u001B[0m\n\u001B[0m\u001B[1;32m   3459\u001B[0m             \u001B[0;32mif\u001B[0m \u001B[0mis_integer\u001B[0m\u001B[0;34m(\u001B[0m\u001B[0mindexer\u001B[0m\u001B[0;34m)\u001B[0m\u001B[0;34m:\u001B[0m\u001B[0;34m\u001B[0m\u001B[0;34m\u001B[0m\u001B[0m\n\u001B[1;32m   3460\u001B[0m                 \u001B[0mindexer\u001B[0m \u001B[0;34m=\u001B[0m \u001B[0;34m[\u001B[0m\u001B[0mindexer\u001B[0m\u001B[0;34m]\u001B[0m\u001B[0;34m\u001B[0m\u001B[0;34m\u001B[0m\u001B[0m\n",
      "\u001B[0;32m/usr/local/anaconda3/envs/nlp-2021/lib/python3.9/site-packages/pandas/core/indexes/base.py\u001B[0m in \u001B[0;36mget_loc\u001B[0;34m(self, key, method, tolerance)\u001B[0m\n\u001B[1;32m   3361\u001B[0m                 \u001B[0;32mreturn\u001B[0m \u001B[0mself\u001B[0m\u001B[0;34m.\u001B[0m\u001B[0m_engine\u001B[0m\u001B[0;34m.\u001B[0m\u001B[0mget_loc\u001B[0m\u001B[0;34m(\u001B[0m\u001B[0mcasted_key\u001B[0m\u001B[0;34m)\u001B[0m\u001B[0;34m\u001B[0m\u001B[0;34m\u001B[0m\u001B[0m\n\u001B[1;32m   3362\u001B[0m             \u001B[0;32mexcept\u001B[0m \u001B[0mKeyError\u001B[0m \u001B[0;32mas\u001B[0m \u001B[0merr\u001B[0m\u001B[0;34m:\u001B[0m\u001B[0;34m\u001B[0m\u001B[0;34m\u001B[0m\u001B[0m\n\u001B[0;32m-> 3363\u001B[0;31m                 \u001B[0;32mraise\u001B[0m \u001B[0mKeyError\u001B[0m\u001B[0;34m(\u001B[0m\u001B[0mkey\u001B[0m\u001B[0;34m)\u001B[0m \u001B[0;32mfrom\u001B[0m \u001B[0merr\u001B[0m\u001B[0;34m\u001B[0m\u001B[0;34m\u001B[0m\u001B[0m\n\u001B[0m\u001B[1;32m   3364\u001B[0m \u001B[0;34m\u001B[0m\u001B[0m\n\u001B[1;32m   3365\u001B[0m         \u001B[0;32mif\u001B[0m \u001B[0mis_scalar\u001B[0m\u001B[0;34m(\u001B[0m\u001B[0mkey\u001B[0m\u001B[0;34m)\u001B[0m \u001B[0;32mand\u001B[0m \u001B[0misna\u001B[0m\u001B[0;34m(\u001B[0m\u001B[0mkey\u001B[0m\u001B[0;34m)\u001B[0m \u001B[0;32mand\u001B[0m \u001B[0;32mnot\u001B[0m \u001B[0mself\u001B[0m\u001B[0;34m.\u001B[0m\u001B[0mhasnans\u001B[0m\u001B[0;34m:\u001B[0m\u001B[0;34m\u001B[0m\u001B[0;34m\u001B[0m\u001B[0m\n",
      "\u001B[0;31mKeyError\u001B[0m: 250"
     ]
    }
   ],
   "source": [
    "first_span = document_full_df[spans_col][0]\n",
    "normalised_first_span = pd.json_normalize(first_span)\n",
    "normalised_first_span[[id_sp_col, text_sp_col]]\n",
    "\n",
    "# row_1_df =document_important_cols_df.iloc[0]\n",
    "# type(row_1_df)\n",
    "# pd.json_normalize(row_1_df)\n",
    "# normalised_df = pd.json_normalize(document_df.to_dict() , meta=[domain_col, doc_id_col, spans_col], record_path='spans')\n",
    "# type(normalised_df)\n",
    "# type(document_df.spans)\n",
    "# document_df.spans[0]\n",
    "\n",
    "\n",
    "# one_doc_span_df[[id_sp_col, text_sp_col]]\n",
    "#\n",
    "# pd.json_normalize(document_important_cols_df.spans)\n",
    "\n"
   ],
   "metadata": {
    "collapsed": false,
    "pycharm": {
     "name": "#%%\n"
    }
   }
  },
  {
   "cell_type": "markdown",
   "source": [
    "Insights from looking at the data structure:\n",
    "For training I will need the following data:\n",
    "From Dialogue:\n",
    "doc_id - Grounding document\n",
    "turns.utterance -> Dialogue history\n",
    "references.sp_id -> ID for the output text_sp\n",
    "\n",
    "From Documents:\n",
    "To get output span:\n",
    "doc_id -> spans -> id_sp -> text_sp column is the actual output span\n"
   ],
   "metadata": {
    "collapsed": false
   }
  },
  {
   "cell_type": "code",
   "execution_count": null,
   "outputs": [],
   "source": [
    "## Look at querying the arrow dataset directly instead of using pandas df"
   ],
   "metadata": {
    "collapsed": false,
    "pycharm": {
     "name": "#%%\n"
    }
   }
  },
  {
   "cell_type": "code",
   "execution_count": 168,
   "outputs": [
    {
     "name": "stdout",
     "output_type": "stream",
     "text": [
      "Dial id: 9f44c1539efe6f7e79b02eb1b413aa43\n",
      "Doc id: Top 5 DMV Mistakes and How to Avoid Them#3_0\n",
      "turn id: 1, role: user, sp: [4], utterance: Hello, I forgot o update my address, can you help me with that?\n",
      "turn id: 2, role: agent, sp: [6, 7], utterance: hi, you have to report any change of address to DMV within 10 days after moving. You should do this both for the address associated with your license and all the addresses associated with all your vehicles.\n",
      "turn id: 3, role: user, sp: [56], utterance: Can I do my DMV transactions online?\n",
      "turn id: 4, role: agent, sp: [56], utterance: Yes, you can sign up for MyDMV for all the online transactions needed.\n",
      "turn id: 5, role: user, sp: [48], utterance: Thanks, and in case I forget to bring all of the documentation needed to the DMV office, what can I do?\n",
      "turn id: 6, role: agent, sp: [49, 50, 52], utterance: This happens often with our customers so that's why our website and MyDMV are so useful for our customers. Just check if you can make your transaction online so you don't have to go to the DMV Office.\n",
      "turn id: 7, role: user, sp: [6, 7], utterance: Ok, and can you tell me again where should I report my new address?\n",
      "turn id: 8, role: agent, sp: [6, 7], utterance: Sure. Any change of address must be reported to the DMV, that's for the address associated with your license and any of your vehicles.\n",
      "turn id: 9, role: user, sp: [40], utterance: Can you tell me more about Traffic points and their cost?\n",
      "turn id: 10, role: agent, sp: [41, 43], utterance: Traffic points is the system used by DMV to track dangerous drivers. The cost of the traffic points is independent of the DRA, so you get a separate charge based on the total points you accumulate.\n"
     ]
    },
    {
     "ename": "KeyError",
     "evalue": "250",
     "output_type": "error",
     "traceback": [
      "\u001B[0;31m---------------------------------------------------------------------------\u001B[0m",
      "\u001B[0;31mKeyError\u001B[0m                                  Traceback (most recent call last)",
      "\u001B[0;32m/usr/local/anaconda3/envs/nlp-2021/lib/python3.9/site-packages/pandas/core/indexes/base.py\u001B[0m in \u001B[0;36mget_loc\u001B[0;34m(self, key, method, tolerance)\u001B[0m\n\u001B[1;32m   3360\u001B[0m             \u001B[0;32mtry\u001B[0m\u001B[0;34m:\u001B[0m\u001B[0;34m\u001B[0m\u001B[0;34m\u001B[0m\u001B[0m\n\u001B[0;32m-> 3361\u001B[0;31m                 \u001B[0;32mreturn\u001B[0m \u001B[0mself\u001B[0m\u001B[0;34m.\u001B[0m\u001B[0m_engine\u001B[0m\u001B[0;34m.\u001B[0m\u001B[0mget_loc\u001B[0m\u001B[0;34m(\u001B[0m\u001B[0mcasted_key\u001B[0m\u001B[0;34m)\u001B[0m\u001B[0;34m\u001B[0m\u001B[0;34m\u001B[0m\u001B[0m\n\u001B[0m\u001B[1;32m   3362\u001B[0m             \u001B[0;32mexcept\u001B[0m \u001B[0mKeyError\u001B[0m \u001B[0;32mas\u001B[0m \u001B[0merr\u001B[0m\u001B[0;34m:\u001B[0m\u001B[0;34m\u001B[0m\u001B[0;34m\u001B[0m\u001B[0m\n",
      "\u001B[0;32m/usr/local/anaconda3/envs/nlp-2021/lib/python3.9/site-packages/pandas/_libs/index.pyx\u001B[0m in \u001B[0;36mpandas._libs.index.IndexEngine.get_loc\u001B[0;34m()\u001B[0m\n",
      "\u001B[0;32m/usr/local/anaconda3/envs/nlp-2021/lib/python3.9/site-packages/pandas/_libs/index.pyx\u001B[0m in \u001B[0;36mpandas._libs.index.IndexEngine.get_loc\u001B[0;34m()\u001B[0m\n",
      "\u001B[0;32mpandas/_libs/hashtable_class_helper.pxi\u001B[0m in \u001B[0;36mpandas._libs.hashtable.PyObjectHashTable.get_item\u001B[0;34m()\u001B[0m\n",
      "\u001B[0;32mpandas/_libs/hashtable_class_helper.pxi\u001B[0m in \u001B[0;36mpandas._libs.hashtable.PyObjectHashTable.get_item\u001B[0;34m()\u001B[0m\n",
      "\u001B[0;31mKeyError\u001B[0m: 250",
      "\nThe above exception was the direct cause of the following exception:\n",
      "\u001B[0;31mKeyError\u001B[0m                                  Traceback (most recent call last)",
      "\u001B[0;32m/var/folders/tb/kxdncxw16gx7p6y4hsgc0y540000gn/T/ipykernel_13873/3583392239.py\u001B[0m in \u001B[0;36m<module>\u001B[0;34m\u001B[0m\n\u001B[1;32m     35\u001B[0m \u001B[0mspans_for_doc_df\u001B[0m\u001B[0;34m\u001B[0m\u001B[0;34m\u001B[0m\u001B[0m\n\u001B[1;32m     36\u001B[0m \u001B[0;34m\u001B[0m\u001B[0m\n\u001B[0;32m---> 37\u001B[0;31m \u001B[0mdocument_full_df\u001B[0m\u001B[0;34m[\u001B[0m\u001B[0;36m250\u001B[0m\u001B[0;34m]\u001B[0m\u001B[0;34m\u001B[0m\u001B[0;34m\u001B[0m\u001B[0m\n\u001B[0m\u001B[1;32m     38\u001B[0m \u001B[0;34m\u001B[0m\u001B[0m\n\u001B[1;32m     39\u001B[0m \u001B[0;34m\u001B[0m\u001B[0m\n",
      "\u001B[0;32m/usr/local/anaconda3/envs/nlp-2021/lib/python3.9/site-packages/pandas/core/frame.py\u001B[0m in \u001B[0;36m__getitem__\u001B[0;34m(self, key)\u001B[0m\n\u001B[1;32m   3456\u001B[0m             \u001B[0;32mif\u001B[0m \u001B[0mself\u001B[0m\u001B[0;34m.\u001B[0m\u001B[0mcolumns\u001B[0m\u001B[0;34m.\u001B[0m\u001B[0mnlevels\u001B[0m \u001B[0;34m>\u001B[0m \u001B[0;36m1\u001B[0m\u001B[0;34m:\u001B[0m\u001B[0;34m\u001B[0m\u001B[0;34m\u001B[0m\u001B[0m\n\u001B[1;32m   3457\u001B[0m                 \u001B[0;32mreturn\u001B[0m \u001B[0mself\u001B[0m\u001B[0;34m.\u001B[0m\u001B[0m_getitem_multilevel\u001B[0m\u001B[0;34m(\u001B[0m\u001B[0mkey\u001B[0m\u001B[0;34m)\u001B[0m\u001B[0;34m\u001B[0m\u001B[0;34m\u001B[0m\u001B[0m\n\u001B[0;32m-> 3458\u001B[0;31m             \u001B[0mindexer\u001B[0m \u001B[0;34m=\u001B[0m \u001B[0mself\u001B[0m\u001B[0;34m.\u001B[0m\u001B[0mcolumns\u001B[0m\u001B[0;34m.\u001B[0m\u001B[0mget_loc\u001B[0m\u001B[0;34m(\u001B[0m\u001B[0mkey\u001B[0m\u001B[0;34m)\u001B[0m\u001B[0;34m\u001B[0m\u001B[0;34m\u001B[0m\u001B[0m\n\u001B[0m\u001B[1;32m   3459\u001B[0m             \u001B[0;32mif\u001B[0m \u001B[0mis_integer\u001B[0m\u001B[0;34m(\u001B[0m\u001B[0mindexer\u001B[0m\u001B[0;34m)\u001B[0m\u001B[0;34m:\u001B[0m\u001B[0;34m\u001B[0m\u001B[0;34m\u001B[0m\u001B[0m\n\u001B[1;32m   3460\u001B[0m                 \u001B[0mindexer\u001B[0m \u001B[0;34m=\u001B[0m \u001B[0;34m[\u001B[0m\u001B[0mindexer\u001B[0m\u001B[0;34m]\u001B[0m\u001B[0;34m\u001B[0m\u001B[0;34m\u001B[0m\u001B[0m\n",
      "\u001B[0;32m/usr/local/anaconda3/envs/nlp-2021/lib/python3.9/site-packages/pandas/core/indexes/base.py\u001B[0m in \u001B[0;36mget_loc\u001B[0;34m(self, key, method, tolerance)\u001B[0m\n\u001B[1;32m   3361\u001B[0m                 \u001B[0;32mreturn\u001B[0m \u001B[0mself\u001B[0m\u001B[0;34m.\u001B[0m\u001B[0m_engine\u001B[0m\u001B[0;34m.\u001B[0m\u001B[0mget_loc\u001B[0m\u001B[0;34m(\u001B[0m\u001B[0mcasted_key\u001B[0m\u001B[0;34m)\u001B[0m\u001B[0;34m\u001B[0m\u001B[0;34m\u001B[0m\u001B[0m\n\u001B[1;32m   3362\u001B[0m             \u001B[0;32mexcept\u001B[0m \u001B[0mKeyError\u001B[0m \u001B[0;32mas\u001B[0m \u001B[0merr\u001B[0m\u001B[0;34m:\u001B[0m\u001B[0;34m\u001B[0m\u001B[0;34m\u001B[0m\u001B[0m\n\u001B[0;32m-> 3363\u001B[0;31m                 \u001B[0;32mraise\u001B[0m \u001B[0mKeyError\u001B[0m\u001B[0;34m(\u001B[0m\u001B[0mkey\u001B[0m\u001B[0;34m)\u001B[0m \u001B[0;32mfrom\u001B[0m \u001B[0merr\u001B[0m\u001B[0;34m\u001B[0m\u001B[0;34m\u001B[0m\u001B[0m\n\u001B[0m\u001B[1;32m   3364\u001B[0m \u001B[0;34m\u001B[0m\u001B[0m\n\u001B[1;32m   3365\u001B[0m         \u001B[0;32mif\u001B[0m \u001B[0mis_scalar\u001B[0m\u001B[0;34m(\u001B[0m\u001B[0mkey\u001B[0m\u001B[0;34m)\u001B[0m \u001B[0;32mand\u001B[0m \u001B[0misna\u001B[0m\u001B[0;34m(\u001B[0m\u001B[0mkey\u001B[0m\u001B[0;34m)\u001B[0m \u001B[0;32mand\u001B[0m \u001B[0;32mnot\u001B[0m \u001B[0mself\u001B[0m\u001B[0;34m.\u001B[0m\u001B[0mhasnans\u001B[0m\u001B[0;34m:\u001B[0m\u001B[0;34m\u001B[0m\u001B[0;34m\u001B[0m\u001B[0m\n",
      "\u001B[0;31mKeyError\u001B[0m: 250"
     ]
    }
   ],
   "source": [
    "# dialogue_dataset.scanner(columns=[\"doc_id\", \"turns\", \"references\"]).to_table()\n",
    "# first_\n",
    "# row_turns = dialogue_dataset[0]['turns']\n",
    "# print(first_row_turns)\n",
    "# first_row_turns[0]['references'][0]['sp_id']\n",
    "# dialogue_dataset['turns']\n",
    "# dialogue_dataset[0]['turns']\n",
    "# type(dialogue_dataset)\n",
    "\n",
    "# dialogue_dataset\n",
    "\n",
    "#given a dialog id get\n",
    "# from dialogue [dial_id, doc_id, turn.turn_id, turn.role, turn.utterance, all turn.references.sp_id]\n",
    "# for each sp_id from document with doc_id: [doc_id, spans.sp_id, spans.text_sp]\n",
    "first_dialogue=dialogue_dataset[0]\n",
    "dial_id = dialogue_dataset['dial_id'][0]\n",
    "doc_id = first_dialogue[\"doc_id\"]\n",
    "turns = first_dialogue['turns']\n",
    "document_df_for_id = document_full_df[document_full_df['doc_id'] == doc_id]\n",
    "spans_for_doc_df = [pd.json_normalize(span) for span in document_df_for_id['spans']][0]\n",
    "\n",
    "print(f'Dial id: {dial_id}')\n",
    "print(f'Doc id: {doc_id}')\n",
    "for turn in turns:\n",
    "    turn_id = turn['turn_id']\n",
    "    role = turn['role']\n",
    "    utterance = turn['utterance']\n",
    "    references = turn['references']\n",
    "    # sp_id are strings, parsed to int for df lookup\n",
    "    sp_ids = [int(ref['sp_id']) for ref in references]\n",
    "    print(f'turn id: {turn_id}, role: {role}, sp: {sp_ids}, utterance: {utterance}')\n",
    "\n",
    "# sp_ids\n",
    "# spans_for_doc_df[spans_for_doc_df['id_sp'] == 41]\n",
    "spans_for_doc_df\n",
    "\n",
    "document_full_df[250]\n",
    "\n",
    "\n"
   ],
   "metadata": {
    "collapsed": false,
    "pycharm": {
     "name": "#%%\n"
    }
   }
  },
  {
   "cell_type": "markdown",
   "source": [
    "# Find the Simplest Model\n",
    "Task:\n",
    "- input:\n",
    "    - dialogue history for current discussion (turns.utterance from dialogue)\n",
    "    - doc_id for the grounding document to find the span from\n",
    "- output: the text_sp in documents for a certain doc_id that the agent would need to respond to the user\n",
    "\n",
    "Training:\n",
    "- embedding for each utterance from the dialogue history\n",
    "- embedding of the correct text_sp\n",
    "\n",
    "\n",
    "From discussion with Edwin:\n",
    "- use dataset directly\n",
    "\n",
    "Binary classifier to mark up all the spans as being relevant or not\n"
   ],
   "metadata": {
    "collapsed": false,
    "pycharm": {
     "name": "#%% md\n"
    }
   }
  },
  {
   "cell_type": "markdown",
   "source": [
    "# Evaluation of Simplest Model\n",
    "\n",
    "Required output format is a json file of predictions with id, prediction_text and no_answer_probability\n",
    "https://github.com/doc2dial/sharedtask-dialdoc2021/blob/master/scripts/sample_files/sample_prediction_subtask1.json\n"
   ],
   "metadata": {
    "collapsed": false
   }
  },
  {
   "cell_type": "code",
   "execution_count": null,
   "outputs": [],
   "source": [],
   "metadata": {
    "collapsed": false,
    "pycharm": {
     "name": "#%%\n"
    }
   }
  },
  {
   "cell_type": "markdown",
   "source": [
    "# Iteration\n",
    "\n",
    "\n",
    "- extend for training data set as suggested by dialdoc https://mrqa.github.io/2019/shared"
   ],
   "metadata": {
    "collapsed": false,
    "pycharm": {
     "name": "#%% md\n"
    }
   }
  },
  {
   "cell_type": "code",
   "execution_count": null,
   "outputs": [],
   "source": [],
   "metadata": {
    "collapsed": false,
    "pycharm": {
     "name": "#%%\n"
    }
   }
  }
 ],
 "metadata": {
  "kernelspec": {
   "display_name": "Python 3",
   "language": "python",
   "name": "python3"
  },
  "language_info": {
   "codemirror_mode": {
    "name": "ipython",
    "version": 2
   },
   "file_extension": ".py",
   "mimetype": "text/x-python",
   "name": "python",
   "nbconvert_exporter": "python",
   "pygments_lexer": "ipython2",
   "version": "2.7.6"
  }
 },
 "nbformat": 4,
 "nbformat_minor": 0
}