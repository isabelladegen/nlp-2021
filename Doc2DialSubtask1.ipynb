{
 "cells": [
  {
   "cell_type": "markdown",
   "metadata": {
    "collapsed": true,
    "pycharm": {
     "name": "#%% md\n"
    }
   },
   "source": [
    "# Load Dataset\n",
    "\n",
    "https://huggingface.co/datasets/doc2dial#data-fields\n"
   ]
  },
  {
   "cell_type": "code",
   "execution_count": 89,
   "outputs": [
    {
     "name": "stderr",
     "output_type": "stream",
     "text": [
      "Reusing dataset doc2dial (./data_cache/doc2dial/dialogue_domain/1.0.1/c15afdf53780a8d6ebea7aec05384432195b356f879aa53a4ee39b740d520642)\n",
      "Reusing dataset doc2dial (./data_cache/doc2dial/document_domain/1.0.1/c15afdf53780a8d6ebea7aec05384432195b356f879aa53a4ee39b740d520642)\n"
     ]
    }
   ],
   "source": [
    "from datasets import load_dataset\n",
    "\n",
    "split = \"train\"\n",
    "cache_dir = \"./data_cache\"\n",
    "\n",
    "#User's turn: utterance= question, reference=grounding document span_id, can be empty, \"precondition\"/\"solution\" are the\n",
    "#actual grounding spans\n",
    "#Gold label for grounding\n",
    "dialogue_dataset = load_dataset(\n",
    "    \"doc2dial\",\n",
    "    name=\"dialogue_domain\",  # this is the name of the dataset for the second subtask, dialog generation\n",
    "    split=split,\n",
    "    ignore_verifications=True,\n",
    "    cache_dir=cache_dir,\n",
    ")\n",
    "\n",
    "document_dataset = load_dataset(\n",
    "    \"doc2dial\",\n",
    "    name=\"document_domain\",\n",
    "    split=split,\n",
    "    ignore_verifications=True,\n",
    "    cache_dir=cache_dir,\n",
    ")"
   ],
   "metadata": {
    "collapsed": false,
    "pycharm": {
     "name": "#%%\n"
    }
   }
  },
  {
   "cell_type": "markdown",
   "source": [
    "Insights from looking at the data structure:\n",
    "For training I will need the following data:\n",
    "From Dialogue:\n",
    "doc_id - Grounding document\n",
    "turns.utterance -> Dialogue history\n",
    "references.sp_id -> ID for the output text_sp\n",
    "\n",
    "From Documents:\n",
    "To get output span:\n",
    "doc_id -> spans -> id_sp -> text_sp column is the actual output span\n"
   ],
   "metadata": {
    "collapsed": false
   }
  },
  {
   "cell_type": "markdown",
   "source": [
    "# Naive Bayes with simple word counts\n",
    "Task:\n",
    "- input:\n",
    "    - dialogue history for current discussion (turns.utterance from dialogue)\n",
    "    - doc_id for the grounding document to find the span from\n",
    "- output:\n",
    "    - the text_sp in documents for a certain doc_id that the agent would need to respond to the user\n",
    "\n",
    "Training:\n",
    "- fit(X, y) -> X (n_samples, n_features) training vectors, y  = target values (e.g relevant=1, not relevant)\n"
   ],
   "metadata": {
    "collapsed": false,
    "pycharm": {
     "name": "#%% md\n"
    }
   }
  },
  {
   "cell_type": "code",
   "execution_count": 95,
   "outputs": [
    {
     "name": "stderr",
     "output_type": "stream",
     "text": [
      "Loading cached processed dataset at ./data_cache/doc2dial/dialogue_domain/1.0.1/c15afdf53780a8d6ebea7aec05384432195b356f879aa53a4ee39b740d520642/cache-9274aaa595ce18fe.arrow\n",
      "Loading cached processed dataset at ./data_cache/doc2dial/document_domain/1.0.1/c15afdf53780a8d6ebea7aec05384432195b356f879aa53a4ee39b740d520642/cache-2ab233a5254763ad.arrow\n"
     ]
    }
   ],
   "source": [
    "#For Input:\n",
    "#Utterances:\n",
    "#for each dialogue with the same doc id: get users utterance into a list: if role=user -> document.turns.utterance\n",
    "# -> rows = number of utterances\n",
    "# use all dialogues with the same grounding document for training (e.g one classifier per grounding doc)\n",
    "\n",
    "#Vectorise the input: (word counts)\n",
    "# rows=utterances, columns = vocabulary, value=wordcount\n",
    "\n",
    "#Labels:\n",
    "# there are multiple spans per utterances\n",
    "# rows = utterance, columns = span_ids for the document, cell = 1 or 0 depending on if spans is relevant or not\n",
    "# document->turn->references->sp_ids\n",
    "\n",
    "import pandas as pd\n",
    "#just take the first doc id for the moment\n",
    "doc_id = dialogue_dataset[0]['doc_id']\n",
    "\n",
    "#get all dialogues for that doc_id\n",
    "dialogues_for_doc_id = dialogue_dataset.filter(lambda doc: doc['doc_id'] == doc_id)\n",
    "\n",
    "#get all data spans for that doc\n",
    "document_for_id = document_dataset.filter(lambda doc: doc['doc_id'] == doc_id)\n",
    "# getting the spans for that doc id\n",
    "spans_df_for_id = [pd.json_normalize(span) for span in document_for_id['spans']][0]\n",
    "spans =\n",
    "\n",
    "\n",
    "\n"
   ],
   "metadata": {
    "collapsed": false,
    "pycharm": {
     "name": "#%%\n"
    }
   }
  },
  {
   "cell_type": "code",
   "execution_count": null,
   "outputs": [],
   "source": [
    "#Train on the document spans\n",
    "#Input X_train: rows=spans, columns=feature for span + utternace for that span\n",
    "#Output Y: 0 if span relevant or not"
   ],
   "metadata": {
    "collapsed": false,
    "pycharm": {
     "name": "#%%\n"
    }
   }
  },
  {
   "cell_type": "markdown",
   "source": [
    "# Evaluation of Simplest Model\n",
    "\n",
    "Required output format is a json file of predictions with id, prediction_text and no_answer_probability\n",
    "https://github.com/doc2dial/sharedtask-dialdoc2021/blob/master/scripts/sample_files/sample_prediction_subtask1.json\n"
   ],
   "metadata": {
    "collapsed": false
   }
  },
  {
   "cell_type": "code",
   "execution_count": null,
   "outputs": [],
   "source": [],
   "metadata": {
    "collapsed": false,
    "pycharm": {
     "name": "#%%\n"
    }
   }
  },
  {
   "cell_type": "markdown",
   "source": [
    "# Iteration\n",
    "\n",
    "\n",
    "- extend for training data set as suggested by dialdoc https://mrqa.github.io/2019/shared"
   ],
   "metadata": {
    "collapsed": false,
    "pycharm": {
     "name": "#%% md\n"
    }
   }
  },
  {
   "cell_type": "code",
   "execution_count": null,
   "outputs": [],
   "source": [],
   "metadata": {
    "collapsed": false,
    "pycharm": {
     "name": "#%%\n"
    }
   }
  }
 ],
 "metadata": {
  "kernelspec": {
   "display_name": "Python 3",
   "language": "python",
   "name": "python3"
  },
  "language_info": {
   "codemirror_mode": {
    "name": "ipython",
    "version": 2
   },
   "file_extension": ".py",
   "mimetype": "text/x-python",
   "name": "python",
   "nbconvert_exporter": "python",
   "pygments_lexer": "ipython2",
   "version": "2.7.6"
  }
 },
 "nbformat": 4,
 "nbformat_minor": 0
}