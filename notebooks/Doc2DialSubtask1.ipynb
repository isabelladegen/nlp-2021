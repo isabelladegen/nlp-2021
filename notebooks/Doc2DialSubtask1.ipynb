{
 "cells": [
  {
   "cell_type": "markdown",
   "metadata": {
    "collapsed": true,
    "pycharm": {
     "name": "#%% md\n"
    }
   },
   "source": [
    "# Load Dataset\n",
    "\n",
    "https://huggingface.co/datasets/doc2dial#data-fields\n"
   ]
  },
  {
   "cell_type": "code",
   "execution_count": null,
   "outputs": [],
   "source": [
    "from datasets import load_dataset\n",
    "\n",
    "split = \"train\"\n",
    "cache_dir = \"./data_cache_doc2vec_notebook\"\n",
    "\n",
    "#User's turn: utterance= question, reference=grounding document span_id, can be empty, \"precondition\"/\"solution\" are the\n",
    "#actual grounding spans\n",
    "#Gold label for grounding\n",
    "dialogue_dataset = load_dataset(\n",
    "    \"doc2dial\",\n",
    "    name=\"dialogue_domain\",  # this is the name of the dataset for the second subtask, dialog generation\n",
    "    split=split,\n",
    "    ignore_verifications=True,\n",
    "    cache_dir=cache_dir,\n",
    ")\n",
    "\n",
    "document_dataset = load_dataset(\n",
    "    \"doc2dial\",\n",
    "    name=\"document_domain\",\n",
    "    split=split,\n",
    "    ignore_verifications=True,\n",
    "    cache_dir=cache_dir,\n",
    ")"
   ],
   "metadata": {
    "collapsed": false,
    "pycharm": {
     "name": "#%%\n",
     "is_executing": true
    }
   }
  },
  {
   "cell_type": "markdown",
   "source": [
    "Insights from looking at the data structure:\n",
    "For training I will need the following data:\n",
    "From Dialogue:\n",
    "doc_id - Grounding document\n",
    "turns.utterance -> Dialogue history\n",
    "references.sp_id -> ID for the output text_sp\n",
    "\n",
    "From Documents:\n",
    "To get output span:\n",
    "doc_id -> spans -> id_sp -> text_sp column is the actual output span\n"
   ],
   "metadata": {
    "collapsed": false
   }
  },
  {
   "cell_type": "markdown",
   "source": [
    "# Embedding with Gensim dense vectors\n",
    "\n",
    "Hypothesis:\n",
    "1. Create embeddings for each span in each doc\n",
    "2. Create embeddings for each span combined with the user's question\n",
    "    - think about if the agent's span should also be included\n",
    "\n",
    "Further:\n",
    "- think about training on a whole domain vs one document"
   ],
   "metadata": {
    "collapsed": false,
    "pycharm": {
     "name": "#%% md\n"
    }
   }
  },
  {
   "cell_type": "code",
   "execution_count": 2,
   "outputs": [],
   "source": [
    "def span_texts_for_doc(doc_id):\n",
    "    document = document_dataset.filter(lambda doc: doc['doc_id'] == doc_id)\n",
    "    return [pd.json_normalize(span) for span in document['spans']][0]['text_sp']"
   ],
   "metadata": {
    "collapsed": false,
    "pycharm": {
     "name": "#%%\n"
    }
   }
  },
  {
   "cell_type": "code",
   "execution_count": 3,
   "outputs": [
    {
     "data": {
      "text/plain": "  0%|          | 0/1 [00:00<?, ?ba/s]",
      "application/vnd.jupyter.widget-view+json": {
       "version_major": 2,
       "version_minor": 0,
       "model_id": "07b50ab799f74c728d579ae47df67762"
      }
     },
     "metadata": {},
     "output_type": "display_data"
    },
    {
     "name": "stdout",
     "output_type": "stream",
     "text": [
      "[['what', 'is', 'a', 'co', 'signer'], ['a', 'co', 'signer', 'is', 'the', 'spouse', 'of', 'an', 'applicant', 'who', 'initiated', 'an', 'income', 'driven', 'repayment', 'plan', 'request'], ['as', 'a', 'co', 'signer', 'you', 'are', 'not', 'obligated', 'to', 'repay', 'this', 'loan', 'by', 'signing', 'a', 'borrower', 's', 'idr', 'application'], ['the', 'idr', 'applicant', 'should', 'have', 'provided', 'you', 'with', 'a', 'reference', 'number', 'co', 'sign', 'code'], ['if', 'you', 'do', 'not', 'have', 'the', 'reference', 'number', 'co', 'sign', 'code'], ['contact', 'the', 'idr', 'applicant'], ['an', 'e', 'mail', 'containing', 'the', 'reference', 'number', 'co', 'sign', 'code', 'was', 'sent', 'to', 'him', 'or', 'her'], ['the', 'idr', 'applicant', 'can', 'also', 'access', 'the', 'reference', 'number', 'co', 'sign', 'code', 'by', 'logging', 'in', 'to', 'studentaid', 'gov', 'and', 'clicking', 'on', 'the', 'appropriate', 'link'], ['directions', 'to', 'access', 'the', 'reference', 'number', 'co', 'sign', 'code'], ['if', 'the', 'applicant', 'completed', 'an', 'income', 'driven', 'repayment', 'plan', 'request', 'that', 'was', 'not', 'part', 'of', 'a', 'direct', 'consolidation', 'loan', 'application'], ['he', 'or', 'she', 'will', 'click', 'on', 'income', 'driven', 'repayment', 'plan', 'requests', 'under', 'my', 'loan', 'documents', 'to', 'locate', 'and', 'provide', 'you', 'with', 'the', 'reference', 'number', 'you', 'need'], ['if', 'the', 'applicant', 'completed', 'an', 'income', 'driven', 'repayment', 'plan', 'request', 'as', 'part', 'of', 'a', 'direct', 'consolidation', 'loan', 'application'], ['he', 'or', 'she', 'will', 'click', 'on', 'direct', 'consolidation', 'loan', 'applications', 'under', 'my', 'loan', 'documents', 'to', 'locate', 'and', 'provide', 'you', 'with', 'the', 'co', 'sign', 'code', 'you', 'need'], ['co', 'sign', 'income', 'driven', 'repayment', 'idr', 'plan', 'request'], ['log', 'in', 'to', 'start'], ['who', 'should', 'complete', 'this'], ['spouse', 'of', 'an', 'applicant', 'who', 'initiated', 'an', 'income', 'driven', 'repayment', 'plan', 'request'], ['how', 'long', 'will', 'it', 'take'], ['the', 'entire', 'co', 'sign', 'process', 'must', 'be', 'completed', 'in', 'a', 'single', 'session'], ['most', 'people', 'complete', 'the', 'co', 'sign', 'process', 'in', 'minutes'], ['what', 'do', 'i', 'need'], ['you', 'must', 'be', 'logged', 'in', 'with', 'your', 'own', 'unique', 'fsa', 'id', 'in', 'order', 'to', 'co', 'sign', 'the', 'applicant', 's', 'idr', 'request'], ['verified', 'fsa', 'id'], ['reference', 'number', 'co', 'sign', 'code'], ['the', 'idr', 'applicant', 's', 'ssn'], ['financial', 'information', 'note', 'only', 'if', 'you', 'file', 'income', 'taxes', 'separately', 'from', 'your', 'spouse']]\n",
      "[['what', 'is', 'co', 'signer'], ['co', 'signer', 'is', 'the', 'spouse', 'of', 'an', 'applicant', 'who', 'initiated', 'an', 'income', 'driven', 'repayment', 'plan', 'request'], ['as', 'co', 'signer', 'you', 'are', 'not', 'obligated', 'to', 'repay', 'this', 'loan', 'by', 'signing', 'borrower', 'idr', 'application'], ['the', 'idr', 'applicant', 'should', 'have', 'provided', 'you', 'with', 'reference', 'number', 'co', 'sign', 'code'], ['if', 'you', 'do', 'not', 'have', 'the', 'reference', 'number', 'co', 'sign', 'code'], ['contact', 'the', 'idr', 'applicant'], ['an', 'mail', 'containing', 'the', 'reference', 'number', 'co', 'sign', 'code', 'was', 'sent', 'to', 'him', 'or', 'her'], ['the', 'idr', 'applicant', 'can', 'also', 'access', 'the', 'reference', 'number', 'co', 'sign', 'code', 'by', 'logging', 'in', 'to', 'studentaid', 'gov', 'and', 'clicking', 'on', 'the', 'appropriate', 'link'], ['directions', 'to', 'access', 'the', 'reference', 'number', 'co', 'sign', 'code'], ['if', 'the', 'applicant', 'completed', 'an', 'income', 'driven', 'repayment', 'plan', 'request', 'that', 'was', 'not', 'part', 'of', 'direct', 'consolidation', 'loan', 'application'], ['he', 'or', 'she', 'will', 'click', 'on', 'income', 'driven', 'repayment', 'plan', 'requests', 'under', 'my', 'loan', 'documents', 'to', 'locate', 'and', 'provide', 'you', 'with', 'the', 'reference', 'number', 'you', 'need'], ['if', 'the', 'applicant', 'completed', 'an', 'income', 'driven', 'repayment', 'plan', 'request', 'as', 'part', 'of', 'direct', 'consolidation', 'loan', 'application'], ['he', 'or', 'she', 'will', 'click', 'on', 'direct', 'consolidation', 'loan', 'applications', 'under', 'my', 'loan', 'documents', 'to', 'locate', 'and', 'provide', 'you', 'with', 'the', 'co', 'sign', 'code', 'you', 'need'], ['co', 'sign', 'income', 'driven', 'repayment', 'idr', 'plan', 'request'], ['log', 'in', 'to', 'start'], ['who', 'should', 'complete', 'this'], ['spouse', 'of', 'an', 'applicant', 'who', 'initiated', 'an', 'income', 'driven', 'repayment', 'plan', 'request'], ['how', 'long', 'will', 'it', 'take'], ['the', 'entire', 'co', 'sign', 'process', 'must', 'be', 'completed', 'in', 'single', 'session'], ['most', 'people', 'complete', 'the', 'co', 'sign', 'process', 'in', 'minutes'], ['what', 'do', 'need'], ['you', 'must', 'be', 'logged', 'in', 'with', 'your', 'own', 'unique', 'fsa', 'id', 'in', 'order', 'to', 'co', 'sign', 'the', 'applicant', 'idr', 'request'], ['verified', 'fsa', 'id'], ['reference', 'number', 'co', 'sign', 'code'], ['the', 'idr', 'applicant', 'ssn'], ['financial', 'information', 'note', 'only', 'if', 'you', 'file', 'income', 'taxes', 'separately', 'from', 'your', 'spouse']]\n"
     ]
    }
   ],
   "source": [
    "from gensim.utils import tokenize\n",
    "from gensim.utils import simple_preprocess\n",
    "#Getting a list of spans per grounding document !!!!Confusion spans are the documents and the document is the corpora in gensim language\n",
    "#I'm only using documents that have been referenced to in the dialogue (which not all have) but for the further work I want user utterances which I won't have for some documents\n",
    "import pandas as pd\n",
    "\n",
    "docids_set = set(dialogue_dataset['doc_id'])\n",
    "docids = list(docids_set)\n",
    "\n",
    "#extract all the span texts for that doc id, !!!Index 0 is equal to sp_id = '1' and so forth!!!\n",
    "#doc ids constantly change\n",
    "# doc_id = 'Learn about personalized plates#3_0'\n",
    "doc_id = 'Co-sign Your Spouse\\'s Income-Driven Repayment Plan Application | Federal Student Aid#1_0'\n",
    "spans = span_texts_for_doc(doc_id)\n",
    "\n",
    "#this interprets hyphenated words with spaces as two words\n",
    "#TODO there is quite a few variations of how to tokenize and how to preprocess the text which might make quite a big difference\n",
    "#TODO try stemming and lemmatisation\n",
    "tokenized_spans_simple = [list(tokenize(span, lower=True)) for span in spans]\n",
    "print(tokenized_spans_simple)\n",
    "#process spans and remove unhelpful words, simple preprocess seems to do a good general job\n",
    "tokenized_spans_preprocessed = [list(simple_preprocess(span, deacc=True)) for span in spans]\n",
    "print(tokenized_spans_preprocessed)\n",
    "#TODO compare how the strings are different -> one thing I noticed is that there are not 's' as words hanging about in the simple preprocessing\n",
    "\n"
   ],
   "metadata": {
    "collapsed": false,
    "pycharm": {
     "name": "#%%\n"
    }
   }
  },
  {
   "cell_type": "markdown",
   "source": [
    "# Using Doc2Vec model\n",
    "to create a vector per doc (which is a span) given that I need to predict which spans are most relevant\n",
    "this seems better\n",
    "see https://radimrehurek.com/gensim/auto_examples/tutorials/run_doc2vec_lee.html#sphx-glr-auto-examples-tutorials-run-doc2vec-lee-py\n",
    "https://radimrehurek.com/gensim/models/doc2vec.html\n",
    "\n",
    "plan is to train a model on each document, first without adding the user's utterances to the span"
   ],
   "metadata": {
    "collapsed": false,
    "pycharm": {
     "name": "#%% md\n"
    }
   }
  },
  {
   "cell_type": "code",
   "execution_count": 4,
   "outputs": [],
   "source": [
    "from gensim.models.doc2vec import Doc2Vec, TaggedDocument\n",
    "\n",
    "tokenized_spans = tokenized_spans_preprocessed\n",
    "#tag is re-assigning an id to  each doc. I decided to use i+1 to match the tag the span has in the dataset\n",
    "#TODO check if I can add the docid to the tags and train  on all documents from the same domain\n",
    "training_docs = [TaggedDocument(doc, [i + 1]) for i, doc in enumerate(tokenized_spans)]\n",
    "# Check how to fine tuen the model https://radimrehurek.com/gensim/models/doc2vec.html\n",
    "model = Doc2Vec(training_docs, vector_size=10, window=4, min_count=1, workers=4, epochs=30)\n",
    "\n",
    "#TODO save models I like to disk (although this was amazingly quick)"
   ],
   "metadata": {
    "collapsed": false,
    "pycharm": {
     "name": "#%%\n"
    }
   }
  },
  {
   "cell_type": "markdown",
   "source": [
    "### Predict what span are grounding for the agents answer\n",
    "\n",
    "**Question**\n",
    "Do we need to predict the span that matches the users question? Or the spans that then are in the agents response\n",
    "I believe it's the later or probably all\n",
    "\n",
    "*I'm building my dataset adding spans used for the users question and the spans for the agent to the solution*\n",
    "\n",
    "**Question**\n",
    "Given that the dialogue dataset is not used for training, I'm assuming I can use it to see how this model performs. However as soon as I start to combine the user utterances to the document span than this will no longer be the case and I will have to use the validation test for evaluation."
   ],
   "metadata": {
    "collapsed": false,
    "pycharm": {
     "name": "#%% md\n"
    }
   }
  },
  {
   "cell_type": "code",
   "execution_count": 6,
   "outputs": [],
   "source": [
    "import pandas as pd\n",
    "\n",
    "dialogue_full_df = pd.DataFrame(data=dialogue_dataset)"
   ],
   "metadata": {
    "collapsed": false,
    "pycharm": {
     "name": "#%%\n"
    }
   }
  },
  {
   "cell_type": "code",
   "execution_count": 7,
   "outputs": [
    {
     "data": {
      "text/plain": "                                               doc_id  \\\n44  Co-sign Your Spouse's Income-Driven Repayment ...   \n28  Co-sign Your Spouse's Income-Driven Repayment ...   \n18  Co-sign Your Spouse's Income-Driven Repayment ...   \n45  Co-sign Your Spouse's Income-Driven Repayment ...   \n14  Co-sign Your Spouse's Income-Driven Repayment ...   \n\n                             dial_id                               rc_id  \\\n44  cf3cd3b2e35899f95cbe65913300891a  cf3cd3b2e35899f95cbe65913300891a_5   \n28  ffe6e4350a3783cf449839b8e96a35bc  ffe6e4350a3783cf449839b8e96a35bc_9   \n18  475064ee437d82e49a614ac9fc30f934  475064ee437d82e49a614ac9fc30f934_1   \n45  cf3cd3b2e35899f95cbe65913300891a  cf3cd3b2e35899f95cbe65913300891a_7   \n14  e41e73310cd72adc18ef0d4500bed86f  e41e73310cd72adc18ef0d4500bed86f_5   \n\n   turn_id                                     user_utterance user_sp_ids  \\\n44       5  What if I do not have a reference number to co...   [6, 7, 8]   \n28       9                     and what should i do to start?        [15]   \n18       1          who is the co-signer on a repayment plan?         [1]   \n45       7  Are there directions to access the reference n...         [9]   \n14       5  What if the applicant completed an IDR plan re...        [10]   \n\n   agent_sp_ids  \n44    [6, 7, 8]  \n28         [15]  \n18       [2, 3]  \n45          [9]  \n14         [11]  ",
      "text/html": "<div>\n<style scoped>\n    .dataframe tbody tr th:only-of-type {\n        vertical-align: middle;\n    }\n\n    .dataframe tbody tr th {\n        vertical-align: top;\n    }\n\n    .dataframe thead th {\n        text-align: right;\n    }\n</style>\n<table border=\"1\" class=\"dataframe\">\n  <thead>\n    <tr style=\"text-align: right;\">\n      <th></th>\n      <th>doc_id</th>\n      <th>dial_id</th>\n      <th>rc_id</th>\n      <th>turn_id</th>\n      <th>user_utterance</th>\n      <th>user_sp_ids</th>\n      <th>agent_sp_ids</th>\n    </tr>\n  </thead>\n  <tbody>\n    <tr>\n      <th>44</th>\n      <td>Co-sign Your Spouse's Income-Driven Repayment ...</td>\n      <td>cf3cd3b2e35899f95cbe65913300891a</td>\n      <td>cf3cd3b2e35899f95cbe65913300891a_5</td>\n      <td>5</td>\n      <td>What if I do not have a reference number to co...</td>\n      <td>[6, 7, 8]</td>\n      <td>[6, 7, 8]</td>\n    </tr>\n    <tr>\n      <th>28</th>\n      <td>Co-sign Your Spouse's Income-Driven Repayment ...</td>\n      <td>ffe6e4350a3783cf449839b8e96a35bc</td>\n      <td>ffe6e4350a3783cf449839b8e96a35bc_9</td>\n      <td>9</td>\n      <td>and what should i do to start?</td>\n      <td>[15]</td>\n      <td>[15]</td>\n    </tr>\n    <tr>\n      <th>18</th>\n      <td>Co-sign Your Spouse's Income-Driven Repayment ...</td>\n      <td>475064ee437d82e49a614ac9fc30f934</td>\n      <td>475064ee437d82e49a614ac9fc30f934_1</td>\n      <td>1</td>\n      <td>who is the co-signer on a repayment plan?</td>\n      <td>[1]</td>\n      <td>[2, 3]</td>\n    </tr>\n    <tr>\n      <th>45</th>\n      <td>Co-sign Your Spouse's Income-Driven Repayment ...</td>\n      <td>cf3cd3b2e35899f95cbe65913300891a</td>\n      <td>cf3cd3b2e35899f95cbe65913300891a_7</td>\n      <td>7</td>\n      <td>Are there directions to access the reference n...</td>\n      <td>[9]</td>\n      <td>[9]</td>\n    </tr>\n    <tr>\n      <th>14</th>\n      <td>Co-sign Your Spouse's Income-Driven Repayment ...</td>\n      <td>e41e73310cd72adc18ef0d4500bed86f</td>\n      <td>e41e73310cd72adc18ef0d4500bed86f_5</td>\n      <td>5</td>\n      <td>What if the applicant completed an IDR plan re...</td>\n      <td>[10]</td>\n      <td>[11]</td>\n    </tr>\n  </tbody>\n</table>\n</div>"
     },
     "execution_count": 7,
     "metadata": {},
     "output_type": "execute_result"
    }
   ],
   "source": [
    "#Code to get the dialogues for a doc id from the dialog set to do some manual inspections\n",
    "dialogue_eval_df = pd.DataFrame(columns=['doc_id', 'dial_id', 'rc_id', 'turn_id', 'user_utterance', 'user_sp_ids',\n",
    "                                         'agent_sp_ids'])\n",
    "\n",
    "#using df as dataset is way too slow to do this\n",
    "dialogues_for_doc = dialogue_full_df.loc[dialogue_full_df['doc_id'] == doc_id]\n",
    "\n",
    "#resetting all variables\n",
    "user_turn_index = 0\n",
    "user_utterance = ''\n",
    "user_sps = []\n",
    "turn_id = ''\n",
    "agent_sps = []\n",
    "role = ''\n",
    "dial_id = ''\n",
    "rc_id = ''\n",
    "first_user = True\n",
    "#for all list of turns in each dialogue\n",
    "for dialogue_index, turns in enumerate(dialogues_for_doc['turns']):\n",
    "\n",
    "    #for each turn in a dialogue\n",
    "    for turn in turns:\n",
    "        role = turn['role']\n",
    "\n",
    "        # for the very first user role only\n",
    "        if role == 'user' and first_user == True:\n",
    "            turn_id = turn['turn_id']\n",
    "            user_utterance =turn['utterance']\n",
    "            user_sps = [ref['sp_id'] for ref in turn['references']]\n",
    "            dial_id = dialogues_for_doc.iloc[dialogue_index]['dial_id']\n",
    "            rc_id = dial_id + '_'+ str(turn_id)\n",
    "            first_user = False\n",
    "        elif role == 'user' and first_user == False:\n",
    "            # we've come to the next user turn\n",
    "            #write previous user's row before overwriting it with this users data\n",
    "            dialogue_eval_df.loc[user_turn_index] = [doc_id, dial_id, rc_id, turn_id, user_utterance, user_sps, agent_sps]\n",
    "            #remember this user's data\n",
    "            user_utterance = turn['utterance']\n",
    "            turn_id = turn['turn_id']\n",
    "            user_sps = [ref['sp_id'] for ref in turn['references']]\n",
    "            dial_id = dialogues_for_doc.iloc[dialogue_index]['dial_id']\n",
    "            rc_id = dial_id + '_'+ str(turn_id)\n",
    "            #reset for next row\n",
    "            agent_sps = []\n",
    "            user_turn_index += 1\n",
    "        elif role == 'agent':\n",
    "            #gather agent spans but don't write the row just yet\n",
    "            agent_sps.extend([ref['sp_id'] for ref in turn['references']])\n",
    "\n",
    "#write the last line to the dataframe if the last dialogue's turn ended with an agent\n",
    "if role == 'agent':\n",
    "    dialogue_eval_df.loc[user_turn_index] = [doc_id, dial_id, rc_id, turn_id, user_utterance, user_sps, agent_sps]\n",
    "\n",
    "\n",
    "dialogue_eval_df.sample(n=5)"
   ],
   "metadata": {
    "collapsed": false,
    "pycharm": {
     "name": "#%%\n"
    }
   }
  },
  {
   "cell_type": "code",
   "execution_count": 8,
   "outputs": [
    {
     "name": "stdout",
     "output_type": "stream",
     "text": [
      "Labeled data result for user utterance \"II'm going to be co-signing a federal aid loan for my wife and I need some more information about how it works.\": user sp ids: ['1'] and following agent spans: ['2', '3']\n",
      "\n",
      "Model predictions:\n",
      "\n",
      "MOST (13, 0.7868408560752869): [13] «he or she will click on direct consolidation loan applications under my loan documents to locate and provide you with the co sign code you need»\n",
      "SECOND-MOST (14, 0.750001847743988): [14] «co sign income driven repayment idr plan request»\n",
      "THIRD-MOST (6, 0.7490072250366211): [6] «contact the idr applicant»\n",
      "FOURTH-MOST (15, 0.692875862121582): [15] «log in to start»\n",
      "MEDIAN (5, 0.12346689403057098): [5] «if you do not have the reference number co sign code»\n",
      "LEAST (0, -0.4702322483062744): [26] «financial information note only if you file income taxes separately from your spouse»\n",
      "\n",
      "Spans that should have been selected based on gold labels are:\n",
      "User label 1 (1, 0.5984863042831421): [1] «what is co signer»\n",
      "Agent label 2 (2, -0.2946000397205353): [2] «co signer is the spouse of an applicant who initiated an income driven repayment plan request»\n",
      "Agent label 3 (3, 0.34127432107925415): [3] «as co signer you are not obligated to repay this loan by signing borrower idr application»\n"
     ]
    }
   ],
   "source": [
    "#some manual playing\n",
    "\n",
    "# manual_test = 'What plate combinations are restricted?'\n",
    "#manual_test = 'How much do personalized plates cost?'\n",
    "# manual_test = 'Can I use personalized plates on any type of vehicle?'\n",
    "manual_test = 'II\\'m going to be co-signing a federal aid loan for my wife and I need some more information about how it works.'\n",
    "\n",
    "#same preprocessing\n",
    "manual_test_doc = simple_preprocess(manual_test, deacc=True)\n",
    "vector = model.infer_vector(manual_test_doc)\n",
    "sims = model.dv.most_similar([vector], topn=len(model.dv))\n",
    "sims_dic = dict(sims)\n",
    "\n",
    "labeled_results = dialogue_eval_df.loc[dialogue_eval_df['user_utterance'] == manual_test]\n",
    "gold_user_sps = list(labeled_results['user_sp_ids'])[0]\n",
    "gold_agent_sps = list(labeled_results['agent_sp_ids'])[0]\n",
    "\n",
    "print(\n",
    "    f'Labeled data result for user utterance \"{manual_test}\": user sp ids: {gold_user_sps} and following agent spans: {gold_agent_sps}\\n')\n",
    "\n",
    "print('Model predictions:\\n')\n",
    "for label, index in [('MOST', 0), ('SECOND-MOST', 1), ('THIRD-MOST', 2), ('FOURTH-MOST', 3), ('MEDIAN', len(sims) // 2),\n",
    "                     ('LEAST', len(sims) - 1)]:\n",
    "    #remember that the indexing of the raining doc starts at 0 but the one of the sp_ids at 1!!!!!\n",
    "    training_doc = training_docs[sims[index][0] - 1]\n",
    "    print(u'%s %s: %s «%s»' % (label, sims[index], training_doc.tags, ' '.join(training_doc.words)))\n",
    "\n",
    "print('\\nSpans that should have been selected based on gold labels are:')\n",
    "for gold_label in gold_user_sps:\n",
    "    gi = int(gold_label)\n",
    "    #carefull with using tag to look up in list as lists start with 0 index and tags with 1!!!!\n",
    "    training_doc = training_docs[gi - 1]\n",
    "    text = ' '.join(training_doc.words)\n",
    "    tag = training_doc.tags\n",
    "    print(f'User label {gold_label} ({gi}, {sims_dic[gi]}): {tag} «{text}»')\n",
    "\n",
    "for gold_label in gold_agent_sps:\n",
    "    gi = int(gold_label)\n",
    "    #carefull with using tag to look up in list as lists start with 0 index and tags with 1!!!!\n",
    "    training_doc = training_docs[gi - 1]\n",
    "    text = ' '.join(training_doc.words)\n",
    "    tag = training_doc.tags\n",
    "    print(f'Agent label {gold_label} ({gi}, {sims_dic[gi]}): {tag} «{text}»')\n"
   ],
   "metadata": {
    "collapsed": false,
    "pycharm": {
     "name": "#%%\n"
    }
   }
  },
  {
   "cell_type": "markdown",
   "source": [
    "#  Manual Evaluation\n"
   ],
   "metadata": {
    "collapsed": false
   }
  },
  {
   "cell_type": "code",
   "execution_count": 9,
   "outputs": [
    {
     "name": "stdout",
     "output_type": "stream",
     "text": [
      "{'predictions': {'id': Value(dtype='string', id=None), 'prediction_text': Value(dtype='string', id=None), 'no_answer_probability': Value(dtype='float32', id=None)}, 'references': {'id': Value(dtype='string', id=None), 'answers': Sequence(feature={'text': Value(dtype='string', id=None), 'answer_start': Value(dtype='int32', id=None)}, length=-1, id=None)}}\n"
     ]
    },
    {
     "data": {
      "text/plain": "{'exact': 0.0,\n 'f1': 11.11111111111111,\n 'total': 1,\n 'HasAns_exact': 0.0,\n 'HasAns_f1': 11.11111111111111,\n 'HasAns_total': 1,\n 'best_exact': 0.0,\n 'best_exact_thresh': 0.0,\n 'best_f1': 11.11111111111111,\n 'best_f1_thresh': 0.0}"
     },
     "execution_count": 9,
     "metadata": {},
     "output_type": "execute_result"
    }
   ],
   "source": [
    "#Figure out how to deal with the squad_v2 metrics\n",
    "from datasets import load_metric\n",
    "\n",
    "metric = load_metric(\"squad_v2\")\n",
    "print(metric.features)\n",
    "\n",
    "prediction = {'id': '0',\n",
    "              'prediction_text': 'contact the idr applicant',\n",
    "              'no_answer_probability': 0.0}\n",
    "reference = {'id': '0', 'answers': {'text': ['what is co signer co singer is the spouse of an applicant who initiated an income driven repayment plan request as a co singer you are not obligated to repay this loan by signing borrower idr application '\n",
    "                                        ],\n",
    "                                    'answer_start': [1]}}\n",
    "metric.add(prediction=prediction, reference=reference)\n",
    "final_score = metric.compute()\n",
    "final_score"
   ],
   "metadata": {
    "collapsed": false,
    "pycharm": {
     "name": "#%%\n"
    }
   }
  },
  {
   "cell_type": "markdown",
   "source": [
    "# Simplest prediction using rc dataset questions"
   ],
   "metadata": {
    "collapsed": false,
    "pycharm": {
     "name": "#%% md\n"
    }
   }
  },
  {
   "cell_type": "code",
   "execution_count": 11,
   "outputs": [
    {
     "name": "stderr",
     "output_type": "stream",
     "text": [
      "Reusing dataset doc2dial (./data_cache_doc2vec_notebook/doc2dial/doc2dial_rc/1.0.1/765cb4d9af421b599d910080fd61b4a43440c1232693876470ef3245daa5fa4c)\n"
     ]
    },
    {
     "data": {
      "text/plain": "                                        id  \\\n10908   3b0686e711a17da81d614a0d676f5a7a_4   \n12492  48cd2b341259439812cee811c69fef97_14   \n15195   1a0705c2a86bb3ae2734bc10f383808f_4   \n12872   73ffd9b1e0ea5291d12c45c8f253d9ec_4   \n7710   bf48f124429123164ef5c509c6c8df7e_10   \n\n                                                   title  \\\n10908  Change Your VA Direct Deposit Information | Ve...   \n12492         VA Pension Benefits | Veterans Affairs#1_0   \n15195  Reserve Educational Assistance Program (REAP) ...   \n12872  Montgomery GI Bill Active Duty (MGIB-AD) | Vet...   \n7710   Disability Benefits | Social Security Administ...   \n\n                                                 context  \\\n10908  \\n\\nChange your VA direct deposit information ...   \n12492  \\n\\nVA pension benefits \\nVA pension benefits ...   \n15195  \\n\\nReserve Educational Assistance Program (RE...   \n12872  \\n\\nMontgomery GI Bill Active Duty (MGIB-AD) \\...   \n7710   \\n\\nDisability Benefits \\nLearn about Disabili...   \n\n                                                question  \\\n10908  user:Can I change the type of account I have t...   \n12492  user:is there a number for the online help? \\t...   \n15195  user:yes \\tagent:How does it affect me that RE...   \n12872  user:Yes, I have done some research and I thin...   \n7710   user:What information will I need to give? \\ta...   \n\n                                                 answers domain  \n10908  {'text': ['you'll need a Premium DS Logon acco...     va  \n12492  {'text': ['Support for current pension benefic...     va  \n15195  {'text': ['Find the description below that bes...     va  \n12872  {'text': ['you ll need to decide which to rece...     va  \n7710   {'text': ['Your date and place of birth and So...    ssa  ",
      "text/html": "<div>\n<style scoped>\n    .dataframe tbody tr th:only-of-type {\n        vertical-align: middle;\n    }\n\n    .dataframe tbody tr th {\n        vertical-align: top;\n    }\n\n    .dataframe thead th {\n        text-align: right;\n    }\n</style>\n<table border=\"1\" class=\"dataframe\">\n  <thead>\n    <tr style=\"text-align: right;\">\n      <th></th>\n      <th>id</th>\n      <th>title</th>\n      <th>context</th>\n      <th>question</th>\n      <th>answers</th>\n      <th>domain</th>\n    </tr>\n  </thead>\n  <tbody>\n    <tr>\n      <th>10908</th>\n      <td>3b0686e711a17da81d614a0d676f5a7a_4</td>\n      <td>Change Your VA Direct Deposit Information | Ve...</td>\n      <td>\\n\\nChange your VA direct deposit information ...</td>\n      <td>user:Can I change the type of account I have t...</td>\n      <td>{'text': ['you'll need a Premium DS Logon acco...</td>\n      <td>va</td>\n    </tr>\n    <tr>\n      <th>12492</th>\n      <td>48cd2b341259439812cee811c69fef97_14</td>\n      <td>VA Pension Benefits | Veterans Affairs#1_0</td>\n      <td>\\n\\nVA pension benefits \\nVA pension benefits ...</td>\n      <td>user:is there a number for the online help? \\t...</td>\n      <td>{'text': ['Support for current pension benefic...</td>\n      <td>va</td>\n    </tr>\n    <tr>\n      <th>15195</th>\n      <td>1a0705c2a86bb3ae2734bc10f383808f_4</td>\n      <td>Reserve Educational Assistance Program (REAP) ...</td>\n      <td>\\n\\nReserve Educational Assistance Program (RE...</td>\n      <td>user:yes \\tagent:How does it affect me that RE...</td>\n      <td>{'text': ['Find the description below that bes...</td>\n      <td>va</td>\n    </tr>\n    <tr>\n      <th>12872</th>\n      <td>73ffd9b1e0ea5291d12c45c8f253d9ec_4</td>\n      <td>Montgomery GI Bill Active Duty (MGIB-AD) | Vet...</td>\n      <td>\\n\\nMontgomery GI Bill Active Duty (MGIB-AD) \\...</td>\n      <td>user:Yes, I have done some research and I thin...</td>\n      <td>{'text': ['you ll need to decide which to rece...</td>\n      <td>va</td>\n    </tr>\n    <tr>\n      <th>7710</th>\n      <td>bf48f124429123164ef5c509c6c8df7e_10</td>\n      <td>Disability Benefits | Social Security Administ...</td>\n      <td>\\n\\nDisability Benefits \\nLearn about Disabili...</td>\n      <td>user:What information will I need to give? \\ta...</td>\n      <td>{'text': ['Your date and place of birth and So...</td>\n      <td>ssa</td>\n    </tr>\n  </tbody>\n</table>\n</div>"
     },
     "execution_count": 11,
     "metadata": {},
     "output_type": "execute_result"
    }
   ],
   "source": [
    "# load the rc_dataset\n",
    "rc_dataset = load_dataset(\n",
    "    \"doc2dial\",\n",
    "    name=\"doc2dial_rc\",\n",
    "    split=split,\n",
    "    ignore_verifications=True,\n",
    "    cache_dir=cache_dir,\n",
    ")\n",
    "import pandas as pd\n",
    "\n",
    "rc_dataset_df = pd.DataFrame(data=rc_dataset)\n",
    "rc_dataset_df.sample(n=5)\n",
    "\n"
   ],
   "metadata": {
    "collapsed": false,
    "pycharm": {
     "name": "#%%\n"
    }
   }
  },
  {
   "cell_type": "code",
   "execution_count": 12,
   "outputs": [
    {
     "data": {
      "text/plain": "  0%|          | 0/21 [00:00<?, ?ba/s]",
      "application/vnd.jupyter.widget-view+json": {
       "version_major": 2,
       "version_minor": 0,
       "model_id": "2f25aed0b0004be08f02f51f4adfac8e"
      }
     },
     "metadata": {},
     "output_type": "display_data"
    },
    {
     "data": {
      "text/plain": "Dataset({\n    features: ['id', 'title', 'context', 'question', 'answers', 'domain'],\n    num_rows: 40\n})"
     },
     "execution_count": 12,
     "metadata": {},
     "output_type": "execute_result"
    }
   ],
   "source": [
    "# filter rc dataset to only contain the doc I've trained with\n",
    "# using the doc id to filter\n",
    "\n",
    "rc_dataset_doc_id = rc_dataset.filter(lambda doc: doc['title'] == doc_id)\n",
    "rc_dataset_doc_id"
   ],
   "metadata": {
    "collapsed": false,
    "pycharm": {
     "name": "#%%\n"
    }
   }
  },
  {
   "cell_type": "code",
   "execution_count": 15,
   "outputs": [
    {
     "name": "stdout",
     "output_type": "stream",
     "text": [
      "Question: user:II'm going to be co-signing a federal aid loan for my wife and I need some more information about how it works.\n",
      "\n",
      "processed words: ['log', 'in', 'to', 'start']\n",
      "\n",
      "Original words: LOG IN TO START \n",
      "\n",
      "Question: user:Does it matter that the Income-Driven Repayment Plan Request was done as part of a Direct Consolidation Loan Application? \tuser:No. I'm not sure how it works. \tagent:Are you aware of your obligations to repay as the co-signer? \tagent:I can help you with that. A co-signer is the spouse of an applicant who initiated an Income-Driven Repayment Plan Request.  \tuser:II'm going to be co-signing a federal aid loan for my wife and I need some more information about how it works.\n",
      "\n",
      "processed words: ['contact', 'the', 'idr', 'applicant']\n",
      "\n",
      "Original words: contact the IDR applicant. \n",
      "\n",
      "Question: user:Who all can co-sign for this? \tagent:No. Your wife will just have to click on \"Direct Consolidations Loan Applications\" under \"My Loan Documents\" to find the co-sign code, you will need. \tuser:Does it matter that the Income-Driven Repayment Plan Request was done as part of a Direct Consolidation Loan Application? \tuser:No. I'm not sure how it works. \tagent:Are you aware of your obligations to repay as the co-signer? \tagent:I can help you with that. A co-signer is the spouse of an applicant who initiated an Income-Driven Repayment Plan Request.  \tuser:II'm going to be co-signing a federal aid loan for my wife and I need some more information about how it works.\n",
      "\n",
      "processed words: ['he', 'or', 'she', 'will', 'click', 'on', 'direct', 'consolidation', 'loan', 'applications', 'under', 'my', 'loan', 'documents', 'to', 'locate', 'and', 'provide', 'you', 'with', 'the', 'co', 'sign', 'code', 'you', 'need']\n",
      "\n",
      "Original words: he or she will click on \" Direct Consolidation Loan Applications \" under \" My Loan Documents \" to locate and provide you with the Co - sign Code you need. \n",
      "\n",
      "Question: user:Do I need a Financial Information Note when I co-sign? \tagent:Only the spouse of an applicant that initiated an Income-Driven Repayment Request. \tuser:Who all can co-sign for this? \tagent:No. Your wife will just have to click on \"Direct Consolidations Loan Applications\" under \"My Loan Documents\" to find the co-sign code, you will need. \tuser:Does it matter that the Income-Driven Repayment Plan Request was done as part of a Direct Consolidation Loan Application? \tuser:No. I'm not sure how it works. \tagent:Are you aware of your obligations to repay as the co-signer? \tagent:I can help you with that. A co-signer is the spouse of an applicant who initiated an Income-Driven Repayment Plan Request.  \tuser:II'm going to be co-signing a federal aid loan for my wife and I need some more information about how it works.\n",
      "\n",
      "processed words: ['he', 'or', 'she', 'will', 'click', 'on', 'direct', 'consolidation', 'loan', 'applications', 'under', 'my', 'loan', 'documents', 'to', 'locate', 'and', 'provide', 'you', 'with', 'the', 'co', 'sign', 'code', 'you', 'need']\n",
      "\n",
      "Original words: he or she will click on \" Direct Consolidation Loan Applications \" under \" My Loan Documents \" to locate and provide you with the Co - sign Code you need. \n",
      "\n"
     ]
    },
    {
     "data": {
      "text/plain": "{'exact': 7.5,\n 'f1': 18.575694774800162,\n 'total': 40,\n 'HasAns_exact': 7.5,\n 'HasAns_f1': 18.575694774800162,\n 'HasAns_total': 40,\n 'best_exact': 7.5,\n 'best_exact_thresh': 0.0,\n 'best_f1': 18.575694774800162,\n 'best_f1_thresh': 0.0}"
     },
     "execution_count": 15,
     "metadata": {},
     "output_type": "execute_result"
    }
   ],
   "source": [
    "#now lets try to use the rc dataset to do the predictions\n",
    "#simple infer vector for the question and use the most frequent response as response\n",
    "predictions = []\n",
    "references = []\n",
    "print_number_of_examples = 4\n",
    "for example in rc_dataset_doc_id:\n",
    "    question_ = example[\"question\"]\n",
    "    # it does better if the user and agent string are left\n",
    "    # question_ = question_.replace('user:', '')\n",
    "    # question_ = question_.replace('agent:', '')\n",
    "\n",
    "    #preprocess question in the same way\n",
    "    test_doc = simple_preprocess(question_, deacc=True)\n",
    "    #calculate vector using model\n",
    "    vector = model.infer_vector(test_doc)\n",
    "    #find the most similar document (spans)\n",
    "    sims = model.dv.most_similar([vector], topn=1)\n",
    "    most_likely_answer = training_docs[sims[0][0] - 1]\n",
    "    most_likely_predicted_tag = most_likely_answer.tags\n",
    "    #find original text for tag\n",
    "    most_likely_predicted_text = spans[most_likely_predicted_tag[0]-1]\n",
    "    if print_number_of_examples > 0:\n",
    "        print_number_of_examples -= 1\n",
    "        print(f'Question: {question_}\\n')\n",
    "        print(f'processed words: {most_likely_answer.words}\\n')\n",
    "        print(f'Original words: {most_likely_predicted_text}\\n')\n",
    "\n",
    "    id_ = example[\"id\"]\n",
    "    predictions.append(\n",
    "        {'id': id_,\n",
    "         'prediction_text':\n",
    "             most_likely_predicted_text,\n",
    "         'no_answer_probability': 0.0\n",
    "         }\n",
    "    )\n",
    "\n",
    "    #just using their answers\n",
    "    references.append(\n",
    "        {\n",
    "            \"id\": id_,\n",
    "            \"answers\": example[\"answers\"],\n",
    "        }\n",
    "    )\n",
    "\n",
    "metric.add_batch(predictions=predictions, references=references)\n",
    "final_score = metric.compute()\n",
    "final_score\n"
   ],
   "metadata": {
    "collapsed": false,
    "pycharm": {
     "name": "#%%\n"
    }
   }
  },
  {
   "cell_type": "code",
   "execution_count": null,
   "outputs": [],
   "source": [
    "\n",
    "d_id_reference = {}\n",
    "for ex in rc_dataset:\n",
    "    d_id_reference[ex[\"id\"]] = 0\n",
    "    references.append(\n",
    "        {\n",
    "            \"id\": ex[\"id\"],\n",
    "            \"answers\": ex[\"answers\"],\n",
    "        }\n",
    "    )\n",
    "assert (\n",
    "        len(references)\n",
    "        == len(d_id_reference)\n",
    "), \"Ensure the matching count of instances of references and predictioins\"\n",
    "\n",
    "references"
   ],
   "metadata": {
    "collapsed": false,
    "pycharm": {
     "name": "#%%\n"
    }
   }
  },
  {
   "cell_type": "markdown",
   "source": [
    "# Questions\n",
    "\n",
    "- How to evaluate an F1 if it's not a classifier?\n",
    "- What data set should we use to train and which one to test?\n",
    "- Evaluation why does the rc data set not have all the questions from the dialogues?\n",
    "- Many mistakes are due to spans being so small, what was the sense behind that and do we have to  use their spans or would\n",
    "it make more sense to keep a paragraph together?\n",
    "\n",
    "- how to improve training e.g should I train accross all documents\n",
    "- improve accross domain?\n",
    "\n"
   ],
   "metadata": {
    "collapsed": false,
    "pycharm": {
     "name": "#%% md\n"
    }
   }
  }
 ],
 "metadata": {
  "kernelspec": {
   "display_name": "Python 3",
   "language": "python",
   "name": "python3"
  },
  "language_info": {
   "codemirror_mode": {
    "name": "ipython",
    "version": 2
   },
   "file_extension": ".py",
   "mimetype": "text/x-python",
   "name": "python",
   "nbconvert_exporter": "python",
   "pygments_lexer": "ipython2",
   "version": "2.7.6"
  }
 },
 "nbformat": 4,
 "nbformat_minor": 0
}