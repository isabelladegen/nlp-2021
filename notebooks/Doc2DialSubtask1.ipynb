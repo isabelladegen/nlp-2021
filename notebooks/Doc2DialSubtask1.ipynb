{
 "cells": [
  {
   "cell_type": "markdown",
   "metadata": {
    "collapsed": true,
    "pycharm": {
     "name": "#%% md\n"
    }
   },
   "source": [
    "# Load Dataset\n",
    "\n",
    "https://huggingface.co/datasets/doc2dial#data-fields\n"
   ]
  },
  {
   "cell_type": "code",
   "execution_count": 83,
   "outputs": [
    {
     "name": "stdout",
     "output_type": "stream",
     "text": [
      "Downloading and preparing dataset doc2dial/dialogue_domain (download: 5.61 MiB, generated: 7.86 MiB, post-processed: Unknown size, total: 13.47 MiB) to ./data_cache_doc2vec_notebook/doc2dial/dialogue_domain/1.0.1/765cb4d9af421b599d910080fd61b4a43440c1232693876470ef3245daa5fa4c...\n"
     ]
    },
    {
     "data": {
      "text/plain": "Downloading:   0%|          | 0.00/5.88M [00:00<?, ?B/s]",
      "application/vnd.jupyter.widget-view+json": {
       "version_major": 2,
       "version_minor": 0,
       "model_id": "383bb1cae0694b0ba8ee63e58c6aa38f"
      }
     },
     "metadata": {},
     "output_type": "display_data"
    },
    {
     "data": {
      "text/plain": "0 examples [00:00, ? examples/s]",
      "application/vnd.jupyter.widget-view+json": {
       "version_major": 2,
       "version_minor": 0,
       "model_id": "a34183c2f7464d0d80bdb5fafd8ac7cc"
      }
     },
     "metadata": {},
     "output_type": "display_data"
    },
    {
     "data": {
      "text/plain": "0 examples [00:00, ? examples/s]",
      "application/vnd.jupyter.widget-view+json": {
       "version_major": 2,
       "version_minor": 0,
       "model_id": "0612752bf96043b28dd6e945f76950a9"
      }
     },
     "metadata": {},
     "output_type": "display_data"
    },
    {
     "name": "stdout",
     "output_type": "stream",
     "text": [
      "Dataset doc2dial downloaded and prepared to ./data_cache_doc2vec_notebook/doc2dial/dialogue_domain/1.0.1/765cb4d9af421b599d910080fd61b4a43440c1232693876470ef3245daa5fa4c. Subsequent calls will reuse this data.\n",
      "Downloading and preparing dataset doc2dial/document_domain (download: 5.61 MiB, generated: 195.38 MiB, post-processed: Unknown size, total: 200.99 MiB) to ./data_cache_doc2vec_notebook/doc2dial/document_domain/1.0.1/765cb4d9af421b599d910080fd61b4a43440c1232693876470ef3245daa5fa4c...\n"
     ]
    },
    {
     "data": {
      "text/plain": "0 examples [00:00, ? examples/s]",
      "application/vnd.jupyter.widget-view+json": {
       "version_major": 2,
       "version_minor": 0,
       "model_id": "50be775daf5f45348d01297d945802a7"
      }
     },
     "metadata": {},
     "output_type": "display_data"
    },
    {
     "name": "stdout",
     "output_type": "stream",
     "text": [
      "Dataset doc2dial downloaded and prepared to ./data_cache_doc2vec_notebook/doc2dial/document_domain/1.0.1/765cb4d9af421b599d910080fd61b4a43440c1232693876470ef3245daa5fa4c. Subsequent calls will reuse this data.\n"
     ]
    }
   ],
   "source": [
    "from datasets import load_dataset\n",
    "\n",
    "split = \"train\"\n",
    "cache_dir = \"./data_cache_doc2vec_notebook\"\n",
    "\n",
    "#User's turn: utterance= question, reference=grounding document span_id, can be empty, \"precondition\"/\"solution\" are the\n",
    "#actual grounding spans\n",
    "#Gold label for grounding\n",
    "dialogue_dataset = load_dataset(\n",
    "    \"doc2dial\",\n",
    "    name=\"dialogue_domain\",  # this is the name of the dataset for the second subtask, dialog generation\n",
    "    split=split,\n",
    "    ignore_verifications=True,\n",
    "    cache_dir=cache_dir,\n",
    ")\n",
    "\n",
    "document_dataset = load_dataset(\n",
    "    \"doc2dial\",\n",
    "    name=\"document_domain\",\n",
    "    split=split,\n",
    "    ignore_verifications=True,\n",
    "    cache_dir=cache_dir,\n",
    ")"
   ],
   "metadata": {
    "collapsed": false,
    "pycharm": {
     "name": "#%%\n"
    }
   }
  },
  {
   "cell_type": "markdown",
   "source": [
    "Insights from looking at the data structure:\n",
    "For training I will need the following data:\n",
    "From Dialogue:\n",
    "doc_id - Grounding document\n",
    "turns.utterance -> Dialogue history\n",
    "references.sp_id -> ID for the output text_sp\n",
    "\n",
    "From Documents:\n",
    "To get output span:\n",
    "doc_id -> spans -> id_sp -> text_sp column is the actual output span\n"
   ],
   "metadata": {
    "collapsed": false
   }
  },
  {
   "cell_type": "markdown",
   "source": [
    "# Embedding with Gensim dense vectors\n",
    "\n",
    "Hypothesis:\n",
    "1. Create embeddings for each span in each doc\n",
    "2. Create embeddings for each span combined with the user's question\n",
    "    - think about if the agent's span should also be included\n",
    "\n",
    "Further:\n",
    "- think about training on a whole domain vs one document"
   ],
   "metadata": {
    "collapsed": false,
    "pycharm": {
     "name": "#%% md\n"
    }
   }
  },
  {
   "cell_type": "code",
   "execution_count": 84,
   "outputs": [],
   "source": [
    "def span_texts_for_doc(doc_id):\n",
    "    document = document_dataset.filter(lambda doc: doc['doc_id'] == doc_id)\n",
    "    return [pd.json_normalize(span) for span in document['spans']][0]['text_sp']"
   ],
   "metadata": {
    "collapsed": false,
    "pycharm": {
     "name": "#%%\n"
    }
   }
  },
  {
   "cell_type": "code",
   "execution_count": 94,
   "outputs": [
    {
     "data": {
      "text/plain": "  0%|          | 0/1 [00:00<?, ?ba/s]",
      "application/vnd.jupyter.widget-view+json": {
       "version_major": 2,
       "version_minor": 0,
       "model_id": "63d6a060f0954a52990a6a5120b3fd43"
      }
     },
     "metadata": {},
     "output_type": "display_data"
    },
    {
     "name": "stdout",
     "output_type": "stream",
     "text": [
      "[['what', 'is', 'a', 'co', 'signer'], ['a', 'co', 'signer', 'is', 'the', 'spouse', 'of', 'an', 'applicant', 'who', 'initiated', 'an', 'income', 'driven', 'repayment', 'plan', 'request'], ['as', 'a', 'co', 'signer', 'you', 'are', 'not', 'obligated', 'to', 'repay', 'this', 'loan', 'by', 'signing', 'a', 'borrower', 's', 'idr', 'application'], ['the', 'idr', 'applicant', 'should', 'have', 'provided', 'you', 'with', 'a', 'reference', 'number', 'co', 'sign', 'code'], ['if', 'you', 'do', 'not', 'have', 'the', 'reference', 'number', 'co', 'sign', 'code'], ['contact', 'the', 'idr', 'applicant'], ['an', 'e', 'mail', 'containing', 'the', 'reference', 'number', 'co', 'sign', 'code', 'was', 'sent', 'to', 'him', 'or', 'her'], ['the', 'idr', 'applicant', 'can', 'also', 'access', 'the', 'reference', 'number', 'co', 'sign', 'code', 'by', 'logging', 'in', 'to', 'studentaid', 'gov', 'and', 'clicking', 'on', 'the', 'appropriate', 'link'], ['directions', 'to', 'access', 'the', 'reference', 'number', 'co', 'sign', 'code'], ['if', 'the', 'applicant', 'completed', 'an', 'income', 'driven', 'repayment', 'plan', 'request', 'that', 'was', 'not', 'part', 'of', 'a', 'direct', 'consolidation', 'loan', 'application'], ['he', 'or', 'she', 'will', 'click', 'on', 'income', 'driven', 'repayment', 'plan', 'requests', 'under', 'my', 'loan', 'documents', 'to', 'locate', 'and', 'provide', 'you', 'with', 'the', 'reference', 'number', 'you', 'need'], ['if', 'the', 'applicant', 'completed', 'an', 'income', 'driven', 'repayment', 'plan', 'request', 'as', 'part', 'of', 'a', 'direct', 'consolidation', 'loan', 'application'], ['he', 'or', 'she', 'will', 'click', 'on', 'direct', 'consolidation', 'loan', 'applications', 'under', 'my', 'loan', 'documents', 'to', 'locate', 'and', 'provide', 'you', 'with', 'the', 'co', 'sign', 'code', 'you', 'need'], ['co', 'sign', 'income', 'driven', 'repayment', 'idr', 'plan', 'request'], ['log', 'in', 'to', 'start'], ['who', 'should', 'complete', 'this'], ['spouse', 'of', 'an', 'applicant', 'who', 'initiated', 'an', 'income', 'driven', 'repayment', 'plan', 'request'], ['how', 'long', 'will', 'it', 'take'], ['the', 'entire', 'co', 'sign', 'process', 'must', 'be', 'completed', 'in', 'a', 'single', 'session'], ['most', 'people', 'complete', 'the', 'co', 'sign', 'process', 'in', 'minutes'], ['what', 'do', 'i', 'need'], ['you', 'must', 'be', 'logged', 'in', 'with', 'your', 'own', 'unique', 'fsa', 'id', 'in', 'order', 'to', 'co', 'sign', 'the', 'applicant', 's', 'idr', 'request'], ['verified', 'fsa', 'id'], ['reference', 'number', 'co', 'sign', 'code'], ['the', 'idr', 'applicant', 's', 'ssn'], ['financial', 'information', 'note', 'only', 'if', 'you', 'file', 'income', 'taxes', 'separately', 'from', 'your', 'spouse']]\n",
      "[['what', 'is', 'co', 'signer'], ['co', 'signer', 'is', 'the', 'spouse', 'of', 'an', 'applicant', 'who', 'initiated', 'an', 'income', 'driven', 'repayment', 'plan', 'request'], ['as', 'co', 'signer', 'you', 'are', 'not', 'obligated', 'to', 'repay', 'this', 'loan', 'by', 'signing', 'borrower', 'idr', 'application'], ['the', 'idr', 'applicant', 'should', 'have', 'provided', 'you', 'with', 'reference', 'number', 'co', 'sign', 'code'], ['if', 'you', 'do', 'not', 'have', 'the', 'reference', 'number', 'co', 'sign', 'code'], ['contact', 'the', 'idr', 'applicant'], ['an', 'mail', 'containing', 'the', 'reference', 'number', 'co', 'sign', 'code', 'was', 'sent', 'to', 'him', 'or', 'her'], ['the', 'idr', 'applicant', 'can', 'also', 'access', 'the', 'reference', 'number', 'co', 'sign', 'code', 'by', 'logging', 'in', 'to', 'studentaid', 'gov', 'and', 'clicking', 'on', 'the', 'appropriate', 'link'], ['directions', 'to', 'access', 'the', 'reference', 'number', 'co', 'sign', 'code'], ['if', 'the', 'applicant', 'completed', 'an', 'income', 'driven', 'repayment', 'plan', 'request', 'that', 'was', 'not', 'part', 'of', 'direct', 'consolidation', 'loan', 'application'], ['he', 'or', 'she', 'will', 'click', 'on', 'income', 'driven', 'repayment', 'plan', 'requests', 'under', 'my', 'loan', 'documents', 'to', 'locate', 'and', 'provide', 'you', 'with', 'the', 'reference', 'number', 'you', 'need'], ['if', 'the', 'applicant', 'completed', 'an', 'income', 'driven', 'repayment', 'plan', 'request', 'as', 'part', 'of', 'direct', 'consolidation', 'loan', 'application'], ['he', 'or', 'she', 'will', 'click', 'on', 'direct', 'consolidation', 'loan', 'applications', 'under', 'my', 'loan', 'documents', 'to', 'locate', 'and', 'provide', 'you', 'with', 'the', 'co', 'sign', 'code', 'you', 'need'], ['co', 'sign', 'income', 'driven', 'repayment', 'idr', 'plan', 'request'], ['log', 'in', 'to', 'start'], ['who', 'should', 'complete', 'this'], ['spouse', 'of', 'an', 'applicant', 'who', 'initiated', 'an', 'income', 'driven', 'repayment', 'plan', 'request'], ['how', 'long', 'will', 'it', 'take'], ['the', 'entire', 'co', 'sign', 'process', 'must', 'be', 'completed', 'in', 'single', 'session'], ['most', 'people', 'complete', 'the', 'co', 'sign', 'process', 'in', 'minutes'], ['what', 'do', 'need'], ['you', 'must', 'be', 'logged', 'in', 'with', 'your', 'own', 'unique', 'fsa', 'id', 'in', 'order', 'to', 'co', 'sign', 'the', 'applicant', 'idr', 'request'], ['verified', 'fsa', 'id'], ['reference', 'number', 'co', 'sign', 'code'], ['the', 'idr', 'applicant', 'ssn'], ['financial', 'information', 'note', 'only', 'if', 'you', 'file', 'income', 'taxes', 'separately', 'from', 'your', 'spouse']]\n"
     ]
    }
   ],
   "source": [
    "from gensim.utils import tokenize\n",
    "from gensim.utils import simple_preprocess\n",
    "#Getting a list of spans per grounding document !!!!Confusion spans are the documents and the document is the corpora in gensim language\n",
    "#I'm only using documents that have been referenced to in the dialogue (which not all have) but for the further work I want user utterances which I won't have for some documents\n",
    "import pandas as pd\n",
    "\n",
    "docids_set = set(dialogue_dataset['doc_id'])\n",
    "docids = list(docids_set)\n",
    "\n",
    "#extract all the span texts for that doc id, !!!Index 0 is equal to sp_id = '1' and so forth!!!\n",
    "#doc ids constantly change\n",
    "# doc_id = 'Learn about personalized plates#3_0'\n",
    "doc_id = 'Co-sign Your Spouse\\'s Income-Driven Repayment Plan Application | Federal Student Aid#1_0'\n",
    "spans = span_texts_for_doc(doc_id)\n",
    "\n",
    "#this interprets hyphenated words with spaces as two words\n",
    "#TODO there is quite a few variations of how to tokenize and how to preprocess the text which might make quite a big difference\n",
    "#TODO try stemming and lemmatisation\n",
    "tokenized_spans_simple = [list(tokenize(span, lower=True)) for span in spans]\n",
    "print(tokenized_spans_simple)\n",
    "#process spans and remove unhelpful words, simple preprocess seems to do a good general job\n",
    "tokenized_spans_preprocessed = [list(simple_preprocess(span, deacc=True)) for span in spans]\n",
    "print(tokenized_spans_preprocessed)\n",
    "#TODO compare how the strings are different -> one thing I noticed is that there are not 's' as words hanging about in the simple preprocessing\n",
    "\n"
   ],
   "metadata": {
    "collapsed": false,
    "pycharm": {
     "name": "#%%\n"
    }
   }
  },
  {
   "cell_type": "markdown",
   "source": [
    "# Using Doc2Vec model\n",
    "to create a vector per doc (which is a span) given that I need to predict which spans are most relevant\n",
    "this seems better\n",
    "see https://radimrehurek.com/gensim/auto_examples/tutorials/run_doc2vec_lee.html#sphx-glr-auto-examples-tutorials-run-doc2vec-lee-py\n",
    "https://radimrehurek.com/gensim/models/doc2vec.html\n",
    "\n",
    "plan is to train a model on each document, first without adding the user's utterances to the span"
   ],
   "metadata": {
    "collapsed": false,
    "pycharm": {
     "name": "#%% md\n"
    }
   }
  },
  {
   "cell_type": "code",
   "execution_count": 141,
   "outputs": [],
   "source": [
    "from gensim.models.doc2vec import Doc2Vec, TaggedDocument\n",
    "\n",
    "tokenized_spans = tokenized_spans_preprocessed\n",
    "#tag is re-assigning an id to  each doc. I decided to use i+1 to match the tag the span has in the dataset\n",
    "#TODO check if I can add the docid to the tags and train  on all documents from the same domain\n",
    "training_docs = [TaggedDocument(doc, [i + 1]) for i, doc in enumerate(tokenized_spans)]\n",
    "# Check how to fine tuen the model https://radimrehurek.com/gensim/models/doc2vec.html\n",
    "model = Doc2Vec(training_docs, vector_size=10, window=4, min_count=1, workers=4, epochs=30)\n",
    "\n",
    "#TODO save models I like to disk (although this was amazingly quick)"
   ],
   "metadata": {
    "collapsed": false,
    "pycharm": {
     "name": "#%%\n"
    }
   }
  },
  {
   "cell_type": "markdown",
   "source": [
    "### Predict what span are grounding for the agents answer\n",
    "\n",
    "**Question**\n",
    "Do we need to predict the span that matches the users question? Or the spans that then are in the agents response\n",
    "I believe it's the later or probably all\n",
    "\n",
    "*I'm building my dataset adding spans used for the users question and the spans for the agent to the solution*\n",
    "\n",
    "**Question**\n",
    "Given that the dialogue dataset is not used for training, I'm assuming I can use it to see how this model performs. However as soon as I start to combine the user utterances to the document span than this will no longer be the case and I will have to use the validation test for evaluation."
   ],
   "metadata": {
    "collapsed": false,
    "pycharm": {
     "name": "#%% md\n"
    }
   }
  },
  {
   "cell_type": "code",
   "execution_count": 119,
   "outputs": [
    {
     "data": {
      "text/plain": "                                               doc_id  \\\n0   Co-sign Your Spouse's Income-Driven Repayment ...   \n1   Co-sign Your Spouse's Income-Driven Repayment ...   \n2   Co-sign Your Spouse's Income-Driven Repayment ...   \n3   Co-sign Your Spouse's Income-Driven Repayment ...   \n4   Co-sign Your Spouse's Income-Driven Repayment ...   \n5   Co-sign Your Spouse's Income-Driven Repayment ...   \n6   Co-sign Your Spouse's Income-Driven Repayment ...   \n7   Co-sign Your Spouse's Income-Driven Repayment ...   \n8   Co-sign Your Spouse's Income-Driven Repayment ...   \n9   Co-sign Your Spouse's Income-Driven Repayment ...   \n10  Co-sign Your Spouse's Income-Driven Repayment ...   \n11  Co-sign Your Spouse's Income-Driven Repayment ...   \n12  Co-sign Your Spouse's Income-Driven Repayment ...   \n13  Co-sign Your Spouse's Income-Driven Repayment ...   \n14  Co-sign Your Spouse's Income-Driven Repayment ...   \n15  Co-sign Your Spouse's Income-Driven Repayment ...   \n16  Co-sign Your Spouse's Income-Driven Repayment ...   \n17  Co-sign Your Spouse's Income-Driven Repayment ...   \n18  Co-sign Your Spouse's Income-Driven Repayment ...   \n19  Co-sign Your Spouse's Income-Driven Repayment ...   \n20  Co-sign Your Spouse's Income-Driven Repayment ...   \n21  Co-sign Your Spouse's Income-Driven Repayment ...   \n22  Co-sign Your Spouse's Income-Driven Repayment ...   \n23  Co-sign Your Spouse's Income-Driven Repayment ...   \n24  Co-sign Your Spouse's Income-Driven Repayment ...   \n25  Co-sign Your Spouse's Income-Driven Repayment ...   \n26  Co-sign Your Spouse's Income-Driven Repayment ...   \n27  Co-sign Your Spouse's Income-Driven Repayment ...   \n28  Co-sign Your Spouse's Income-Driven Repayment ...   \n29  Co-sign Your Spouse's Income-Driven Repayment ...   \n30  Co-sign Your Spouse's Income-Driven Repayment ...   \n31  Co-sign Your Spouse's Income-Driven Repayment ...   \n32  Co-sign Your Spouse's Income-Driven Repayment ...   \n33  Co-sign Your Spouse's Income-Driven Repayment ...   \n34  Co-sign Your Spouse's Income-Driven Repayment ...   \n35  Co-sign Your Spouse's Income-Driven Repayment ...   \n36  Co-sign Your Spouse's Income-Driven Repayment ...   \n37  Co-sign Your Spouse's Income-Driven Repayment ...   \n38  Co-sign Your Spouse's Income-Driven Repayment ...   \n39  Co-sign Your Spouse's Income-Driven Repayment ...   \n40  Co-sign Your Spouse's Income-Driven Repayment ...   \n41  Co-sign Your Spouse's Income-Driven Repayment ...   \n42  Co-sign Your Spouse's Income-Driven Repayment ...   \n43  Co-sign Your Spouse's Income-Driven Repayment ...   \n44  Co-sign Your Spouse's Income-Driven Repayment ...   \n45  Co-sign Your Spouse's Income-Driven Repayment ...   \n46  Co-sign Your Spouse's Income-Driven Repayment ...   \n47  Co-sign Your Spouse's Income-Driven Repayment ...   \n\n                             dial_id                                rc_id  \\\n0   31e96f4f7c6325a6cd3875fd511c1d44   31e96f4f7c6325a6cd3875fd511c1d44_1   \n1   31e96f4f7c6325a6cd3875fd511c1d44   31e96f4f7c6325a6cd3875fd511c1d44_4   \n2   31e96f4f7c6325a6cd3875fd511c1d44   31e96f4f7c6325a6cd3875fd511c1d44_5   \n3   31e96f4f7c6325a6cd3875fd511c1d44   31e96f4f7c6325a6cd3875fd511c1d44_7   \n4   31e96f4f7c6325a6cd3875fd511c1d44   31e96f4f7c6325a6cd3875fd511c1d44_9   \n5   31e96f4f7c6325a6cd3875fd511c1d44  31e96f4f7c6325a6cd3875fd511c1d44_11   \n6   51ec9482bd6ddb1a451703cbe1e30d0a   51ec9482bd6ddb1a451703cbe1e30d0a_1   \n7   51ec9482bd6ddb1a451703cbe1e30d0a   51ec9482bd6ddb1a451703cbe1e30d0a_4   \n8   51ec9482bd6ddb1a451703cbe1e30d0a   51ec9482bd6ddb1a451703cbe1e30d0a_5   \n9   51ec9482bd6ddb1a451703cbe1e30d0a   51ec9482bd6ddb1a451703cbe1e30d0a_7   \n10  51ec9482bd6ddb1a451703cbe1e30d0a   51ec9482bd6ddb1a451703cbe1e30d0a_9   \n11  51ec9482bd6ddb1a451703cbe1e30d0a  51ec9482bd6ddb1a451703cbe1e30d0a_11   \n12  e41e73310cd72adc18ef0d4500bed86f   e41e73310cd72adc18ef0d4500bed86f_1   \n13  e41e73310cd72adc18ef0d4500bed86f   e41e73310cd72adc18ef0d4500bed86f_4   \n14  e41e73310cd72adc18ef0d4500bed86f   e41e73310cd72adc18ef0d4500bed86f_5   \n15  e41e73310cd72adc18ef0d4500bed86f   e41e73310cd72adc18ef0d4500bed86f_7   \n16  e41e73310cd72adc18ef0d4500bed86f   e41e73310cd72adc18ef0d4500bed86f_9   \n17  e41e73310cd72adc18ef0d4500bed86f  e41e73310cd72adc18ef0d4500bed86f_11   \n18  475064ee437d82e49a614ac9fc30f934   475064ee437d82e49a614ac9fc30f934_1   \n19  475064ee437d82e49a614ac9fc30f934   475064ee437d82e49a614ac9fc30f934_4   \n20  475064ee437d82e49a614ac9fc30f934   475064ee437d82e49a614ac9fc30f934_5   \n21  475064ee437d82e49a614ac9fc30f934   475064ee437d82e49a614ac9fc30f934_7   \n22  475064ee437d82e49a614ac9fc30f934   475064ee437d82e49a614ac9fc30f934_9   \n23  475064ee437d82e49a614ac9fc30f934  475064ee437d82e49a614ac9fc30f934_11   \n24  ffe6e4350a3783cf449839b8e96a35bc   ffe6e4350a3783cf449839b8e96a35bc_1   \n25  ffe6e4350a3783cf449839b8e96a35bc   ffe6e4350a3783cf449839b8e96a35bc_4   \n26  ffe6e4350a3783cf449839b8e96a35bc   ffe6e4350a3783cf449839b8e96a35bc_5   \n27  ffe6e4350a3783cf449839b8e96a35bc   ffe6e4350a3783cf449839b8e96a35bc_7   \n28  ffe6e4350a3783cf449839b8e96a35bc   ffe6e4350a3783cf449839b8e96a35bc_9   \n29  ffe6e4350a3783cf449839b8e96a35bc  ffe6e4350a3783cf449839b8e96a35bc_11   \n30  2641fd09a67bf9b4877466cf4c2a4f1d   2641fd09a67bf9b4877466cf4c2a4f1d_1   \n31  2641fd09a67bf9b4877466cf4c2a4f1d   2641fd09a67bf9b4877466cf4c2a4f1d_4   \n32  2641fd09a67bf9b4877466cf4c2a4f1d   2641fd09a67bf9b4877466cf4c2a4f1d_5   \n33  2641fd09a67bf9b4877466cf4c2a4f1d   2641fd09a67bf9b4877466cf4c2a4f1d_7   \n34  2641fd09a67bf9b4877466cf4c2a4f1d   2641fd09a67bf9b4877466cf4c2a4f1d_9   \n35  2641fd09a67bf9b4877466cf4c2a4f1d  2641fd09a67bf9b4877466cf4c2a4f1d_11   \n36  3d36e8d9fdccd58bfc123be056fa1039   3d36e8d9fdccd58bfc123be056fa1039_1   \n37  3d36e8d9fdccd58bfc123be056fa1039   3d36e8d9fdccd58bfc123be056fa1039_4   \n38  3d36e8d9fdccd58bfc123be056fa1039   3d36e8d9fdccd58bfc123be056fa1039_5   \n39  3d36e8d9fdccd58bfc123be056fa1039   3d36e8d9fdccd58bfc123be056fa1039_7   \n40  3d36e8d9fdccd58bfc123be056fa1039   3d36e8d9fdccd58bfc123be056fa1039_9   \n41  3d36e8d9fdccd58bfc123be056fa1039  3d36e8d9fdccd58bfc123be056fa1039_11   \n42  cf3cd3b2e35899f95cbe65913300891a   cf3cd3b2e35899f95cbe65913300891a_1   \n43  cf3cd3b2e35899f95cbe65913300891a   cf3cd3b2e35899f95cbe65913300891a_4   \n44  cf3cd3b2e35899f95cbe65913300891a   cf3cd3b2e35899f95cbe65913300891a_5   \n45  cf3cd3b2e35899f95cbe65913300891a   cf3cd3b2e35899f95cbe65913300891a_7   \n46  cf3cd3b2e35899f95cbe65913300891a   cf3cd3b2e35899f95cbe65913300891a_9   \n47  cf3cd3b2e35899f95cbe65913300891a  cf3cd3b2e35899f95cbe65913300891a_11   \n\n   turn_id                                     user_utterance user_sp_ids  \\\n0        1  II'm going to be co-signing a federal aid loan...         [1]   \n1        4                     No. I'm not sure how it works.         [3]   \n2        5  Does it matter that the Income-Driven Repaymen...        [12]   \n3        7                      Who all can co-sign for this?        [16]   \n4        9  Do I need a Financial Information Note when I ...        [26]   \n5       11             What if I can't find the Co-sign code?         [5]   \n6        1               Can you explain what a co-signer is?         [1]   \n7        4  Yes, I understand that I am not obligated to p...         [3]   \n8        5      What about the reference number/co-sign code?         [4]   \n9        7  Who should complete the co-signer part of the ...        [17]   \n10       9  What if I do not have the reference number or ...   [6, 7, 8]   \n11      11  I do not know where the reference number or co...         [5]   \n12       1  Can you explain what a co-signer is for an Inc...         [1]   \n13       4                     Yes, that was explained to me.         [3]   \n14       5  What if the applicant completed an IDR plan re...        [10]   \n15       7            Who should complete the co-signer form?        [16]   \n16       9           Where do I go to click for co-sign code?        [13]   \n17      11                              What do I need to do?        [21]   \n18       1          who is the co-signer on a repayment plan?         [1]   \n19       4                                                yes         [3]   \n20       5                               where do we sign in?        [14]   \n21       7             where do we get the number to sign in?   [6, 7, 8]   \n22       9     who should do the plan request when we log in?        [16]   \n23      11  but I use their reference number since I don't...         [5]   \n24       1  hello i would like to get information about Wh...         [1]   \n25       4                                                 no         [3]   \n26       5   and who should give me the joint signature code?         [4]   \n27       7  What if the application has already been compl...        [12]   \n28       9                     and what should i do to start?        [15]   \n29      11  What if the applicant completed an Income-Base...        [10]   \n30       1  I'm looking for information as to what constit...         [1]   \n31       4  Yes, I'm concerned that I may be obligated to ...         [3]   \n32       5  What can I do if I do not have a Reference Num...         [5]   \n33       7  What exactly do I need to complete my role as ...        [21]   \n34       9  How long should it normally take to complete m...        [18]   \n35      11  How does my spouse provide me with a co-sign c...        [13]   \n36       1  I want to get a better understanding on co-sig...         [1]   \n37       4                                no, but I might be          [3]   \n38       5          what will I need if I'm ready to co-sign?        [10]   \n39       7         what if it is a direct consolidation loan?        [11]   \n40       9      and it is the same place to sign in for both?        [12]   \n41      11                        can either one of us do it?        [16]   \n42       1  What exactly is a co-signer or an income-drive...         [1]   \n43       4  Yes, I have read that I am not responsible to ...         [3]   \n44       5  What if I do not have a reference number to co...   [6, 7, 8]   \n45       7  Are there directions to access the reference n...         [9]   \n46       9   How long will the co-sign process actually take?    [19, 20]   \n47      11  What if the applicant completed an Income-driv...        [12]   \n\n   agent_sp_ids  \n0        [2, 3]  \n1            []  \n2          [13]  \n3          [17]  \n4          [26]  \n5     [6, 7, 8]  \n6        [2, 3]  \n7            []  \n8           [4]  \n9          [17]  \n10    [6, 7, 8]  \n11    [6, 7, 8]  \n12       [2, 3]  \n13           []  \n14         [11]  \n15         [17]  \n16         [13]  \n17         [22]  \n18       [2, 3]  \n19           []  \n20         [14]  \n21    [6, 7, 8]  \n22         [17]  \n23    [6, 7, 8]  \n24       [2, 3]  \n25           []  \n26          [4]  \n27         [13]  \n28         [15]  \n29         [11]  \n30       [2, 3]  \n31           []  \n32    [6, 7, 8]  \n33         [22]  \n34     [19, 20]  \n35         [13]  \n36       [2, 3]  \n37           []  \n38         [11]  \n39         [11]  \n40         [13]  \n41         [17]  \n42       [2, 3]  \n43           []  \n44    [6, 7, 8]  \n45          [9]  \n46     [19, 20]  \n47         [13]  ",
      "text/html": "<div>\n<style scoped>\n    .dataframe tbody tr th:only-of-type {\n        vertical-align: middle;\n    }\n\n    .dataframe tbody tr th {\n        vertical-align: top;\n    }\n\n    .dataframe thead th {\n        text-align: right;\n    }\n</style>\n<table border=\"1\" class=\"dataframe\">\n  <thead>\n    <tr style=\"text-align: right;\">\n      <th></th>\n      <th>doc_id</th>\n      <th>dial_id</th>\n      <th>rc_id</th>\n      <th>turn_id</th>\n      <th>user_utterance</th>\n      <th>user_sp_ids</th>\n      <th>agent_sp_ids</th>\n    </tr>\n  </thead>\n  <tbody>\n    <tr>\n      <th>0</th>\n      <td>Co-sign Your Spouse's Income-Driven Repayment ...</td>\n      <td>31e96f4f7c6325a6cd3875fd511c1d44</td>\n      <td>31e96f4f7c6325a6cd3875fd511c1d44_1</td>\n      <td>1</td>\n      <td>II'm going to be co-signing a federal aid loan...</td>\n      <td>[1]</td>\n      <td>[2, 3]</td>\n    </tr>\n    <tr>\n      <th>1</th>\n      <td>Co-sign Your Spouse's Income-Driven Repayment ...</td>\n      <td>31e96f4f7c6325a6cd3875fd511c1d44</td>\n      <td>31e96f4f7c6325a6cd3875fd511c1d44_4</td>\n      <td>4</td>\n      <td>No. I'm not sure how it works.</td>\n      <td>[3]</td>\n      <td>[]</td>\n    </tr>\n    <tr>\n      <th>2</th>\n      <td>Co-sign Your Spouse's Income-Driven Repayment ...</td>\n      <td>31e96f4f7c6325a6cd3875fd511c1d44</td>\n      <td>31e96f4f7c6325a6cd3875fd511c1d44_5</td>\n      <td>5</td>\n      <td>Does it matter that the Income-Driven Repaymen...</td>\n      <td>[12]</td>\n      <td>[13]</td>\n    </tr>\n    <tr>\n      <th>3</th>\n      <td>Co-sign Your Spouse's Income-Driven Repayment ...</td>\n      <td>31e96f4f7c6325a6cd3875fd511c1d44</td>\n      <td>31e96f4f7c6325a6cd3875fd511c1d44_7</td>\n      <td>7</td>\n      <td>Who all can co-sign for this?</td>\n      <td>[16]</td>\n      <td>[17]</td>\n    </tr>\n    <tr>\n      <th>4</th>\n      <td>Co-sign Your Spouse's Income-Driven Repayment ...</td>\n      <td>31e96f4f7c6325a6cd3875fd511c1d44</td>\n      <td>31e96f4f7c6325a6cd3875fd511c1d44_9</td>\n      <td>9</td>\n      <td>Do I need a Financial Information Note when I ...</td>\n      <td>[26]</td>\n      <td>[26]</td>\n    </tr>\n    <tr>\n      <th>5</th>\n      <td>Co-sign Your Spouse's Income-Driven Repayment ...</td>\n      <td>31e96f4f7c6325a6cd3875fd511c1d44</td>\n      <td>31e96f4f7c6325a6cd3875fd511c1d44_11</td>\n      <td>11</td>\n      <td>What if I can't find the Co-sign code?</td>\n      <td>[5]</td>\n      <td>[6, 7, 8]</td>\n    </tr>\n    <tr>\n      <th>6</th>\n      <td>Co-sign Your Spouse's Income-Driven Repayment ...</td>\n      <td>51ec9482bd6ddb1a451703cbe1e30d0a</td>\n      <td>51ec9482bd6ddb1a451703cbe1e30d0a_1</td>\n      <td>1</td>\n      <td>Can you explain what a co-signer is?</td>\n      <td>[1]</td>\n      <td>[2, 3]</td>\n    </tr>\n    <tr>\n      <th>7</th>\n      <td>Co-sign Your Spouse's Income-Driven Repayment ...</td>\n      <td>51ec9482bd6ddb1a451703cbe1e30d0a</td>\n      <td>51ec9482bd6ddb1a451703cbe1e30d0a_4</td>\n      <td>4</td>\n      <td>Yes, I understand that I am not obligated to p...</td>\n      <td>[3]</td>\n      <td>[]</td>\n    </tr>\n    <tr>\n      <th>8</th>\n      <td>Co-sign Your Spouse's Income-Driven Repayment ...</td>\n      <td>51ec9482bd6ddb1a451703cbe1e30d0a</td>\n      <td>51ec9482bd6ddb1a451703cbe1e30d0a_5</td>\n      <td>5</td>\n      <td>What about the reference number/co-sign code?</td>\n      <td>[4]</td>\n      <td>[4]</td>\n    </tr>\n    <tr>\n      <th>9</th>\n      <td>Co-sign Your Spouse's Income-Driven Repayment ...</td>\n      <td>51ec9482bd6ddb1a451703cbe1e30d0a</td>\n      <td>51ec9482bd6ddb1a451703cbe1e30d0a_7</td>\n      <td>7</td>\n      <td>Who should complete the co-signer part of the ...</td>\n      <td>[17]</td>\n      <td>[17]</td>\n    </tr>\n    <tr>\n      <th>10</th>\n      <td>Co-sign Your Spouse's Income-Driven Repayment ...</td>\n      <td>51ec9482bd6ddb1a451703cbe1e30d0a</td>\n      <td>51ec9482bd6ddb1a451703cbe1e30d0a_9</td>\n      <td>9</td>\n      <td>What if I do not have the reference number or ...</td>\n      <td>[6, 7, 8]</td>\n      <td>[6, 7, 8]</td>\n    </tr>\n    <tr>\n      <th>11</th>\n      <td>Co-sign Your Spouse's Income-Driven Repayment ...</td>\n      <td>51ec9482bd6ddb1a451703cbe1e30d0a</td>\n      <td>51ec9482bd6ddb1a451703cbe1e30d0a_11</td>\n      <td>11</td>\n      <td>I do not know where the reference number or co...</td>\n      <td>[5]</td>\n      <td>[6, 7, 8]</td>\n    </tr>\n    <tr>\n      <th>12</th>\n      <td>Co-sign Your Spouse's Income-Driven Repayment ...</td>\n      <td>e41e73310cd72adc18ef0d4500bed86f</td>\n      <td>e41e73310cd72adc18ef0d4500bed86f_1</td>\n      <td>1</td>\n      <td>Can you explain what a co-signer is for an Inc...</td>\n      <td>[1]</td>\n      <td>[2, 3]</td>\n    </tr>\n    <tr>\n      <th>13</th>\n      <td>Co-sign Your Spouse's Income-Driven Repayment ...</td>\n      <td>e41e73310cd72adc18ef0d4500bed86f</td>\n      <td>e41e73310cd72adc18ef0d4500bed86f_4</td>\n      <td>4</td>\n      <td>Yes, that was explained to me.</td>\n      <td>[3]</td>\n      <td>[]</td>\n    </tr>\n    <tr>\n      <th>14</th>\n      <td>Co-sign Your Spouse's Income-Driven Repayment ...</td>\n      <td>e41e73310cd72adc18ef0d4500bed86f</td>\n      <td>e41e73310cd72adc18ef0d4500bed86f_5</td>\n      <td>5</td>\n      <td>What if the applicant completed an IDR plan re...</td>\n      <td>[10]</td>\n      <td>[11]</td>\n    </tr>\n    <tr>\n      <th>15</th>\n      <td>Co-sign Your Spouse's Income-Driven Repayment ...</td>\n      <td>e41e73310cd72adc18ef0d4500bed86f</td>\n      <td>e41e73310cd72adc18ef0d4500bed86f_7</td>\n      <td>7</td>\n      <td>Who should complete the co-signer form?</td>\n      <td>[16]</td>\n      <td>[17]</td>\n    </tr>\n    <tr>\n      <th>16</th>\n      <td>Co-sign Your Spouse's Income-Driven Repayment ...</td>\n      <td>e41e73310cd72adc18ef0d4500bed86f</td>\n      <td>e41e73310cd72adc18ef0d4500bed86f_9</td>\n      <td>9</td>\n      <td>Where do I go to click for co-sign code?</td>\n      <td>[13]</td>\n      <td>[13]</td>\n    </tr>\n    <tr>\n      <th>17</th>\n      <td>Co-sign Your Spouse's Income-Driven Repayment ...</td>\n      <td>e41e73310cd72adc18ef0d4500bed86f</td>\n      <td>e41e73310cd72adc18ef0d4500bed86f_11</td>\n      <td>11</td>\n      <td>What do I need to do?</td>\n      <td>[21]</td>\n      <td>[22]</td>\n    </tr>\n    <tr>\n      <th>18</th>\n      <td>Co-sign Your Spouse's Income-Driven Repayment ...</td>\n      <td>475064ee437d82e49a614ac9fc30f934</td>\n      <td>475064ee437d82e49a614ac9fc30f934_1</td>\n      <td>1</td>\n      <td>who is the co-signer on a repayment plan?</td>\n      <td>[1]</td>\n      <td>[2, 3]</td>\n    </tr>\n    <tr>\n      <th>19</th>\n      <td>Co-sign Your Spouse's Income-Driven Repayment ...</td>\n      <td>475064ee437d82e49a614ac9fc30f934</td>\n      <td>475064ee437d82e49a614ac9fc30f934_4</td>\n      <td>4</td>\n      <td>yes</td>\n      <td>[3]</td>\n      <td>[]</td>\n    </tr>\n    <tr>\n      <th>20</th>\n      <td>Co-sign Your Spouse's Income-Driven Repayment ...</td>\n      <td>475064ee437d82e49a614ac9fc30f934</td>\n      <td>475064ee437d82e49a614ac9fc30f934_5</td>\n      <td>5</td>\n      <td>where do we sign in?</td>\n      <td>[14]</td>\n      <td>[14]</td>\n    </tr>\n    <tr>\n      <th>21</th>\n      <td>Co-sign Your Spouse's Income-Driven Repayment ...</td>\n      <td>475064ee437d82e49a614ac9fc30f934</td>\n      <td>475064ee437d82e49a614ac9fc30f934_7</td>\n      <td>7</td>\n      <td>where do we get the number to sign in?</td>\n      <td>[6, 7, 8]</td>\n      <td>[6, 7, 8]</td>\n    </tr>\n    <tr>\n      <th>22</th>\n      <td>Co-sign Your Spouse's Income-Driven Repayment ...</td>\n      <td>475064ee437d82e49a614ac9fc30f934</td>\n      <td>475064ee437d82e49a614ac9fc30f934_9</td>\n      <td>9</td>\n      <td>who should do the plan request when we log in?</td>\n      <td>[16]</td>\n      <td>[17]</td>\n    </tr>\n    <tr>\n      <th>23</th>\n      <td>Co-sign Your Spouse's Income-Driven Repayment ...</td>\n      <td>475064ee437d82e49a614ac9fc30f934</td>\n      <td>475064ee437d82e49a614ac9fc30f934_11</td>\n      <td>11</td>\n      <td>but I use their reference number since I don't...</td>\n      <td>[5]</td>\n      <td>[6, 7, 8]</td>\n    </tr>\n    <tr>\n      <th>24</th>\n      <td>Co-sign Your Spouse's Income-Driven Repayment ...</td>\n      <td>ffe6e4350a3783cf449839b8e96a35bc</td>\n      <td>ffe6e4350a3783cf449839b8e96a35bc_1</td>\n      <td>1</td>\n      <td>hello i would like to get information about Wh...</td>\n      <td>[1]</td>\n      <td>[2, 3]</td>\n    </tr>\n    <tr>\n      <th>25</th>\n      <td>Co-sign Your Spouse's Income-Driven Repayment ...</td>\n      <td>ffe6e4350a3783cf449839b8e96a35bc</td>\n      <td>ffe6e4350a3783cf449839b8e96a35bc_4</td>\n      <td>4</td>\n      <td>no</td>\n      <td>[3]</td>\n      <td>[]</td>\n    </tr>\n    <tr>\n      <th>26</th>\n      <td>Co-sign Your Spouse's Income-Driven Repayment ...</td>\n      <td>ffe6e4350a3783cf449839b8e96a35bc</td>\n      <td>ffe6e4350a3783cf449839b8e96a35bc_5</td>\n      <td>5</td>\n      <td>and who should give me the joint signature code?</td>\n      <td>[4]</td>\n      <td>[4]</td>\n    </tr>\n    <tr>\n      <th>27</th>\n      <td>Co-sign Your Spouse's Income-Driven Repayment ...</td>\n      <td>ffe6e4350a3783cf449839b8e96a35bc</td>\n      <td>ffe6e4350a3783cf449839b8e96a35bc_7</td>\n      <td>7</td>\n      <td>What if the application has already been compl...</td>\n      <td>[12]</td>\n      <td>[13]</td>\n    </tr>\n    <tr>\n      <th>28</th>\n      <td>Co-sign Your Spouse's Income-Driven Repayment ...</td>\n      <td>ffe6e4350a3783cf449839b8e96a35bc</td>\n      <td>ffe6e4350a3783cf449839b8e96a35bc_9</td>\n      <td>9</td>\n      <td>and what should i do to start?</td>\n      <td>[15]</td>\n      <td>[15]</td>\n    </tr>\n    <tr>\n      <th>29</th>\n      <td>Co-sign Your Spouse's Income-Driven Repayment ...</td>\n      <td>ffe6e4350a3783cf449839b8e96a35bc</td>\n      <td>ffe6e4350a3783cf449839b8e96a35bc_11</td>\n      <td>11</td>\n      <td>What if the applicant completed an Income-Base...</td>\n      <td>[10]</td>\n      <td>[11]</td>\n    </tr>\n    <tr>\n      <th>30</th>\n      <td>Co-sign Your Spouse's Income-Driven Repayment ...</td>\n      <td>2641fd09a67bf9b4877466cf4c2a4f1d</td>\n      <td>2641fd09a67bf9b4877466cf4c2a4f1d_1</td>\n      <td>1</td>\n      <td>I'm looking for information as to what constit...</td>\n      <td>[1]</td>\n      <td>[2, 3]</td>\n    </tr>\n    <tr>\n      <th>31</th>\n      <td>Co-sign Your Spouse's Income-Driven Repayment ...</td>\n      <td>2641fd09a67bf9b4877466cf4c2a4f1d</td>\n      <td>2641fd09a67bf9b4877466cf4c2a4f1d_4</td>\n      <td>4</td>\n      <td>Yes, I'm concerned that I may be obligated to ...</td>\n      <td>[3]</td>\n      <td>[]</td>\n    </tr>\n    <tr>\n      <th>32</th>\n      <td>Co-sign Your Spouse's Income-Driven Repayment ...</td>\n      <td>2641fd09a67bf9b4877466cf4c2a4f1d</td>\n      <td>2641fd09a67bf9b4877466cf4c2a4f1d_5</td>\n      <td>5</td>\n      <td>What can I do if I do not have a Reference Num...</td>\n      <td>[5]</td>\n      <td>[6, 7, 8]</td>\n    </tr>\n    <tr>\n      <th>33</th>\n      <td>Co-sign Your Spouse's Income-Driven Repayment ...</td>\n      <td>2641fd09a67bf9b4877466cf4c2a4f1d</td>\n      <td>2641fd09a67bf9b4877466cf4c2a4f1d_7</td>\n      <td>7</td>\n      <td>What exactly do I need to complete my role as ...</td>\n      <td>[21]</td>\n      <td>[22]</td>\n    </tr>\n    <tr>\n      <th>34</th>\n      <td>Co-sign Your Spouse's Income-Driven Repayment ...</td>\n      <td>2641fd09a67bf9b4877466cf4c2a4f1d</td>\n      <td>2641fd09a67bf9b4877466cf4c2a4f1d_9</td>\n      <td>9</td>\n      <td>How long should it normally take to complete m...</td>\n      <td>[18]</td>\n      <td>[19, 20]</td>\n    </tr>\n    <tr>\n      <th>35</th>\n      <td>Co-sign Your Spouse's Income-Driven Repayment ...</td>\n      <td>2641fd09a67bf9b4877466cf4c2a4f1d</td>\n      <td>2641fd09a67bf9b4877466cf4c2a4f1d_11</td>\n      <td>11</td>\n      <td>How does my spouse provide me with a co-sign c...</td>\n      <td>[13]</td>\n      <td>[13]</td>\n    </tr>\n    <tr>\n      <th>36</th>\n      <td>Co-sign Your Spouse's Income-Driven Repayment ...</td>\n      <td>3d36e8d9fdccd58bfc123be056fa1039</td>\n      <td>3d36e8d9fdccd58bfc123be056fa1039_1</td>\n      <td>1</td>\n      <td>I want to get a better understanding on co-sig...</td>\n      <td>[1]</td>\n      <td>[2, 3]</td>\n    </tr>\n    <tr>\n      <th>37</th>\n      <td>Co-sign Your Spouse's Income-Driven Repayment ...</td>\n      <td>3d36e8d9fdccd58bfc123be056fa1039</td>\n      <td>3d36e8d9fdccd58bfc123be056fa1039_4</td>\n      <td>4</td>\n      <td>no, but I might be</td>\n      <td>[3]</td>\n      <td>[]</td>\n    </tr>\n    <tr>\n      <th>38</th>\n      <td>Co-sign Your Spouse's Income-Driven Repayment ...</td>\n      <td>3d36e8d9fdccd58bfc123be056fa1039</td>\n      <td>3d36e8d9fdccd58bfc123be056fa1039_5</td>\n      <td>5</td>\n      <td>what will I need if I'm ready to co-sign?</td>\n      <td>[10]</td>\n      <td>[11]</td>\n    </tr>\n    <tr>\n      <th>39</th>\n      <td>Co-sign Your Spouse's Income-Driven Repayment ...</td>\n      <td>3d36e8d9fdccd58bfc123be056fa1039</td>\n      <td>3d36e8d9fdccd58bfc123be056fa1039_7</td>\n      <td>7</td>\n      <td>what if it is a direct consolidation loan?</td>\n      <td>[11]</td>\n      <td>[11]</td>\n    </tr>\n    <tr>\n      <th>40</th>\n      <td>Co-sign Your Spouse's Income-Driven Repayment ...</td>\n      <td>3d36e8d9fdccd58bfc123be056fa1039</td>\n      <td>3d36e8d9fdccd58bfc123be056fa1039_9</td>\n      <td>9</td>\n      <td>and it is the same place to sign in for both?</td>\n      <td>[12]</td>\n      <td>[13]</td>\n    </tr>\n    <tr>\n      <th>41</th>\n      <td>Co-sign Your Spouse's Income-Driven Repayment ...</td>\n      <td>3d36e8d9fdccd58bfc123be056fa1039</td>\n      <td>3d36e8d9fdccd58bfc123be056fa1039_11</td>\n      <td>11</td>\n      <td>can either one of us do it?</td>\n      <td>[16]</td>\n      <td>[17]</td>\n    </tr>\n    <tr>\n      <th>42</th>\n      <td>Co-sign Your Spouse's Income-Driven Repayment ...</td>\n      <td>cf3cd3b2e35899f95cbe65913300891a</td>\n      <td>cf3cd3b2e35899f95cbe65913300891a_1</td>\n      <td>1</td>\n      <td>What exactly is a co-signer or an income-drive...</td>\n      <td>[1]</td>\n      <td>[2, 3]</td>\n    </tr>\n    <tr>\n      <th>43</th>\n      <td>Co-sign Your Spouse's Income-Driven Repayment ...</td>\n      <td>cf3cd3b2e35899f95cbe65913300891a</td>\n      <td>cf3cd3b2e35899f95cbe65913300891a_4</td>\n      <td>4</td>\n      <td>Yes, I have read that I am not responsible to ...</td>\n      <td>[3]</td>\n      <td>[]</td>\n    </tr>\n    <tr>\n      <th>44</th>\n      <td>Co-sign Your Spouse's Income-Driven Repayment ...</td>\n      <td>cf3cd3b2e35899f95cbe65913300891a</td>\n      <td>cf3cd3b2e35899f95cbe65913300891a_5</td>\n      <td>5</td>\n      <td>What if I do not have a reference number to co...</td>\n      <td>[6, 7, 8]</td>\n      <td>[6, 7, 8]</td>\n    </tr>\n    <tr>\n      <th>45</th>\n      <td>Co-sign Your Spouse's Income-Driven Repayment ...</td>\n      <td>cf3cd3b2e35899f95cbe65913300891a</td>\n      <td>cf3cd3b2e35899f95cbe65913300891a_7</td>\n      <td>7</td>\n      <td>Are there directions to access the reference n...</td>\n      <td>[9]</td>\n      <td>[9]</td>\n    </tr>\n    <tr>\n      <th>46</th>\n      <td>Co-sign Your Spouse's Income-Driven Repayment ...</td>\n      <td>cf3cd3b2e35899f95cbe65913300891a</td>\n      <td>cf3cd3b2e35899f95cbe65913300891a_9</td>\n      <td>9</td>\n      <td>How long will the co-sign process actually take?</td>\n      <td>[19, 20]</td>\n      <td>[19, 20]</td>\n    </tr>\n    <tr>\n      <th>47</th>\n      <td>Co-sign Your Spouse's Income-Driven Repayment ...</td>\n      <td>cf3cd3b2e35899f95cbe65913300891a</td>\n      <td>cf3cd3b2e35899f95cbe65913300891a_11</td>\n      <td>11</td>\n      <td>What if the applicant completed an Income-driv...</td>\n      <td>[12]</td>\n      <td>[13]</td>\n    </tr>\n  </tbody>\n</table>\n</div>"
     },
     "execution_count": 119,
     "metadata": {},
     "output_type": "execute_result"
    }
   ],
   "source": [
    "#Code to get the dialogues for a doc id from the dialog set to do some manual inspections\n",
    "dialogue_eval_df = pd.DataFrame(columns=['doc_id', 'dial_id', 'rc_id', 'turn_id', 'user_utterance', 'user_sp_ids',\n",
    "                                         'agent_sp_ids'])\n",
    "\n",
    "#using df as dataset is way too slow to do this\n",
    "dialogues_for_doc = dialogue_full_df.loc[dialogue_full_df['doc_id'] == doc_id]\n",
    "\n",
    "#resetting all variables\n",
    "user_turn_index = 0\n",
    "user_utterance = ''\n",
    "user_sps = []\n",
    "turn_id = ''\n",
    "agent_sps = []\n",
    "role = ''\n",
    "dial_id = ''\n",
    "rc_id = ''\n",
    "first_user = True\n",
    "#for all list of turns in each dialogue\n",
    "for dialogue_index, turns in enumerate(dialogues_for_doc['turns']):\n",
    "\n",
    "    #for each turn in a dialogue\n",
    "    for turn in turns:\n",
    "        role = turn['role']\n",
    "\n",
    "        # for the very first user role only\n",
    "        if role == 'user' and first_user == True:\n",
    "            turn_id = turn['turn_id']\n",
    "            user_utterance =turn['utterance']\n",
    "            user_sps = [ref['sp_id'] for ref in turn['references']]\n",
    "            dial_id = dialogues_for_doc.iloc[dialogue_index]['dial_id']\n",
    "            rc_id = dial_id + '_'+ str(turn_id)\n",
    "            first_user = False\n",
    "        elif role == 'user' and first_user == False:\n",
    "            # we've come to the next user turn\n",
    "            #write previous user's row before overwriting it with this users data\n",
    "            dialogue_eval_df.loc[user_turn_index] = [doc_id, dial_id, rc_id, turn_id, user_utterance, user_sps, agent_sps]\n",
    "            #remember this user's data\n",
    "            user_utterance = turn['utterance']\n",
    "            turn_id = turn['turn_id']\n",
    "            user_sps = [ref['sp_id'] for ref in turn['references']]\n",
    "            dial_id = dialogues_for_doc.iloc[dialogue_index]['dial_id']\n",
    "            rc_id = dial_id + '_'+ str(turn_id)\n",
    "            #reset for next row\n",
    "            agent_sps = []\n",
    "            user_turn_index += 1\n",
    "        elif role == 'agent':\n",
    "            #gather agent spans but don't write the row just yet\n",
    "            agent_sps.extend([ref['sp_id'] for ref in turn['references']])\n",
    "\n",
    "#write the last line to the dataframe if the last dialogue's turn ended with an agent\n",
    "if role == 'agent':\n",
    "    dialogue_eval_df.loc[user_turn_index] = [doc_id, dial_id, rc_id, turn_id, user_utterance, user_sps, agent_sps]\n",
    "\n",
    "\n",
    "dialogue_eval_df"
   ],
   "metadata": {
    "collapsed": false,
    "pycharm": {
     "name": "#%%\n"
    }
   }
  },
  {
   "cell_type": "code",
   "execution_count": 142,
   "outputs": [
    {
     "name": "stdout",
     "output_type": "stream",
     "text": [
      "Labeled data result for user utterance \"II'm going to be co-signing a federal aid loan for my wife and I need some more information about how it works.\": user sp ids: ['1'] and following agent spans: ['2', '3']\n",
      "\n",
      "Model predictions:\n",
      "\n",
      "MOST (6, 0.720806360244751): [6] «contact the idr applicant»\n",
      "SECOND-MOST (13, 0.6646873354911804): [13] «he or she will click on direct consolidation loan applications under my loan documents to locate and provide you with the co sign code you need»\n",
      "THIRD-MOST (15, 0.6261836290359497): [15] «log in to start»\n",
      "FOURTH-MOST (14, 0.6185027360916138): [14] «co sign income driven repayment idr plan request»\n",
      "MEDIAN (19, 0.21894943714141846): [19] «the entire co sign process must be completed in single session»\n",
      "LEAST (0, -0.5096064209938049): [26] «financial information note only if you file income taxes separately from your spouse»\n",
      "\n",
      "Spans that should have been selected based on gold labels are:\n",
      "User label 1 (1, 0.6147144436836243): [1] «what is co signer»\n",
      "Agent label 2 (2, -0.401088148355484): [2] «co signer is the spouse of an applicant who initiated an income driven repayment plan request»\n",
      "Agent label 3 (3, 0.2733300030231476): [3] «as co signer you are not obligated to repay this loan by signing borrower idr application»\n"
     ]
    }
   ],
   "source": [
    "#some manual playing\n",
    "\n",
    "# manual_test = 'What plate combinations are restricted?'\n",
    "#manual_test = 'How much do personalized plates cost?'\n",
    "# manual_test = 'Can I use personalized plates on any type of vehicle?'\n",
    "manual_test = 'II\\'m going to be co-signing a federal aid loan for my wife and I need some more information about how it works.'\n",
    "\n",
    "#same preprocessing\n",
    "manual_test_doc = simple_preprocess(manual_test, deacc=True)\n",
    "vector = model.infer_vector(manual_test_doc)\n",
    "sims = model.dv.most_similar([vector], topn=len(model.dv))\n",
    "sims_dic = dict(sims)\n",
    "\n",
    "labeled_results = dialogue_eval_df.loc[dialogue_eval_df['user_utterance'] == manual_test]\n",
    "gold_user_sps = list(labeled_results['user_sp_ids'])[0]\n",
    "gold_agent_sps = list(labeled_results['agent_sp_ids'])[0]\n",
    "\n",
    "print(\n",
    "    f'Labeled data result for user utterance \"{manual_test}\": user sp ids: {gold_user_sps} and following agent spans: {gold_agent_sps}\\n')\n",
    "\n",
    "print('Model predictions:\\n')\n",
    "for label, index in [('MOST', 0), ('SECOND-MOST', 1), ('THIRD-MOST', 2), ('FOURTH-MOST', 3), ('MEDIAN', len(sims) // 2),\n",
    "                     ('LEAST', len(sims) - 1)]:\n",
    "    #remember that the indexing of the raining doc starts at 0 but the one of the sp_ids at 1!!!!!\n",
    "    training_doc = training_docs[sims[index][0] - 1]\n",
    "    print(u'%s %s: %s «%s»' % (label, sims[index], training_doc.tags, ' '.join(training_doc.words)))\n",
    "\n",
    "print('\\nSpans that should have been selected based on gold labels are:')\n",
    "for gold_label in gold_user_sps:\n",
    "    gi = int(gold_label)\n",
    "    #carefull with using tag to look up in list as lists start with 0 index and tags with 1!!!!\n",
    "    training_doc = training_docs[gi - 1]\n",
    "    text = ' '.join(training_doc.words)\n",
    "    tag = training_doc.tags\n",
    "    print(f'User label {gold_label} ({gi}, {sims_dic[gi]}): {tag} «{text}»')\n",
    "\n",
    "for gold_label in gold_agent_sps:\n",
    "    gi = int(gold_label)\n",
    "    #carefull with using tag to look up in list as lists start with 0 index and tags with 1!!!!\n",
    "    training_doc = training_docs[gi - 1]\n",
    "    text = ' '.join(training_doc.words)\n",
    "    tag = training_doc.tags\n",
    "    print(f'Agent label {gold_label} ({gi}, {sims_dic[gi]}): {tag} «{text}»')\n"
   ],
   "metadata": {
    "collapsed": false,
    "pycharm": {
     "name": "#%%\n"
    }
   }
  },
  {
   "cell_type": "markdown",
   "source": [
    "#  Manual Evaluation\n"
   ],
   "metadata": {
    "collapsed": false
   }
  },
  {
   "cell_type": "code",
   "execution_count": 140,
   "outputs": [
    {
     "name": "stdout",
     "output_type": "stream",
     "text": [
      "{'predictions': {'id': Value(dtype='string', id=None), 'prediction_text': Value(dtype='string', id=None), 'no_answer_probability': Value(dtype='float32', id=None)}, 'references': {'id': Value(dtype='string', id=None), 'answers': Sequence(feature={'text': Value(dtype='string', id=None), 'answer_start': Value(dtype='int32', id=None)}, length=-1, id=None)}}\n"
     ]
    },
    {
     "data": {
      "text/plain": "{'exact': 0.0,\n 'f1': 11.11111111111111,\n 'total': 1,\n 'HasAns_exact': 0.0,\n 'HasAns_f1': 11.11111111111111,\n 'HasAns_total': 1,\n 'best_exact': 0.0,\n 'best_exact_thresh': 0.0,\n 'best_f1': 11.11111111111111,\n 'best_f1_thresh': 0.0}"
     },
     "execution_count": 140,
     "metadata": {},
     "output_type": "execute_result"
    }
   ],
   "source": [
    "#Figure out how to deal with the squad_v2 metrics\n",
    "from datasets import load_metric\n",
    "\n",
    "metric = load_metric(\"squad_v2\")\n",
    "print(metric.features)\n",
    "\n",
    "prediction = {'id': '0',\n",
    "              'prediction_text': 'contact the idr applicant',\n",
    "              'no_answer_probability': 0.0}\n",
    "reference = {'id': '0', 'answers': {'text': ['what is co signer co singer is the spouse of an applicant who initiated an income driven repayment plan request as a co singer you are not obligated to repay this loan by signing borrower idr application '\n",
    "                                        ],\n",
    "                                    'answer_start': [1]}}\n",
    "metric.add(prediction=prediction, reference=reference)\n",
    "final_score = metric.compute()\n",
    "final_score"
   ],
   "metadata": {
    "collapsed": false,
    "pycharm": {
     "name": "#%%\n"
    }
   }
  },
  {
   "cell_type": "markdown",
   "source": [
    "# Simplest prediction using rc dataset questions"
   ],
   "metadata": {
    "collapsed": false,
    "pycharm": {
     "name": "#%% md\n"
    }
   }
  },
  {
   "cell_type": "code",
   "execution_count": 122,
   "outputs": [
    {
     "name": "stderr",
     "output_type": "stream",
     "text": [
      "Reusing dataset doc2dial (./data_cache_doc2vec_notebook/doc2dial/doc2dial_rc/1.0.1/765cb4d9af421b599d910080fd61b4a43440c1232693876470ef3245daa5fa4c)\n"
     ]
    },
    {
     "data": {
      "text/plain": "                                        id  \\\n0       9f44c1539efe6f7e79b02eb1b413aa43_1   \n1       9f44c1539efe6f7e79b02eb1b413aa43_3   \n2       9f44c1539efe6f7e79b02eb1b413aa43_5   \n3       9f44c1539efe6f7e79b02eb1b413aa43_7   \n4       9f44c1539efe6f7e79b02eb1b413aa43_9   \n...                                    ...   \n20426   1bd63c7902f89f095942937e9cf68bbd_4   \n20427   1bd63c7902f89f095942937e9cf68bbd_6   \n20428   1bd63c7902f89f095942937e9cf68bbd_8   \n20429  1bd63c7902f89f095942937e9cf68bbd_10   \n20430  1bd63c7902f89f095942937e9cf68bbd_12   \n\n                                                  title  \\\n0          Top 5 DMV Mistakes and How to Avoid Them#3_0   \n1          Top 5 DMV Mistakes and How to Avoid Them#3_0   \n2          Top 5 DMV Mistakes and How to Avoid Them#3_0   \n3          Top 5 DMV Mistakes and How to Avoid Them#3_0   \n4          Top 5 DMV Mistakes and How to Avoid Them#3_0   \n...                                                 ...   \n20426  Student Loan Repayment | Federal Student Aid#1_0   \n20427  Student Loan Repayment | Federal Student Aid#1_0   \n20428  Student Loan Repayment | Federal Student Aid#1_0   \n20429  Student Loan Repayment | Federal Student Aid#1_0   \n20430  Student Loan Repayment | Federal Student Aid#1_0   \n\n                                                 context  \\\n0      Many DMV customers make easily avoidable mista...   \n1      Many DMV customers make easily avoidable mista...   \n2      Many DMV customers make easily avoidable mista...   \n3      Many DMV customers make easily avoidable mista...   \n4      Many DMV customers make easily avoidable mista...   \n...                                                  ...   \n20426  \\n\\nStudent Loan Repayment \\nBefore repayment ...   \n20427  \\n\\nStudent Loan Repayment \\nBefore repayment ...   \n20428  \\n\\nStudent Loan Repayment \\nBefore repayment ...   \n20429  \\n\\nStudent Loan Repayment \\nBefore repayment ...   \n20430  \\n\\nStudent Loan Repayment \\nBefore repayment ...   \n\n                                                question  \\\n0      user:Hello, I forgot o update my address, can ...   \n1      user:Can I do my DMV transactions online? \\tag...   \n2      user:Thanks, and in case I forget to bring all...   \n3      user:Ok, and can you tell me again where shoul...   \n4      user:Can you tell me more about Traffic points...   \n...                                                  ...   \n20426  user:If I want to know more about this topic a...   \n20427  user:ok i understand and what things should i ...   \n20428  user:What if it's not up to me and I can't mak...   \n20429  user:How can I make a payment by post? \\tagent...   \n20430  user:Can you forgive the student loan? \\tagent...   \n\n                                                 answers      domain  \n0      {'text': ['you must report a change of address...         dmv  \n1      {'text': ['Sign up or log into MyDMV [6 ] '], ...         dmv  \n2      {'text': ['About ten percent of customers visi...         dmv  \n3      {'text': ['you must report a change of address...         dmv  \n4      {'text': ['DMV maintains a point system to tra...         dmv  \n...                                                  ...         ...  \n20426  {'text': ['you receive a 0.25% interest rate d...  studentaid  \n20427  {'text': ['One thing you definitely want to av...  studentaid  \n20428  {'text': ['contact your loan servicer to find ...  studentaid  \n20429  {'text': ['contact your loan servicer for the ...  studentaid  \n20430  {'text': ['You are generally required to repay...  studentaid  \n\n[20431 rows x 6 columns]",
      "text/html": "<div>\n<style scoped>\n    .dataframe tbody tr th:only-of-type {\n        vertical-align: middle;\n    }\n\n    .dataframe tbody tr th {\n        vertical-align: top;\n    }\n\n    .dataframe thead th {\n        text-align: right;\n    }\n</style>\n<table border=\"1\" class=\"dataframe\">\n  <thead>\n    <tr style=\"text-align: right;\">\n      <th></th>\n      <th>id</th>\n      <th>title</th>\n      <th>context</th>\n      <th>question</th>\n      <th>answers</th>\n      <th>domain</th>\n    </tr>\n  </thead>\n  <tbody>\n    <tr>\n      <th>0</th>\n      <td>9f44c1539efe6f7e79b02eb1b413aa43_1</td>\n      <td>Top 5 DMV Mistakes and How to Avoid Them#3_0</td>\n      <td>Many DMV customers make easily avoidable mista...</td>\n      <td>user:Hello, I forgot o update my address, can ...</td>\n      <td>{'text': ['you must report a change of address...</td>\n      <td>dmv</td>\n    </tr>\n    <tr>\n      <th>1</th>\n      <td>9f44c1539efe6f7e79b02eb1b413aa43_3</td>\n      <td>Top 5 DMV Mistakes and How to Avoid Them#3_0</td>\n      <td>Many DMV customers make easily avoidable mista...</td>\n      <td>user:Can I do my DMV transactions online? \\tag...</td>\n      <td>{'text': ['Sign up or log into MyDMV [6 ] '], ...</td>\n      <td>dmv</td>\n    </tr>\n    <tr>\n      <th>2</th>\n      <td>9f44c1539efe6f7e79b02eb1b413aa43_5</td>\n      <td>Top 5 DMV Mistakes and How to Avoid Them#3_0</td>\n      <td>Many DMV customers make easily avoidable mista...</td>\n      <td>user:Thanks, and in case I forget to bring all...</td>\n      <td>{'text': ['About ten percent of customers visi...</td>\n      <td>dmv</td>\n    </tr>\n    <tr>\n      <th>3</th>\n      <td>9f44c1539efe6f7e79b02eb1b413aa43_7</td>\n      <td>Top 5 DMV Mistakes and How to Avoid Them#3_0</td>\n      <td>Many DMV customers make easily avoidable mista...</td>\n      <td>user:Ok, and can you tell me again where shoul...</td>\n      <td>{'text': ['you must report a change of address...</td>\n      <td>dmv</td>\n    </tr>\n    <tr>\n      <th>4</th>\n      <td>9f44c1539efe6f7e79b02eb1b413aa43_9</td>\n      <td>Top 5 DMV Mistakes and How to Avoid Them#3_0</td>\n      <td>Many DMV customers make easily avoidable mista...</td>\n      <td>user:Can you tell me more about Traffic points...</td>\n      <td>{'text': ['DMV maintains a point system to tra...</td>\n      <td>dmv</td>\n    </tr>\n    <tr>\n      <th>...</th>\n      <td>...</td>\n      <td>...</td>\n      <td>...</td>\n      <td>...</td>\n      <td>...</td>\n      <td>...</td>\n    </tr>\n    <tr>\n      <th>20426</th>\n      <td>1bd63c7902f89f095942937e9cf68bbd_4</td>\n      <td>Student Loan Repayment | Federal Student Aid#1_0</td>\n      <td>\\n\\nStudent Loan Repayment \\nBefore repayment ...</td>\n      <td>user:If I want to know more about this topic a...</td>\n      <td>{'text': ['you receive a 0.25% interest rate d...</td>\n      <td>studentaid</td>\n    </tr>\n    <tr>\n      <th>20427</th>\n      <td>1bd63c7902f89f095942937e9cf68bbd_6</td>\n      <td>Student Loan Repayment | Federal Student Aid#1_0</td>\n      <td>\\n\\nStudent Loan Repayment \\nBefore repayment ...</td>\n      <td>user:ok i understand and what things should i ...</td>\n      <td>{'text': ['One thing you definitely want to av...</td>\n      <td>studentaid</td>\n    </tr>\n    <tr>\n      <th>20428</th>\n      <td>1bd63c7902f89f095942937e9cf68bbd_8</td>\n      <td>Student Loan Repayment | Federal Student Aid#1_0</td>\n      <td>\\n\\nStudent Loan Repayment \\nBefore repayment ...</td>\n      <td>user:What if it's not up to me and I can't mak...</td>\n      <td>{'text': ['contact your loan servicer to find ...</td>\n      <td>studentaid</td>\n    </tr>\n    <tr>\n      <th>20429</th>\n      <td>1bd63c7902f89f095942937e9cf68bbd_10</td>\n      <td>Student Loan Repayment | Federal Student Aid#1_0</td>\n      <td>\\n\\nStudent Loan Repayment \\nBefore repayment ...</td>\n      <td>user:How can I make a payment by post? \\tagent...</td>\n      <td>{'text': ['contact your loan servicer for the ...</td>\n      <td>studentaid</td>\n    </tr>\n    <tr>\n      <th>20430</th>\n      <td>1bd63c7902f89f095942937e9cf68bbd_12</td>\n      <td>Student Loan Repayment | Federal Student Aid#1_0</td>\n      <td>\\n\\nStudent Loan Repayment \\nBefore repayment ...</td>\n      <td>user:Can you forgive the student loan? \\tagent...</td>\n      <td>{'text': ['You are generally required to repay...</td>\n      <td>studentaid</td>\n    </tr>\n  </tbody>\n</table>\n<p>20431 rows × 6 columns</p>\n</div>"
     },
     "execution_count": 122,
     "metadata": {},
     "output_type": "execute_result"
    }
   ],
   "source": [
    "# load the rc_dataset\n",
    "rc_dataset = load_dataset(\n",
    "    \"doc2dial\",\n",
    "    name=\"doc2dial_rc\",\n",
    "    split=split,\n",
    "    ignore_verifications=True,\n",
    "    cache_dir=cache_dir,\n",
    ")\n",
    "import pandas as pd\n",
    "\n",
    "rc_dataset_df = pd.DataFrame(data=rc_dataset)\n",
    "rc_dataset_df\n",
    "\n"
   ],
   "metadata": {
    "collapsed": false,
    "pycharm": {
     "name": "#%%\n"
    }
   }
  },
  {
   "cell_type": "code",
   "execution_count": 123,
   "outputs": [
    {
     "data": {
      "text/plain": "  0%|          | 0/21 [00:00<?, ?ba/s]",
      "application/vnd.jupyter.widget-view+json": {
       "version_major": 2,
       "version_minor": 0,
       "model_id": "6f16d18a49544b2eb78fd3432def75cd"
      }
     },
     "metadata": {},
     "output_type": "display_data"
    },
    {
     "data": {
      "text/plain": "Dataset({\n    features: ['id', 'title', 'context', 'question', 'answers', 'domain'],\n    num_rows: 40\n})"
     },
     "execution_count": 123,
     "metadata": {},
     "output_type": "execute_result"
    }
   ],
   "source": [
    "# filter rc dataset to only contain the doc I've trained with\n",
    "# using the doc id to filter\n",
    "\n",
    "rc_dataset_doc_id = rc_dataset.filter(lambda doc: doc['title'] == doc_id)\n",
    "rc_dataset_doc_id"
   ],
   "metadata": {
    "collapsed": false,
    "pycharm": {
     "name": "#%%\n"
    }
   }
  },
  {
   "cell_type": "code",
   "execution_count": 151,
   "outputs": [
    {
     "name": "stdout",
     "output_type": "stream",
     "text": [
      "Question: user:II'm going to be co-signing a federal aid loan for my wife and I need some more information about how it works.\n",
      "\n",
      "processed words: ['an', 'mail', 'containing', 'the', 'reference', 'number', 'co', 'sign', 'code', 'was', 'sent', 'to', 'him', 'or', 'her']\n",
      "\n",
      "Original words: An e - mail containing the Reference Number / Co - sign Code was sent to him or her. \n",
      "\n",
      "Question: user:Does it matter that the Income-Driven Repayment Plan Request was done as part of a Direct Consolidation Loan Application? \tuser:No. I'm not sure how it works. \tagent:Are you aware of your obligations to repay as the co-signer? \tagent:I can help you with that. A co-signer is the spouse of an applicant who initiated an Income-Driven Repayment Plan Request.  \tuser:II'm going to be co-signing a federal aid loan for my wife and I need some more information about how it works.\n",
      "\n",
      "processed words: ['co', 'sign', 'income', 'driven', 'repayment', 'idr', 'plan', 'request']\n",
      "\n",
      "Original words: Co - sign Income - Driven Repayment IDR Plan Request \n",
      "\n",
      "Question: user:Who all can co-sign for this? \tagent:No. Your wife will just have to click on \"Direct Consolidations Loan Applications\" under \"My Loan Documents\" to find the co-sign code, you will need. \tuser:Does it matter that the Income-Driven Repayment Plan Request was done as part of a Direct Consolidation Loan Application? \tuser:No. I'm not sure how it works. \tagent:Are you aware of your obligations to repay as the co-signer? \tagent:I can help you with that. A co-signer is the spouse of an applicant who initiated an Income-Driven Repayment Plan Request.  \tuser:II'm going to be co-signing a federal aid loan for my wife and I need some more information about how it works.\n",
      "\n",
      "processed words: ['co', 'sign', 'income', 'driven', 'repayment', 'idr', 'plan', 'request']\n",
      "\n",
      "Original words: Co - sign Income - Driven Repayment IDR Plan Request \n",
      "\n",
      "Question: user:Do I need a Financial Information Note when I co-sign? \tagent:Only the spouse of an applicant that initiated an Income-Driven Repayment Request. \tuser:Who all can co-sign for this? \tagent:No. Your wife will just have to click on \"Direct Consolidations Loan Applications\" under \"My Loan Documents\" to find the co-sign code, you will need. \tuser:Does it matter that the Income-Driven Repayment Plan Request was done as part of a Direct Consolidation Loan Application? \tuser:No. I'm not sure how it works. \tagent:Are you aware of your obligations to repay as the co-signer? \tagent:I can help you with that. A co-signer is the spouse of an applicant who initiated an Income-Driven Repayment Plan Request.  \tuser:II'm going to be co-signing a federal aid loan for my wife and I need some more information about how it works.\n",
      "\n",
      "processed words: ['co', 'sign', 'income', 'driven', 'repayment', 'idr', 'plan', 'request']\n",
      "\n",
      "Original words: Co - sign Income - Driven Repayment IDR Plan Request \n",
      "\n",
      "Question: user:What if I can't find the Co-sign code? \tagent:A Financial Information Note is only needed if you file income taxes separately from your wife. \tuser:Do I need a Financial Information Note when I co-sign? \tagent:Only the spouse of an applicant that initiated an Income-Driven Repayment Request. \tuser:Who all can co-sign for this? \tagent:No. Your wife will just have to click on \"Direct Consolidations Loan Applications\" under \"My Loan Documents\" to find the co-sign code, you will need. \tuser:Does it matter that the Income-Driven Repayment Plan Request was done as part of a Direct Consolidation Loan Application? \tuser:No. I'm not sure how it works. \tagent:Are you aware of your obligations to repay as the co-signer? \tagent:I can help you with that. A co-signer is the spouse of an applicant who initiated an Income-Driven Repayment Plan Request.  \tuser:II'm going to be co-signing a federal aid loan for my wife and I need some more information about how it works.\n",
      "\n",
      "processed words: ['who', 'should', 'complete', 'this']\n",
      "\n",
      "Original words: \n",
      "\n",
      "Who should complete this? \n",
      "\n",
      "\n",
      "Question: user:Can you explain what a co-signer is?\n",
      "\n",
      "processed words: ['co', 'sign', 'income', 'driven', 'repayment', 'idr', 'plan', 'request']\n",
      "\n",
      "Original words: Co - sign Income - Driven Repayment IDR Plan Request \n",
      "\n",
      "Question: user:What about the reference number/co-sign code? \tuser:Yes, I understand that I am not obligated to pay back the loan as a co-signer on the borrower's IDR application. \tagent:Do you know that the co-signer is not obligated to repay the loan by signing a borrowers IDR application? \tagent:Yes, with the income-driven repayment plan the co-signer is the spouse of the applicant. \tuser:Can you explain what a co-signer is?\n",
      "\n",
      "processed words: ['co', 'sign', 'income', 'driven', 'repayment', 'idr', 'plan', 'request']\n",
      "\n",
      "Original words: Co - sign Income - Driven Repayment IDR Plan Request \n",
      "\n",
      "Question: user:Who should complete the co-signer part of the IDR plan request? \tagent:The IDR applicant should have given you the reference number/co-sign code. \tuser:What about the reference number/co-sign code? \tuser:Yes, I understand that I am not obligated to pay back the loan as a co-signer on the borrower's IDR application. \tagent:Do you know that the co-signer is not obligated to repay the loan by signing a borrowers IDR application? \tagent:Yes, with the income-driven repayment plan the co-signer is the spouse of the applicant. \tuser:Can you explain what a co-signer is?\n",
      "\n",
      "processed words: ['co', 'sign', 'income', 'driven', 'repayment', 'idr', 'plan', 'request']\n",
      "\n",
      "Original words: Co - sign Income - Driven Repayment IDR Plan Request \n",
      "\n",
      "Question: user:What if I do not have the reference number or co-sign code? \tagent:If you are the spouse of the applicant who initiated the IDR Plan Request then you should complete it. \tuser:Who should complete the co-signer part of the IDR plan request? \tagent:The IDR applicant should have given you the reference number/co-sign code. \tuser:What about the reference number/co-sign code? \tuser:Yes, I understand that I am not obligated to pay back the loan as a co-signer on the borrower's IDR application. \tagent:Do you know that the co-signer is not obligated to repay the loan by signing a borrowers IDR application? \tagent:Yes, with the income-driven repayment plan the co-signer is the spouse of the applicant. \tuser:Can you explain what a co-signer is?\n",
      "\n",
      "processed words: ['who', 'should', 'complete', 'this']\n",
      "\n",
      "Original words: \n",
      "\n",
      "Who should complete this? \n",
      "\n",
      "\n",
      "Question: user:I do not know where the reference number or co-sign code is, how can i get it? \tagent:Then you should contact the IDR applicant because an email was sent to them containing the reference number or co-sign code. \tuser:What if I do not have the reference number or co-sign code? \tagent:If you are the spouse of the applicant who initiated the IDR Plan Request then you should complete it. \tuser:Who should complete the co-signer part of the IDR plan request? \tagent:The IDR applicant should have given you the reference number/co-sign code. \tuser:What about the reference number/co-sign code? \tuser:Yes, I understand that I am not obligated to pay back the loan as a co-signer on the borrower's IDR application. \tagent:Do you know that the co-signer is not obligated to repay the loan by signing a borrowers IDR application? \tagent:Yes, with the income-driven repayment plan the co-signer is the spouse of the applicant. \tuser:Can you explain what a co-signer is?\n",
      "\n",
      "processed words: ['co', 'sign', 'income', 'driven', 'repayment', 'idr', 'plan', 'request']\n",
      "\n",
      "Original words: Co - sign Income - Driven Repayment IDR Plan Request \n",
      "\n",
      "Question: user:Can you explain what a co-signer is for an Income-Driven Repayment Plan application?\n",
      "\n",
      "processed words: ['an', 'mail', 'containing', 'the', 'reference', 'number', 'co', 'sign', 'code', 'was', 'sent', 'to', 'him', 'or', 'her']\n",
      "\n",
      "Original words: An e - mail containing the Reference Number / Co - sign Code was sent to him or her. \n",
      "\n",
      "Question: user:What if the applicant completed an IDR plan request that was not part of a Direct Consolidation Loan Application? \tuser:Yes, that was explained to me. \tagent:Did they explain to you that you are not obligated as a spouse to repay the loan by co-signing? \tagent:A co-signer for an Income-Driver Repayment plan request is the spouse of the applicant. \tuser:Can you explain what a co-signer is for an Income-Driven Repayment Plan application?\n",
      "\n",
      "processed words: ['who', 'should', 'complete', 'this']\n",
      "\n",
      "Original words: \n",
      "\n",
      "Who should complete this? \n",
      "\n",
      "\n",
      "Question: user:Who should complete the co-signer form? \tagent:He or she will click on \"Income-Driven Repayment Plan Requests\" under \"My Loan Documents\" to find and provide you with the required Reference Number. \tuser:What if the applicant completed an IDR plan request that was not part of a Direct Consolidation Loan Application? \tuser:Yes, that was explained to me. \tagent:Did they explain to you that you are not obligated as a spouse to repay the loan by co-signing? \tagent:A co-signer for an Income-Driver Repayment plan request is the spouse of the applicant. \tuser:Can you explain what a co-signer is for an Income-Driven Repayment Plan application?\n",
      "\n",
      "processed words: ['who', 'should', 'complete', 'this']\n",
      "\n",
      "Original words: \n",
      "\n",
      "Who should complete this? \n",
      "\n",
      "\n",
      "Question: user:Where do I go to click for co-sign code? \tagent:If you are the spouse of the applicant, then you should complete the Income-Drive Repayment Plan Request. \tuser:Who should complete the co-signer form? \tagent:He or she will click on \"Income-Driven Repayment Plan Requests\" under \"My Loan Documents\" to find and provide you with the required Reference Number. \tuser:What if the applicant completed an IDR plan request that was not part of a Direct Consolidation Loan Application? \tuser:Yes, that was explained to me. \tagent:Did they explain to you that you are not obligated as a spouse to repay the loan by co-signing? \tagent:A co-signer for an Income-Driver Repayment plan request is the spouse of the applicant. \tuser:Can you explain what a co-signer is for an Income-Driven Repayment Plan application?\n",
      "\n",
      "processed words: ['co', 'sign', 'income', 'driven', 'repayment', 'idr', 'plan', 'request']\n",
      "\n",
      "Original words: Co - sign Income - Driven Repayment IDR Plan Request \n",
      "\n",
      "Question: user:What do I need to do? \tagent:You should click on \"Direct Consolidation Loan Applications\" under \"My Loan Documents\" to locate the code. \tuser:Where do I go to click for co-sign code? \tagent:If you are the spouse of the applicant, then you should complete the Income-Drive Repayment Plan Request. \tuser:Who should complete the co-signer form? \tagent:He or she will click on \"Income-Driven Repayment Plan Requests\" under \"My Loan Documents\" to find and provide you with the required Reference Number. \tuser:What if the applicant completed an IDR plan request that was not part of a Direct Consolidation Loan Application? \tuser:Yes, that was explained to me. \tagent:Did they explain to you that you are not obligated as a spouse to repay the loan by co-signing? \tagent:A co-signer for an Income-Driver Repayment plan request is the spouse of the applicant. \tuser:Can you explain what a co-signer is for an Income-Driven Repayment Plan application?\n",
      "\n",
      "processed words: ['co', 'sign', 'income', 'driven', 'repayment', 'idr', 'plan', 'request']\n",
      "\n",
      "Original words: Co - sign Income - Driven Repayment IDR Plan Request \n",
      "\n"
     ]
    },
    {
     "ename": "IndexError",
     "evalue": "list index out of range",
     "output_type": "error",
     "traceback": [
      "\u001B[0;31m---------------------------------------------------------------------------\u001B[0m",
      "\u001B[0;31mIndexError\u001B[0m                                Traceback (most recent call last)",
      "\u001B[0;32m/var/folders/tb/kxdncxw16gx7p6y4hsgc0y540000gn/T/ipykernel_92204/4238603180.py\u001B[0m in \u001B[0;36m<module>\u001B[0;34m\u001B[0m\n\u001B[1;32m     15\u001B[0m     \u001B[0;31m#find the most similar document (spans)\u001B[0m\u001B[0;34m\u001B[0m\u001B[0;34m\u001B[0m\u001B[0m\n\u001B[1;32m     16\u001B[0m     \u001B[0msims\u001B[0m \u001B[0;34m=\u001B[0m \u001B[0mmodel\u001B[0m\u001B[0;34m.\u001B[0m\u001B[0mdv\u001B[0m\u001B[0;34m.\u001B[0m\u001B[0mmost_similar\u001B[0m\u001B[0;34m(\u001B[0m\u001B[0;34m[\u001B[0m\u001B[0mvector\u001B[0m\u001B[0;34m]\u001B[0m\u001B[0;34m,\u001B[0m \u001B[0mtopn\u001B[0m\u001B[0;34m=\u001B[0m\u001B[0;36m1\u001B[0m\u001B[0;34m)\u001B[0m\u001B[0;34m\u001B[0m\u001B[0;34m\u001B[0m\u001B[0m\n\u001B[0;32m---> 17\u001B[0;31m     \u001B[0mmost_likely_answer\u001B[0m \u001B[0;34m=\u001B[0m \u001B[0mtraining_docs\u001B[0m\u001B[0;34m[\u001B[0m\u001B[0msims\u001B[0m\u001B[0;34m[\u001B[0m\u001B[0;36m0\u001B[0m\u001B[0;34m]\u001B[0m\u001B[0;34m[\u001B[0m\u001B[0;36m0\u001B[0m\u001B[0;34m]\u001B[0m\u001B[0;34m]\u001B[0m\u001B[0;34m\u001B[0m\u001B[0;34m\u001B[0m\u001B[0m\n\u001B[0m\u001B[1;32m     18\u001B[0m     \u001B[0mmost_likely_predicted_tag\u001B[0m \u001B[0;34m=\u001B[0m \u001B[0mmost_likely_answer\u001B[0m\u001B[0;34m.\u001B[0m\u001B[0mtags\u001B[0m\u001B[0;34m\u001B[0m\u001B[0;34m\u001B[0m\u001B[0m\n\u001B[1;32m     19\u001B[0m     \u001B[0;31m#find original text for tag\u001B[0m\u001B[0;34m\u001B[0m\u001B[0;34m\u001B[0m\u001B[0m\n",
      "\u001B[0;31mIndexError\u001B[0m: list index out of range"
     ]
    }
   ],
   "source": [
    "#now lets try to use the rc dataset to do the predictions\n",
    "#simple infer vector for the question and use the most frequent response as response\n",
    "predictions = []\n",
    "references = []\n",
    "for example in rc_dataset_doc_id:\n",
    "    question_ = example[\"question\"]\n",
    "    # it does better if the user and agent string are left\n",
    "    # question_ = question_.replace('user:', '')\n",
    "    # question_ = question_.replace('agent:', '')\n",
    "\n",
    "    #preprocess question in the same way\n",
    "    test_doc = simple_preprocess(question_, deacc=True)\n",
    "    #calculate vector using model\n",
    "    vector = model.infer_vector(test_doc)\n",
    "    #find the most similar document (spans)\n",
    "    sims = model.dv.most_similar([vector], topn=1)\n",
    "    most_likely_answer = training_docs[sims[0][0] - 1]\n",
    "    most_likely_predicted_tag = most_likely_answer.tags\n",
    "    #find original text for tag\n",
    "    most_likely_predicted_text = spans[most_likely_predicted_tag[0]-1]\n",
    "    print(f'Question: {question_}\\n')\n",
    "    print(f'processed words: {most_likely_answer.words}\\n')\n",
    "    print(f'Original words: {most_likely_predicted_text}\\n')\n",
    "\n",
    "    id_ = example[\"id\"]\n",
    "    predictions.append(\n",
    "        {'id': id_,\n",
    "         'prediction_text':\n",
    "             most_likely_predicted_text,\n",
    "         'no_answer_probability': 0.0\n",
    "         }\n",
    "    )\n",
    "\n",
    "    #just using their answers\n",
    "    references.append(\n",
    "        {\n",
    "            \"id\": id_,\n",
    "            \"answers\": example[\"answers\"],\n",
    "        }\n",
    "    )\n",
    "\n",
    "metric.add_batch(predictions=predictions, references=references)\n",
    "final_score = metric.compute()\n",
    "final_score\n"
   ],
   "metadata": {
    "collapsed": false,
    "pycharm": {
     "name": "#%%\n"
    }
   }
  },
  {
   "cell_type": "code",
   "execution_count": null,
   "outputs": [],
   "source": [
    "\n",
    "d_id_reference = {}\n",
    "for ex in rc_dataset:\n",
    "    d_id_reference[ex[\"id\"]] = 0\n",
    "    references.append(\n",
    "        {\n",
    "            \"id\": ex[\"id\"],\n",
    "            \"answers\": ex[\"answers\"],\n",
    "        }\n",
    "    )\n",
    "assert (\n",
    "        len(references)\n",
    "        == len(d_id_reference)\n",
    "), \"Ensure the matching count of instances of references and predictioins\"\n",
    "\n",
    "references"
   ],
   "metadata": {
    "collapsed": false,
    "pycharm": {
     "name": "#%%\n"
    }
   }
  },
  {
   "cell_type": "markdown",
   "source": [
    "# Questions\n",
    "\n",
    "- How to evaluate an F1 if it's not a classifier?\n",
    "- What data set should we use to train and which one to test?\n",
    "- Evaluation why does the rc data set not have all the questions from the dialogues?\n",
    "- Many mistakes are due to spans being so small, what was the sense behind that and do we have to  use their spans or would\n",
    "it make more sense to keep a paragraph together?\n",
    "\n",
    "- how to improve training e.g should I train accross all documents\n",
    "- improve accross domain?\n",
    "\n"
   ],
   "metadata": {
    "collapsed": false,
    "pycharm": {
     "name": "#%% md\n"
    }
   }
  },
  {
   "cell_type": "code",
   "execution_count": null,
   "outputs": [],
   "source": [],
   "metadata": {
    "collapsed": false,
    "pycharm": {
     "name": "#%%\n"
    }
   }
  },
  {
   "cell_type": "code",
   "execution_count": null,
   "outputs": [],
   "source": [],
   "metadata": {
    "collapsed": false,
    "pycharm": {
     "name": "#%%\n"
    }
   }
  },
  {
   "cell_type": "code",
   "execution_count": null,
   "outputs": [],
   "source": [],
   "metadata": {
    "collapsed": false,
    "pycharm": {
     "name": "#%%\n"
    }
   }
  },
  {
   "cell_type": "code",
   "execution_count": null,
   "outputs": [],
   "source": [],
   "metadata": {
    "collapsed": false,
    "pycharm": {
     "name": "#%%\n"
    }
   }
  },
  {
   "cell_type": "markdown",
   "source": [
    "# Naive Bayes with simple word counts\n",
    " - abandoned due to problem with how to train and breach the gap between user dialogue and grounding document\n",
    " - and not clear how to use as multilabel classifier\n",
    "Task:\n",
    "- input:\n",
    "    - dialogue history for current discussion (turns.utterance from dialogue)\n",
    "    - doc_id for the grounding document to find the span from\n",
    "- output:\n",
    "    - the text_sp in documents for a certain doc_id that the agent would need to respond to the user\n",
    "\n",
    "Training:\n",
    "- fit(X, y) -> X (n_samples, n_features) training vectors, y  = target values (e.g relevant=1, not relevant)\n"
   ],
   "metadata": {
    "collapsed": false
   }
  },
  {
   "cell_type": "code",
   "execution_count": null,
   "outputs": [],
   "source": [
    "#Train on the document spans\n",
    "#Input X_train: rows=spans, columns=feature for span + utternace for that span\n",
    "#Output Y: 0 if span relevant or not"
   ],
   "metadata": {
    "collapsed": false,
    "pycharm": {
     "name": "#%%\n"
    }
   }
  },
  {
   "cell_type": "markdown",
   "source": [
    "# Evaluation of Simplest Model\n",
    "\n",
    "Required output format is a json file of predictions with id, prediction_text and no_answer_probability\n",
    "https://github.com/doc2dial/sharedtask-dialdoc2021/blob/master/scripts/sample_files/sample_prediction_subtask1.json\n"
   ],
   "metadata": {
    "collapsed": false
   }
  },
  {
   "cell_type": "code",
   "execution_count": null,
   "outputs": [],
   "source": [],
   "metadata": {
    "collapsed": false,
    "pycharm": {
     "name": "#%%\n"
    }
   }
  },
  {
   "cell_type": "markdown",
   "source": [
    "# Iteration\n",
    "\n",
    "\n",
    "- extend for training data set as suggested by dialdoc https://mrqa.github.io/2019/shared"
   ],
   "metadata": {
    "collapsed": false,
    "pycharm": {
     "name": "#%% md\n"
    }
   }
  },
  {
   "cell_type": "code",
   "execution_count": null,
   "outputs": [],
   "source": [],
   "metadata": {
    "collapsed": false,
    "pycharm": {
     "name": "#%%\n"
    }
   }
  }
 ],
 "metadata": {
  "kernelspec": {
   "display_name": "Python 3",
   "language": "python",
   "name": "python3"
  },
  "language_info": {
   "codemirror_mode": {
    "name": "ipython",
    "version": 2
   },
   "file_extension": ".py",
   "mimetype": "text/x-python",
   "name": "python",
   "nbconvert_exporter": "python",
   "pygments_lexer": "ipython2",
   "version": "2.7.6"
  }
 },
 "nbformat": 4,
 "nbformat_minor": 0
}