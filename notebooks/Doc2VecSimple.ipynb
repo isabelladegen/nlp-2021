{
 "cells": [
  {
   "cell_type": "markdown",
   "metadata": {
    "collapsed": true,
    "pycharm": {
     "name": "#%% md\n"
    }
   },
   "source": [
    "# Simple Doc2Vec\n",
    "\n",
    "- Standard preprocessing\n",
    "- One network per grounding Document\n",
    "- Predict the best matching span\n",
    "- Use RCQuestion set as is (give in question with history, no processing of question other than the same prepocessing)"
   ]
  },
  {
   "cell_type": "markdown",
   "source": [
    "## 1. Preprocessing Grounding Documents\n",
    "- uses documents dataset and returns a GroundingDocument class for each of the document"
   ],
   "metadata": {
    "collapsed": false,
    "pycharm": {
     "name": "#%% md\n"
    }
   }
  },
  {
   "cell_type": "code",
   "execution_count": 1,
   "outputs": [
    {
     "name": "stderr",
     "output_type": "stream",
     "text": [
      "Reusing dataset doc2dial (./data_cache_src/doc2dial/document_domain/1.0.1/765cb4d9af421b599d910080fd61b4a43440c1232693876470ef3245daa5fa4c)\n"
     ]
    }
   ],
   "source": [
    "from src.preprocessing_documents import load_documents_df, grounding_documents_for_dataframe\n",
    "from src.train_and_predict import BatchTrainer\n",
    "\n",
    "NUMBER_OF_GROUNDING_DOCUMENTS = 488\n",
    "\n",
    "# load all grounding documents\n",
    "df = load_documents_df(\"train\")\n",
    "assert df.shape[0] == NUMBER_OF_GROUNDING_DOCUMENTS\n",
    "\n",
    "# pre-process grounding documents ready for training\n",
    "grounding_documents = grounding_documents_for_dataframe(df)\n",
    "assert len(grounding_documents) == NUMBER_OF_GROUNDING_DOCUMENTS"
   ],
   "metadata": {
    "collapsed": false,
    "pycharm": {
     "name": "#%%\n"
    }
   }
  },
  {
   "cell_type": "markdown",
   "source": [
    "## 2. Train Doc2Vec\n",
    "- uses the BatchTrainer and trains a network per grounding document"
   ],
   "metadata": {
    "collapsed": false,
    "pycharm": {
     "name": "#%% md\n"
    }
   }
  },
  {
   "cell_type": "code",
   "execution_count": 2,
   "outputs": [],
   "source": [
    "# train a model for each grounding document\n",
    "trainer = BatchTrainer(grounding_documents)\n",
    "assert len(trainer.trainedModels) == NUMBER_OF_GROUNDING_DOCUMENTS"
   ],
   "metadata": {
    "collapsed": false,
    "pycharm": {
     "name": "#%%\n"
    }
   }
  },
  {
   "cell_type": "markdown",
   "source": [
    "## 3. Predictions\n",
    "- uses RC Dataset to predict the grounding text for the questions\n",
    "- no special pre-processing of the question other than what as has been done for the grounding document spans\n"
   ],
   "metadata": {
    "collapsed": false,
    "pycharm": {
     "name": "#%% md\n"
    }
   }
  },
  {
   "cell_type": "code",
   "execution_count": 7,
   "outputs": [
    {
     "name": "stderr",
     "output_type": "stream",
     "text": [
      "Reusing dataset doc2dial (./data_cache_src/doc2dial/doc2dial_rc/1.0.1/765cb4d9af421b599d910080fd61b4a43440c1232693876470ef3245daa5fa4c)\n"
     ]
    }
   ],
   "source": [
    "from src.preprocessing_rc import load_rc_dataset\n",
    "\n",
    "train_predictions = trainer.predict_answers_for(load_rc_dataset(\"train\"))"
   ],
   "metadata": {
    "collapsed": false,
    "pycharm": {
     "name": "#%%\n"
    }
   }
  },
  {
   "cell_type": "markdown",
   "source": [
    "## 4. Evaluations\n",
    "- uses the 'squad2' metric to calculate the scores for the predictions\n"
   ],
   "metadata": {
    "collapsed": false,
    "pycharm": {
     "name": "#%% md\n"
    }
   }
  },
  {
   "cell_type": "code",
   "execution_count": 8,
   "outputs": [
    {
     "data": {
      "text/plain": "{'exact': 1.375360971073369,\n 'f1': 15.220391689165405,\n 'total': 20431,\n 'HasAns_exact': 1.375360971073369,\n 'HasAns_f1': 15.220391689165405,\n 'HasAns_total': 20431,\n 'best_exact': 1.375360971073369,\n 'best_exact_thresh': 0.0,\n 'best_f1': 15.220391689165405,\n 'best_f1_thresh': 0.0}"
     },
     "execution_count": 8,
     "metadata": {},
     "output_type": "execute_result"
    }
   ],
   "source": [
    "train_score = train_predictions.squad2_score()\n",
    "train_score"
   ],
   "metadata": {
    "collapsed": false,
    "pycharm": {
     "name": "#%%\n"
    }
   }
  },
  {
   "cell_type": "markdown",
   "source": [
    "## 5. Validation\n",
    "Given that the model is trained on the grounding doc only we can just re-run the predictions and evaluation for the validation dataset"
   ],
   "metadata": {
    "collapsed": false,
    "pycharm": {
     "name": "#%% md\n"
    }
   }
  },
  {
   "cell_type": "code",
   "execution_count": 9,
   "outputs": [
    {
     "name": "stderr",
     "output_type": "stream",
     "text": [
      "Reusing dataset doc2dial (./data_cache_src/doc2dial/doc2dial_rc/1.0.1/765cb4d9af421b599d910080fd61b4a43440c1232693876470ef3245daa5fa4c)\n"
     ]
    },
    {
     "data": {
      "text/plain": "{'exact': 1.283987915407855,\n 'f1': 15.611065094429934,\n 'total': 3972,\n 'HasAns_exact': 1.283987915407855,\n 'HasAns_f1': 15.611065094429934,\n 'HasAns_total': 3972,\n 'best_exact': 1.283987915407855,\n 'best_exact_thresh': 0.0,\n 'best_f1': 15.611065094429934,\n 'best_f1_thresh': 0.0}"
     },
     "execution_count": 9,
     "metadata": {},
     "output_type": "execute_result"
    }
   ],
   "source": [
    "validation_predictions = trainer.predict_answers_for(load_rc_dataset(\"validation\"))\n",
    "validation_score = validation_predictions.squad2_score()\n",
    "validation_score"
   ],
   "metadata": {
    "collapsed": false,
    "pycharm": {
     "name": "#%%\n"
    }
   }
  },
  {
   "cell_type": "code",
   "execution_count": null,
   "outputs": [],
   "source": [],
   "metadata": {
    "collapsed": false,
    "pycharm": {
     "name": "#%%\n"
    }
   }
  }
 ],
 "metadata": {
  "kernelspec": {
   "display_name": "Python 3",
   "language": "python",
   "name": "python3"
  },
  "language_info": {
   "codemirror_mode": {
    "name": "ipython",
    "version": 2
   },
   "file_extension": ".py",
   "mimetype": "text/x-python",
   "name": "python",
   "nbconvert_exporter": "python",
   "pygments_lexer": "ipython2",
   "version": "2.7.6"
  }
 },
 "nbformat": 4,
 "nbformat_minor": 0
}