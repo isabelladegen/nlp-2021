{
 "cells": [
  {
   "cell_type": "markdown",
   "metadata": {
    "collapsed": true,
    "pycharm": {
     "name": "#%% md\n"
    }
   },
   "source": [
    "# Simple Doc2Vec\n",
    "\n",
    "- Standard preprocessing\n",
    "- One network per grounding Document\n",
    "- Predict the best matching span\n",
    "- Use RCQuestion set as is (give in question with history, no processing of question other than the same prepocessing)"
   ]
  },
  {
   "cell_type": "code",
   "execution_count": null,
   "outputs": [],
   "source": [
    "# 1. Train models\n",
    "#    - pre process document data -> Grounding Docs\n",
    "#    - tune model parameters -> Batch Trainer\n",
    "#    DATA: Documents dataset\n",
    "#\n",
    "\n",
    "\n",
    "\n",
    "# 2. Predict rc question\n",
    "#    - pre process rc question -> RCData\n",
    "#    - predict answers and create predictions and references -> BatchTrainer\n",
    "#    DATA: RC dataset\n",
    "#\n",
    "\n",
    "\n",
    "# 3. Evaluate results\n",
    "#    - Squad 2 metrics -> Evaluate\n",
    "\n"
   ],
   "metadata": {
    "collapsed": false,
    "pycharm": {
     "name": "#%%\n"
    }
   }
  }
 ],
 "metadata": {
  "kernelspec": {
   "display_name": "Python 3",
   "language": "python",
   "name": "python3"
  },
  "language_info": {
   "codemirror_mode": {
    "name": "ipython",
    "version": 2
   },
   "file_extension": ".py",
   "mimetype": "text/x-python",
   "name": "python",
   "nbconvert_exporter": "python",
   "pygments_lexer": "ipython2",
   "version": "2.7.6"
  }
 },
 "nbformat": 4,
 "nbformat_minor": 0
}