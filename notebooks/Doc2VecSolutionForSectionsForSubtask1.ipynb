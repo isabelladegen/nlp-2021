{
 "cells": [
  {
   "cell_type": "markdown",
   "metadata": {
    "collapsed": true,
    "pycharm": {
     "name": "#%% md\n"
    }
   },
   "source": [
    "###  Load Dataset\n"
   ]
  },
  {
   "cell_type": "code",
   "execution_count": 1,
   "outputs": [
    {
     "name": "stderr",
     "output_type": "stream",
     "text": [
      "Reusing dataset doc2dial (./data_cache_doc2vec_solution_notebook/doc2dial/dialogue_domain/1.0.1/765cb4d9af421b599d910080fd61b4a43440c1232693876470ef3245daa5fa4c)\n",
      "Reusing dataset doc2dial (./data_cache_doc2vec_solution_notebook/doc2dial/document_domain/1.0.1/765cb4d9af421b599d910080fd61b4a43440c1232693876470ef3245daa5fa4c)\n",
      "Reusing dataset doc2dial (./data_cache_doc2vec_solution_notebook/doc2dial/doc2dial_rc/1.0.1/765cb4d9af421b599d910080fd61b4a43440c1232693876470ef3245daa5fa4c)\n"
     ]
    }
   ],
   "source": [
    "from datasets import load_dataset\n",
    "\n",
    "split = \"train\"\n",
    "cache_dir = \"./data_cache_doc2vec_solution_notebook\"\n",
    "\n",
    "dialogue_dataset = load_dataset(\n",
    "    \"doc2dial\",\n",
    "    name=\"dialogue_domain\",\n",
    "    split=split,\n",
    "    ignore_verifications=True,\n",
    "    cache_dir=cache_dir,\n",
    ")\n",
    "\n",
    "document_dataset = load_dataset(\n",
    "    \"doc2dial\",\n",
    "    name=\"document_domain\",\n",
    "    split=split,\n",
    "    ignore_verifications=True,\n",
    "    cache_dir=cache_dir,\n",
    ")\n",
    "\n",
    "rc_dataset = load_dataset(\n",
    "    \"doc2dial\",\n",
    "    name=\"doc2dial_rc\",\n",
    "    split=split,\n",
    "    ignore_verifications=True,\n",
    "    cache_dir=cache_dir,\n",
    ")"
   ],
   "metadata": {
    "collapsed": false,
    "pycharm": {
     "name": "#%%\n"
    }
   }
  },
  {
   "cell_type": "markdown",
   "source": [
    "# Train a model for each document"
   ],
   "metadata": {
    "collapsed": false,
    "pycharm": {
     "name": "#%% md\n"
    }
   }
  },
  {
   "cell_type": "markdown",
   "source": [
    "### Preprocessing"
   ],
   "metadata": {
    "collapsed": false,
    "pycharm": {
     "name": "#%% md\n"
    }
   }
  },
  {
   "cell_type": "code",
   "execution_count": 2,
   "outputs": [],
   "source": [
    "import pandas as pd\n",
    "\n",
    "document_full_df = pd.DataFrame(data=document_dataset)\n",
    "\n",
    "# key=span_id, value=text\n",
    "def span_dict_for_doc(doc_id):\n",
    "    #use pandas as way faster\n",
    "    document = document_full_df.loc[document_full_df['doc_id'] == doc_id]\n",
    "    spans_dict = {}\n",
    "    for span in document['spans'].iloc[0]:\n",
    "        spans_dict[span['id_sp']]=span['text_sp']\n",
    "\n",
    "    return spans_dict\n",
    "\n"
   ],
   "metadata": {
    "collapsed": false,
    "pycharm": {
     "name": "#%%\n"
    }
   }
  },
  {
   "cell_type": "code",
   "execution_count": 3,
   "outputs": [
    {
     "data": {
      "text/plain": "dict_keys(['Benefits Planner: Disability | Approval Process | Social Security Administration#1_0', 'Benefits Planner: Disability | How You Qualify | Social Security Administration#1_0', 'Benefits Planner | Social Security Credits and Benefit Eligibility | SSA#1_0', 'Get a driver license#1_0', 'Get a copy of a TVB ticket#1_0', 'Mustard Gas Or Lewisite Exposure | Veterans Affairs#1_0', 'Benefits Planner: Retirement | Government Pension Offset (GPO) Calculator | Social Security Administration#2_0', 'Temporary surrender of vehicle plates (store plates for a season)#3_0', 'MPN for Graduate Students | Federal Student Aid#1_0', 'Voter Registration Application Frequently Asked Questions#1_0', 'Teacher Loan Forgiveness | Federal Student Aid#1_0', 'Renew a CDL#1_0', 'Register a vehicle when you are out-of-state#1_0', 'Reconstruct Military Records Destroyed In NPRC Fire | Veterans Affairs#1_0', 'Transfer IRP registration#1_0', 'About complaints and charges for dealer and transporter businesses#3_0', 'Surrender IRP registration and plates#1_0', 'Passenger vehicle registration fees, use taxes and supplemental fees#3_0', 'About complaints and charges for inspection stations and certified inspectors#3_0', 'Transfer ownership and acceptable proofs of ownership#3_0', 'Benefits Planner: Survivors | How You Apply | Social Security Administration#2_0', 'Types Of Veteran ID Cards | Veterans Affairs#1_0', 'Student Loan Repayment | Federal Student Aid#1_0', 'Supplemental Security Income (SSI) Benefits | Social Security Administration#1_0', 'Benefits Planner: Retirement | Online Calculator (WEP Version)#1_0', 'How to change your address#1_0', 'Veterans’ Educational Assistance Program (VEAP) | Veterans Affairs#1_0', 'Open a dealership#3_0', 'Benefit Verification Letter  | Social Security Administration#2_0', 'Point & Insurance Reduction Program#3_0', 'Accepting Aid | Federal Student Aid#1_0', 'Collections | Federal Student Aid#1_0', 'Finding and Applying for Scholarships | Federal Student Aid#1_0', 'Gainful Employment Data | Federal Student Aid#1_0', 'How Financial Aid Works | Federal Student Aid#1_0', 'Make a Student Loan Payment | Federal Student Aid#1_0', 'Receiving Financial Aid | Federal Student Aid#1_0', 'After You Apply For An Eligibility Determination | Veterans Affairs#1_0', 'Veteran Suicide Prevention | Veterans Affairs#1_0', 'Types of Financial Aid | Federal Student Aid#1_0', 'After You Apply For Health Care Benefits | Veterans Affairs#1_0', 'Lower or Suspend Student Loan Payments | Federal Student Aid#1_0', 'Veterans Technology Education Courses | Veterans Affairs#1_0', 'Schedule And View VA Appointments Online | Veterans Affairs#1_0', 'Benefits Planner: Disability | Social Security Administration#2_0', \"VA Individual Unemployability If You Can't Work | Veterans Affairs#1_0\", 'MyDMV Account Terms of Service#1_0', 'Get a CDL#1_0', 'Benefits Planner: Retirement | Applying for Medicare Only | Social Security Administration#1_0', 'Benefits Planner: Disability | How You Apply | Social Security Administration#2_0', 'Benefits Planner: Retirement | Benefits By Year Of Birth | Social Security Administration#1_0', 'Get a license to drive a taxi or livery vehicle#3_0', 'Get an Accident Report#1_0', 'Learn what documents you will need to get a Social Security Card | Social Security Administration#19_0', 'Request a Higher-Level Review | Veterans Affairs#1_0', 'Retirement Estimator | Social Security Administration#1_0', 'Access Your VA Life Insurance Policy Online | Veterans Affairs#1_0', 'Moving out of New York State#3_0', 'Benefits Planner: Retirement | Delayed Retirement Credits | Social Security Administration#1_0', 'VA Pension Benefits | Veterans Affairs#2_0', 'VA Home Loan Programs For Surviving Spouses | Veterans Affairs#1_0', 'The Impaired Driver Program - Alcohol & Drug Rehabilitation Program#3_0', 'New York State Insurance Requirements#3_0', 'Substance Use Treatment For Veterans | Veterans Affairs#1_0', 'Schedule A Burial For A Veteran Or Family Member | Veterans Affairs#1_0', 'Fry Scholarships | Veterans Affairs#1_0', 'Entrance Counseling | Federal Student Aid#1_0', 'In-transit vehicle permits (temporary registrations)#3_0', 'Register an ATV#1_0', 'Escort driver certification#1_0', 'Change of Address| Social Security Administration#1_0', 'Remove a lienholder from a title#1_0', 'Requirements and forms for driving schools and instructors#3_0', 'Parent PLUS Loan Application | Federal Student Aid#1_0', 'Filling Out the FAFSA® Form | Federal Student Aid#1_0', 'Your Health Care Costs | Veterans Affairs#1_0', 'Get a learner permit#1_0', 'How insurance premium reduction works#3_0', 'Pay suspension termination fee#1_0', 'Request a Board Appeal | Veterans Affairs#1_0', 'Preparing for College | Federal Student Aid#1_0', 'Order picture and professional plates#1_0', 'ATVs: Information for Owners and Operators#3_0', 'How to get my own driving record (abstract)#1_0', 'Income-Driven Repayment Plans | Federal Student Aid#1_0', 'Surrender (return or turn in) your plates to the DMV#3_0', 'General information for dealers and transporters#3_0', 'Veteran status designation on a photo document#3_0', \"Leandra's Law & ignition interlock devices#3_0\", 'Benefits Planner: Retirement | If You Are Divorced | Social Security Administration#1_0', 'Exposure Through Project 112 Or Project SHAD | Veterans Affairs#1_0', 'Pre-Need Eligibility For Burial In A VA Cemetery | Veterans Affairs#1_0', 'Benefits Planner: Survivors | If You Are The Survivor | Social Security Administration#2_0', 'Benefit Verification Letter  | Social Security Administration#1_0', 'Loan Servicers | Federal Student Aid#1_0', 'Learn what documents you will need to get a Social Security Card | Social Security Administration#6_0_1_2_3', \"Co-sign Your Spouse's Income-Driven Repayment Plan Application | Federal Student Aid#1_0\", 'Supplemental Security Income (SSI) Benefits | Social Security Administration#2_0', 'Careers And Employment | Veterans Affairs#1_0', 'Work-Study Jobs | Federal Student Aid#1_0', 'Change Your VA Direct Deposit Information | Veterans Affairs#1_0', 'Manage Your Retirement Benefits | SSA#1_0', 'VA Title 38 U.S.C. 1151 Claims | Veterans Affairs#1_0', 'CHAMPVA Benefits | Veterans Affairs#1_0', 'Fiduciary claims | Veterans Affairs#1_0', 'VA Mental Health Services | Veterans Affairs#1_0', 'Federal Versus Private Loans | Federal Student Aid#1_0', 'FAFSA® Completion by High School and Public School District | Federal Student Aid#1_0', 'Unsatisfied Judgments#3_0', 'FAQ for TNC Drivers#3_0', 'Benefits Planner: Retirement | Benefits For Your Spouse | Social Security Administration#1_0', 'Check Your VA Claim Or Appeal Status | Veterans Affairs#1_0', 'VA Pension Benefits | Veterans Affairs#1_0', 'Learn what documents you will need to get a Social Security Card | Social Security Administration#7_0_1_2', 'Benefits Planner: Retirement | Other Things to Consider | Social Security Administration#1_0', 'Explore The Benefits You May Be Due#2_0', 'Understanding College Costs | Federal Student Aid#1_0', 'Learn what documents you will need to get a Social Security Card | Social Security Administration#2_0', 'Loan Repayment Checklist | Federal Student Aid#1_0', 'VA Clothing Allowance | Veterans Affairs#1_0', 'Benefits Planner: Retirement | Medicare Premiums | SSA#1_0', 'Benefits Planner: Disability | How You Apply | Social Security Administration#1_0', 'Foreign Programs | Veterans Affairs#1_0', 'Disability Housing Grants For Veterans | Veterans Affairs#1_0', 'Learn what documents you will need to get a Social Security Card | Social Security Administration#12_0', 'Income-Sensitive Plan | Federal Student Aid#1_0', 'Learn what documents you will need to get a Social Security Card | Social Security Administration#12_0_1_2', 'Avoiding Student Aid Scams | Federal Student Aid#1_0', 'Your VA Primary Care Provider | Veterans Affairs#1_0', 'Retirement Benefits | Social Security Administration#2_0', 'Benefits Planner: Retirement | Other Things to Consider | Social Security Administration#2_0', 'Learn what documents you will need to get a Social Security Card | Social Security Administration#6_0', 'Top 5 DMV Mistakes and How to Avoid Them#3_0', 'Benefits Planner | Social Security Administration#1_0', 'Exposure To Hazardous Chemicals And Materials | Veterans Affairs#1_0', 'Traffic Violations Bureau#3_0', 'Learn what documents you will need to get a Social Security Card | Social Security Administration#6_0_1_2_3_4', 'FAFSA® Application Deadlines | Federal Student Aid#1_0', 'GI Bill Eligibility | Veterans Affairs#1_0', 'Register a snowmobile#1_0', 'Educational And Career Counseling (VA Chapter 36) | Veterans Affairs#1_0', 'About complaints and charges for repair and body shops#3_0', 'Closed School Discharge | Federal Student Aid#1_0', 'Request Your Military Service Records | Veterans Affairs#1_0', 'How To Apply For A Veteran ID Card | Veterans Affairs#1_0', 'Learn what documents you will need to get a Social Security Card | Social Security Administration#10_0_1', 'Registration suspensions for failure to pay tolls#3_0', 'Get Help Filing Your Claim Or Appeal | Veterans Affairs#1_0', 'Let the Buyer be Aware#3_0', 'Replace or transfer personalized plates#1_0', 'About Private Service Bureau Licenses#1_0', 'How to renew a registration#1_0', 'Learn about picture and professional plates#3_0', 'Benefits Planner: Retirement | Benefits For Your Spouse | Social Security Administration#2_0', 'Get a  hazardous materials (HazMat) endorsement#3_0', 'VA Family Caregiver Assistance Program | Veterans Affairs#1_0', 'Student Aid Report | Federal Student Aid#1_0', 'Perkins Loan Cancellation and Discharge | Federal Student Aid#1_0', 'False Certification Discharge | Federal Student Aid#1_0', 'Sharing your information#3_0', 'Learn what documents you will need to get a Social Security Card | Social Security Administration#2_0_1', \"Where You'll Go For Care | Veterans Affairs#1_0\", 'Traumatic Injury Protection (TSGLI) | Veterans Affairs#1_0', 'Apply For A Child (Under Age 18) | Disability Benefits | SSA#2_0', 'Understand Financial Aid | Federal Student Aid#1_0', \"Medical Certification FAQ's#3_0\", 'Reporting Parent Information | Federal Student Aid#1_0', 'Diesel inspections emission testing#3_0', 'A Guide for Facilities:#3_0', 'VA Benefits For Service Members | Veterans Affairs#1_0', 'Tutorial Assistance | Veterans Affairs#1_0', 'Upload Evidence To Support Your Disability Claim | Veterans Affairs#1_0', 'If a family member has died#3_0', 'Veterans’ Mortgage Life Insurance (VMLI) | Veterans Affairs#1_0', 'Benefits Planner: Retirement | You Can Apply For Retirement Benefits Or Medicare | Social Security Administration#2_0', 'About VA Insurance Options And Eligibility | Veterans Affairs#1_0', 'Veterans Vocational Rehabilitation Programs | Veterans Affairs#1_0', 'VA decision reviews and appeals | Veterans Affairs#1_0', 'Dependency Status | Federal Student Aid#1_0', 'Information and Instructions About Your Certificate of Title#3_0', 'Insurance claims | Veterans Affairs#1_0', 'Register an out-of-state vehicle#1_0', 'Pay driver responsibility assessment#1_0', 'Benefits Planner: Disability | Social Security Administration#1_0', 'Commercial Driver License Downgrades#3_0', 'Benefits Planner: Survivors | Planning For Your Survivors | Social Security Administration#2_0', 'Provide proof of insurance#1_0', 'Learn what documents you will need to get a Social Security Card | Social Security Administration#6_0_1_2', 'VA Housing Assistance | Veterans Affairs#2_0', 'VA Vocational Rehabilitation (Chapter 31) | Veterans Affairs#1_0', 'VA Health Care And Other Insurance | Veterans Affairs#1_0', 'VA Health Care | Veterans Affairs#2_0', 'Replace IRP registration items#1_0', 'Escrow accounts#3_0', 'Estimate registration fees and taxes#1_0', 'Benefits Planner: Retirement | Medicare Premiums | SSA#2_0', 'Schedule and take a road test#1_0', 'Benefits Planner: Disability | Family Benefits | Social Security Administration#2_0', 'Learn what documents you will need to get a Social Security Card | Social Security Administration#18_0', 'Standard Plan | Federal Student Aid#1_0', 'Learn what documents you will need to get a Social Security Card | Social Security Administration#8_0', 'Military Sexual Trauma (MST) | Veterans Affairs#1_0', 'Public Service Loan Forgiveness | Federal Student Aid#1_0', 'Completing a Master Promissory Note | Federal Student Aid#1_0', 'VA Housing Assistance | Veterans Affairs#1_0', 'How To Apply For VA Voc Rehab And Employment | Veterans Affairs#1_0', 'Eligibility for Non-U.S. Citizens | Federal Student Aid#1_0', 'Replace a title certificate#1_0', 'Learn what documents you will need to get a Social Security Card | Social Security Administration#11_0', 'Tuition Assistance Top-Up | Veterans Affairs#1_0', 'Grants | Federal Student Aid#1_0', 'Eligibility For VA Health Care | Veterans Affairs#1_0', 'Benefits Planner: Survivors | How You Apply | Social Security Administration#1_0', 'How To Apply For The GI Bill | Veterans Affairs#1_0', 'Add Dependents To Your VA Disability Benefits | Veterans Affairs#1_0', 'Learn About Retirement Benefits | SSA#1_0', 'Affordable Care Act (ACA) And Your Coverage | Veterans Affairs#1_0', 'my Social Security | Security and Protection | Social Security Administration#2_0', 'Learn what documents you will need to get a Social Security Card | Social Security Administration#17_0', 'VA Vision Care | Veterans Affairs#1_0', 'Estimate Your Aid | Federal Student Aid#1_0', 'Information about transaction entries#3_0', 'Registrations#3_0', 'Learn what documents you will need to get a Social Security Card | Social Security Administration#10_0', 'Apply For A Child (Under Age 18) | Disability Benefits | SSA#1_0', 'Tickets received in New York City#3_0', 'Co-op Training | Veterans Affairs#1_0', 'About problem driver restrictions#3_0', 'About the NYS Driver Point System#3_0', 'Driving in New York State#3_0', 'Lifetime driving records#3_0', 'Social Security Direct Deposit | Social Security Administration#1_0', 'VA Help To Avoid Mortgage Foreclosure | Veterans Affairs#1_0', 'Benefits Planner: Disability | Are You Working | Social Security Administration#2_0', 'Signing in to MyDMV#1_0', 'Get Temporary Relief | Federal Student Aid#1_0', 'Order personalized plates#1_0', 'File a Supplemental Claim with new evidence | Veterans Affairs#1_0', 'Learn what documents you will need to get a Social Security Card | Social Security Administration#13_0_1', 'Print Out Your VA Welcome Kit | Veterans Affairs#1_0', 'Total and Permanent Disability Discharge | Federal Student Aid#1_0', 'Change Your GI Bill School Or Program | Veterans Affairs#1_0', 'Get email and/or text reminders#1_0', 'Family And Caregiver Health Benefits | Veterans Affairs#1_0', 'VA Disability Compensation | Veterans Affairs#1_0', 'About online and alternative delivery method courses (I-PIRP/ADM)#3_0', 'Prepare for your road test#3_0', 'Learn what documents you will need to get a Social Security Card | Social Security Administration#3_0', 'Medicare Benefits | Social Security Administration#1_0', 'NYS Adventure License and Adventure Custom Plates#3_0', 'my Social Security | Create an Account | Social Security Administratio#1_0', 'Exposure To Specific Environmental Hazards | Veterans Affairs#1_0', 'Disability Benefits | Social Security Administration#1_0', 'Tickets received in another state#3_0', 'VA Agent Orange Registry Exam | Veterans Affairs#1_0', 'Creating a MyDMV account#1_0', 'Learn what documents you will need to get a Social Security Card | Social Security Administration#7_0', 'FAFSA® Help | Federal Student Aid#1_0', 'About VA Health Benefits | Veterans Affairs#1_0', 'Get a military skills test waiver#1_0', 'Medicare Benefits | Social Security Administration#2_0', 'Learn about personalized plates#3_0', 'Register a vehicle#1_0', 'Apply for Retirement Benefits | SSA#1_0', 'Learn what documents you will need to get a Social Security Card | Social Security Administration#16_0', 'California emissions standards#3_0', 'Complete the Financial Aid Process | Federal Student Aid#1_0', 'Eligibility Requirements For VA Home Loan Programs | Veterans Affairs#1_0', 'Learn what documents you will need to get a Social Security Card | Social Security Administration#9_0', 'Increased Disability Rating For Time In A Hospital | Veterans Affairs#1_0', 'GI Bill | Veterans Affairs#1_0', 'How to replace a registration#1_0', 'Retirement Benefits | Social Security Administration#1_0', 'Report a problem with a DMV regulated automotive business#1_0', 'Choosing a School | Federal Student Aid#1_0', 'Amend or replace a business license for a repair or body shop#3_0', 'Comparing School Aid Offers | Federal Student Aid#1_0', 'IT Standards Library | Federal Student Aid#1_0', 'Benefits Planner: Disability | Approval Process | Social Security Administration#2_0', 'How To Apply For Social Security Disability Benefits#1_0', 'Third-party Servicer Program Reviews | Federal Student Aid#1_0', 'Learn what documents you will need to get a Social Security Card | Social Security Administration#4_0', 'Become a driving school instructor#3_0', 'Tax Benefits for Higher Education | Federal Student Aid#1_0', \"Women's Health Care Needs | Veterans Affairs#1_0\", 'Open an inspection station#1_0', 'Direct Deposit | Social Security Administration#2_0', 'How to check a title or lien status#1_0', 'Register a moped#1_0', \"Register a pick-up truck as 'passenger' class vehicles#1_0\", 'Learn what documents you will need to get a Social Security Card | Social Security Administration#5_0', 'Careers And Employment | Veterans Affairs#2_0', 'Parent PLUS Loans | Federal Student Aid#1_0', 'Parking for People with Disabilities - The Law#3_0', 'Agent Orange Exposure On Navy Or Coast Guard Ships | Veterans Affairs#1_0', 'Stolen and recovered vehicles#3_0', 'Eligibility for Students with Criminal Convictions | Federal Student Aid#1_0', 'Get a vehicle registration or title record (abstract)#1_0', 'PTSD Treatment | Veterans Affairs#1_0', 'Complete Federal Student Loan Counseling | Federal Student Aid#1_0', 'Agent Orange Exposure From C-123 Aircraft | Veterans Affairs#1_0', 'Sales tax information#3_0', 'Know Your Rights in Auto Repair#3_0', 'DIAL-IN search accounts#3_0', 'Learn what documents you will need to get a Social Security Card | Social Security Administration#14_0', 'Regaining Eligibility | Federal Student Aid#1_0', 'Benefits Planner: Survivors | If You Are The Survivor | Social Security Administration#1_0', 'Exit Counseling | Federal Student Aid#1_0', 'Social Security Direct Deposit | Social Security Administration#2_0', 'VA Disability Compensation | Veterans Affairs#2_0', 'Agent Orange Exposure In Vietnam Or Korea | Veterans Affairs#1_0', 'Change name on title after lease buyout#3_0', 'Eligibility For VA Vocational Rehab And Employment | Veterans Affairs#1_0', 'Benefits Planner | Social Security Administration#2_0', 'Totally Disabled Or Terminally Ill Policyholders | Veterans Affairs#1_0', 'How to change information on DMV documents#3_0', 'Post-9/11 GI Bill | Veterans Affairs#1_0', 'VA Education Benefits | Veterans Affairs#1_0', 'Driver license and learner permit fees and refunds#3_0', 'VR&E Self-Employment Track | Veterans Affairs#1_0', 'Fully Developed Claim For A VA Pension | Veterans Affairs#1_0', 'Automatic license and registration extension for military personnel#3_0', 'Eligibility Requirements | Federal Student Aid#1_0', 'Appeal a Credit Decision Demo | Extenuating Circumstances | Federal Student Aid#1_0', 'Aid And Attendance Benefits And Housebound Allowance | VA.gov#1_0', 'Renew a business license or registration#1_0', 'Benefits Planner: Survivors | Planning For Your Survivors | Social Security Administration#1_0', 'Renew Driving School License#3_0', 'Refunds and transfer credits for surrendered plates#3_0', 'Temporary Disability Rating After Surgery Or Cast | Veterans Affairs#1_0', 'Vehicle modifications and registration class#3_0', 'Unpaid Refund Discharge | Federal Student Aid#1_0', 'my Social Security | Security and Protection | Social Security Administration#1_0', 'Learn what documents you will need to get a Social Security Card | Social Security Administration#4_0_1', 'About point reduction#3_0', 'VA Education Benefits For Survivors And Dependents | Veterans Affairs#1_0', 'Learn what documents you will need to get a Social Security Card | Social Security Administration#13_0', 'How To Apply For A VA Home Loan COE | Veterans Affairs#1_0', 'Aid for Military Families | Federal Student Aid#1_0', 'Graduated Plan | Federal Student Aid#1_0', 'Appeal A Decision | Social Security Administration#2_0', 'Register a vehicle I bought at a sheriff or marshal auction#3_0', 'Register a leased vehicle#1_0', 'Staying Eligible | Federal Student Aid#1_0', 'Commercial vehicle registration fees, vehicle use taxes and supplemental fees#3_0', 'Aid for International Study | Federal Student Aid#1_0', 'VA Dental Care | Veterans Affairs#1_0', 'New CDL testing and commercial learner permit (CLP) standards#3_0', 'Disability Benefits | Social Security Administration#2_0', 'Learn what documents you will need to get a Social Security Card | Social Security Administration#4_0_1_2', 'Loans | Federal Student Aid#1_0', 'What To Expect After You Get A Disability Rating | Veterans Affairs#1_0', 'Benefits Planner: Retirement | Government Pension Offset (GPO) Calculator | Social Security Administration#1_0', 'Learn what documents you will need to get a Social Security Card | Social Security Administration#11_0_1', 'Avoiding Default | Federal Student Aid#1_0', 'File a Freedom of Information Law (FOIL) request#1_0', 'VA Nursing Homes And Assisted Living | Veterans Affairs#1_0', 'Questions and Answers About FAFSA® Completion Data | Federal Student Aid#1_0', 'VA Health Care | Veterans Affairs#1_0', 'Proof of ownership is not available#3_0', 'Buy or sell a vehicle (transfer ownership)#3_0', 'Exchange your out-of-state driver license#1_0', 'Yellow Ribbon Program | Veterans Affairs#1_0', 'PLUS Loan Application for Graduate Students | Federal Student Aid#1_0', 'Subsidized and Unsubsidized Loans | Federal Student Aid#1_0', 'Benefits Planner: Retirement | Benefits By Year Of Birth | Social Security Administration#2_0', 'Appeal a TVB ticket conviction#1_0', 'VA Life Insurance | Veterans Affairs#2_0', 'View Your VA Payment History | Veterans Affairs#1_0', 'Student Loan Forbearance | Federal Student Aid#1_0', 'Open a repair or body shop#3_0', 'VA Benefits For Service Members | Veterans Affairs#2_0', 'Gainful Employment | Federal Student Aid#1_0', 'Undergraduate And Graduate Degrees | Veterans Affairs#1_0', 'Special Claims | Veterans Affairs#1_0', 'Eligibility For VA Disability Benefits | Veterans Affairs#1_0', 'Benefits For Spouses And Dependents (VA DIC) | Veterans Affairs#1_0', 'NY State Adventure License FAQs#3_0', 'Learn what documents you will need to get a Social Security Card | Social Security Administration#20_0', 'Reserve Educational Assistance Program (REAP) | Veterans Affairs#1_0', 'Get A Veteran Health Identification Card (VHIC) | Veterans Affairs#1_0', 'How To Apply For VA Health Care | Veterans Affairs#1_0', 'Montgomery GI Bill Active Duty (MGIB-AD) | Veterans Affairs#1_0', 'VR&E Independent Living Track | Veterans Affairs#1_0', 'Apply for Income-Driven Student Loan Repayment | Federal Student Aid#1_0', 'Replace license or permit#1_0', 'Benefits Planner: Disability | How You Qualify | Social Security Administration#2_0', 'PLUS Loan Application | Federal Student Aid#1_0', 'Get a motorcycle license#1_0', 'How Aid Is Calculated | Federal Student Aid#1_0', 'Vision requirements & restrictions#3_0', 'Learn what documents you will need to get a Social Security Card | Social Security Administration#15_0', 'The Graduated License Law and Restrictions for Drivers under 18#1_0', 'Pay insurance lapse civil penalty#1_0', 'Agent Orange Exposure | Veterans Affairs#1_0', 'Renew non-driver ID card#1_0', 'Direct Deposit | Social Security Administration#1_0', 'Aidan | The FSA Virtual Assistant | Federal Student Aid#1_0', 'Restore license after revocation#1_0', 'Employment Benefits For Dependent Family Members | Veterans Affairs#1_0', 'Survivors’ And Dependents’ Educational Assistance | Veterans Affairs#1_0', 'Veterans’ Group Life Insurance (VGLI) | Veterans Affairs#1_0', 'Student Loan Deferment | Federal Student Aid#1_0', 'Benefits Planner | Social Security Credits and Benefit Eligibility | SSA#2_0', 'Getting Out of Default | Federal Student Aid#1_0', 'VA Disability Compensation For PTSD | Veterans Affairs#1_0', 'Get Your VA Medical Records Online | Veterans Affairs#1_0', 'About VA Disability Ratings | Veterans Affairs#1_0', 'How to Correct or Update Your FAFSA® Application | Federal Student Aid#1_0', 'VA Life Insurance | Veterans Affairs#1_0', 'Contracting Information | Federal Student Aid#1_0', 'Adding and removing users#3_0', 'Learn what documents you will need to get a Social Security Card | Social Security Administration#8_0_1_2', 'Plead to or pay TVB tickets#1_0', 'TEACH Grant Counseling and Agreement To Serve (ATS) | Federal Student Aid#1_0'])"
     },
     "execution_count": 3,
     "metadata": {},
     "output_type": "execute_result"
    }
   ],
   "source": [
    "from gensim.utils import simple_preprocess\n",
    "#Getting a list of spans per grounding document !!!! Language confusion: spans are the documents in gensim land and the list of spans (aka the whole document) is the corpora in gensim\n",
    "\n",
    "#I only want to use documents from the document datasets that have dialogues (which not all have)\n",
    "unique_doc_ids = list(set(dialogue_dataset['doc_id']))\n",
    "\n",
    "#extract all the span texts for that doc id,\n",
    "#!!!Index drama. For list index starts with 0, for spans index starts with 1, use dict to keep the sp_id and doc_id\n",
    "#key=doc_id, value=span dict\n",
    "\n",
    "#TODO consider using text-sec instead of spans\n",
    "\n",
    "def text_sec_doc(doc_id):\n",
    "    #use pandas as way faster\n",
    "    document = document_full_df.loc[document_full_df['doc_id'] == doc_id]\n",
    "    #TODO interestingly the spans also have a text_sect which is split into less small segments and probably better\n",
    "    text_sec = []\n",
    "    current_text_sec = ''\n",
    "\n",
    "    for span in document['spans'].iloc[0]:\n",
    "        text = span['text_sec']\n",
    "        if current_text_sec != text: #found new sect\n",
    "            text_sec.append(text)\n",
    "            current_text_sec = text\n",
    "    return text_sec\n",
    "\n",
    "raw_training_text_per_doc = {}\n",
    "for doc_id in unique_doc_ids:\n",
    "    # doc_spans[doc_id] = span_dict_for_doc(doc_id) #for spans\n",
    "    raw_training_text_per_doc[doc_id] = text_sec_doc(doc_id) #for text_sec\n",
    "\n",
    "tokenized_training_docs = {}\n",
    "for doc_id in raw_training_text_per_doc:\n",
    "    text_sections = raw_training_text_per_doc[doc_id]\n",
    "    #simplest preprocessing from gemsim\n",
    "    tokenized_sections = [list(simple_preprocess(sec, deacc=True)) for sec in text_sections]\n",
    "    tokenized_training_docs[doc_id] = tokenized_sections\n",
    "\n",
    "tokenized_training_docs.keys()"
   ],
   "metadata": {
    "collapsed": false,
    "pycharm": {
     "name": "#%%\n"
    }
   }
  },
  {
   "cell_type": "markdown",
   "source": [
    "### training"
   ],
   "metadata": {
    "collapsed": false,
    "pycharm": {
     "name": "#%% md\n"
    }
   }
  },
  {
   "cell_type": "code",
   "execution_count": 4,
   "outputs": [
    {
     "data": {
      "text/plain": "415"
     },
     "execution_count": 4,
     "metadata": {},
     "output_type": "execute_result"
    }
   ],
   "source": [
    "from gensim.models.doc2vec import Doc2Vec, TaggedDocument\n",
    "\n",
    "models_for_doc = {}\n",
    "for doc_id in tokenized_training_docs:\n",
    "    tokenized_sec = tokenized_training_docs[doc_id]\n",
    "    training_docs = [TaggedDocument(doc, [i]) for i, doc in enumerate(tokenized_sec)]\n",
    "    # Check how to fine tune the model https://radimrehurek.com/gensim/models/doc2vec.html\n",
    "    model = Doc2Vec(training_docs, vector_size=10, window=4, min_count=1, workers=4, epochs=30)\n",
    "    models_for_doc[doc_id] = model\n",
    "\n",
    "len(models_for_doc)"
   ],
   "metadata": {
    "collapsed": false,
    "pycharm": {
     "name": "#%%\n"
    }
   }
  },
  {
   "cell_type": "markdown",
   "source": [
    "### predict rc questions"
   ],
   "metadata": {
    "collapsed": false,
    "pycharm": {
     "name": "#%% md\n"
    }
   }
  },
  {
   "cell_type": "code",
   "execution_count": 5,
   "outputs": [
    {
     "data": {
      "text/plain": "[{'id': '9f44c1539efe6f7e79b02eb1b413aa43_1',\n  'prediction_text': 'A license suspension or revocation here could mean that your new home state will not issue you a license there. Remember , it is important to notify DMV of your new address so that any possible mail correspondence can reach you. Also , turning in your plates is important to avoid an insurance lapse. ',\n  'no_answer_probability': 0.0},\n {'id': '9f44c1539efe6f7e79b02eb1b413aa43_3',\n  'prediction_text': 'DMV maintains a point system to track dangerous drivers. Often , motorists convicted of a traffic ticket feel they have resolved all their motoring issues with the local court, but later learn that the Driver Responsibility Assessment DRA is a separate DMV charge based on the total points they accumulate. ',\n  'no_answer_probability': 0.0},\n {'id': '9f44c1539efe6f7e79b02eb1b413aa43_5',\n  'prediction_text': 'About ten percent of customers visiting a DMV office do not bring what they need to complete their transaction, and have to come back a second time to finish their business. This can be as simple as not bringing sufficient funds to pay for a license renewal or not having the proof of auto insurance required to register a car. Better yet , don t visit a DMV office at all, and see if your transaction can be performed online, like an address change, registration renewal, license renewal, replacing a lost title, paying a DRA or scheduling a road test. ',\n  'no_answer_probability': 0.0},\n {'id': '9f44c1539efe6f7e79b02eb1b413aa43_7',\n  'prediction_text': 'DMV maintains a point system to track dangerous drivers. Often , motorists convicted of a traffic ticket feel they have resolved all their motoring issues with the local court, but later learn that the Driver Responsibility Assessment DRA is a separate DMV charge based on the total points they accumulate. ',\n  'no_answer_probability': 0.0},\n {'id': '9f44c1539efe6f7e79b02eb1b413aa43_9',\n  'prediction_text': 'About ten percent of customers visiting a DMV office do not bring what they need to complete their transaction, and have to come back a second time to finish their business. This can be as simple as not bringing sufficient funds to pay for a license renewal or not having the proof of auto insurance required to register a car. Better yet , don t visit a DMV office at all, and see if your transaction can be performed online, like an address change, registration renewal, license renewal, replacing a lost title, paying a DRA or scheduling a road test. ',\n  'no_answer_probability': 0.0}]"
     },
     "execution_count": 5,
     "metadata": {},
     "output_type": "execute_result"
    }
   ],
   "source": [
    "predictions = []\n",
    "references = []\n",
    "for example in rc_dataset:\n",
    "    question_ = example[\"question\"]\n",
    "    doc_id =example['title']\n",
    "    # it does better if the user and agent string are left\n",
    "    # question_ = question_.replace('user:', '')\n",
    "    # question_ = question_.replace('agent:', '')\n",
    "\n",
    "    #preprocess question in the same way\n",
    "    test_doc = simple_preprocess(question_, deacc=True)\n",
    "    #calculate vector using model for that document\n",
    "    model = models_for_doc[doc_id]\n",
    "    vector = model.infer_vector(test_doc)\n",
    "    #find the most similar document (spans)\n",
    "    sims = model.dv.most_similar([vector], topn=1)\n",
    "    most_likely_answer = raw_training_text_per_doc[doc_id][sims[0][0]]\n",
    "    # most_likely_answer = training_docs[sims[0][0] - 1]\n",
    "    # most_likely_predicted_tag = most_likely_answer.tags\n",
    "    #find original text for tag\n",
    "    # most_likely_predicted_text = spans[most_likely_predicted_tag[0]-1]\n",
    "    # print(f': {most_likely_answer.words}\\n')\n",
    "    # print(f'Predicted Answer: {most_likely_answer}\\n')\n",
    "\n",
    "    id_ = example[\"id\"]\n",
    "    predictions.append(\n",
    "        {'id': id_,\n",
    "         'prediction_text':\n",
    "             most_likely_answer,\n",
    "         'no_answer_probability': 0.0\n",
    "         }\n",
    "    )\n",
    "\n",
    "    #just using their answers\n",
    "    references.append(\n",
    "        {\n",
    "            \"id\": id_,\n",
    "            \"answers\": example[\"answers\"],\n",
    "        }\n",
    "    )\n",
    "\n",
    "predictions[:5]\n"
   ],
   "metadata": {
    "collapsed": false,
    "pycharm": {
     "name": "#%%\n"
    }
   }
  },
  {
   "cell_type": "markdown",
   "source": [
    "### evaluate\n"
   ],
   "metadata": {
    "collapsed": false,
    "pycharm": {
     "name": "#%% md\n"
    }
   }
  },
  {
   "cell_type": "code",
   "execution_count": 6,
   "outputs": [
    {
     "name": "stdout",
     "output_type": "stream",
     "text": [
      "Number of question in train dataset 20431\n"
     ]
    },
    {
     "data": {
      "text/plain": "{'exact': 0.7929127306543977,\n 'f1': 17.246636373006577,\n 'total': 20431,\n 'HasAns_exact': 0.7929127306543977,\n 'HasAns_f1': 17.246636373006577,\n 'HasAns_total': 20431,\n 'best_exact': 0.7929127306543977,\n 'best_exact_thresh': 0.0,\n 'best_f1': 17.246636373006577,\n 'best_f1_thresh': 0.0}"
     },
     "execution_count": 6,
     "metadata": {},
     "output_type": "execute_result"
    }
   ],
   "source": [
    "from datasets import load_metric\n",
    "\n",
    "print(f'Number of question in train dataset {rc_dataset.shape[0]}')\n",
    "metric = load_metric(\"squad_v2\")\n",
    "metric.add_batch(predictions=predictions, references=references)\n",
    "final_score = metric.compute()\n",
    "final_score"
   ],
   "metadata": {
    "collapsed": false,
    "pycharm": {
     "name": "#%%\n"
    }
   }
  },
  {
   "cell_type": "markdown",
   "source": [
    "### How does this compare to guessing at random?\n"
   ],
   "metadata": {
    "collapsed": false,
    "pycharm": {
     "name": "#%% md\n"
    }
   }
  },
  {
   "cell_type": "code",
   "execution_count": 7,
   "outputs": [
    {
     "data": {
      "text/plain": "[{'id': '9f44c1539efe6f7e79b02eb1b413aa43_1',\n  'prediction_text': 'We send 500,000 inquiry letters a year. If the inquiry letter does not resolve the problem , we must suspend the vehicle registration and , if it persists, your driver license!We suspend 300,000 registrations a year for failure to maintain insurance. If you fail to maintain an updated address with us , you won t learn that you have an insurance problem , and we will suspend your registration and license. Make sure you turn in your vehicle s license plates at DMV before you cancel your insurance policy. Insurance policies must be from a company licensed in New York State. ',\n  'no_answer_probability': 0.0},\n {'id': '9f44c1539efe6f7e79b02eb1b413aa43_3',\n  'prediction_text': 'Learn more about Insurances Lapes [2] and How to Surrender your Plates [3 ] ',\n  'no_answer_probability': 0.0},\n {'id': '9f44c1539efe6f7e79b02eb1b413aa43_5',\n  'prediction_text': 'About ten percent of customers visiting a DMV office do not bring what they need to complete their transaction, and have to come back a second time to finish their business. This can be as simple as not bringing sufficient funds to pay for a license renewal or not having the proof of auto insurance required to register a car. Better yet , don t visit a DMV office at all, and see if your transaction can be performed online, like an address change, registration renewal, license renewal, replacing a lost title, paying a DRA or scheduling a road test. ',\n  'no_answer_probability': 0.0}]"
     },
     "execution_count": 7,
     "metadata": {},
     "output_type": "execute_result"
    }
   ],
   "source": [
    "import random\n",
    "\n",
    "random_predictions = []\n",
    "random_references = []\n",
    "for example in rc_dataset:\n",
    "    question_ = example[\"question\"]\n",
    "    doc_id =example['title']\n",
    "\n",
    "    #pick a random text from the document\n",
    "    texts = raw_training_text_per_doc[doc_id]\n",
    "    most_likely_answer = texts[random.randint(0, len(texts)-1)]\n",
    "\n",
    "    id_ = example[\"id\"]\n",
    "    random_predictions.append(\n",
    "        {'id': id_,\n",
    "         'prediction_text':\n",
    "             most_likely_answer,\n",
    "         'no_answer_probability': 0.0\n",
    "         }\n",
    "    )\n",
    "\n",
    "    #just using their answers\n",
    "    random_references.append(\n",
    "        {\n",
    "            \"id\": id_,\n",
    "            \"answers\": example[\"answers\"],\n",
    "        }\n",
    "    )\n",
    "\n",
    "random_predictions[:3]"
   ],
   "metadata": {
    "collapsed": false,
    "pycharm": {
     "name": "#%%\n"
    }
   }
  },
  {
   "cell_type": "code",
   "execution_count": 8,
   "outputs": [
    {
     "name": "stdout",
     "output_type": "stream",
     "text": [
      "Results for random text predictions for each question\n"
     ]
    },
    {
     "data": {
      "text/plain": "{'exact': 1.5270911849640252,\n 'f1': 14.51171104675806,\n 'total': 20431,\n 'HasAns_exact': 1.5270911849640252,\n 'HasAns_f1': 14.51171104675806,\n 'HasAns_total': 20431,\n 'best_exact': 1.5270911849640252,\n 'best_exact_thresh': 0.0,\n 'best_f1': 14.51171104675806,\n 'best_f1_thresh': 0.0}"
     },
     "execution_count": 8,
     "metadata": {},
     "output_type": "execute_result"
    }
   ],
   "source": [
    "print(f'Results for random text predictions for each question')\n",
    "metric = load_metric(\"squad_v2\")\n",
    "metric.add_batch(predictions=random_predictions, references=random_references)\n",
    "final_score = metric.compute()\n",
    "final_score"
   ],
   "metadata": {
    "collapsed": false,
    "pycharm": {
     "name": "#%%\n"
    }
   }
  },
  {
   "cell_type": "markdown",
   "source": [
    "### Results for validation part of rc dataset"
   ],
   "metadata": {
    "collapsed": false,
    "pycharm": {
     "name": "#%% md\n"
    }
   }
  },
  {
   "cell_type": "code",
   "execution_count": 9,
   "outputs": [
    {
     "name": "stderr",
     "output_type": "stream",
     "text": [
      "Reusing dataset doc2dial (./data_cache_doc2vec_solution_notebook/doc2dial/doc2dial_rc/1.0.1/765cb4d9af421b599d910080fd61b4a43440c1232693876470ef3245daa5fa4c)\n"
     ]
    }
   ],
   "source": [
    "rc_validation_dataset = load_dataset(\n",
    "    \"doc2dial\",\n",
    "    name=\"doc2dial_rc\",\n",
    "    split=\"validation\",\n",
    "    ignore_verifications=True,\n",
    "    cache_dir=cache_dir,\n",
    ")\n",
    "\n"
   ],
   "metadata": {
    "collapsed": false,
    "pycharm": {
     "name": "#%%\n"
    }
   }
  },
  {
   "cell_type": "code",
   "execution_count": 10,
   "outputs": [
    {
     "name": "stdout",
     "output_type": "stream",
     "text": [
      "Number of question in train dataset 3972\n"
     ]
    },
    {
     "ename": "KeyError",
     "evalue": "'About New York State Inspections#3_0'",
     "output_type": "error",
     "traceback": [
      "\u001B[0;31m---------------------------------------------------------------------------\u001B[0m",
      "\u001B[0;31mKeyError\u001B[0m                                  Traceback (most recent call last)",
      "\u001B[0;32m/var/folders/tb/kxdncxw16gx7p6y4hsgc0y540000gn/T/ipykernel_29104/723857626.py\u001B[0m in \u001B[0;36m<module>\u001B[0;34m\u001B[0m\n\u001B[1;32m     13\u001B[0m     \u001B[0mtest_doc\u001B[0m \u001B[0;34m=\u001B[0m \u001B[0msimple_preprocess\u001B[0m\u001B[0;34m(\u001B[0m\u001B[0mquestion_\u001B[0m\u001B[0;34m,\u001B[0m \u001B[0mdeacc\u001B[0m\u001B[0;34m=\u001B[0m\u001B[0;32mTrue\u001B[0m\u001B[0;34m)\u001B[0m\u001B[0;34m\u001B[0m\u001B[0;34m\u001B[0m\u001B[0m\n\u001B[1;32m     14\u001B[0m     \u001B[0;31m#calculate vector using model for that document\u001B[0m\u001B[0;34m\u001B[0m\u001B[0;34m\u001B[0m\u001B[0m\n\u001B[0;32m---> 15\u001B[0;31m     \u001B[0mmodel\u001B[0m \u001B[0;34m=\u001B[0m \u001B[0mmodels_for_doc\u001B[0m\u001B[0;34m[\u001B[0m\u001B[0mdoc_id\u001B[0m\u001B[0;34m]\u001B[0m\u001B[0;34m\u001B[0m\u001B[0;34m\u001B[0m\u001B[0m\n\u001B[0m\u001B[1;32m     16\u001B[0m     \u001B[0mvector\u001B[0m \u001B[0;34m=\u001B[0m \u001B[0mmodel\u001B[0m\u001B[0;34m.\u001B[0m\u001B[0minfer_vector\u001B[0m\u001B[0;34m(\u001B[0m\u001B[0mtest_doc\u001B[0m\u001B[0;34m)\u001B[0m\u001B[0;34m\u001B[0m\u001B[0;34m\u001B[0m\u001B[0m\n\u001B[1;32m     17\u001B[0m     \u001B[0;31m#find the most similar document (spans)\u001B[0m\u001B[0;34m\u001B[0m\u001B[0;34m\u001B[0m\u001B[0m\n",
      "\u001B[0;31mKeyError\u001B[0m: 'About New York State Inspections#3_0'"
     ]
    }
   ],
   "source": [
    "predictions = []\n",
    "references = []\n",
    "print(f'Number of question in train dataset {rc_validation_dataset.shape[0]}')\n",
    "\n",
    "for example in rc_validation_dataset:\n",
    "    question_ = example[\"question\"]\n",
    "    doc_id =example['title']\n",
    "    # it does better if the user and agent string are left\n",
    "    # question_ = question_.replace('user:', '')\n",
    "    # question_ = question_.replace('agent:', '')\n",
    "\n",
    "    #preprocess question in the same way\n",
    "    test_doc = simple_preprocess(question_, deacc=True)\n",
    "    #calculate vector using model for that document\n",
    "    model = models_for_doc[doc_id]\n",
    "    vector = model.infer_vector(test_doc)\n",
    "    #find the most similar document (spans)\n",
    "    sims = model.dv.most_similar([vector], topn=1)\n",
    "    most_likely_answer = raw_training_text_per_doc[doc_id][sims[0][0]]\n",
    "    # most_likely_answer = training_docs[sims[0][0] - 1]\n",
    "    # most_likely_predicted_tag = most_likely_answer.tags\n",
    "    #find original text for tag\n",
    "    # most_likely_predicted_text = spans[most_likely_predicted_tag[0]-1]\n",
    "    # print(f': {most_likely_answer.words}\\n')\n",
    "    # print(f'Predicted Answer: {most_likely_answer}\\n')\n",
    "\n",
    "    id_ = example[\"id\"]\n",
    "    predictions.append(\n",
    "        {'id': id_,\n",
    "         'prediction_text':\n",
    "             most_likely_answer,\n",
    "         'no_answer_probability': 0.0\n",
    "         }\n",
    "    )\n",
    "\n",
    "    #just using their answers\n",
    "    references.append(\n",
    "        {\n",
    "            \"id\": id_,\n",
    "            \"answers\": example[\"answers\"],\n",
    "        }\n",
    "    )\n",
    "\n",
    "predictions[:5]"
   ],
   "metadata": {
    "collapsed": false,
    "pycharm": {
     "name": "#%%\n"
    }
   }
  },
  {
   "cell_type": "markdown",
   "source": [
    "### Questions:\n",
    "- Given that we don't have all the documents to train does that make sense for a Doc2Vec approach or does it make sense\n",
    "to create a model per document?"
   ],
   "metadata": {
    "collapsed": false,
    "pycharm": {
     "name": "#%% md\n"
    }
   }
  },
  {
   "cell_type": "code",
   "execution_count": null,
   "outputs": [],
   "source": [],
   "metadata": {
    "collapsed": false,
    "pycharm": {
     "name": "#%%\n"
    }
   }
  }
 ],
 "metadata": {
  "kernelspec": {
   "display_name": "Python 3",
   "language": "python",
   "name": "python3"
  },
  "language_info": {
   "codemirror_mode": {
    "name": "ipython",
    "version": 2
   },
   "file_extension": ".py",
   "mimetype": "text/x-python",
   "name": "python",
   "nbconvert_exporter": "python",
   "pygments_lexer": "ipython2",
   "version": "2.7.6"
  }
 },
 "nbformat": 4,
 "nbformat_minor": 0
}