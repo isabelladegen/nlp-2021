{
 "cells": [
  {
   "cell_type": "code",
   "execution_count": 2,
   "metadata": {
    "collapsed": true
   },
   "outputs": [
    {
     "name": "stderr",
     "output_type": "stream",
     "text": [
      "Reusing dataset doc2dial (./data_cache/doc2dial/doc2dial_rc/1.0.1/765cb4d9af421b599d910080fd61b4a43440c1232693876470ef3245daa5fa4c)\n"
     ]
    }
   ],
   "source": [
    "from datasets import load_dataset\n",
    "\n",
    "split = \"train\"\n",
    "cache_dir = \"./data_cache\"\n",
    "\n",
    "rc_dataset = load_dataset(\n",
    "    \"doc2dial\",\n",
    "    name=\"doc2dial_rc\",\n",
    "    split=split,\n",
    "    ignore_verifications=True,\n",
    "    cache_dir=cache_dir,\n",
    ")"
   ]
  },
  {
   "cell_type": "code",
   "execution_count": 5,
   "outputs": [
    {
     "data": {
      "text/plain": "                                        id  \\\n0       9f44c1539efe6f7e79b02eb1b413aa43_1   \n1       9f44c1539efe6f7e79b02eb1b413aa43_3   \n2       9f44c1539efe6f7e79b02eb1b413aa43_5   \n3       9f44c1539efe6f7e79b02eb1b413aa43_7   \n4       9f44c1539efe6f7e79b02eb1b413aa43_9   \n...                                    ...   \n20426   1bd63c7902f89f095942937e9cf68bbd_4   \n20427   1bd63c7902f89f095942937e9cf68bbd_6   \n20428   1bd63c7902f89f095942937e9cf68bbd_8   \n20429  1bd63c7902f89f095942937e9cf68bbd_10   \n20430  1bd63c7902f89f095942937e9cf68bbd_12   \n\n                                                  title  \\\n0          Top 5 DMV Mistakes and How to Avoid Them#3_0   \n1          Top 5 DMV Mistakes and How to Avoid Them#3_0   \n2          Top 5 DMV Mistakes and How to Avoid Them#3_0   \n3          Top 5 DMV Mistakes and How to Avoid Them#3_0   \n4          Top 5 DMV Mistakes and How to Avoid Them#3_0   \n...                                                 ...   \n20426  Student Loan Repayment | Federal Student Aid#1_0   \n20427  Student Loan Repayment | Federal Student Aid#1_0   \n20428  Student Loan Repayment | Federal Student Aid#1_0   \n20429  Student Loan Repayment | Federal Student Aid#1_0   \n20430  Student Loan Repayment | Federal Student Aid#1_0   \n\n                                                 context  \\\n0      Many DMV customers make easily avoidable mista...   \n1      Many DMV customers make easily avoidable mista...   \n2      Many DMV customers make easily avoidable mista...   \n3      Many DMV customers make easily avoidable mista...   \n4      Many DMV customers make easily avoidable mista...   \n...                                                  ...   \n20426  \\n\\nStudent Loan Repayment \\nBefore repayment ...   \n20427  \\n\\nStudent Loan Repayment \\nBefore repayment ...   \n20428  \\n\\nStudent Loan Repayment \\nBefore repayment ...   \n20429  \\n\\nStudent Loan Repayment \\nBefore repayment ...   \n20430  \\n\\nStudent Loan Repayment \\nBefore repayment ...   \n\n                                                question  \\\n0      user:Hello, I forgot o update my address, can ...   \n1      user:Can I do my DMV transactions online? \\tag...   \n2      user:Thanks, and in case I forget to bring all...   \n3      user:Ok, and can you tell me again where shoul...   \n4      user:Can you tell me more about Traffic points...   \n...                                                  ...   \n20426  user:If I want to know more about this topic a...   \n20427  user:ok i understand and what things should i ...   \n20428  user:What if it's not up to me and I can't mak...   \n20429  user:How can I make a payment by post? \\tagent...   \n20430  user:Can you forgive the student loan? \\tagent...   \n\n                                                 answers      domain  \n0      {'text': ['you must report a change of address...         dmv  \n1      {'text': ['Sign up or log into MyDMV [6 ] '], ...         dmv  \n2      {'text': ['About ten percent of customers visi...         dmv  \n3      {'text': ['you must report a change of address...         dmv  \n4      {'text': ['DMV maintains a point system to tra...         dmv  \n...                                                  ...         ...  \n20426  {'text': ['you receive a 0.25% interest rate d...  studentaid  \n20427  {'text': ['One thing you definitely want to av...  studentaid  \n20428  {'text': ['contact your loan servicer to find ...  studentaid  \n20429  {'text': ['contact your loan servicer for the ...  studentaid  \n20430  {'text': ['You are generally required to repay...  studentaid  \n\n[20431 rows x 6 columns]",
      "text/html": "<div>\n<style scoped>\n    .dataframe tbody tr th:only-of-type {\n        vertical-align: middle;\n    }\n\n    .dataframe tbody tr th {\n        vertical-align: top;\n    }\n\n    .dataframe thead th {\n        text-align: right;\n    }\n</style>\n<table border=\"1\" class=\"dataframe\">\n  <thead>\n    <tr style=\"text-align: right;\">\n      <th></th>\n      <th>id</th>\n      <th>title</th>\n      <th>context</th>\n      <th>question</th>\n      <th>answers</th>\n      <th>domain</th>\n    </tr>\n  </thead>\n  <tbody>\n    <tr>\n      <th>0</th>\n      <td>9f44c1539efe6f7e79b02eb1b413aa43_1</td>\n      <td>Top 5 DMV Mistakes and How to Avoid Them#3_0</td>\n      <td>Many DMV customers make easily avoidable mista...</td>\n      <td>user:Hello, I forgot o update my address, can ...</td>\n      <td>{'text': ['you must report a change of address...</td>\n      <td>dmv</td>\n    </tr>\n    <tr>\n      <th>1</th>\n      <td>9f44c1539efe6f7e79b02eb1b413aa43_3</td>\n      <td>Top 5 DMV Mistakes and How to Avoid Them#3_0</td>\n      <td>Many DMV customers make easily avoidable mista...</td>\n      <td>user:Can I do my DMV transactions online? \\tag...</td>\n      <td>{'text': ['Sign up or log into MyDMV [6 ] '], ...</td>\n      <td>dmv</td>\n    </tr>\n    <tr>\n      <th>2</th>\n      <td>9f44c1539efe6f7e79b02eb1b413aa43_5</td>\n      <td>Top 5 DMV Mistakes and How to Avoid Them#3_0</td>\n      <td>Many DMV customers make easily avoidable mista...</td>\n      <td>user:Thanks, and in case I forget to bring all...</td>\n      <td>{'text': ['About ten percent of customers visi...</td>\n      <td>dmv</td>\n    </tr>\n    <tr>\n      <th>3</th>\n      <td>9f44c1539efe6f7e79b02eb1b413aa43_7</td>\n      <td>Top 5 DMV Mistakes and How to Avoid Them#3_0</td>\n      <td>Many DMV customers make easily avoidable mista...</td>\n      <td>user:Ok, and can you tell me again where shoul...</td>\n      <td>{'text': ['you must report a change of address...</td>\n      <td>dmv</td>\n    </tr>\n    <tr>\n      <th>4</th>\n      <td>9f44c1539efe6f7e79b02eb1b413aa43_9</td>\n      <td>Top 5 DMV Mistakes and How to Avoid Them#3_0</td>\n      <td>Many DMV customers make easily avoidable mista...</td>\n      <td>user:Can you tell me more about Traffic points...</td>\n      <td>{'text': ['DMV maintains a point system to tra...</td>\n      <td>dmv</td>\n    </tr>\n    <tr>\n      <th>...</th>\n      <td>...</td>\n      <td>...</td>\n      <td>...</td>\n      <td>...</td>\n      <td>...</td>\n      <td>...</td>\n    </tr>\n    <tr>\n      <th>20426</th>\n      <td>1bd63c7902f89f095942937e9cf68bbd_4</td>\n      <td>Student Loan Repayment | Federal Student Aid#1_0</td>\n      <td>\\n\\nStudent Loan Repayment \\nBefore repayment ...</td>\n      <td>user:If I want to know more about this topic a...</td>\n      <td>{'text': ['you receive a 0.25% interest rate d...</td>\n      <td>studentaid</td>\n    </tr>\n    <tr>\n      <th>20427</th>\n      <td>1bd63c7902f89f095942937e9cf68bbd_6</td>\n      <td>Student Loan Repayment | Federal Student Aid#1_0</td>\n      <td>\\n\\nStudent Loan Repayment \\nBefore repayment ...</td>\n      <td>user:ok i understand and what things should i ...</td>\n      <td>{'text': ['One thing you definitely want to av...</td>\n      <td>studentaid</td>\n    </tr>\n    <tr>\n      <th>20428</th>\n      <td>1bd63c7902f89f095942937e9cf68bbd_8</td>\n      <td>Student Loan Repayment | Federal Student Aid#1_0</td>\n      <td>\\n\\nStudent Loan Repayment \\nBefore repayment ...</td>\n      <td>user:What if it's not up to me and I can't mak...</td>\n      <td>{'text': ['contact your loan servicer to find ...</td>\n      <td>studentaid</td>\n    </tr>\n    <tr>\n      <th>20429</th>\n      <td>1bd63c7902f89f095942937e9cf68bbd_10</td>\n      <td>Student Loan Repayment | Federal Student Aid#1_0</td>\n      <td>\\n\\nStudent Loan Repayment \\nBefore repayment ...</td>\n      <td>user:How can I make a payment by post? \\tagent...</td>\n      <td>{'text': ['contact your loan servicer for the ...</td>\n      <td>studentaid</td>\n    </tr>\n    <tr>\n      <th>20430</th>\n      <td>1bd63c7902f89f095942937e9cf68bbd_12</td>\n      <td>Student Loan Repayment | Federal Student Aid#1_0</td>\n      <td>\\n\\nStudent Loan Repayment \\nBefore repayment ...</td>\n      <td>user:Can you forgive the student loan? \\tagent...</td>\n      <td>{'text': ['You are generally required to repay...</td>\n      <td>studentaid</td>\n    </tr>\n  </tbody>\n</table>\n<p>20431 rows × 6 columns</p>\n</div>"
     },
     "execution_count": 5,
     "metadata": {},
     "output_type": "execute_result"
    }
   ],
   "source": [
    "import pandas as pd\n",
    "\n",
    "rc_dataset_df = pd.DataFrame(data=rc_dataset)\n",
    "rc_dataset_df"
   ],
   "metadata": {
    "collapsed": false,
    "pycharm": {
     "name": "#%%\n"
    }
   }
  },
  {
   "cell_type": "code",
   "execution_count": 6,
   "outputs": [
    {
     "data": {
      "text/plain": "                                        id  \\\ncount                                20431   \nunique                               20431   \ntop     9f44c1539efe6f7e79b02eb1b413aa43_1   \nfreq                                     1   \n\n                                                    title  \\\ncount                                               20431   \nunique                                                415   \ntop     Benefits Planner | Social Security Administrat...   \nfreq                                                  101   \n\n                                                  context question  \\\ncount                                               20431    20431   \nunique                                                402    20257   \ntop     \\n\\nSocial Security Credits \\nYou must earn at...  user:hi   \nfreq                                                  181       11   \n\n                                                  answers domain  \ncount                                               20431  20431  \nunique                                               6997      4  \ntop     {'text': ['You must earn at least 40 Social Se...    dmv  \nfreq                                                   41   5909  ",
      "text/html": "<div>\n<style scoped>\n    .dataframe tbody tr th:only-of-type {\n        vertical-align: middle;\n    }\n\n    .dataframe tbody tr th {\n        vertical-align: top;\n    }\n\n    .dataframe thead th {\n        text-align: right;\n    }\n</style>\n<table border=\"1\" class=\"dataframe\">\n  <thead>\n    <tr style=\"text-align: right;\">\n      <th></th>\n      <th>id</th>\n      <th>title</th>\n      <th>context</th>\n      <th>question</th>\n      <th>answers</th>\n      <th>domain</th>\n    </tr>\n  </thead>\n  <tbody>\n    <tr>\n      <th>count</th>\n      <td>20431</td>\n      <td>20431</td>\n      <td>20431</td>\n      <td>20431</td>\n      <td>20431</td>\n      <td>20431</td>\n    </tr>\n    <tr>\n      <th>unique</th>\n      <td>20431</td>\n      <td>415</td>\n      <td>402</td>\n      <td>20257</td>\n      <td>6997</td>\n      <td>4</td>\n    </tr>\n    <tr>\n      <th>top</th>\n      <td>9f44c1539efe6f7e79b02eb1b413aa43_1</td>\n      <td>Benefits Planner | Social Security Administrat...</td>\n      <td>\\n\\nSocial Security Credits \\nYou must earn at...</td>\n      <td>user:hi</td>\n      <td>{'text': ['You must earn at least 40 Social Se...</td>\n      <td>dmv</td>\n    </tr>\n    <tr>\n      <th>freq</th>\n      <td>1</td>\n      <td>101</td>\n      <td>181</td>\n      <td>11</td>\n      <td>41</td>\n      <td>5909</td>\n    </tr>\n  </tbody>\n</table>\n</div>"
     },
     "execution_count": 6,
     "metadata": {},
     "output_type": "execute_result"
    }
   ],
   "source": [
    "rc_dataset_df.describe()"
   ],
   "metadata": {
    "collapsed": false,
    "pycharm": {
     "name": "#%%\n"
    }
   }
  },
  {
   "cell_type": "code",
   "execution_count": 12,
   "outputs": [
    {
     "name": "stderr",
     "output_type": "stream",
     "text": [
      "Loading cached processed dataset at ./data_cache/doc2dial/doc2dial_rc/1.0.1/765cb4d9af421b599d910080fd61b4a43440c1232693876470ef3245daa5fa4c/cache-2986451dff9bb180.arrow\n"
     ]
    },
    {
     "data": {
      "text/plain": "['user:Can picture plates be personalized?',\n 'user:How much do personalized plates cost? \\tuser:For personalized plate availability and pricing for the picture plate you are interested in you can browse our collection of picture plates online \\tagent:How much does that cost \\tagent:Yes, some picture plates can be personalized for an additional fee in addition to your picture plate and regular registration fee \\tuser:Can picture plates be personalized?',\n 'user:Can I use personalized plates on any type of vehicle? \\tagent:For Passenger and Commercial Plates the Initial Cost = $ 60.00Annual Fee = $ 31.25 \\tuser:How much do personalized plates cost? \\tuser:For personalized plate availability and pricing for the picture plate you are interested in you can browse our collection of picture plates online \\tagent:How much does that cost \\tagent:Yes, some picture plates can be personalized for an additional fee in addition to your picture plate and regular registration fee \\tuser:Can picture plates be personalized?',\n 'user:What plate combinations are restricted? \\tagent:You can use personalized plates on passenger vehicles , commercial vehicles , motorcycles and trailers \\tuser:Can I use personalized plates on any type of vehicle? \\tagent:For Passenger and Commercial Plates the Initial Cost = $ 60.00Annual Fee = $ 31.25 \\tuser:How much do personalized plates cost? \\tuser:For personalized plate availability and pricing for the picture plate you are interested in you can browse our collection of picture plates online \\tagent:How much does that cost \\tagent:Yes, some picture plates can be personalized for an additional fee in addition to your picture plate and regular registration fee \\tuser:Can picture plates be personalized?',\n 'user:What are personalized plates? \\tagent:Restrictions include: Personalized plates that give the appearance of an official plate or the configuration of special registration classes. Combinations that are considered obscene , derogatory or offensive, and combinations that do not have one letter \\tuser:What plate combinations are restricted? \\tagent:You can use personalized plates on passenger vehicles , commercial vehicles , motorcycles and trailers \\tuser:Can I use personalized plates on any type of vehicle? \\tagent:For Passenger and Commercial Plates the Initial Cost = $ 60.00Annual Fee = $ 31.25 \\tuser:How much do personalized plates cost? \\tuser:For personalized plate availability and pricing for the picture plate you are interested in you can browse our collection of picture plates online \\tagent:How much does that cost \\tagent:Yes, some picture plates can be personalized for an additional fee in addition to your picture plate and regular registration fee \\tuser:Can picture plates be personalized?',\n 'user:can picture plates be personalized?',\n 'user:what can i use for a personalized plate combination? \\tuser:can i browse a collection? \\tagent:for personalized plate availability and pricing for the picture plate you are interested in... does this apply to you? \\tagent:yes. some picture plates can be personalized for an addition fee in addition to your picture plate and regular free \\tuser:can picture plates be personalized?',\n 'user:can i browse them online? \\tagent:your requested plate combination is subject to review \\tuser:what can i use for a personalized plate combination? \\tuser:can i browse a collection? \\tagent:for personalized plate availability and pricing for the picture plate you are interested in... does this apply to you? \\tagent:yes. some picture plates can be personalized for an addition fee in addition to your picture plate and regular free \\tuser:can picture plates be personalized?',\n 'user:what can i use for a personalized plate combo \\tagent:you can browse our collection of picture plates online \\tuser:can i browse them online? \\tagent:your requested plate combination is subject to review \\tuser:what can i use for a personalized plate combination? \\tuser:can i browse a collection? \\tagent:for personalized plate availability and pricing for the picture plate you are interested in... does this apply to you? \\tagent:yes. some picture plates can be personalized for an addition fee in addition to your picture plate and regular free \\tuser:can picture plates be personalized?',\n 'user:how many characters for a picture plate? \\tagent:8 characters on standard series, 6 characters on a personalized \\tuser:what can i use for a personalized plate combo \\tagent:you can browse our collection of picture plates online \\tuser:can i browse them online? \\tagent:your requested plate combination is subject to review \\tuser:what can i use for a personalized plate combination? \\tuser:can i browse a collection? \\tagent:for personalized plate availability and pricing for the picture plate you are interested in... does this apply to you? \\tagent:yes. some picture plates can be personalized for an addition fee in addition to your picture plate and regular free \\tuser:can picture plates be personalized?',\n 'user:are there any plate combinations that are restricted? \\tagent:6 characters. \\tuser:how many characters for a picture plate? \\tagent:8 characters on standard series, 6 characters on a personalized \\tuser:what can i use for a personalized plate combo \\tagent:you can browse our collection of picture plates online \\tuser:can i browse them online? \\tagent:your requested plate combination is subject to review \\tuser:what can i use for a personalized plate combination? \\tuser:can i browse a collection? \\tagent:for personalized plate availability and pricing for the picture plate you are interested in... does this apply to you? \\tagent:yes. some picture plates can be personalized for an addition fee in addition to your picture plate and regular free \\tuser:can picture plates be personalized?',\n 'user:can picture plates be personalized?',\n 'user:what can i use for a personalized plate combination? \\tuser:where can i see them? \\tagent:for personalized plate availability and pricing for the picture plate you are interested in. does this apply to you? \\tagent:yes. some picture plates can be personalized for an additional fee in addition to your picture and regular registration fee \\tuser:can picture plates be personalized?',\n 'user:can i use personalized plates on any kind of vehicle? \\tagent:your requested plate combination is subject to review. the dmv is not required to issue your requested plate \\tuser:what can i use for a personalized plate combination? \\tuser:where can i see them? \\tagent:for personalized plate availability and pricing for the picture plate you are interested in. does this apply to you? \\tagent:yes. some picture plates can be personalized for an additional fee in addition to your picture and regular registration fee \\tuser:can picture plates be personalized?',\n 'user:can i use a combination? \\tagent:you can use personalized plates on passenger vehicles, commercial vehicles, motorcycles and trailers. \\tuser:can i use personalized plates on any kind of vehicle? \\tagent:your requested plate combination is subject to review. the dmv is not required to issue your requested plate \\tuser:what can i use for a personalized plate combination? \\tuser:where can i see them? \\tagent:for personalized plate availability and pricing for the picture plate you are interested in. does this apply to you? \\tagent:yes. some picture plates can be personalized for an additional fee in addition to your picture and regular registration fee \\tuser:can picture plates be personalized?',\n 'user:what plate combinations are restricted? \\tagent:you can use personalized plates on passenger vehicles \\tuser:can i use a combination? \\tagent:you can use personalized plates on passenger vehicles, commercial vehicles, motorcycles and trailers. \\tuser:can i use personalized plates on any kind of vehicle? \\tagent:your requested plate combination is subject to review. the dmv is not required to issue your requested plate \\tuser:what can i use for a personalized plate combination? \\tuser:where can i see them? \\tagent:for personalized plate availability and pricing for the picture plate you are interested in. does this apply to you? \\tagent:yes. some picture plates can be personalized for an additional fee in addition to your picture and regular registration fee \\tuser:can picture plates be personalized?',\n 'user:what are the costs? \\tagent:personalized plates that give the appearance of an offical plate, combinations that are considere obscene, combinations that do not have one letter \\tuser:what plate combinations are restricted? \\tagent:you can use personalized plates on passenger vehicles \\tuser:can i use a combination? \\tagent:you can use personalized plates on passenger vehicles, commercial vehicles, motorcycles and trailers. \\tuser:can i use personalized plates on any kind of vehicle? \\tagent:your requested plate combination is subject to review. the dmv is not required to issue your requested plate \\tuser:what can i use for a personalized plate combination? \\tuser:where can i see them? \\tagent:for personalized plate availability and pricing for the picture plate you are interested in. does this apply to you? \\tagent:yes. some picture plates can be personalized for an additional fee in addition to your picture and regular registration fee \\tuser:can picture plates be personalized?',\n 'user:what are personalized plates? \\tagent:initial cost = $35.00, annual fee = $18.75 \\tuser:what are the costs? \\tagent:personalized plates that give the appearance of an offical plate, combinations that are considere obscene, combinations that do not have one letter \\tuser:what plate combinations are restricted? \\tagent:you can use personalized plates on passenger vehicles \\tuser:can i use a combination? \\tagent:you can use personalized plates on passenger vehicles, commercial vehicles, motorcycles and trailers. \\tuser:can i use personalized plates on any kind of vehicle? \\tagent:your requested plate combination is subject to review. the dmv is not required to issue your requested plate \\tuser:what can i use for a personalized plate combination? \\tuser:where can i see them? \\tagent:for personalized plate availability and pricing for the picture plate you are interested in. does this apply to you? \\tagent:yes. some picture plates can be personalized for an additional fee in addition to your picture and regular registration fee \\tuser:can picture plates be personalized?',\n 'user:Can I personalize my plate?',\n 'user:How do I get started? \\tuser:No, I already have it. \\tagent:Do you need the link to browse the picture collection? \\tagent:Yes depending on the picture. \\tuser:Can I personalize my plate?',\n 'user:Is it expensive? \\tagent:You must browse the collection. \\tuser:How do I get started? \\tuser:No, I already have it. \\tagent:Do you need the link to browse the picture collection? \\tagent:Yes depending on the picture. \\tuser:Can I personalize my plate?',\n \"user:Can I add my own picture? \\tagent:It depends on what type of plates you're getting. \\tuser:Is it expensive? \\tagent:You must browse the collection. \\tuser:How do I get started? \\tuser:No, I already have it. \\tagent:Do you need the link to browse the picture collection? \\tagent:Yes depending on the picture. \\tuser:Can I personalize my plate?\",\n \"user:Are there any restrictions? \\tagent:No, we have a catalog. \\tuser:Can I add my own picture? \\tagent:It depends on what type of plates you're getting. \\tuser:Is it expensive? \\tagent:You must browse the collection. \\tuser:How do I get started? \\tuser:No, I already have it. \\tagent:Do you need the link to browse the picture collection? \\tagent:Yes depending on the picture. \\tuser:Can I personalize my plate?\",\n 'user:What is the cost of a personalized plate for a passenger vehicle?',\n 'user:My vehicle is a regular passenger vehicle just used as a retirement vehicle for shopping, errands and vacation, but I would like to have a personalized plate for it.  \\tagent:You do need plates for a regular passenger vehicle, correct?  It is not considered a commercial vehicle?  \\tagent:The plate for a passenger vehicle has an initial cost of $60 plus an annual fee of $31.25 in addition to your regular vehicle registration fee.  \\tuser:What is the cost of a personalized plate for a passenger vehicle?',\n 'user:What is the maximum amount of characters I can use if I want one of he picture plates?  \\tagent:Yes, then as stated previously, your cost would initially be $60 plus the annual fee of $31.25 in addition to your regular vehicle registration fee.  \\tuser:My vehicle is a regular passenger vehicle just used as a retirement vehicle for shopping, errands and vacation, but I would like to have a personalized plate for it.  \\tagent:You do need plates for a regular passenger vehicle, correct?  It is not considered a commercial vehicle?  \\tagent:The plate for a passenger vehicle has an initial cost of $60 plus an annual fee of $31.25 in addition to your regular vehicle registration fee.  \\tuser:What is the cost of a personalized plate for a passenger vehicle?',\n 'user:Can my personalized plate be all numbers?  \\tagent:For the picture plates, the maximum characters usable is six.  \\tuser:What is the maximum amount of characters I can use if I want one of he picture plates?  \\tagent:Yes, then as stated previously, your cost would initially be $60 plus the annual fee of $31.25 in addition to your regular vehicle registration fee.  \\tuser:My vehicle is a regular passenger vehicle just used as a retirement vehicle for shopping, errands and vacation, but I would like to have a personalized plate for it.  \\tagent:You do need plates for a regular passenger vehicle, correct?  It is not considered a commercial vehicle?  \\tagent:The plate for a passenger vehicle has an initial cost of $60 plus an annual fee of $31.25 in addition to your regular vehicle registration fee.  \\tuser:What is the cost of a personalized plate for a passenger vehicle?',\n 'user:What are the different categories of picture plates?  \\tagent:Combinations that do not have one letter are considered a restricted combination and will not be approved.  \\tuser:Can my personalized plate be all numbers?  \\tagent:For the picture plates, the maximum characters usable is six.  \\tuser:What is the maximum amount of characters I can use if I want one of he picture plates?  \\tagent:Yes, then as stated previously, your cost would initially be $60 plus the annual fee of $31.25 in addition to your regular vehicle registration fee.  \\tuser:My vehicle is a regular passenger vehicle just used as a retirement vehicle for shopping, errands and vacation, but I would like to have a personalized plate for it.  \\tagent:You do need plates for a regular passenger vehicle, correct?  It is not considered a commercial vehicle?  \\tagent:The plate for a passenger vehicle has an initial cost of $60 plus an annual fee of $31.25 in addition to your regular vehicle registration fee.  \\tuser:What is the cost of a personalized plate for a passenger vehicle?',\n 'user:How often is the renewal on the personalized plates?  \\tagent:Picture plate categories are; I Love NY Adventure, Sports, Military and Veterans, Counties and Regions of NY State, Colleges, Fraternities, Sororities, Causes, Professions, Organization, and Motorcycle Plates.  \\tuser:What are the different categories of picture plates?  \\tagent:Combinations that do not have one letter are considered a restricted combination and will not be approved.  \\tuser:Can my personalized plate be all numbers?  \\tagent:For the picture plates, the maximum characters usable is six.  \\tuser:What is the maximum amount of characters I can use if I want one of he picture plates?  \\tagent:Yes, then as stated previously, your cost would initially be $60 plus the annual fee of $31.25 in addition to your regular vehicle registration fee.  \\tuser:My vehicle is a regular passenger vehicle just used as a retirement vehicle for shopping, errands and vacation, but I would like to have a personalized plate for it.  \\tagent:You do need plates for a regular passenger vehicle, correct?  It is not considered a commercial vehicle?  \\tagent:The plate for a passenger vehicle has an initial cost of $60 plus an annual fee of $31.25 in addition to your regular vehicle registration fee.  \\tuser:What is the cost of a personalized plate for a passenger vehicle?',\n 'user:I want to personalize my plates',\n 'user:yes I am \\tagent:are you doing a picture plate \\tagent:good, you can personalize picture plates for a fee \\tuser:I want to personalize my plates',\n 'user:can I have my naked wife on there \\tagent:You can look at our available plates online \\tuser:yes I am \\tagent:are you doing a picture plate \\tagent:good, you can personalize picture plates for a fee \\tuser:I want to personalize my plates',\n 'user:so if i choose to do my naked wife and it is art then you will make it? \\tagent:you might as long as it is not obscene or offensive \\tuser:can I have my naked wife on there \\tagent:You can look at our available plates online \\tuser:yes I am \\tagent:are you doing a picture plate \\tagent:good, you can personalize picture plates for a fee \\tuser:I want to personalize my plates',\n 'user:are there rules for what I can do? \\tagent:we might, it will be reviewed to make sure it is not offensive or obscene \\tuser:so if i choose to do my naked wife and it is art then you will make it? \\tagent:you might as long as it is not obscene or offensive \\tuser:can I have my naked wife on there \\tagent:You can look at our available plates online \\tuser:yes I am \\tagent:are you doing a picture plate \\tagent:good, you can personalize picture plates for a fee \\tuser:I want to personalize my plates',\n 'user:what if my plate is only offensive to some but others consider it art? \\tagent:yes, we have character limits and other rules that you can view online \\tuser:are there rules for what I can do? \\tagent:we might, it will be reviewed to make sure it is not offensive or obscene \\tuser:so if i choose to do my naked wife and it is art then you will make it? \\tagent:you might as long as it is not obscene or offensive \\tuser:can I have my naked wife on there \\tagent:You can look at our available plates online \\tuser:yes I am \\tagent:are you doing a picture plate \\tagent:good, you can personalize picture plates for a fee \\tuser:I want to personalize my plates',\n 'user:EWhat are personalised plates?',\n \"user:I'd like to know more about how much (insert X) would cost. \\tagent:Please check our linked website for available options. \\tagent:Would you like to know more? \\tuser:EWhat are personalised plates?\",\n \"user:Can you tell me what any/all additional fees you charge would be? \\tagent:It would behoove you to check the reference list I previously mentioned. \\tuser:I'd like to know more about how much (insert X) would cost. \\tagent:Please check our linked website for available options. \\tagent:Would you like to know more? \\tuser:EWhat are personalised plates?\",\n \"user:Can I also have a picture plate that is personalised? \\tagent:Once again, reference the documents I have linked. \\tuser:Can you tell me what any/all additional fees you charge would be? \\tagent:It would behoove you to check the reference list I previously mentioned. \\tuser:I'd like to know more about how much (insert X) would cost. \\tagent:Please check our linked website for available options. \\tagent:Would you like to know more? \\tuser:EWhat are personalised plates?\",\n \"user:Can I use them on any vehicle? A trailer? SUV? ETC? \\tagent:Yes, again, for a fee. Please reference the fee chart for further information. \\tuser:Can I also have a picture plate that is personalised? \\tagent:Once again, reference the documents I have linked. \\tuser:Can you tell me what any/all additional fees you charge would be? \\tagent:It would behoove you to check the reference list I previously mentioned. \\tuser:I'd like to know more about how much (insert X) would cost. \\tagent:Please check our linked website for available options. \\tagent:Would you like to know more? \\tuser:EWhat are personalised plates?\",\n \"user:Are there any restrictions on these plates? \\tagent:Yes, as long as they are required to be registered by the DMV, you may use them. \\tuser:Can I use them on any vehicle? A trailer? SUV? ETC? \\tagent:Yes, again, for a fee. Please reference the fee chart for further information. \\tuser:Can I also have a picture plate that is personalised? \\tagent:Once again, reference the documents I have linked. \\tuser:Can you tell me what any/all additional fees you charge would be? \\tagent:It would behoove you to check the reference list I previously mentioned. \\tuser:I'd like to know more about how much (insert X) would cost. \\tagent:Please check our linked website for available options. \\tagent:Would you like to know more? \\tuser:EWhat are personalised plates?\",\n \"user:What is the total price for what I'm looking at? \\tagent:Yes, besides the fee, we do not accept obscene or racist combinations for a plate number. \\tuser:Are there any restrictions on these plates? \\tagent:Yes, as long as they are required to be registered by the DMV, you may use them. \\tuser:Can I use them on any vehicle? A trailer? SUV? ETC? \\tagent:Yes, again, for a fee. Please reference the fee chart for further information. \\tuser:Can I also have a picture plate that is personalised? \\tagent:Once again, reference the documents I have linked. \\tuser:Can you tell me what any/all additional fees you charge would be? \\tagent:It would behoove you to check the reference list I previously mentioned. \\tuser:I'd like to know more about how much (insert X) would cost. \\tagent:Please check our linked website for available options. \\tagent:Would you like to know more? \\tuser:EWhat are personalised plates?\",\n 'user:Can picture plates be personalized?',\n 'user:Any of them. \\tagent:Which picture plate are you interested in? \\tagent:Yes, some picture plates can be personalized for an additional fee. \\tuser:Can picture plates be personalized?',\n 'user:What fees are associated with personalized plates? \\tagent:You can browse our collection of picture plates online. \\tuser:Any of them. \\tagent:Which picture plate are you interested in? \\tagent:Yes, some picture plates can be personalized for an additional fee. \\tuser:Can picture plates be personalized?',\n 'user:How much do personalized plates cost? \\tagent:There is an annual fee in addition to your vehicle registration renewal fee and will be paid when you renew your registration.  If you renew for two years, there will be two annual fee. \\tuser:What fees are associated with personalized plates? \\tagent:You can browse our collection of picture plates online. \\tuser:Any of them. \\tagent:Which picture plate are you interested in? \\tagent:Yes, some picture plates can be personalized for an additional fee. \\tuser:Can picture plates be personalized?',\n 'user:What is considered a personalized plate? \\tagent:Passenger and Commercial plates initial cost is $60 and the annual fee is $31.25. \\tuser:How much do personalized plates cost? \\tagent:There is an annual fee in addition to your vehicle registration renewal fee and will be paid when you renew your registration.  If you renew for two years, there will be two annual fee. \\tuser:What fees are associated with personalized plates? \\tagent:You can browse our collection of picture plates online. \\tuser:Any of them. \\tagent:Which picture plate are you interested in? \\tagent:Yes, some picture plates can be personalized for an additional fee. \\tuser:Can picture plates be personalized?',\n 'user:Are there restrictions? \\tagent:Personalized plates are standard series plates that have a combination of numbers and letters that you select. \\tuser:What is considered a personalized plate? \\tagent:Passenger and Commercial plates initial cost is $60 and the annual fee is $31.25. \\tuser:How much do personalized plates cost? \\tagent:There is an annual fee in addition to your vehicle registration renewal fee and will be paid when you renew your registration.  If you renew for two years, there will be two annual fee. \\tuser:What fees are associated with personalized plates? \\tagent:You can browse our collection of picture plates online. \\tuser:Any of them. \\tagent:Which picture plate are you interested in? \\tagent:Yes, some picture plates can be personalized for an additional fee. \\tuser:Can picture plates be personalized?',\n 'user:Hi there',\n \"user:And however much that would cost. \\tuser:I'd want to know if (xxxx) is available. \\tagent:What would you like to know? \\tagent:Hello; I understand you'rte asking about personalised plates? \\tuser:Hi there\",\n \"user:What other options do I have with tthose plates? \\tagent:It is available and would cost $60 to begin with. \\tuser:And however much that would cost. \\tuser:I'd want to know if (xxxx) is available. \\tagent:What would you like to know? \\tagent:Hello; I understand you'rte asking about personalised plates? \\tuser:Hi there\",\n \"user:Can I use them on anything? \\tagent:We don't have to issue it, but it is treated as a request. \\tuser:What other options do I have with tthose plates? \\tagent:It is available and would cost $60 to begin with. \\tuser:And however much that would cost. \\tuser:I'd want to know if (xxxx) is available. \\tagent:What would you like to know? \\tagent:Hello; I understand you'rte asking about personalised plates? \\tuser:Hi there\",\n \"user:How many characters cna I use? \\tagent:Yes, as long as it is registered to the vehicle. \\tuser:Can I use them on anything? \\tagent:We don't have to issue it, but it is treated as a request. \\tuser:What other options do I have with tthose plates? \\tagent:It is available and would cost $60 to begin with. \\tuser:And however much that would cost. \\tuser:I'd want to know if (xxxx) is available. \\tagent:What would you like to know? \\tagent:Hello; I understand you'rte asking about personalised plates? \\tuser:Hi there\",\n \"user:I'd like to know if (xxxxxxxx) is available. \\tagent:Up to 8. \\tuser:How many characters cna I use? \\tagent:Yes, as long as it is registered to the vehicle. \\tuser:Can I use them on anything? \\tagent:We don't have to issue it, but it is treated as a request. \\tuser:What other options do I have with tthose plates? \\tagent:It is available and would cost $60 to begin with. \\tuser:And however much that would cost. \\tuser:I'd want to know if (xxxx) is available. \\tagent:What would you like to know? \\tagent:Hello; I understand you'rte asking about personalised plates? \\tuser:Hi there\",\n \"user:Awesome, thank you. \\tagent:Yes, it is. Although while it is available, it is still pending approval. \\tuser:I'd like to know if (xxxxxxxx) is available. \\tagent:Up to 8. \\tuser:How many characters cna I use? \\tagent:Yes, as long as it is registered to the vehicle. \\tuser:Can I use them on anything? \\tagent:We don't have to issue it, but it is treated as a request. \\tuser:What other options do I have with tthose plates? \\tagent:It is available and would cost $60 to begin with. \\tuser:And however much that would cost. \\tuser:I'd want to know if (xxxx) is available. \\tagent:What would you like to know? \\tagent:Hello; I understand you'rte asking about personalised plates? \\tuser:Hi there\"]"
     },
     "execution_count": 12,
     "metadata": {},
     "output_type": "execute_result"
    }
   ],
   "source": [
    "manual_doc_id = 'Learn about personalized plates#3_0'\n",
    "\n",
    "manual_doc = rc_dataset.filter(lambda doc: doc['title'] == manual_doc_id)\n",
    "manual_doc['question']"
   ],
   "metadata": {
    "collapsed": false,
    "pycharm": {
     "name": "#%%\n"
    }
   }
  },
  {
   "cell_type": "markdown",
   "source": [
    "# Compare to dialogue dataset"
   ],
   "metadata": {
    "collapsed": false,
    "pycharm": {
     "name": "#%% md\n"
    }
   }
  },
  {
   "cell_type": "code",
   "execution_count": 13,
   "outputs": [
    {
     "name": "stdout",
     "output_type": "stream",
     "text": [
      "Downloading and preparing dataset doc2dial/dialogue_domain (download: 5.61 MiB, generated: 7.86 MiB, post-processed: Unknown size, total: 13.47 MiB) to ./data_cache_rc_notebook/doc2dial/dialogue_domain/1.0.1/765cb4d9af421b599d910080fd61b4a43440c1232693876470ef3245daa5fa4c...\n"
     ]
    },
    {
     "data": {
      "text/plain": "Downloading:   0%|          | 0.00/5.88M [00:00<?, ?B/s]",
      "application/vnd.jupyter.widget-view+json": {
       "version_major": 2,
       "version_minor": 0,
       "model_id": "ebaa000b3d954a2f931288144a7f4fcc"
      }
     },
     "metadata": {},
     "output_type": "display_data"
    },
    {
     "data": {
      "text/plain": "0 examples [00:00, ? examples/s]",
      "application/vnd.jupyter.widget-view+json": {
       "version_major": 2,
       "version_minor": 0,
       "model_id": "d83ecf0ebf27414080ecb01b909549bc"
      }
     },
     "metadata": {},
     "output_type": "display_data"
    },
    {
     "data": {
      "text/plain": "0 examples [00:00, ? examples/s]",
      "application/vnd.jupyter.widget-view+json": {
       "version_major": 2,
       "version_minor": 0,
       "model_id": "77e93674a92b440c8dc31afe87aa9761"
      }
     },
     "metadata": {},
     "output_type": "display_data"
    },
    {
     "name": "stdout",
     "output_type": "stream",
     "text": [
      "Dataset doc2dial downloaded and prepared to ./data_cache_rc_notebook/doc2dial/dialogue_domain/1.0.1/765cb4d9af421b599d910080fd61b4a43440c1232693876470ef3245daa5fa4c. Subsequent calls will reuse this data.\n"
     ]
    }
   ],
   "source": [
    "split = \"train\"\n",
    "cache_dir = \"./data_cache_rc_notebook\"\n",
    "\n",
    "#User's turn: utterance= question, reference=grounding document span_id, can be empty, \"precondition\"/\"solution\" are the\n",
    "#actual grounding spans\n",
    "#Gold label for grounding\n",
    "dialogue_dataset = load_dataset(\n",
    "    \"doc2dial\",\n",
    "    name=\"dialogue_domain\",  # this is the name of the dataset for the second subtask, dialog generation\n",
    "    split=split,\n",
    "    ignore_verifications=True,\n",
    "    cache_dir=cache_dir,\n",
    ")"
   ],
   "metadata": {
    "collapsed": false,
    "pycharm": {
     "name": "#%%\n"
    }
   }
  },
  {
   "cell_type": "code",
   "execution_count": 14,
   "outputs": [],
   "source": [
    "# import pandas as pd\n",
    "\n",
    "dialogue_full_df = pd.DataFrame(data=dialogue_dataset)"
   ],
   "metadata": {
    "collapsed": false,
    "pycharm": {
     "name": "#%%\n"
    }
   }
  },
  {
   "cell_type": "code",
   "execution_count": 17,
   "outputs": [
    {
     "ename": "KeyboardInterrupt",
     "evalue": "",
     "output_type": "error",
     "traceback": [
      "\u001B[0;31m---------------------------------------------------------------------------\u001B[0m",
      "\u001B[0;31mKeyboardInterrupt\u001B[0m                         Traceback (most recent call last)",
      "\u001B[0;32m/var/folders/tb/kxdncxw16gx7p6y4hsgc0y540000gn/T/ipykernel_46946/2346191787.py\u001B[0m in \u001B[0;36m<module>\u001B[0;34m\u001B[0m\n\u001B[1;32m      3\u001B[0m \u001B[0;34m\u001B[0m\u001B[0m\n\u001B[1;32m      4\u001B[0m \u001B[0;32mfor\u001B[0m \u001B[0mdialogue_index\u001B[0m\u001B[0;34m,\u001B[0m \u001B[0mturns\u001B[0m \u001B[0;32min\u001B[0m \u001B[0menumerate\u001B[0m\u001B[0;34m(\u001B[0m\u001B[0mdialogues_for_doc\u001B[0m\u001B[0;34m[\u001B[0m\u001B[0;34m'turns'\u001B[0m\u001B[0;34m]\u001B[0m\u001B[0;34m)\u001B[0m\u001B[0;34m:\u001B[0m\u001B[0;34m\u001B[0m\u001B[0;34m\u001B[0m\u001B[0m\n\u001B[0;32m----> 5\u001B[0;31m     \u001B[0mprint\u001B[0m\u001B[0;34m(\u001B[0m\u001B[0mdialogue_index\u001B[0m\u001B[0;34m)\u001B[0m\u001B[0;34m\u001B[0m\u001B[0;34m\u001B[0m\u001B[0m\n\u001B[0m",
      "\u001B[0;32m/var/folders/tb/kxdncxw16gx7p6y4hsgc0y540000gn/T/ipykernel_46946/2346191787.py\u001B[0m in \u001B[0;36m<module>\u001B[0;34m\u001B[0m\n\u001B[1;32m      3\u001B[0m \u001B[0;34m\u001B[0m\u001B[0m\n\u001B[1;32m      4\u001B[0m \u001B[0;32mfor\u001B[0m \u001B[0mdialogue_index\u001B[0m\u001B[0;34m,\u001B[0m \u001B[0mturns\u001B[0m \u001B[0;32min\u001B[0m \u001B[0menumerate\u001B[0m\u001B[0;34m(\u001B[0m\u001B[0mdialogues_for_doc\u001B[0m\u001B[0;34m[\u001B[0m\u001B[0;34m'turns'\u001B[0m\u001B[0;34m]\u001B[0m\u001B[0;34m)\u001B[0m\u001B[0;34m:\u001B[0m\u001B[0;34m\u001B[0m\u001B[0;34m\u001B[0m\u001B[0m\n\u001B[0;32m----> 5\u001B[0;31m     \u001B[0mprint\u001B[0m\u001B[0;34m(\u001B[0m\u001B[0mdialogue_index\u001B[0m\u001B[0;34m)\u001B[0m\u001B[0;34m\u001B[0m\u001B[0;34m\u001B[0m\u001B[0m\n\u001B[0m",
      "\u001B[0;32m_pydevd_bundle/pydevd_cython_darwin_39_64.pyx\u001B[0m in \u001B[0;36m_pydevd_bundle.pydevd_cython_darwin_39_64.SafeCallWrapper.__call__\u001B[0;34m()\u001B[0m\n",
      "\u001B[0;32m_pydevd_bundle/pydevd_cython_darwin_39_64.pyx\u001B[0m in \u001B[0;36m_pydevd_bundle.pydevd_cython_darwin_39_64.PyDBFrame.trace_dispatch\u001B[0;34m()\u001B[0m\n",
      "\u001B[0;32m_pydevd_bundle/pydevd_cython_darwin_39_64.pyx\u001B[0m in \u001B[0;36m_pydevd_bundle.pydevd_cython_darwin_39_64.PyDBFrame.trace_dispatch\u001B[0;34m()\u001B[0m\n",
      "\u001B[0;32m_pydevd_bundle/pydevd_cython_darwin_39_64.pyx\u001B[0m in \u001B[0;36m_pydevd_bundle.pydevd_cython_darwin_39_64.PyDBFrame.trace_dispatch\u001B[0;34m()\u001B[0m\n",
      "\u001B[0;32m_pydevd_bundle/pydevd_cython_darwin_39_64.pyx\u001B[0m in \u001B[0;36m_pydevd_bundle.pydevd_cython_darwin_39_64.PyDBFrame.do_wait_suspend\u001B[0;34m()\u001B[0m\n",
      "\u001B[0;32m~/Library/Application Support/JetBrains/Toolbox/apps/DataSpell/ch-0/213.5744.170/DataSpell 2021.3.app/Contents/plugins/python-ce/helpers/pydev/pydevd.py\u001B[0m in \u001B[0;36mdo_wait_suspend\u001B[0;34m(self, thread, frame, event, arg, send_suspend_message, is_unhandled_exception)\u001B[0m\n\u001B[1;32m   1145\u001B[0m \u001B[0;34m\u001B[0m\u001B[0m\n\u001B[1;32m   1146\u001B[0m         \u001B[0;32mwith\u001B[0m \u001B[0mself\u001B[0m\u001B[0;34m.\u001B[0m\u001B[0m_threads_suspended_single_notification\u001B[0m\u001B[0;34m.\u001B[0m\u001B[0mnotify_thread_suspended\u001B[0m\u001B[0;34m(\u001B[0m\u001B[0mthread_id\u001B[0m\u001B[0;34m,\u001B[0m \u001B[0mstop_reason\u001B[0m\u001B[0;34m)\u001B[0m\u001B[0;34m:\u001B[0m\u001B[0;34m\u001B[0m\u001B[0;34m\u001B[0m\u001B[0m\n\u001B[0;32m-> 1147\u001B[0;31m             \u001B[0mself\u001B[0m\u001B[0;34m.\u001B[0m\u001B[0m_do_wait_suspend\u001B[0m\u001B[0;34m(\u001B[0m\u001B[0mthread\u001B[0m\u001B[0;34m,\u001B[0m \u001B[0mframe\u001B[0m\u001B[0;34m,\u001B[0m \u001B[0mevent\u001B[0m\u001B[0;34m,\u001B[0m \u001B[0marg\u001B[0m\u001B[0;34m,\u001B[0m \u001B[0msuspend_type\u001B[0m\u001B[0;34m,\u001B[0m \u001B[0mfrom_this_thread\u001B[0m\u001B[0;34m)\u001B[0m\u001B[0;34m\u001B[0m\u001B[0;34m\u001B[0m\u001B[0m\n\u001B[0m\u001B[1;32m   1148\u001B[0m \u001B[0;34m\u001B[0m\u001B[0m\n\u001B[1;32m   1149\u001B[0m     \u001B[0;32mdef\u001B[0m \u001B[0m_do_wait_suspend\u001B[0m\u001B[0;34m(\u001B[0m\u001B[0mself\u001B[0m\u001B[0;34m,\u001B[0m \u001B[0mthread\u001B[0m\u001B[0;34m,\u001B[0m \u001B[0mframe\u001B[0m\u001B[0;34m,\u001B[0m \u001B[0mevent\u001B[0m\u001B[0;34m,\u001B[0m \u001B[0marg\u001B[0m\u001B[0;34m,\u001B[0m \u001B[0msuspend_type\u001B[0m\u001B[0;34m,\u001B[0m \u001B[0mfrom_this_thread\u001B[0m\u001B[0;34m)\u001B[0m\u001B[0;34m:\u001B[0m\u001B[0;34m\u001B[0m\u001B[0;34m\u001B[0m\u001B[0m\n",
      "\u001B[0;32m~/Library/Application Support/JetBrains/Toolbox/apps/DataSpell/ch-0/213.5744.170/DataSpell 2021.3.app/Contents/plugins/python-ce/helpers/pydev/pydevd.py\u001B[0m in \u001B[0;36m_do_wait_suspend\u001B[0;34m(self, thread, frame, event, arg, suspend_type, from_this_thread)\u001B[0m\n\u001B[1;32m   1160\u001B[0m \u001B[0;34m\u001B[0m\u001B[0m\n\u001B[1;32m   1161\u001B[0m                 \u001B[0mself\u001B[0m\u001B[0;34m.\u001B[0m\u001B[0mprocess_internal_commands\u001B[0m\u001B[0;34m(\u001B[0m\u001B[0;34m)\u001B[0m\u001B[0;34m\u001B[0m\u001B[0;34m\u001B[0m\u001B[0m\n\u001B[0;32m-> 1162\u001B[0;31m                 \u001B[0mtime\u001B[0m\u001B[0;34m.\u001B[0m\u001B[0msleep\u001B[0m\u001B[0;34m(\u001B[0m\u001B[0;36m0.01\u001B[0m\u001B[0;34m)\u001B[0m\u001B[0;34m\u001B[0m\u001B[0;34m\u001B[0m\u001B[0m\n\u001B[0m\u001B[1;32m   1163\u001B[0m \u001B[0;34m\u001B[0m\u001B[0m\n\u001B[1;32m   1164\u001B[0m         \u001B[0mself\u001B[0m\u001B[0;34m.\u001B[0m\u001B[0mcancel_async_evaluation\u001B[0m\u001B[0;34m(\u001B[0m\u001B[0mget_current_thread_id\u001B[0m\u001B[0;34m(\u001B[0m\u001B[0mthread\u001B[0m\u001B[0;34m)\u001B[0m\u001B[0;34m,\u001B[0m \u001B[0mstr\u001B[0m\u001B[0;34m(\u001B[0m\u001B[0mid\u001B[0m\u001B[0;34m(\u001B[0m\u001B[0mframe\u001B[0m\u001B[0;34m)\u001B[0m\u001B[0;34m)\u001B[0m\u001B[0;34m)\u001B[0m\u001B[0;34m\u001B[0m\u001B[0;34m\u001B[0m\u001B[0m\n",
      "\u001B[0;31mKeyboardInterrupt\u001B[0m: "
     ]
    }
   ],
   "source": [
    "doc_id = 'Co-sign Your Spouse\\'s Income-Driven Repayment Plan Application | Federal Student Aid#1_0'\n",
    "dialogues_for_doc = dialogue_full_df.loc[dialogue_full_df['doc_id'] == doc_id]\n",
    "\n",
    "for dialogue_index, turns in enumerate(dialogues_for_doc['turns']):\n",
    "    dialid = dialogues_for_doc.iloc[dialogue_index]['dial_id']\n",
    "    print(dialogue_index)\n",
    "    print(dialid)"
   ],
   "metadata": {
    "collapsed": false,
    "pycharm": {
     "name": "#%%\n"
    }
   }
  },
  {
   "cell_type": "code",
   "execution_count": 20,
   "outputs": [
    {
     "data": {
      "text/plain": "                                               doc_id  \\\n0   Co-sign Your Spouse's Income-Driven Repayment ...   \n1   Co-sign Your Spouse's Income-Driven Repayment ...   \n2   Co-sign Your Spouse's Income-Driven Repayment ...   \n3   Co-sign Your Spouse's Income-Driven Repayment ...   \n4   Co-sign Your Spouse's Income-Driven Repayment ...   \n5   Co-sign Your Spouse's Income-Driven Repayment ...   \n6   Co-sign Your Spouse's Income-Driven Repayment ...   \n7   Co-sign Your Spouse's Income-Driven Repayment ...   \n8   Co-sign Your Spouse's Income-Driven Repayment ...   \n9   Co-sign Your Spouse's Income-Driven Repayment ...   \n10  Co-sign Your Spouse's Income-Driven Repayment ...   \n11  Co-sign Your Spouse's Income-Driven Repayment ...   \n12  Co-sign Your Spouse's Income-Driven Repayment ...   \n13  Co-sign Your Spouse's Income-Driven Repayment ...   \n14  Co-sign Your Spouse's Income-Driven Repayment ...   \n15  Co-sign Your Spouse's Income-Driven Repayment ...   \n16  Co-sign Your Spouse's Income-Driven Repayment ...   \n17  Co-sign Your Spouse's Income-Driven Repayment ...   \n18  Co-sign Your Spouse's Income-Driven Repayment ...   \n19  Co-sign Your Spouse's Income-Driven Repayment ...   \n20  Co-sign Your Spouse's Income-Driven Repayment ...   \n21  Co-sign Your Spouse's Income-Driven Repayment ...   \n22  Co-sign Your Spouse's Income-Driven Repayment ...   \n23  Co-sign Your Spouse's Income-Driven Repayment ...   \n24  Co-sign Your Spouse's Income-Driven Repayment ...   \n25  Co-sign Your Spouse's Income-Driven Repayment ...   \n26  Co-sign Your Spouse's Income-Driven Repayment ...   \n27  Co-sign Your Spouse's Income-Driven Repayment ...   \n28  Co-sign Your Spouse's Income-Driven Repayment ...   \n29  Co-sign Your Spouse's Income-Driven Repayment ...   \n30  Co-sign Your Spouse's Income-Driven Repayment ...   \n31  Co-sign Your Spouse's Income-Driven Repayment ...   \n32  Co-sign Your Spouse's Income-Driven Repayment ...   \n33  Co-sign Your Spouse's Income-Driven Repayment ...   \n34  Co-sign Your Spouse's Income-Driven Repayment ...   \n35  Co-sign Your Spouse's Income-Driven Repayment ...   \n36  Co-sign Your Spouse's Income-Driven Repayment ...   \n37  Co-sign Your Spouse's Income-Driven Repayment ...   \n38  Co-sign Your Spouse's Income-Driven Repayment ...   \n39  Co-sign Your Spouse's Income-Driven Repayment ...   \n40  Co-sign Your Spouse's Income-Driven Repayment ...   \n41  Co-sign Your Spouse's Income-Driven Repayment ...   \n42  Co-sign Your Spouse's Income-Driven Repayment ...   \n43  Co-sign Your Spouse's Income-Driven Repayment ...   \n44  Co-sign Your Spouse's Income-Driven Repayment ...   \n45  Co-sign Your Spouse's Income-Driven Repayment ...   \n46  Co-sign Your Spouse's Income-Driven Repayment ...   \n47  Co-sign Your Spouse's Income-Driven Repayment ...   \n\n                             dial_id                                rc_id  \\\n0   31e96f4f7c6325a6cd3875fd511c1d44   31e96f4f7c6325a6cd3875fd511c1d44_1   \n1   31e96f4f7c6325a6cd3875fd511c1d44   31e96f4f7c6325a6cd3875fd511c1d44_4   \n2   31e96f4f7c6325a6cd3875fd511c1d44   31e96f4f7c6325a6cd3875fd511c1d44_5   \n3   31e96f4f7c6325a6cd3875fd511c1d44   31e96f4f7c6325a6cd3875fd511c1d44_7   \n4   31e96f4f7c6325a6cd3875fd511c1d44   31e96f4f7c6325a6cd3875fd511c1d44_9   \n5   31e96f4f7c6325a6cd3875fd511c1d44  31e96f4f7c6325a6cd3875fd511c1d44_11   \n6   51ec9482bd6ddb1a451703cbe1e30d0a   51ec9482bd6ddb1a451703cbe1e30d0a_1   \n7   51ec9482bd6ddb1a451703cbe1e30d0a   51ec9482bd6ddb1a451703cbe1e30d0a_4   \n8   51ec9482bd6ddb1a451703cbe1e30d0a   51ec9482bd6ddb1a451703cbe1e30d0a_5   \n9   51ec9482bd6ddb1a451703cbe1e30d0a   51ec9482bd6ddb1a451703cbe1e30d0a_7   \n10  51ec9482bd6ddb1a451703cbe1e30d0a   51ec9482bd6ddb1a451703cbe1e30d0a_9   \n11  51ec9482bd6ddb1a451703cbe1e30d0a  51ec9482bd6ddb1a451703cbe1e30d0a_11   \n12  e41e73310cd72adc18ef0d4500bed86f   e41e73310cd72adc18ef0d4500bed86f_1   \n13  e41e73310cd72adc18ef0d4500bed86f   e41e73310cd72adc18ef0d4500bed86f_4   \n14  e41e73310cd72adc18ef0d4500bed86f   e41e73310cd72adc18ef0d4500bed86f_5   \n15  e41e73310cd72adc18ef0d4500bed86f   e41e73310cd72adc18ef0d4500bed86f_7   \n16  e41e73310cd72adc18ef0d4500bed86f   e41e73310cd72adc18ef0d4500bed86f_9   \n17  e41e73310cd72adc18ef0d4500bed86f  e41e73310cd72adc18ef0d4500bed86f_11   \n18  475064ee437d82e49a614ac9fc30f934   475064ee437d82e49a614ac9fc30f934_1   \n19  475064ee437d82e49a614ac9fc30f934   475064ee437d82e49a614ac9fc30f934_4   \n20  475064ee437d82e49a614ac9fc30f934   475064ee437d82e49a614ac9fc30f934_5   \n21  475064ee437d82e49a614ac9fc30f934   475064ee437d82e49a614ac9fc30f934_7   \n22  475064ee437d82e49a614ac9fc30f934   475064ee437d82e49a614ac9fc30f934_9   \n23  475064ee437d82e49a614ac9fc30f934  475064ee437d82e49a614ac9fc30f934_11   \n24  ffe6e4350a3783cf449839b8e96a35bc   ffe6e4350a3783cf449839b8e96a35bc_1   \n25  ffe6e4350a3783cf449839b8e96a35bc   ffe6e4350a3783cf449839b8e96a35bc_4   \n26  ffe6e4350a3783cf449839b8e96a35bc   ffe6e4350a3783cf449839b8e96a35bc_5   \n27  ffe6e4350a3783cf449839b8e96a35bc   ffe6e4350a3783cf449839b8e96a35bc_7   \n28  ffe6e4350a3783cf449839b8e96a35bc   ffe6e4350a3783cf449839b8e96a35bc_9   \n29  ffe6e4350a3783cf449839b8e96a35bc  ffe6e4350a3783cf449839b8e96a35bc_11   \n30  2641fd09a67bf9b4877466cf4c2a4f1d   2641fd09a67bf9b4877466cf4c2a4f1d_1   \n31  2641fd09a67bf9b4877466cf4c2a4f1d   2641fd09a67bf9b4877466cf4c2a4f1d_4   \n32  2641fd09a67bf9b4877466cf4c2a4f1d   2641fd09a67bf9b4877466cf4c2a4f1d_5   \n33  2641fd09a67bf9b4877466cf4c2a4f1d   2641fd09a67bf9b4877466cf4c2a4f1d_7   \n34  2641fd09a67bf9b4877466cf4c2a4f1d   2641fd09a67bf9b4877466cf4c2a4f1d_9   \n35  2641fd09a67bf9b4877466cf4c2a4f1d  2641fd09a67bf9b4877466cf4c2a4f1d_11   \n36  3d36e8d9fdccd58bfc123be056fa1039   3d36e8d9fdccd58bfc123be056fa1039_1   \n37  3d36e8d9fdccd58bfc123be056fa1039   3d36e8d9fdccd58bfc123be056fa1039_4   \n38  3d36e8d9fdccd58bfc123be056fa1039   3d36e8d9fdccd58bfc123be056fa1039_5   \n39  3d36e8d9fdccd58bfc123be056fa1039   3d36e8d9fdccd58bfc123be056fa1039_7   \n40  3d36e8d9fdccd58bfc123be056fa1039   3d36e8d9fdccd58bfc123be056fa1039_9   \n41  3d36e8d9fdccd58bfc123be056fa1039  3d36e8d9fdccd58bfc123be056fa1039_11   \n42  cf3cd3b2e35899f95cbe65913300891a   cf3cd3b2e35899f95cbe65913300891a_1   \n43  cf3cd3b2e35899f95cbe65913300891a   cf3cd3b2e35899f95cbe65913300891a_4   \n44  cf3cd3b2e35899f95cbe65913300891a   cf3cd3b2e35899f95cbe65913300891a_5   \n45  cf3cd3b2e35899f95cbe65913300891a   cf3cd3b2e35899f95cbe65913300891a_7   \n46  cf3cd3b2e35899f95cbe65913300891a   cf3cd3b2e35899f95cbe65913300891a_9   \n47  cf3cd3b2e35899f95cbe65913300891a  cf3cd3b2e35899f95cbe65913300891a_11   \n\n   turn_id                                     user_utterance user_sp_ids  \\\n0        1  II'm going to be co-signing a federal aid loan...         [1]   \n1        4                     No. I'm not sure how it works.         [3]   \n2        5  Does it matter that the Income-Driven Repaymen...        [12]   \n3        7                      Who all can co-sign for this?        [16]   \n4        9  Do I need a Financial Information Note when I ...        [26]   \n5       11             What if I can't find the Co-sign code?         [5]   \n6        1               Can you explain what a co-signer is?         [1]   \n7        4  Yes, I understand that I am not obligated to p...         [3]   \n8        5      What about the reference number/co-sign code?         [4]   \n9        7  Who should complete the co-signer part of the ...        [17]   \n10       9  What if I do not have the reference number or ...   [6, 7, 8]   \n11      11  I do not know where the reference number or co...         [5]   \n12       1  Can you explain what a co-signer is for an Inc...         [1]   \n13       4                     Yes, that was explained to me.         [3]   \n14       5  What if the applicant completed an IDR plan re...        [10]   \n15       7            Who should complete the co-signer form?        [16]   \n16       9           Where do I go to click for co-sign code?        [13]   \n17      11                              What do I need to do?        [21]   \n18       1          who is the co-signer on a repayment plan?         [1]   \n19       4                                                yes         [3]   \n20       5                               where do we sign in?        [14]   \n21       7             where do we get the number to sign in?   [6, 7, 8]   \n22       9     who should do the plan request when we log in?        [16]   \n23      11  but I use their reference number since I don't...         [5]   \n24       1  hello i would like to get information about Wh...         [1]   \n25       4                                                 no         [3]   \n26       5   and who should give me the joint signature code?         [4]   \n27       7  What if the application has already been compl...        [12]   \n28       9                     and what should i do to start?        [15]   \n29      11  What if the applicant completed an Income-Base...        [10]   \n30       1  I'm looking for information as to what constit...         [1]   \n31       4  Yes, I'm concerned that I may be obligated to ...         [3]   \n32       5  What can I do if I do not have a Reference Num...         [5]   \n33       7  What exactly do I need to complete my role as ...        [21]   \n34       9  How long should it normally take to complete m...        [18]   \n35      11  How does my spouse provide me with a co-sign c...        [13]   \n36       1  I want to get a better understanding on co-sig...         [1]   \n37       4                                no, but I might be          [3]   \n38       5          what will I need if I'm ready to co-sign?        [10]   \n39       7         what if it is a direct consolidation loan?        [11]   \n40       9      and it is the same place to sign in for both?        [12]   \n41      11                        can either one of us do it?        [16]   \n42       1  What exactly is a co-signer or an income-drive...         [1]   \n43       4  Yes, I have read that I am not responsible to ...         [3]   \n44       5  What if I do not have a reference number to co...   [6, 7, 8]   \n45       7  Are there directions to access the reference n...         [9]   \n46       9   How long will the co-sign process actually take?    [19, 20]   \n47      11  What if the applicant completed an Income-driv...        [12]   \n\n   agent_sp_ids  \n0        [2, 3]  \n1            []  \n2          [13]  \n3          [17]  \n4          [26]  \n5     [6, 7, 8]  \n6        [2, 3]  \n7            []  \n8           [4]  \n9          [17]  \n10    [6, 7, 8]  \n11    [6, 7, 8]  \n12       [2, 3]  \n13           []  \n14         [11]  \n15         [17]  \n16         [13]  \n17         [22]  \n18       [2, 3]  \n19           []  \n20         [14]  \n21    [6, 7, 8]  \n22         [17]  \n23    [6, 7, 8]  \n24       [2, 3]  \n25           []  \n26          [4]  \n27         [13]  \n28         [15]  \n29         [11]  \n30       [2, 3]  \n31           []  \n32    [6, 7, 8]  \n33         [22]  \n34     [19, 20]  \n35         [13]  \n36       [2, 3]  \n37           []  \n38         [11]  \n39         [11]  \n40         [13]  \n41         [17]  \n42       [2, 3]  \n43           []  \n44    [6, 7, 8]  \n45          [9]  \n46     [19, 20]  \n47         [13]  ",
      "text/html": "<div>\n<style scoped>\n    .dataframe tbody tr th:only-of-type {\n        vertical-align: middle;\n    }\n\n    .dataframe tbody tr th {\n        vertical-align: top;\n    }\n\n    .dataframe thead th {\n        text-align: right;\n    }\n</style>\n<table border=\"1\" class=\"dataframe\">\n  <thead>\n    <tr style=\"text-align: right;\">\n      <th></th>\n      <th>doc_id</th>\n      <th>dial_id</th>\n      <th>rc_id</th>\n      <th>turn_id</th>\n      <th>user_utterance</th>\n      <th>user_sp_ids</th>\n      <th>agent_sp_ids</th>\n    </tr>\n  </thead>\n  <tbody>\n    <tr>\n      <th>0</th>\n      <td>Co-sign Your Spouse's Income-Driven Repayment ...</td>\n      <td>31e96f4f7c6325a6cd3875fd511c1d44</td>\n      <td>31e96f4f7c6325a6cd3875fd511c1d44_1</td>\n      <td>1</td>\n      <td>II'm going to be co-signing a federal aid loan...</td>\n      <td>[1]</td>\n      <td>[2, 3]</td>\n    </tr>\n    <tr>\n      <th>1</th>\n      <td>Co-sign Your Spouse's Income-Driven Repayment ...</td>\n      <td>31e96f4f7c6325a6cd3875fd511c1d44</td>\n      <td>31e96f4f7c6325a6cd3875fd511c1d44_4</td>\n      <td>4</td>\n      <td>No. I'm not sure how it works.</td>\n      <td>[3]</td>\n      <td>[]</td>\n    </tr>\n    <tr>\n      <th>2</th>\n      <td>Co-sign Your Spouse's Income-Driven Repayment ...</td>\n      <td>31e96f4f7c6325a6cd3875fd511c1d44</td>\n      <td>31e96f4f7c6325a6cd3875fd511c1d44_5</td>\n      <td>5</td>\n      <td>Does it matter that the Income-Driven Repaymen...</td>\n      <td>[12]</td>\n      <td>[13]</td>\n    </tr>\n    <tr>\n      <th>3</th>\n      <td>Co-sign Your Spouse's Income-Driven Repayment ...</td>\n      <td>31e96f4f7c6325a6cd3875fd511c1d44</td>\n      <td>31e96f4f7c6325a6cd3875fd511c1d44_7</td>\n      <td>7</td>\n      <td>Who all can co-sign for this?</td>\n      <td>[16]</td>\n      <td>[17]</td>\n    </tr>\n    <tr>\n      <th>4</th>\n      <td>Co-sign Your Spouse's Income-Driven Repayment ...</td>\n      <td>31e96f4f7c6325a6cd3875fd511c1d44</td>\n      <td>31e96f4f7c6325a6cd3875fd511c1d44_9</td>\n      <td>9</td>\n      <td>Do I need a Financial Information Note when I ...</td>\n      <td>[26]</td>\n      <td>[26]</td>\n    </tr>\n    <tr>\n      <th>5</th>\n      <td>Co-sign Your Spouse's Income-Driven Repayment ...</td>\n      <td>31e96f4f7c6325a6cd3875fd511c1d44</td>\n      <td>31e96f4f7c6325a6cd3875fd511c1d44_11</td>\n      <td>11</td>\n      <td>What if I can't find the Co-sign code?</td>\n      <td>[5]</td>\n      <td>[6, 7, 8]</td>\n    </tr>\n    <tr>\n      <th>6</th>\n      <td>Co-sign Your Spouse's Income-Driven Repayment ...</td>\n      <td>51ec9482bd6ddb1a451703cbe1e30d0a</td>\n      <td>51ec9482bd6ddb1a451703cbe1e30d0a_1</td>\n      <td>1</td>\n      <td>Can you explain what a co-signer is?</td>\n      <td>[1]</td>\n      <td>[2, 3]</td>\n    </tr>\n    <tr>\n      <th>7</th>\n      <td>Co-sign Your Spouse's Income-Driven Repayment ...</td>\n      <td>51ec9482bd6ddb1a451703cbe1e30d0a</td>\n      <td>51ec9482bd6ddb1a451703cbe1e30d0a_4</td>\n      <td>4</td>\n      <td>Yes, I understand that I am not obligated to p...</td>\n      <td>[3]</td>\n      <td>[]</td>\n    </tr>\n    <tr>\n      <th>8</th>\n      <td>Co-sign Your Spouse's Income-Driven Repayment ...</td>\n      <td>51ec9482bd6ddb1a451703cbe1e30d0a</td>\n      <td>51ec9482bd6ddb1a451703cbe1e30d0a_5</td>\n      <td>5</td>\n      <td>What about the reference number/co-sign code?</td>\n      <td>[4]</td>\n      <td>[4]</td>\n    </tr>\n    <tr>\n      <th>9</th>\n      <td>Co-sign Your Spouse's Income-Driven Repayment ...</td>\n      <td>51ec9482bd6ddb1a451703cbe1e30d0a</td>\n      <td>51ec9482bd6ddb1a451703cbe1e30d0a_7</td>\n      <td>7</td>\n      <td>Who should complete the co-signer part of the ...</td>\n      <td>[17]</td>\n      <td>[17]</td>\n    </tr>\n    <tr>\n      <th>10</th>\n      <td>Co-sign Your Spouse's Income-Driven Repayment ...</td>\n      <td>51ec9482bd6ddb1a451703cbe1e30d0a</td>\n      <td>51ec9482bd6ddb1a451703cbe1e30d0a_9</td>\n      <td>9</td>\n      <td>What if I do not have the reference number or ...</td>\n      <td>[6, 7, 8]</td>\n      <td>[6, 7, 8]</td>\n    </tr>\n    <tr>\n      <th>11</th>\n      <td>Co-sign Your Spouse's Income-Driven Repayment ...</td>\n      <td>51ec9482bd6ddb1a451703cbe1e30d0a</td>\n      <td>51ec9482bd6ddb1a451703cbe1e30d0a_11</td>\n      <td>11</td>\n      <td>I do not know where the reference number or co...</td>\n      <td>[5]</td>\n      <td>[6, 7, 8]</td>\n    </tr>\n    <tr>\n      <th>12</th>\n      <td>Co-sign Your Spouse's Income-Driven Repayment ...</td>\n      <td>e41e73310cd72adc18ef0d4500bed86f</td>\n      <td>e41e73310cd72adc18ef0d4500bed86f_1</td>\n      <td>1</td>\n      <td>Can you explain what a co-signer is for an Inc...</td>\n      <td>[1]</td>\n      <td>[2, 3]</td>\n    </tr>\n    <tr>\n      <th>13</th>\n      <td>Co-sign Your Spouse's Income-Driven Repayment ...</td>\n      <td>e41e73310cd72adc18ef0d4500bed86f</td>\n      <td>e41e73310cd72adc18ef0d4500bed86f_4</td>\n      <td>4</td>\n      <td>Yes, that was explained to me.</td>\n      <td>[3]</td>\n      <td>[]</td>\n    </tr>\n    <tr>\n      <th>14</th>\n      <td>Co-sign Your Spouse's Income-Driven Repayment ...</td>\n      <td>e41e73310cd72adc18ef0d4500bed86f</td>\n      <td>e41e73310cd72adc18ef0d4500bed86f_5</td>\n      <td>5</td>\n      <td>What if the applicant completed an IDR plan re...</td>\n      <td>[10]</td>\n      <td>[11]</td>\n    </tr>\n    <tr>\n      <th>15</th>\n      <td>Co-sign Your Spouse's Income-Driven Repayment ...</td>\n      <td>e41e73310cd72adc18ef0d4500bed86f</td>\n      <td>e41e73310cd72adc18ef0d4500bed86f_7</td>\n      <td>7</td>\n      <td>Who should complete the co-signer form?</td>\n      <td>[16]</td>\n      <td>[17]</td>\n    </tr>\n    <tr>\n      <th>16</th>\n      <td>Co-sign Your Spouse's Income-Driven Repayment ...</td>\n      <td>e41e73310cd72adc18ef0d4500bed86f</td>\n      <td>e41e73310cd72adc18ef0d4500bed86f_9</td>\n      <td>9</td>\n      <td>Where do I go to click for co-sign code?</td>\n      <td>[13]</td>\n      <td>[13]</td>\n    </tr>\n    <tr>\n      <th>17</th>\n      <td>Co-sign Your Spouse's Income-Driven Repayment ...</td>\n      <td>e41e73310cd72adc18ef0d4500bed86f</td>\n      <td>e41e73310cd72adc18ef0d4500bed86f_11</td>\n      <td>11</td>\n      <td>What do I need to do?</td>\n      <td>[21]</td>\n      <td>[22]</td>\n    </tr>\n    <tr>\n      <th>18</th>\n      <td>Co-sign Your Spouse's Income-Driven Repayment ...</td>\n      <td>475064ee437d82e49a614ac9fc30f934</td>\n      <td>475064ee437d82e49a614ac9fc30f934_1</td>\n      <td>1</td>\n      <td>who is the co-signer on a repayment plan?</td>\n      <td>[1]</td>\n      <td>[2, 3]</td>\n    </tr>\n    <tr>\n      <th>19</th>\n      <td>Co-sign Your Spouse's Income-Driven Repayment ...</td>\n      <td>475064ee437d82e49a614ac9fc30f934</td>\n      <td>475064ee437d82e49a614ac9fc30f934_4</td>\n      <td>4</td>\n      <td>yes</td>\n      <td>[3]</td>\n      <td>[]</td>\n    </tr>\n    <tr>\n      <th>20</th>\n      <td>Co-sign Your Spouse's Income-Driven Repayment ...</td>\n      <td>475064ee437d82e49a614ac9fc30f934</td>\n      <td>475064ee437d82e49a614ac9fc30f934_5</td>\n      <td>5</td>\n      <td>where do we sign in?</td>\n      <td>[14]</td>\n      <td>[14]</td>\n    </tr>\n    <tr>\n      <th>21</th>\n      <td>Co-sign Your Spouse's Income-Driven Repayment ...</td>\n      <td>475064ee437d82e49a614ac9fc30f934</td>\n      <td>475064ee437d82e49a614ac9fc30f934_7</td>\n      <td>7</td>\n      <td>where do we get the number to sign in?</td>\n      <td>[6, 7, 8]</td>\n      <td>[6, 7, 8]</td>\n    </tr>\n    <tr>\n      <th>22</th>\n      <td>Co-sign Your Spouse's Income-Driven Repayment ...</td>\n      <td>475064ee437d82e49a614ac9fc30f934</td>\n      <td>475064ee437d82e49a614ac9fc30f934_9</td>\n      <td>9</td>\n      <td>who should do the plan request when we log in?</td>\n      <td>[16]</td>\n      <td>[17]</td>\n    </tr>\n    <tr>\n      <th>23</th>\n      <td>Co-sign Your Spouse's Income-Driven Repayment ...</td>\n      <td>475064ee437d82e49a614ac9fc30f934</td>\n      <td>475064ee437d82e49a614ac9fc30f934_11</td>\n      <td>11</td>\n      <td>but I use their reference number since I don't...</td>\n      <td>[5]</td>\n      <td>[6, 7, 8]</td>\n    </tr>\n    <tr>\n      <th>24</th>\n      <td>Co-sign Your Spouse's Income-Driven Repayment ...</td>\n      <td>ffe6e4350a3783cf449839b8e96a35bc</td>\n      <td>ffe6e4350a3783cf449839b8e96a35bc_1</td>\n      <td>1</td>\n      <td>hello i would like to get information about Wh...</td>\n      <td>[1]</td>\n      <td>[2, 3]</td>\n    </tr>\n    <tr>\n      <th>25</th>\n      <td>Co-sign Your Spouse's Income-Driven Repayment ...</td>\n      <td>ffe6e4350a3783cf449839b8e96a35bc</td>\n      <td>ffe6e4350a3783cf449839b8e96a35bc_4</td>\n      <td>4</td>\n      <td>no</td>\n      <td>[3]</td>\n      <td>[]</td>\n    </tr>\n    <tr>\n      <th>26</th>\n      <td>Co-sign Your Spouse's Income-Driven Repayment ...</td>\n      <td>ffe6e4350a3783cf449839b8e96a35bc</td>\n      <td>ffe6e4350a3783cf449839b8e96a35bc_5</td>\n      <td>5</td>\n      <td>and who should give me the joint signature code?</td>\n      <td>[4]</td>\n      <td>[4]</td>\n    </tr>\n    <tr>\n      <th>27</th>\n      <td>Co-sign Your Spouse's Income-Driven Repayment ...</td>\n      <td>ffe6e4350a3783cf449839b8e96a35bc</td>\n      <td>ffe6e4350a3783cf449839b8e96a35bc_7</td>\n      <td>7</td>\n      <td>What if the application has already been compl...</td>\n      <td>[12]</td>\n      <td>[13]</td>\n    </tr>\n    <tr>\n      <th>28</th>\n      <td>Co-sign Your Spouse's Income-Driven Repayment ...</td>\n      <td>ffe6e4350a3783cf449839b8e96a35bc</td>\n      <td>ffe6e4350a3783cf449839b8e96a35bc_9</td>\n      <td>9</td>\n      <td>and what should i do to start?</td>\n      <td>[15]</td>\n      <td>[15]</td>\n    </tr>\n    <tr>\n      <th>29</th>\n      <td>Co-sign Your Spouse's Income-Driven Repayment ...</td>\n      <td>ffe6e4350a3783cf449839b8e96a35bc</td>\n      <td>ffe6e4350a3783cf449839b8e96a35bc_11</td>\n      <td>11</td>\n      <td>What if the applicant completed an Income-Base...</td>\n      <td>[10]</td>\n      <td>[11]</td>\n    </tr>\n    <tr>\n      <th>30</th>\n      <td>Co-sign Your Spouse's Income-Driven Repayment ...</td>\n      <td>2641fd09a67bf9b4877466cf4c2a4f1d</td>\n      <td>2641fd09a67bf9b4877466cf4c2a4f1d_1</td>\n      <td>1</td>\n      <td>I'm looking for information as to what constit...</td>\n      <td>[1]</td>\n      <td>[2, 3]</td>\n    </tr>\n    <tr>\n      <th>31</th>\n      <td>Co-sign Your Spouse's Income-Driven Repayment ...</td>\n      <td>2641fd09a67bf9b4877466cf4c2a4f1d</td>\n      <td>2641fd09a67bf9b4877466cf4c2a4f1d_4</td>\n      <td>4</td>\n      <td>Yes, I'm concerned that I may be obligated to ...</td>\n      <td>[3]</td>\n      <td>[]</td>\n    </tr>\n    <tr>\n      <th>32</th>\n      <td>Co-sign Your Spouse's Income-Driven Repayment ...</td>\n      <td>2641fd09a67bf9b4877466cf4c2a4f1d</td>\n      <td>2641fd09a67bf9b4877466cf4c2a4f1d_5</td>\n      <td>5</td>\n      <td>What can I do if I do not have a Reference Num...</td>\n      <td>[5]</td>\n      <td>[6, 7, 8]</td>\n    </tr>\n    <tr>\n      <th>33</th>\n      <td>Co-sign Your Spouse's Income-Driven Repayment ...</td>\n      <td>2641fd09a67bf9b4877466cf4c2a4f1d</td>\n      <td>2641fd09a67bf9b4877466cf4c2a4f1d_7</td>\n      <td>7</td>\n      <td>What exactly do I need to complete my role as ...</td>\n      <td>[21]</td>\n      <td>[22]</td>\n    </tr>\n    <tr>\n      <th>34</th>\n      <td>Co-sign Your Spouse's Income-Driven Repayment ...</td>\n      <td>2641fd09a67bf9b4877466cf4c2a4f1d</td>\n      <td>2641fd09a67bf9b4877466cf4c2a4f1d_9</td>\n      <td>9</td>\n      <td>How long should it normally take to complete m...</td>\n      <td>[18]</td>\n      <td>[19, 20]</td>\n    </tr>\n    <tr>\n      <th>35</th>\n      <td>Co-sign Your Spouse's Income-Driven Repayment ...</td>\n      <td>2641fd09a67bf9b4877466cf4c2a4f1d</td>\n      <td>2641fd09a67bf9b4877466cf4c2a4f1d_11</td>\n      <td>11</td>\n      <td>How does my spouse provide me with a co-sign c...</td>\n      <td>[13]</td>\n      <td>[13]</td>\n    </tr>\n    <tr>\n      <th>36</th>\n      <td>Co-sign Your Spouse's Income-Driven Repayment ...</td>\n      <td>3d36e8d9fdccd58bfc123be056fa1039</td>\n      <td>3d36e8d9fdccd58bfc123be056fa1039_1</td>\n      <td>1</td>\n      <td>I want to get a better understanding on co-sig...</td>\n      <td>[1]</td>\n      <td>[2, 3]</td>\n    </tr>\n    <tr>\n      <th>37</th>\n      <td>Co-sign Your Spouse's Income-Driven Repayment ...</td>\n      <td>3d36e8d9fdccd58bfc123be056fa1039</td>\n      <td>3d36e8d9fdccd58bfc123be056fa1039_4</td>\n      <td>4</td>\n      <td>no, but I might be</td>\n      <td>[3]</td>\n      <td>[]</td>\n    </tr>\n    <tr>\n      <th>38</th>\n      <td>Co-sign Your Spouse's Income-Driven Repayment ...</td>\n      <td>3d36e8d9fdccd58bfc123be056fa1039</td>\n      <td>3d36e8d9fdccd58bfc123be056fa1039_5</td>\n      <td>5</td>\n      <td>what will I need if I'm ready to co-sign?</td>\n      <td>[10]</td>\n      <td>[11]</td>\n    </tr>\n    <tr>\n      <th>39</th>\n      <td>Co-sign Your Spouse's Income-Driven Repayment ...</td>\n      <td>3d36e8d9fdccd58bfc123be056fa1039</td>\n      <td>3d36e8d9fdccd58bfc123be056fa1039_7</td>\n      <td>7</td>\n      <td>what if it is a direct consolidation loan?</td>\n      <td>[11]</td>\n      <td>[11]</td>\n    </tr>\n    <tr>\n      <th>40</th>\n      <td>Co-sign Your Spouse's Income-Driven Repayment ...</td>\n      <td>3d36e8d9fdccd58bfc123be056fa1039</td>\n      <td>3d36e8d9fdccd58bfc123be056fa1039_9</td>\n      <td>9</td>\n      <td>and it is the same place to sign in for both?</td>\n      <td>[12]</td>\n      <td>[13]</td>\n    </tr>\n    <tr>\n      <th>41</th>\n      <td>Co-sign Your Spouse's Income-Driven Repayment ...</td>\n      <td>3d36e8d9fdccd58bfc123be056fa1039</td>\n      <td>3d36e8d9fdccd58bfc123be056fa1039_11</td>\n      <td>11</td>\n      <td>can either one of us do it?</td>\n      <td>[16]</td>\n      <td>[17]</td>\n    </tr>\n    <tr>\n      <th>42</th>\n      <td>Co-sign Your Spouse's Income-Driven Repayment ...</td>\n      <td>cf3cd3b2e35899f95cbe65913300891a</td>\n      <td>cf3cd3b2e35899f95cbe65913300891a_1</td>\n      <td>1</td>\n      <td>What exactly is a co-signer or an income-drive...</td>\n      <td>[1]</td>\n      <td>[2, 3]</td>\n    </tr>\n    <tr>\n      <th>43</th>\n      <td>Co-sign Your Spouse's Income-Driven Repayment ...</td>\n      <td>cf3cd3b2e35899f95cbe65913300891a</td>\n      <td>cf3cd3b2e35899f95cbe65913300891a_4</td>\n      <td>4</td>\n      <td>Yes, I have read that I am not responsible to ...</td>\n      <td>[3]</td>\n      <td>[]</td>\n    </tr>\n    <tr>\n      <th>44</th>\n      <td>Co-sign Your Spouse's Income-Driven Repayment ...</td>\n      <td>cf3cd3b2e35899f95cbe65913300891a</td>\n      <td>cf3cd3b2e35899f95cbe65913300891a_5</td>\n      <td>5</td>\n      <td>What if I do not have a reference number to co...</td>\n      <td>[6, 7, 8]</td>\n      <td>[6, 7, 8]</td>\n    </tr>\n    <tr>\n      <th>45</th>\n      <td>Co-sign Your Spouse's Income-Driven Repayment ...</td>\n      <td>cf3cd3b2e35899f95cbe65913300891a</td>\n      <td>cf3cd3b2e35899f95cbe65913300891a_7</td>\n      <td>7</td>\n      <td>Are there directions to access the reference n...</td>\n      <td>[9]</td>\n      <td>[9]</td>\n    </tr>\n    <tr>\n      <th>46</th>\n      <td>Co-sign Your Spouse's Income-Driven Repayment ...</td>\n      <td>cf3cd3b2e35899f95cbe65913300891a</td>\n      <td>cf3cd3b2e35899f95cbe65913300891a_9</td>\n      <td>9</td>\n      <td>How long will the co-sign process actually take?</td>\n      <td>[19, 20]</td>\n      <td>[19, 20]</td>\n    </tr>\n    <tr>\n      <th>47</th>\n      <td>Co-sign Your Spouse's Income-Driven Repayment ...</td>\n      <td>cf3cd3b2e35899f95cbe65913300891a</td>\n      <td>cf3cd3b2e35899f95cbe65913300891a_11</td>\n      <td>11</td>\n      <td>What if the applicant completed an Income-driv...</td>\n      <td>[12]</td>\n      <td>[13]</td>\n    </tr>\n  </tbody>\n</table>\n</div>"
     },
     "execution_count": 20,
     "metadata": {},
     "output_type": "execute_result"
    }
   ],
   "source": [
    "#Code to get the dialogues for a doc id from the dialog set to do some manual inspections\n",
    "dialogue_eval_df = pd.DataFrame(columns=['doc_id', 'dial_id', 'rc_id', 'turn_id', 'user_utterance', 'user_sp_ids',\n",
    "                                         'agent_sp_ids'])\n",
    "\n",
    "#using df as dataset is way too slow to do this\n",
    "dialogues_for_doc = dialogue_full_df.loc[dialogue_full_df['doc_id'] == doc_id]\n",
    "\n",
    "#resetting all variables\n",
    "user_turn_index = 0\n",
    "user_utterance = ''\n",
    "user_sps = []\n",
    "turn_id = ''\n",
    "agent_sps = []\n",
    "role = ''\n",
    "dial_id = ''\n",
    "rc_id = ''\n",
    "first_user = True\n",
    "#for all list of turns in each dialogue\n",
    "for dialogue_index, turns in enumerate(dialogues_for_doc['turns']):\n",
    "\n",
    "    #for each turn in a dialogue\n",
    "    for turn in turns:\n",
    "        role = turn['role']\n",
    "\n",
    "        # for the very first user role only\n",
    "        if role == 'user' and first_user == True:\n",
    "            turn_id = turn['turn_id']\n",
    "            user_utterance =turn['utterance']\n",
    "            user_sps = [ref['sp_id'] for ref in turn['references']]\n",
    "            dial_id = dialogues_for_doc.iloc[dialogue_index]['dial_id']\n",
    "            rc_id = dial_id + '_'+ str(turn_id)\n",
    "            first_user = False\n",
    "        elif role == 'user' and first_user == False:\n",
    "            # we've come to the next user turn\n",
    "            #write previous user's row before overwriting it with this users data\n",
    "            dialogue_eval_df.loc[user_turn_index] = [doc_id, dial_id, rc_id, turn_id, user_utterance, user_sps, agent_sps]\n",
    "            #remember this user's data\n",
    "            user_utterance = turn['utterance']\n",
    "            turn_id = turn['turn_id']\n",
    "            user_sps = [ref['sp_id'] for ref in turn['references']]\n",
    "            dial_id = dialogues_for_doc.iloc[dialogue_index]['dial_id']\n",
    "            rc_id = dial_id + '_'+ str(turn_id)\n",
    "            #reset for next row\n",
    "            agent_sps = []\n",
    "            user_turn_index += 1\n",
    "        elif role == 'agent':\n",
    "            #gather agent spans but don't write the row just yet\n",
    "            agent_sps.extend([ref['sp_id'] for ref in turn['references']])\n",
    "\n",
    "#write the last line to the dataframe if the last dialogue's turn ended with an agent\n",
    "if role == 'agent':\n",
    "    dialogue_eval_df.loc[user_turn_index] = [doc_id, dial_id, rc_id, turn_id, user_utterance, user_sps, agent_sps]\n",
    "\n",
    "\n",
    "dialogue_eval_df"
   ],
   "metadata": {
    "collapsed": false,
    "pycharm": {
     "name": "#%%\n"
    }
   }
  },
  {
   "cell_type": "code",
   "execution_count": 45,
   "outputs": [
    {
     "name": "stdout",
     "output_type": "stream",
     "text": [
      "RC question: user:II'm going to be co-signing a federal aid loan for my wife and I need some more information about how it works.\n",
      "\n",
      "User utterance: II'm going to be co-signing a federal aid loan for my wife and I need some more information about how it works.\n",
      "\n",
      "*** Question not in RC No. I'm not sure how it works.\n",
      "\n",
      "RC question: user:Does it matter that the Income-Driven Repayment Plan Request was done as part of a Direct Consolidation Loan Application? \tuser:No. I'm not sure how it works. \tagent:Are you aware of your obligations to repay as the co-signer? \tagent:I can help you with that. A co-signer is the spouse of an applicant who initiated an Income-Driven Repayment Plan Request.  \tuser:II'm going to be co-signing a federal aid loan for my wife and I need some more information about how it works.\n",
      "\n",
      "User utterance: Does it matter that the Income-Driven Repayment Plan Request was done as part of a Direct Consolidation Loan Application?\n",
      "\n",
      "RC question: user:Who all can co-sign for this? \tagent:No. Your wife will just have to click on \"Direct Consolidations Loan Applications\" under \"My Loan Documents\" to find the co-sign code, you will need. \tuser:Does it matter that the Income-Driven Repayment Plan Request was done as part of a Direct Consolidation Loan Application? \tuser:No. I'm not sure how it works. \tagent:Are you aware of your obligations to repay as the co-signer? \tagent:I can help you with that. A co-signer is the spouse of an applicant who initiated an Income-Driven Repayment Plan Request.  \tuser:II'm going to be co-signing a federal aid loan for my wife and I need some more information about how it works.\n",
      "\n",
      "User utterance: Who all can co-sign for this?\n",
      "\n",
      "RC question: user:Do I need a Financial Information Note when I co-sign? \tagent:Only the spouse of an applicant that initiated an Income-Driven Repayment Request. \tuser:Who all can co-sign for this? \tagent:No. Your wife will just have to click on \"Direct Consolidations Loan Applications\" under \"My Loan Documents\" to find the co-sign code, you will need. \tuser:Does it matter that the Income-Driven Repayment Plan Request was done as part of a Direct Consolidation Loan Application? \tuser:No. I'm not sure how it works. \tagent:Are you aware of your obligations to repay as the co-signer? \tagent:I can help you with that. A co-signer is the spouse of an applicant who initiated an Income-Driven Repayment Plan Request.  \tuser:II'm going to be co-signing a federal aid loan for my wife and I need some more information about how it works.\n",
      "\n",
      "User utterance: Do I need a Financial Information Note when I co-sign?\n",
      "\n",
      "RC question: user:What if I can't find the Co-sign code? \tagent:A Financial Information Note is only needed if you file income taxes separately from your wife. \tuser:Do I need a Financial Information Note when I co-sign? \tagent:Only the spouse of an applicant that initiated an Income-Driven Repayment Request. \tuser:Who all can co-sign for this? \tagent:No. Your wife will just have to click on \"Direct Consolidations Loan Applications\" under \"My Loan Documents\" to find the co-sign code, you will need. \tuser:Does it matter that the Income-Driven Repayment Plan Request was done as part of a Direct Consolidation Loan Application? \tuser:No. I'm not sure how it works. \tagent:Are you aware of your obligations to repay as the co-signer? \tagent:I can help you with that. A co-signer is the spouse of an applicant who initiated an Income-Driven Repayment Plan Request.  \tuser:II'm going to be co-signing a federal aid loan for my wife and I need some more information about how it works.\n",
      "\n",
      "User utterance: What if I can't find the Co-sign code?\n",
      "\n",
      "RC question: user:Can you explain what a co-signer is?\n",
      "\n",
      "User utterance: Can you explain what a co-signer is?\n",
      "\n",
      "*** Question not in RC Yes, I understand that I am not obligated to pay back the loan as a co-signer on the borrower's IDR application.\n",
      "\n",
      "RC question: user:What about the reference number/co-sign code? \tuser:Yes, I understand that I am not obligated to pay back the loan as a co-signer on the borrower's IDR application. \tagent:Do you know that the co-signer is not obligated to repay the loan by signing a borrowers IDR application? \tagent:Yes, with the income-driven repayment plan the co-signer is the spouse of the applicant. \tuser:Can you explain what a co-signer is?\n",
      "\n",
      "User utterance: What about the reference number/co-sign code?\n",
      "\n",
      "RC question: user:Who should complete the co-signer part of the IDR plan request? \tagent:The IDR applicant should have given you the reference number/co-sign code. \tuser:What about the reference number/co-sign code? \tuser:Yes, I understand that I am not obligated to pay back the loan as a co-signer on the borrower's IDR application. \tagent:Do you know that the co-signer is not obligated to repay the loan by signing a borrowers IDR application? \tagent:Yes, with the income-driven repayment plan the co-signer is the spouse of the applicant. \tuser:Can you explain what a co-signer is?\n",
      "\n",
      "User utterance: Who should complete the co-signer part of the IDR plan request?\n",
      "\n",
      "RC question: user:What if I do not have the reference number or co-sign code? \tagent:If you are the spouse of the applicant who initiated the IDR Plan Request then you should complete it. \tuser:Who should complete the co-signer part of the IDR plan request? \tagent:The IDR applicant should have given you the reference number/co-sign code. \tuser:What about the reference number/co-sign code? \tuser:Yes, I understand that I am not obligated to pay back the loan as a co-signer on the borrower's IDR application. \tagent:Do you know that the co-signer is not obligated to repay the loan by signing a borrowers IDR application? \tagent:Yes, with the income-driven repayment plan the co-signer is the spouse of the applicant. \tuser:Can you explain what a co-signer is?\n",
      "\n",
      "User utterance: What if I do not have the reference number or co-sign code?\n",
      "\n",
      "RC question: user:I do not know where the reference number or co-sign code is, how can i get it? \tagent:Then you should contact the IDR applicant because an email was sent to them containing the reference number or co-sign code. \tuser:What if I do not have the reference number or co-sign code? \tagent:If you are the spouse of the applicant who initiated the IDR Plan Request then you should complete it. \tuser:Who should complete the co-signer part of the IDR plan request? \tagent:The IDR applicant should have given you the reference number/co-sign code. \tuser:What about the reference number/co-sign code? \tuser:Yes, I understand that I am not obligated to pay back the loan as a co-signer on the borrower's IDR application. \tagent:Do you know that the co-signer is not obligated to repay the loan by signing a borrowers IDR application? \tagent:Yes, with the income-driven repayment plan the co-signer is the spouse of the applicant. \tuser:Can you explain what a co-signer is?\n",
      "\n",
      "User utterance: I do not know where the reference number or co-sign code is, how can i get it?\n",
      "\n",
      "RC question: user:Can you explain what a co-signer is for an Income-Driven Repayment Plan application?\n",
      "\n",
      "User utterance: Can you explain what a co-signer is for an Income-Driven Repayment Plan application?\n",
      "\n",
      "*** Question not in RC Yes, that was explained to me.\n",
      "\n",
      "RC question: user:What if the applicant completed an IDR plan request that was not part of a Direct Consolidation Loan Application? \tuser:Yes, that was explained to me. \tagent:Did they explain to you that you are not obligated as a spouse to repay the loan by co-signing? \tagent:A co-signer for an Income-Driver Repayment plan request is the spouse of the applicant. \tuser:Can you explain what a co-signer is for an Income-Driven Repayment Plan application?\n",
      "\n",
      "User utterance: What if the applicant completed an IDR plan request that was not part of a Direct Consolidation Loan Application?\n",
      "\n",
      "RC question: user:Who should complete the co-signer form? \tagent:He or she will click on \"Income-Driven Repayment Plan Requests\" under \"My Loan Documents\" to find and provide you with the required Reference Number. \tuser:What if the applicant completed an IDR plan request that was not part of a Direct Consolidation Loan Application? \tuser:Yes, that was explained to me. \tagent:Did they explain to you that you are not obligated as a spouse to repay the loan by co-signing? \tagent:A co-signer for an Income-Driver Repayment plan request is the spouse of the applicant. \tuser:Can you explain what a co-signer is for an Income-Driven Repayment Plan application?\n",
      "\n",
      "User utterance: Who should complete the co-signer form?\n",
      "\n",
      "RC question: user:Where do I go to click for co-sign code? \tagent:If you are the spouse of the applicant, then you should complete the Income-Drive Repayment Plan Request. \tuser:Who should complete the co-signer form? \tagent:He or she will click on \"Income-Driven Repayment Plan Requests\" under \"My Loan Documents\" to find and provide you with the required Reference Number. \tuser:What if the applicant completed an IDR plan request that was not part of a Direct Consolidation Loan Application? \tuser:Yes, that was explained to me. \tagent:Did they explain to you that you are not obligated as a spouse to repay the loan by co-signing? \tagent:A co-signer for an Income-Driver Repayment plan request is the spouse of the applicant. \tuser:Can you explain what a co-signer is for an Income-Driven Repayment Plan application?\n",
      "\n",
      "User utterance: Where do I go to click for co-sign code?\n",
      "\n",
      "RC question: user:What do I need to do? \tagent:You should click on \"Direct Consolidation Loan Applications\" under \"My Loan Documents\" to locate the code. \tuser:Where do I go to click for co-sign code? \tagent:If you are the spouse of the applicant, then you should complete the Income-Drive Repayment Plan Request. \tuser:Who should complete the co-signer form? \tagent:He or she will click on \"Income-Driven Repayment Plan Requests\" under \"My Loan Documents\" to find and provide you with the required Reference Number. \tuser:What if the applicant completed an IDR plan request that was not part of a Direct Consolidation Loan Application? \tuser:Yes, that was explained to me. \tagent:Did they explain to you that you are not obligated as a spouse to repay the loan by co-signing? \tagent:A co-signer for an Income-Driver Repayment plan request is the spouse of the applicant. \tuser:Can you explain what a co-signer is for an Income-Driven Repayment Plan application?\n",
      "\n",
      "User utterance: What do I need to do?\n",
      "\n",
      "RC question: user:who is the co-signer on a repayment plan?\n",
      "\n",
      "User utterance: who is the co-signer on a repayment plan?\n",
      "\n",
      "*** Question not in RC yes\n",
      "\n",
      "RC question: user:where do we sign in? \tuser:yes \tagent:Did you want to know about your obligation to repay the loan? \tagent:The co-signer is the spouse of an applicant who initiated an Income-Driven Repayment Plan Request.  \tuser:who is the co-signer on a repayment plan?\n",
      "\n",
      "User utterance: where do we sign in?\n",
      "\n",
      "RC question: user:where do we get the number to sign in? \tagent: Co-sign Income - Driven Repayment IDR Plan Request \tuser:where do we sign in? \tuser:yes \tagent:Did you want to know about your obligation to repay the loan? \tagent:The co-signer is the spouse of an applicant who initiated an Income-Driven Repayment Plan Request.  \tuser:who is the co-signer on a repayment plan?\n",
      "\n",
      "User utterance: where do we get the number to sign in?\n",
      "\n",
      "RC question: user:who should do the plan request when we log in? \tagent:You can get it from the IDR applicant. An e-mail containing the Reference Number/Co-sign Code was sent to him or her. The IDR applicant can also access the Reference Number/Co-sign Code by logging in to StudentAid.gov and clicking on the appropriate link.  \tuser:where do we get the number to sign in? \tagent: Co-sign Income - Driven Repayment IDR Plan Request \tuser:where do we sign in? \tuser:yes \tagent:Did you want to know about your obligation to repay the loan? \tagent:The co-signer is the spouse of an applicant who initiated an Income-Driven Repayment Plan Request.  \tuser:who is the co-signer on a repayment plan?\n",
      "\n",
      "User utterance: who should do the plan request when we log in?\n",
      "\n",
      "RC question: user:but I use their reference number since I don't have one, right? \tagent:The spouse of the applicant who initiated an Income-Driven Repayment Plan Request. \tuser:who should do the plan request when we log in? \tagent:You can get it from the IDR applicant. An e-mail containing the Reference Number/Co-sign Code was sent to him or her. The IDR applicant can also access the Reference Number/Co-sign Code by logging in to StudentAid.gov and clicking on the appropriate link.  \tuser:where do we get the number to sign in? \tagent: Co-sign Income - Driven Repayment IDR Plan Request \tuser:where do we sign in? \tuser:yes \tagent:Did you want to know about your obligation to repay the loan? \tagent:The co-signer is the spouse of an applicant who initiated an Income-Driven Repayment Plan Request.  \tuser:who is the co-signer on a repayment plan?\n",
      "\n",
      "User utterance: but I use their reference number since I don't have one, right?\n",
      "\n",
      "RC question: user:hello i would like to get information about What is a co-debtor?\n",
      "\n",
      "User utterance: hello i would like to get information about What is a co-debtor?\n",
      "\n",
      "*** Question not in RC no\n",
      "\n",
      "RC question: user:and who should give me the joint signature code? \tuser:no \tagent:are you a co-signer? \tagent:A co-signer is the spouse of an applicant who initiated an Income-Based Payment Plan Application. \tuser:hello i would like to get information about What is a co-debtor?\n",
      "\n",
      "User utterance: and who should give me the joint signature code?\n",
      "\n",
      "RC question: user:What if the application has already been completed? \tagent:The IDR applicant should have provided you with a joint signature code / reference number. \tuser:and who should give me the joint signature code? \tuser:no \tagent:are you a co-signer? \tagent:A co-signer is the spouse of an applicant who initiated an Income-Based Payment Plan Application. \tuser:hello i would like to get information about What is a co-debtor?\n",
      "\n",
      "User utterance: What if the application has already been completed?\n",
      "\n",
      "RC question: user:and what should i do to start? \tagent:In that case you will click on \"Direct Consolidation Loan Applications\" under \"My Loan Documents\" to locate you and provide you with the joint signature code you need. \"Direct Consolidation Loan Applications\" at \"My Loan Documents\" to locate and provide you with the joint signature code you need. \tuser:What if the application has already been completed? \tagent:The IDR applicant should have provided you with a joint signature code / reference number. \tuser:and who should give me the joint signature code? \tuser:no \tagent:are you a co-signer? \tagent:A co-signer is the spouse of an applicant who initiated an Income-Based Payment Plan Application. \tuser:hello i would like to get information about What is a co-debtor?\n",
      "\n",
      "User utterance: and what should i do to start?\n",
      "\n",
      "RC question: user:What if the applicant completed an Income-Based Payment Plan Application that was not part of a Direct Consolidation Loan Application? \tagent:SIGN IN TO GET STARTED \tuser:and what should i do to start? \tagent:In that case you will click on \"Direct Consolidation Loan Applications\" under \"My Loan Documents\" to locate you and provide you with the joint signature code you need. \"Direct Consolidation Loan Applications\" at \"My Loan Documents\" to locate and provide you with the joint signature code you need. \tuser:What if the application has already been completed? \tagent:The IDR applicant should have provided you with a joint signature code / reference number. \tuser:and who should give me the joint signature code? \tuser:no \tagent:are you a co-signer? \tagent:A co-signer is the spouse of an applicant who initiated an Income-Based Payment Plan Application. \tuser:hello i would like to get information about What is a co-debtor?\n",
      "\n",
      "User utterance: What if the applicant completed an Income-Based Payment Plan Application that was not part of a Direct Consolidation Loan Application?\n",
      "\n",
      "RC question: user:I'm looking for information as to what constitutes a co-signer in relation to a spouse's income-driven repayment plan application form within the FSA,  can you help me with this?\n",
      "\n",
      "User utterance: I'm looking for information as to what constitutes a co-signer in relation to a spouse's income-driven repayment plan application form within the FSA,  can you help me with this?\n",
      "\n",
      "*** Question not in RC Yes, I'm concerned that I may be obligated to repay the loan by signing this application\n",
      "\n",
      "RC question: user:What can I do if I do not have a Reference Number /Co-sign Code for the particular application? \tuser:Yes, I'm concerned that I may be obligated to repay the loan by signing this application \tagent:Have you a concern or worry about being a co-signer on an application? \tagent:A co-signer is defined as being the spouse of an applicant who initiated an Income-Driven Repayment Plan Request \tuser:I'm looking for information as to what constitutes a co-signer in relation to a spouse's income-driven repayment plan application form within the FSA,  can you help me with this?\n",
      "\n",
      "User utterance: What can I do if I do not have a Reference Number /Co-sign Code for the particular application?\n",
      "\n",
      "RC question: user:What exactly do I need to complete my role as a co-signer within the FSA? \tagent:You should contact the IDR applicant, who should have received an email containing the Reference Number/Co-sign Code. The IDR applicant can also access this information by logging into StudentAid.gov and clicking on the relevant link \tuser:What can I do if I do not have a Reference Number /Co-sign Code for the particular application? \tuser:Yes, I'm concerned that I may be obligated to repay the loan by signing this application \tagent:Have you a concern or worry about being a co-signer on an application? \tagent:A co-signer is defined as being the spouse of an applicant who initiated an Income-Driven Repayment Plan Request \tuser:I'm looking for information as to what constitutes a co-signer in relation to a spouse's income-driven repayment plan application form within the FSA,  can you help me with this?\n",
      "\n",
      "User utterance: What exactly do I need to complete my role as a co-signer within the FSA?\n",
      "\n",
      "RC question: user:How long should it normally take to complete my role as a co-signer? \tagent:Initially, you will need to be logged in with your own personal FSA ID in order to co-sign the applicant's IDR request \tuser:What exactly do I need to complete my role as a co-signer within the FSA? \tagent:You should contact the IDR applicant, who should have received an email containing the Reference Number/Co-sign Code. The IDR applicant can also access this information by logging into StudentAid.gov and clicking on the relevant link \tuser:What can I do if I do not have a Reference Number /Co-sign Code for the particular application? \tuser:Yes, I'm concerned that I may be obligated to repay the loan by signing this application \tagent:Have you a concern or worry about being a co-signer on an application? \tagent:A co-signer is defined as being the spouse of an applicant who initiated an Income-Driven Repayment Plan Request \tuser:I'm looking for information as to what constitutes a co-signer in relation to a spouse's income-driven repayment plan application form within the FSA,  can you help me with this?\n",
      "\n",
      "User utterance: How long should it normally take to complete my role as a co-signer?\n",
      "\n",
      "RC question: user:How does my spouse provide me with a co-sign code during the Income-Driven Repayment Plan Request? \tagent:Your role is normally completed in one session, which most people manage to complete in 10 minutes \tuser:How long should it normally take to complete my role as a co-signer? \tagent:Initially, you will need to be logged in with your own personal FSA ID in order to co-sign the applicant's IDR request \tuser:What exactly do I need to complete my role as a co-signer within the FSA? \tagent:You should contact the IDR applicant, who should have received an email containing the Reference Number/Co-sign Code. The IDR applicant can also access this information by logging into StudentAid.gov and clicking on the relevant link \tuser:What can I do if I do not have a Reference Number /Co-sign Code for the particular application? \tuser:Yes, I'm concerned that I may be obligated to repay the loan by signing this application \tagent:Have you a concern or worry about being a co-signer on an application? \tagent:A co-signer is defined as being the spouse of an applicant who initiated an Income-Driven Repayment Plan Request \tuser:I'm looking for information as to what constitutes a co-signer in relation to a spouse's income-driven repayment plan application form within the FSA,  can you help me with this?\n",
      "\n",
      "User utterance: How does my spouse provide me with a co-sign code during the Income-Driven Repayment Plan Request?\n",
      "\n",
      "RC question: user:I want to get a better understanding on co-signing for an IDR\n",
      "\n",
      "User utterance: I want to get a better understanding on co-signing for an IDR\n",
      "\n",
      "*** Question not in RC no, but I might be \n",
      "\n",
      "RC question: user:what will I need if I'm ready to co-sign? \tuser:no, but I might be  \tagent:Are you a co-signer on an IDR plan? \tagent:A co-signer is the spouse of an applicant who initiated an Income-Driven Repayment Plan Request \tuser:I want to get a better understanding on co-signing for an IDR\n",
      "\n",
      "User utterance: what will I need if I'm ready to co-sign?\n",
      "\n",
      "RC question: user:what if it is a direct consolidation loan? \tagent:If the IDR applicant completed an Income-Driven Repayment Plan Request that was not part of a Direct Consolidation Loan Application, he or she will click on \"Income-Driven Repayment Plan Requests\" under \"My Loan Documents\" to locate and provide you with the Reference Number you need. \tuser:what will I need if I'm ready to co-sign? \tuser:no, but I might be  \tagent:Are you a co-signer on an IDR plan? \tagent:A co-signer is the spouse of an applicant who initiated an Income-Driven Repayment Plan Request \tuser:I want to get a better understanding on co-signing for an IDR\n",
      "\n",
      "User utterance: what if it is a direct consolidation loan?\n",
      "\n",
      "RC question: user:and it is the same place to sign in for both? \tagent:If the applicant  completed an Income-Driven Repayment Plan Request as part of a Direct Consolidation Loan Application, he or she will click on \"Direct Consolidation Loan Applications\" under \"My Loan Documents\" to locate and provide you with the Co-sign Code you need. \tuser:what if it is a direct consolidation loan? \tagent:If the IDR applicant completed an Income-Driven Repayment Plan Request that was not part of a Direct Consolidation Loan Application, he or she will click on \"Income-Driven Repayment Plan Requests\" under \"My Loan Documents\" to locate and provide you with the Reference Number you need. \tuser:what will I need if I'm ready to co-sign? \tuser:no, but I might be  \tagent:Are you a co-signer on an IDR plan? \tagent:A co-signer is the spouse of an applicant who initiated an Income-Driven Repayment Plan Request \tuser:I want to get a better understanding on co-signing for an IDR\n",
      "\n",
      "User utterance: and it is the same place to sign in for both?\n",
      "\n",
      "RC question: user:can either one of us do it? \tagent:Yes, you log in to the Co-sign Income-Driven Repayment IDR Plan Request \tuser:and it is the same place to sign in for both? \tagent:If the applicant  completed an Income-Driven Repayment Plan Request as part of a Direct Consolidation Loan Application, he or she will click on \"Direct Consolidation Loan Applications\" under \"My Loan Documents\" to locate and provide you with the Co-sign Code you need. \tuser:what if it is a direct consolidation loan? \tagent:If the IDR applicant completed an Income-Driven Repayment Plan Request that was not part of a Direct Consolidation Loan Application, he or she will click on \"Income-Driven Repayment Plan Requests\" under \"My Loan Documents\" to locate and provide you with the Reference Number you need. \tuser:what will I need if I'm ready to co-sign? \tuser:no, but I might be  \tagent:Are you a co-signer on an IDR plan? \tagent:A co-signer is the spouse of an applicant who initiated an Income-Driven Repayment Plan Request \tuser:I want to get a better understanding on co-signing for an IDR\n",
      "\n",
      "User utterance: can either one of us do it?\n",
      "\n",
      "RC question: user:What exactly is a co-signer or an income-driven repayment plan application?\n",
      "\n",
      "User utterance: What exactly is a co-signer or an income-driven repayment plan application?\n",
      "\n",
      "*** Question not in RC Yes, I have read that I am not responsible to pay back the loan as a co-signer on my spouses IDR.\n",
      "\n",
      "RC question: user:What if I do not have a reference number to co-sign? \tuser:Yes, I have read that I am not responsible to pay back the loan as a co-signer on my spouses IDR. \tagent:Do you know you are not responsible to repay the loan by sigining a borrowers IDR application as a co-signer. \tagent:A co-signer happens to be a spouse of an applicant who asks for the income-driven repayment plan request. \tuser:What exactly is a co-signer or an income-driven repayment plan application?\n",
      "\n",
      "User utterance: What if I do not have a reference number to co-sign?\n",
      "\n",
      "RC question: user:Are there directions to access the reference number? \tagent:Ask your spouse because they were sent an email containing the reference number or they can access the reference number by logging into StudentAid.gov. \tuser:What if I do not have a reference number to co-sign? \tuser:Yes, I have read that I am not responsible to pay back the loan as a co-signer on my spouses IDR. \tagent:Do you know you are not responsible to repay the loan by sigining a borrowers IDR application as a co-signer. \tagent:A co-signer happens to be a spouse of an applicant who asks for the income-driven repayment plan request. \tuser:What exactly is a co-signer or an income-driven repayment plan application?\n",
      "\n",
      "User utterance: Are there directions to access the reference number?\n",
      "\n",
      "RC question: user:How long will the co-sign process actually take? \tagent:Yes, I can tell you how to find the reference number. \tuser:Are there directions to access the reference number? \tagent:Ask your spouse because they were sent an email containing the reference number or they can access the reference number by logging into StudentAid.gov. \tuser:What if I do not have a reference number to co-sign? \tuser:Yes, I have read that I am not responsible to pay back the loan as a co-signer on my spouses IDR. \tagent:Do you know you are not responsible to repay the loan by sigining a borrowers IDR application as a co-signer. \tagent:A co-signer happens to be a spouse of an applicant who asks for the income-driven repayment plan request. \tuser:What exactly is a co-signer or an income-driven repayment plan application?\n",
      "\n",
      "User utterance: How long will the co-sign process actually take?\n",
      "\n",
      "RC question: user:What if the applicant completed an Income-driven Repayment Plan request as part of a Direct Consolidation Loan Application? \tagent:Most of the time it takes about 10 minutes to complete the actual co-sign process and must be completed in one session. \tuser:How long will the co-sign process actually take? \tagent:Yes, I can tell you how to find the reference number. \tuser:Are there directions to access the reference number? \tagent:Ask your spouse because they were sent an email containing the reference number or they can access the reference number by logging into StudentAid.gov. \tuser:What if I do not have a reference number to co-sign? \tuser:Yes, I have read that I am not responsible to pay back the loan as a co-signer on my spouses IDR. \tagent:Do you know you are not responsible to repay the loan by sigining a borrowers IDR application as a co-signer. \tagent:A co-signer happens to be a spouse of an applicant who asks for the income-driven repayment plan request. \tuser:What exactly is a co-signer or an income-driven repayment plan application?\n",
      "\n",
      "User utterance: What if the applicant completed an Income-driven Repayment Plan request as part of a Direct Consolidation Loan Application?\n",
      "\n",
      "Total number of question from dialoguge 48\n",
      "\n",
      "Total number of question also in RC 40\n",
      "\n",
      "Total number of question not in RC 8\n",
      "\n"
     ]
    }
   ],
   "source": [
    "#Check if I can find any dialogue with its dial id in the rc document\n",
    "def get_rc_question(df_in_rc):\n",
    "    rc_question = df_in_rc['question']\n",
    "    return rc_question.values[0]\n",
    "\n",
    "def get_dialogue_question(id):\n",
    "    user_utterance = dialogue_eval_df.loc[dialogue_eval_df['rc_id']== id]['user_utterance']\n",
    "    return user_utterance.values[0]\n",
    "\n",
    "ids_in_rc = []\n",
    "empty_ids = []\n",
    "for id in dialogue_eval_df['rc_id']:\n",
    "    df_in_rc = rc_dataset_df.loc[rc_dataset_df['id'] == id]\n",
    "    if not df_in_rc.empty:\n",
    "        ids_in_rc.append(id)\n",
    "        rc_question = get_rc_question(df_in_rc)\n",
    "        user_utterance = get_dialogue_question(id)\n",
    "        print(f'RC question: {rc_question}\\n')\n",
    "        print(f'User utterance: {user_utterance}\\n')\n",
    "    else:\n",
    "        empty_ids.append(id)\n",
    "        user_utterance = get_dialogue_question(id)\n",
    "        print(f'*** Question not in RC {user_utterance}\\n')\n",
    "\n",
    "print(f'Total number of question from dialoguge {dialogue_eval_df.shape[0]}')\n",
    "print(f'Total number of question also in RC {len(ids_in_rc)}')\n",
    "print(f'Total number of question not in RC {len(empty_ids)}')"
   ],
   "metadata": {
    "collapsed": false,
    "pycharm": {
     "name": "#%%\n"
    }
   }
  },
  {
   "cell_type": "code",
   "execution_count": 32,
   "outputs": [],
   "source": [],
   "metadata": {
    "collapsed": false,
    "pycharm": {
     "name": "#%%\n"
    }
   }
  }
 ],
 "metadata": {
  "kernelspec": {
   "display_name": "Python 3",
   "language": "python",
   "name": "python3"
  },
  "language_info": {
   "codemirror_mode": {
    "name": "ipython",
    "version": 2
   },
   "file_extension": ".py",
   "mimetype": "text/x-python",
   "name": "python",
   "nbconvert_exporter": "python",
   "pygments_lexer": "ipython2",
   "version": "2.7.6"
  }
 },
 "nbformat": 4,
 "nbformat_minor": 0
}