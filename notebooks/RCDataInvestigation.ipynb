{
 "cells": [
  {
   "cell_type": "code",
   "execution_count": null,
   "metadata": {
    "collapsed": true,
    "pycharm": {
     "is_executing": true
    }
   },
   "outputs": [],
   "source": [
    "from datasets import load_dataset\n",
    "\n",
    "split = \"train\"\n",
    "cache_dir = \"./data_cache\"\n",
    "\n",
    "rc_dataset = load_dataset(\n",
    "    \"doc2dial\",\n",
    "    name=\"doc2dial_rc\",\n",
    "    split=split,\n",
    "    ignore_verifications=True,\n",
    "    cache_dir=cache_dir,\n",
    ")"
   ]
  },
  {
   "cell_type": "code",
   "execution_count": 4,
   "outputs": [
    {
     "data": {
      "text/plain": "                                   id  \\\n0  9f44c1539efe6f7e79b02eb1b413aa43_1   \n1  9f44c1539efe6f7e79b02eb1b413aa43_3   \n2  9f44c1539efe6f7e79b02eb1b413aa43_5   \n3  9f44c1539efe6f7e79b02eb1b413aa43_7   \n4  9f44c1539efe6f7e79b02eb1b413aa43_9   \n\n                                          title  \\\n0  Top 5 DMV Mistakes and How to Avoid Them#3_0   \n1  Top 5 DMV Mistakes and How to Avoid Them#3_0   \n2  Top 5 DMV Mistakes and How to Avoid Them#3_0   \n3  Top 5 DMV Mistakes and How to Avoid Them#3_0   \n4  Top 5 DMV Mistakes and How to Avoid Them#3_0   \n\n                                             context  \\\n0  Many DMV customers make easily avoidable mista...   \n1  Many DMV customers make easily avoidable mista...   \n2  Many DMV customers make easily avoidable mista...   \n3  Many DMV customers make easily avoidable mista...   \n4  Many DMV customers make easily avoidable mista...   \n\n                                            question  \\\n0  user:Hello, I forgot o update my address, can ...   \n1  user:Can I do my DMV transactions online? \\tag...   \n2  user:Thanks, and in case I forget to bring all...   \n3  user:Ok, and can you tell me again where shoul...   \n4  user:Can you tell me more about Traffic points...   \n\n                                             answers domain  \n0  {'text': ['you must report a change of address...    dmv  \n1  {'text': ['Sign up or log into MyDMV [6 ] '], ...    dmv  \n2  {'text': ['About ten percent of customers visi...    dmv  \n3  {'text': ['you must report a change of address...    dmv  \n4  {'text': ['DMV maintains a point system to tra...    dmv  ",
      "text/html": "<div>\n<style scoped>\n    .dataframe tbody tr th:only-of-type {\n        vertical-align: middle;\n    }\n\n    .dataframe tbody tr th {\n        vertical-align: top;\n    }\n\n    .dataframe thead th {\n        text-align: right;\n    }\n</style>\n<table border=\"1\" class=\"dataframe\">\n  <thead>\n    <tr style=\"text-align: right;\">\n      <th></th>\n      <th>id</th>\n      <th>title</th>\n      <th>context</th>\n      <th>question</th>\n      <th>answers</th>\n      <th>domain</th>\n    </tr>\n  </thead>\n  <tbody>\n    <tr>\n      <th>0</th>\n      <td>9f44c1539efe6f7e79b02eb1b413aa43_1</td>\n      <td>Top 5 DMV Mistakes and How to Avoid Them#3_0</td>\n      <td>Many DMV customers make easily avoidable mista...</td>\n      <td>user:Hello, I forgot o update my address, can ...</td>\n      <td>{'text': ['you must report a change of address...</td>\n      <td>dmv</td>\n    </tr>\n    <tr>\n      <th>1</th>\n      <td>9f44c1539efe6f7e79b02eb1b413aa43_3</td>\n      <td>Top 5 DMV Mistakes and How to Avoid Them#3_0</td>\n      <td>Many DMV customers make easily avoidable mista...</td>\n      <td>user:Can I do my DMV transactions online? \\tag...</td>\n      <td>{'text': ['Sign up or log into MyDMV [6 ] '], ...</td>\n      <td>dmv</td>\n    </tr>\n    <tr>\n      <th>2</th>\n      <td>9f44c1539efe6f7e79b02eb1b413aa43_5</td>\n      <td>Top 5 DMV Mistakes and How to Avoid Them#3_0</td>\n      <td>Many DMV customers make easily avoidable mista...</td>\n      <td>user:Thanks, and in case I forget to bring all...</td>\n      <td>{'text': ['About ten percent of customers visi...</td>\n      <td>dmv</td>\n    </tr>\n    <tr>\n      <th>3</th>\n      <td>9f44c1539efe6f7e79b02eb1b413aa43_7</td>\n      <td>Top 5 DMV Mistakes and How to Avoid Them#3_0</td>\n      <td>Many DMV customers make easily avoidable mista...</td>\n      <td>user:Ok, and can you tell me again where shoul...</td>\n      <td>{'text': ['you must report a change of address...</td>\n      <td>dmv</td>\n    </tr>\n    <tr>\n      <th>4</th>\n      <td>9f44c1539efe6f7e79b02eb1b413aa43_9</td>\n      <td>Top 5 DMV Mistakes and How to Avoid Them#3_0</td>\n      <td>Many DMV customers make easily avoidable mista...</td>\n      <td>user:Can you tell me more about Traffic points...</td>\n      <td>{'text': ['DMV maintains a point system to tra...</td>\n      <td>dmv</td>\n    </tr>\n  </tbody>\n</table>\n</div>"
     },
     "execution_count": 4,
     "metadata": {},
     "output_type": "execute_result"
    }
   ],
   "source": [
    "import pandas as pd\n",
    "\n",
    "rc_dataset_df = pd.DataFrame(data=rc_dataset)\n",
    "rc_dataset_df.head()"
   ],
   "metadata": {
    "collapsed": false,
    "pycharm": {
     "name": "#%%\n"
    }
   }
  },
  {
   "cell_type": "code",
   "execution_count": 5,
   "outputs": [
    {
     "data": {
      "text/plain": "                                        id  \\\ncount                                20431   \nunique                               20431   \ntop     9f44c1539efe6f7e79b02eb1b413aa43_1   \nfreq                                     1   \n\n                                                    title  \\\ncount                                               20431   \nunique                                                415   \ntop     Benefits Planner | Social Security Administrat...   \nfreq                                                  101   \n\n                                                  context question  \\\ncount                                               20431    20431   \nunique                                                402    20257   \ntop     \\n\\nSocial Security Credits \\nYou must earn at...  user:hi   \nfreq                                                  181       11   \n\n                                                  answers domain  \ncount                                               20431  20431  \nunique                                               6997      4  \ntop     {'text': ['You must earn at least 40 Social Se...    dmv  \nfreq                                                   41   5909  ",
      "text/html": "<div>\n<style scoped>\n    .dataframe tbody tr th:only-of-type {\n        vertical-align: middle;\n    }\n\n    .dataframe tbody tr th {\n        vertical-align: top;\n    }\n\n    .dataframe thead th {\n        text-align: right;\n    }\n</style>\n<table border=\"1\" class=\"dataframe\">\n  <thead>\n    <tr style=\"text-align: right;\">\n      <th></th>\n      <th>id</th>\n      <th>title</th>\n      <th>context</th>\n      <th>question</th>\n      <th>answers</th>\n      <th>domain</th>\n    </tr>\n  </thead>\n  <tbody>\n    <tr>\n      <th>count</th>\n      <td>20431</td>\n      <td>20431</td>\n      <td>20431</td>\n      <td>20431</td>\n      <td>20431</td>\n      <td>20431</td>\n    </tr>\n    <tr>\n      <th>unique</th>\n      <td>20431</td>\n      <td>415</td>\n      <td>402</td>\n      <td>20257</td>\n      <td>6997</td>\n      <td>4</td>\n    </tr>\n    <tr>\n      <th>top</th>\n      <td>9f44c1539efe6f7e79b02eb1b413aa43_1</td>\n      <td>Benefits Planner | Social Security Administrat...</td>\n      <td>\\n\\nSocial Security Credits \\nYou must earn at...</td>\n      <td>user:hi</td>\n      <td>{'text': ['You must earn at least 40 Social Se...</td>\n      <td>dmv</td>\n    </tr>\n    <tr>\n      <th>freq</th>\n      <td>1</td>\n      <td>101</td>\n      <td>181</td>\n      <td>11</td>\n      <td>41</td>\n      <td>5909</td>\n    </tr>\n  </tbody>\n</table>\n</div>"
     },
     "execution_count": 5,
     "metadata": {},
     "output_type": "execute_result"
    }
   ],
   "source": [
    "rc_dataset_df.describe()"
   ],
   "metadata": {
    "collapsed": false,
    "pycharm": {
     "name": "#%%\n"
    }
   }
  },
  {
   "cell_type": "code",
   "execution_count": 15,
   "outputs": [
    {
     "name": "stderr",
     "output_type": "stream",
     "text": [
      "Loading cached processed dataset at ./data_cache/doc2dial/doc2dial_rc/1.0.1/765cb4d9af421b599d910080fd61b4a43440c1232693876470ef3245daa5fa4c/cache-2986451dff9bb180.arrow\n"
     ]
    },
    {
     "data": {
      "text/plain": "['user:Can picture plates be personalized?',\n 'user:How much do personalized plates cost? \\tuser:For personalized plate availability and pricing for the picture plate you are interested in you can browse our collection of picture plates online \\tagent:How much does that cost \\tagent:Yes, some picture plates can be personalized for an additional fee in addition to your picture plate and regular registration fee \\tuser:Can picture plates be personalized?',\n 'user:Can I use personalized plates on any type of vehicle? \\tagent:For Passenger and Commercial Plates the Initial Cost = $ 60.00Annual Fee = $ 31.25 \\tuser:How much do personalized plates cost? \\tuser:For personalized plate availability and pricing for the picture plate you are interested in you can browse our collection of picture plates online \\tagent:How much does that cost \\tagent:Yes, some picture plates can be personalized for an additional fee in addition to your picture plate and regular registration fee \\tuser:Can picture plates be personalized?',\n 'user:What plate combinations are restricted? \\tagent:You can use personalized plates on passenger vehicles , commercial vehicles , motorcycles and trailers \\tuser:Can I use personalized plates on any type of vehicle? \\tagent:For Passenger and Commercial Plates the Initial Cost = $ 60.00Annual Fee = $ 31.25 \\tuser:How much do personalized plates cost? \\tuser:For personalized plate availability and pricing for the picture plate you are interested in you can browse our collection of picture plates online \\tagent:How much does that cost \\tagent:Yes, some picture plates can be personalized for an additional fee in addition to your picture plate and regular registration fee \\tuser:Can picture plates be personalized?',\n 'user:What are personalized plates? \\tagent:Restrictions include: Personalized plates that give the appearance of an official plate or the configuration of special registration classes. Combinations that are considered obscene , derogatory or offensive, and combinations that do not have one letter \\tuser:What plate combinations are restricted? \\tagent:You can use personalized plates on passenger vehicles , commercial vehicles , motorcycles and trailers \\tuser:Can I use personalized plates on any type of vehicle? \\tagent:For Passenger and Commercial Plates the Initial Cost = $ 60.00Annual Fee = $ 31.25 \\tuser:How much do personalized plates cost? \\tuser:For personalized plate availability and pricing for the picture plate you are interested in you can browse our collection of picture plates online \\tagent:How much does that cost \\tagent:Yes, some picture plates can be personalized for an additional fee in addition to your picture plate and regular registration fee \\tuser:Can picture plates be personalized?']"
     },
     "execution_count": 15,
     "metadata": {},
     "output_type": "execute_result"
    }
   ],
   "source": [
    "manual_doc_id = 'Learn about personalized plates#3_0'\n",
    "\n",
    "manual_doc = rc_dataset.filter(lambda doc: doc['title'] == manual_doc_id)\n",
    "manual_doc['question'][:5]"
   ],
   "metadata": {
    "collapsed": false,
    "pycharm": {
     "name": "#%%\n"
    }
   }
  },
  {
   "cell_type": "markdown",
   "source": [
    "# Compare to dialogue dataset"
   ],
   "metadata": {
    "collapsed": false,
    "pycharm": {
     "name": "#%% md\n"
    }
   }
  },
  {
   "cell_type": "code",
   "execution_count": null,
   "outputs": [],
   "source": [
    "split = \"train\"\n",
    "cache_dir = \"./data_cache_rc_notebook\"\n",
    "\n",
    "#User's turn: utterance= question, reference=grounding document span_id, can be empty, \"precondition\"/\"solution\" are the\n",
    "#actual grounding spans\n",
    "#Gold label for grounding\n",
    "dialogue_dataset = load_dataset(\n",
    "    \"doc2dial\",\n",
    "    name=\"dialogue_domain\",  # this is the name of the dataset for the second subtask, dialog generation\n",
    "    split=split,\n",
    "    ignore_verifications=True,\n",
    "    cache_dir=cache_dir,\n",
    ")"
   ],
   "metadata": {
    "collapsed": false,
    "pycharm": {
     "name": "#%%\n",
     "is_executing": true
    }
   }
  },
  {
   "cell_type": "code",
   "execution_count": 8,
   "outputs": [],
   "source": [
    "# import pandas as pd\n",
    "\n",
    "dialogue_full_df = pd.DataFrame(data=dialogue_dataset)"
   ],
   "metadata": {
    "collapsed": false,
    "pycharm": {
     "name": "#%%\n"
    }
   }
  },
  {
   "cell_type": "code",
   "execution_count": 10,
   "outputs": [],
   "source": [
    "doc_id = 'Co-sign Your Spouse\\'s Income-Driven Repayment Plan Application | Federal Student Aid#1_0'\n",
    "dialogues_for_doc = dialogue_full_df.loc[dialogue_full_df['doc_id'] == doc_id]\n",
    "\n",
    "for dialogue_index, turns in enumerate(dialogues_for_doc['turns']):\n",
    "    dialid = dialogues_for_doc.iloc[dialogue_index]['dial_id']\n",
    "    # print(dialogue_index)\n",
    "    # print(dialid)"
   ],
   "metadata": {
    "collapsed": false,
    "pycharm": {
     "name": "#%%\n"
    }
   }
  },
  {
   "cell_type": "code",
   "execution_count": 11,
   "outputs": [
    {
     "data": {
      "text/plain": "                                              doc_id  \\\n0  Co-sign Your Spouse's Income-Driven Repayment ...   \n1  Co-sign Your Spouse's Income-Driven Repayment ...   \n2  Co-sign Your Spouse's Income-Driven Repayment ...   \n3  Co-sign Your Spouse's Income-Driven Repayment ...   \n4  Co-sign Your Spouse's Income-Driven Repayment ...   \n\n                            dial_id                               rc_id  \\\n0  31e96f4f7c6325a6cd3875fd511c1d44  31e96f4f7c6325a6cd3875fd511c1d44_1   \n1  31e96f4f7c6325a6cd3875fd511c1d44  31e96f4f7c6325a6cd3875fd511c1d44_4   \n2  31e96f4f7c6325a6cd3875fd511c1d44  31e96f4f7c6325a6cd3875fd511c1d44_5   \n3  31e96f4f7c6325a6cd3875fd511c1d44  31e96f4f7c6325a6cd3875fd511c1d44_7   \n4  31e96f4f7c6325a6cd3875fd511c1d44  31e96f4f7c6325a6cd3875fd511c1d44_9   \n\n  turn_id                                     user_utterance user_sp_ids  \\\n0       1  II'm going to be co-signing a federal aid loan...         [1]   \n1       4                     No. I'm not sure how it works.         [3]   \n2       5  Does it matter that the Income-Driven Repaymen...        [12]   \n3       7                      Who all can co-sign for this?        [16]   \n4       9  Do I need a Financial Information Note when I ...        [26]   \n\n  agent_sp_ids  \n0       [2, 3]  \n1           []  \n2         [13]  \n3         [17]  \n4         [26]  ",
      "text/html": "<div>\n<style scoped>\n    .dataframe tbody tr th:only-of-type {\n        vertical-align: middle;\n    }\n\n    .dataframe tbody tr th {\n        vertical-align: top;\n    }\n\n    .dataframe thead th {\n        text-align: right;\n    }\n</style>\n<table border=\"1\" class=\"dataframe\">\n  <thead>\n    <tr style=\"text-align: right;\">\n      <th></th>\n      <th>doc_id</th>\n      <th>dial_id</th>\n      <th>rc_id</th>\n      <th>turn_id</th>\n      <th>user_utterance</th>\n      <th>user_sp_ids</th>\n      <th>agent_sp_ids</th>\n    </tr>\n  </thead>\n  <tbody>\n    <tr>\n      <th>0</th>\n      <td>Co-sign Your Spouse's Income-Driven Repayment ...</td>\n      <td>31e96f4f7c6325a6cd3875fd511c1d44</td>\n      <td>31e96f4f7c6325a6cd3875fd511c1d44_1</td>\n      <td>1</td>\n      <td>II'm going to be co-signing a federal aid loan...</td>\n      <td>[1]</td>\n      <td>[2, 3]</td>\n    </tr>\n    <tr>\n      <th>1</th>\n      <td>Co-sign Your Spouse's Income-Driven Repayment ...</td>\n      <td>31e96f4f7c6325a6cd3875fd511c1d44</td>\n      <td>31e96f4f7c6325a6cd3875fd511c1d44_4</td>\n      <td>4</td>\n      <td>No. I'm not sure how it works.</td>\n      <td>[3]</td>\n      <td>[]</td>\n    </tr>\n    <tr>\n      <th>2</th>\n      <td>Co-sign Your Spouse's Income-Driven Repayment ...</td>\n      <td>31e96f4f7c6325a6cd3875fd511c1d44</td>\n      <td>31e96f4f7c6325a6cd3875fd511c1d44_5</td>\n      <td>5</td>\n      <td>Does it matter that the Income-Driven Repaymen...</td>\n      <td>[12]</td>\n      <td>[13]</td>\n    </tr>\n    <tr>\n      <th>3</th>\n      <td>Co-sign Your Spouse's Income-Driven Repayment ...</td>\n      <td>31e96f4f7c6325a6cd3875fd511c1d44</td>\n      <td>31e96f4f7c6325a6cd3875fd511c1d44_7</td>\n      <td>7</td>\n      <td>Who all can co-sign for this?</td>\n      <td>[16]</td>\n      <td>[17]</td>\n    </tr>\n    <tr>\n      <th>4</th>\n      <td>Co-sign Your Spouse's Income-Driven Repayment ...</td>\n      <td>31e96f4f7c6325a6cd3875fd511c1d44</td>\n      <td>31e96f4f7c6325a6cd3875fd511c1d44_9</td>\n      <td>9</td>\n      <td>Do I need a Financial Information Note when I ...</td>\n      <td>[26]</td>\n      <td>[26]</td>\n    </tr>\n  </tbody>\n</table>\n</div>"
     },
     "execution_count": 11,
     "metadata": {},
     "output_type": "execute_result"
    }
   ],
   "source": [
    "#Code to get the dialogues for a doc id from the dialog set to do some manual inspections\n",
    "dialogue_eval_df = pd.DataFrame(columns=['doc_id', 'dial_id', 'rc_id', 'turn_id', 'user_utterance', 'user_sp_ids',\n",
    "                                         'agent_sp_ids'])\n",
    "\n",
    "#using df as dataset is way too slow to do this\n",
    "dialogues_for_doc = dialogue_full_df.loc[dialogue_full_df['doc_id'] == doc_id]\n",
    "\n",
    "#resetting all variables\n",
    "user_turn_index = 0\n",
    "user_utterance = ''\n",
    "user_sps = []\n",
    "turn_id = ''\n",
    "agent_sps = []\n",
    "role = ''\n",
    "dial_id = ''\n",
    "rc_id = ''\n",
    "first_user = True\n",
    "#for all list of turns in each dialogue\n",
    "for dialogue_index, turns in enumerate(dialogues_for_doc['turns']):\n",
    "\n",
    "    #for each turn in a dialogue\n",
    "    for turn in turns:\n",
    "        role = turn['role']\n",
    "\n",
    "        # for the very first user role only\n",
    "        if role == 'user' and first_user == True:\n",
    "            turn_id = turn['turn_id']\n",
    "            user_utterance =turn['utterance']\n",
    "            user_sps = [ref['sp_id'] for ref in turn['references']]\n",
    "            dial_id = dialogues_for_doc.iloc[dialogue_index]['dial_id']\n",
    "            rc_id = dial_id + '_'+ str(turn_id)\n",
    "            first_user = False\n",
    "        elif role == 'user' and first_user == False:\n",
    "            # we've come to the next user turn\n",
    "            #write previous user's row before overwriting it with this users data\n",
    "            dialogue_eval_df.loc[user_turn_index] = [doc_id, dial_id, rc_id, turn_id, user_utterance, user_sps, agent_sps]\n",
    "            #remember this user's data\n",
    "            user_utterance = turn['utterance']\n",
    "            turn_id = turn['turn_id']\n",
    "            user_sps = [ref['sp_id'] for ref in turn['references']]\n",
    "            dial_id = dialogues_for_doc.iloc[dialogue_index]['dial_id']\n",
    "            rc_id = dial_id + '_'+ str(turn_id)\n",
    "            #reset for next row\n",
    "            agent_sps = []\n",
    "            user_turn_index += 1\n",
    "        elif role == 'agent':\n",
    "            #gather agent spans but don't write the row just yet\n",
    "            agent_sps.extend([ref['sp_id'] for ref in turn['references']])\n",
    "\n",
    "#write the last line to the dataframe if the last dialogue's turn ended with an agent\n",
    "if role == 'agent':\n",
    "    dialogue_eval_df.loc[user_turn_index] = [doc_id, dial_id, rc_id, turn_id, user_utterance, user_sps, agent_sps]\n",
    "\n",
    "\n",
    "dialogue_eval_df.head()"
   ],
   "metadata": {
    "collapsed": false,
    "pycharm": {
     "name": "#%%\n"
    }
   }
  },
  {
   "cell_type": "code",
   "execution_count": 25,
   "outputs": [
    {
     "name": "stdout",
     "output_type": "stream",
     "text": [
      "For the example dialogue: Co-sign Your Spouse's Income-Driven Repayment Plan Application | Federal Student Aid#1_0:\n",
      "\n",
      "Total number of question in dialogue: 48\n",
      "Total number of question also in RC question for that dialogue: 40\n",
      "Total number of question not in RC question for that dialogue: 8\n",
      "\n",
      "Dialogue questions not in rc questions: [\"No. I'm not sure how it works.\", \"Yes, I understand that I am not obligated to pay back the loan as a co-signer on the borrower's IDR application.\", 'Yes, that was explained to me.', 'yes', 'no', \"Yes, I'm concerned that I may be obligated to repay the loan by signing this application\", 'no, but I might be ', 'Yes, I have read that I am not responsible to pay back the loan as a co-signer on my spouses IDR.']\n",
      "\n",
      "Some Dialogue questions that are in rc question: [\"II'm going to be co-signing a federal aid loan for my wife and I need some more information about how it works.\", 'Does it matter that the Income-Driven Repayment Plan Request was done as part of a Direct Consolidation Loan Application?', 'Who all can co-sign for this?', 'Do I need a Financial Information Note when I co-sign?', \"What if I can't find the Co-sign code?\"]\n"
     ]
    }
   ],
   "source": [
    "#Check if I can find any dialogue with its dial id in the rc document\n",
    "def get_rc_question(df_in_rc):\n",
    "    rc_question = df_in_rc['question']\n",
    "    return rc_question.values[0]\n",
    "\n",
    "def get_dialogue_question(id):\n",
    "    user_utterance = dialogue_eval_df.loc[dialogue_eval_df['rc_id']== id]['user_utterance']\n",
    "    return user_utterance.values[0]\n",
    "\n",
    "ids_in_rc = []\n",
    "empty_ids = []\n",
    "user_utterance_not_in_rc = []\n",
    "user_utterance_in_rc = []\n",
    "rc_user_questions = []\n",
    "\n",
    "for id in dialogue_eval_df['rc_id']:\n",
    "    df_in_rc = rc_dataset_df.loc[rc_dataset_df['id'] == id]\n",
    "    if not df_in_rc.empty:\n",
    "        ids_in_rc.append(id)\n",
    "        rc_question = get_rc_question(df_in_rc)\n",
    "        user_utterance = get_dialogue_question(id)\n",
    "        user_utterance_in_rc.append(user_utterance)\n",
    "        rc_user_questions.append(rc_question)\n",
    "    else:\n",
    "        empty_ids.append(id)\n",
    "        user_utterance = get_dialogue_question(id)\n",
    "        user_utterance_not_in_rc.append(user_utterance)\n",
    "\n",
    "example_dialogue = list(dialogue_eval_df['doc_id'])[0]\n",
    "print(f'For the example dialogue: {example_dialogue}:\\n')\n",
    "print(f'Total number of question in dialogue: {dialogue_eval_df.shape[0]}')\n",
    "print(f'Total number of question also in RC question for that dialogue: {len(ids_in_rc)}')\n",
    "print(f'Total number of question not in RC question for that dialogue: {len(empty_ids)}\\n')\n",
    "print(f'Dialogue questions not in rc questions: {user_utterance_not_in_rc}\\n')\n",
    "print(f'Some Dialogue questions that are in rc question: {user_utterance_in_rc[:5]}')"
   ],
   "metadata": {
    "collapsed": false,
    "pycharm": {
     "name": "#%%\n"
    }
   }
  },
  {
   "cell_type": "code",
   "execution_count": null,
   "outputs": [],
   "source": [],
   "metadata": {
    "collapsed": false,
    "pycharm": {
     "name": "#%%\n"
    }
   }
  }
 ],
 "metadata": {
  "kernelspec": {
   "display_name": "Python 3",
   "language": "python",
   "name": "python3"
  },
  "language_info": {
   "codemirror_mode": {
    "name": "ipython",
    "version": 2
   },
   "file_extension": ".py",
   "mimetype": "text/x-python",
   "name": "python",
   "nbconvert_exporter": "python",
   "pygments_lexer": "ipython2",
   "version": "2.7.6"
  }
 },
 "nbformat": 4,
 "nbformat_minor": 0
}